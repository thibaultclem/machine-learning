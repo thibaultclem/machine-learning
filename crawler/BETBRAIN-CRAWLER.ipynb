{
 "cells": [
  {
   "cell_type": "code",
   "execution_count": 1,
   "metadata": {
    "collapsed": true
   },
   "outputs": [],
   "source": [
    "import platform\n",
    "import time\n",
    "import datetime\n",
    "from bs4 import BeautifulSoup\n",
    "from selenium import webdriver\n",
    "from selenium.webdriver.common.by import By"
   ]
  },
  {
   "cell_type": "code",
   "execution_count": 2,
   "metadata": {},
   "outputs": [],
   "source": [
    "PHANTOMJS_PATH = './phantomjs'\n",
    "browser = webdriver.PhantomJS(PHANTOMJS_PATH)\n",
    "#browser = webdriver.FireFox()\n",
    "browser.get('https://www.betbrain.com/football/italy/serie-a/#/matches/')\n",
    "# Wait the page to load\n",
    "time.sleep(10)\n",
    "# Click on Home Draw Away\n",
    "try:\n",
    "    browser.find_element(By.XPATH, '//*[@id=\"app\"]/div/section/section/main/div[3]/div[1]/a[3]').click()\n",
    "except:\n",
    "    print 'NOT FIND'\n",
    "    browser.find_element(By.XPATH, '//*[@id=\"app\"]/div/section/section/main/div[4]/div[1]/a[3]').click()\n",
    "# Wait page to load\n",
    "time.sleep(5)"
   ]
  },
  {
   "cell_type": "code",
   "execution_count": 3,
   "metadata": {
    "collapsed": true,
    "scrolled": false
   },
   "outputs": [],
   "source": [
    "# let's parse our html\n",
    "soup = BeautifulSoup(browser.page_source, \"html.parser\")\n",
    "# get all the matches\n",
    "matches = soup.find_all(\"li\", \"Match\")"
   ]
  },
  {
   "cell_type": "code",
   "execution_count": 4,
   "metadata": {},
   "outputs": [
    {
     "name": "stdout",
     "output_type": "stream",
     "text": [
      "'Sampdoria' : ,\n",
      "'Crotone' : ,\n",
      "'Napoli' : ,\n",
      "'Internazionale Milano' : ,\n",
      "'Chievo Verona' : ,\n",
      "'Hellas Verona' : ,\n",
      "'AC Milan' : ,\n",
      "'Genoa' : ,\n",
      "'Atalanta Bergamo' : ,\n",
      "'Bologna F.C.' : ,\n",
      "'Benevento' : ,\n",
      "'AC Fiorentina' : ,\n",
      "'SPAL 1907 Ferrara' : ,\n",
      "'Sassuolo' : ,\n",
      "'Torino FC' : ,\n",
      "'AS Roma' : ,\n",
      "'Udinese Calcio' : ,\n",
      "'Juventus FC' : ,\n",
      "'SS Lazio' : ,\n",
      "'Cagliari' : ,\n",
      "'Internazionale Milano' : ,\n",
      "'Sampdoria' : ,\n",
      "'Atalanta Bergamo' : ,\n",
      "'Hellas Verona' : ,\n"
     ]
    }
   ],
   "source": [
    "for match in matches:\n",
    "    average_odds = match.find_all('span', 'AverageOdds')\n",
    "    match_detail = match.find('a', 'MatchTitleLink')\n",
    "    match_date = match.find('time').text\n",
    "    match_date_datetime = datetime.datetime.strptime(match_date, '%d/%m/%Y %H:%M')\n",
    "    now = datetime.datetime.now()\n",
    "    if (match_date_datetime-now).days > 4:\n",
    "        break\n",
    "    home_team = match_detail.find_all('span')[1].text\n",
    "    away_team = match_detail.find_all('span')[3].text\n",
    "    #home_odd = average_odds[0].find_all('span')[1].text\n",
    "    #draw_odd = average_odds[1].find_all('span')[1].text\n",
    "    #away_odd = average_odds[2].find_all('span')[1].text\n",
    "    #print match_date, home_team, away_team, home_odd, draw_odd, away_odd\n",
    "    print \"'\"+str(home_team)+\"' : ,\"\n",
    "    print \"'\"+str(away_team)+\"' : ,\""
   ]
  },
  {
   "cell_type": "code",
   "execution_count": null,
   "metadata": {
    "collapsed": true
   },
   "outputs": [],
   "source": []
  },
  {
   "cell_type": "code",
   "execution_count": null,
   "metadata": {
    "collapsed": true
   },
   "outputs": [],
   "source": []
  }
 ],
 "metadata": {
  "kernelspec": {
   "display_name": "Python 2",
   "language": "python",
   "name": "python2"
  },
  "language_info": {
   "codemirror_mode": {
    "name": "ipython",
    "version": 2
   },
   "file_extension": ".py",
   "mimetype": "text/x-python",
   "name": "python",
   "nbconvert_exporter": "python",
   "pygments_lexer": "ipython2",
   "version": "2.7.13"
  }
 },
 "nbformat": 4,
 "nbformat_minor": 2
}
