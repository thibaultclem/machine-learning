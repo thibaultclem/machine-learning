{
 "cells": [
  {
   "cell_type": "markdown",
   "metadata": {},
   "source": [
    "Extract the data from http://www.football-data.co.uk/, Transform them and Load them in a Database."
   ]
  },
  {
   "cell_type": "code",
   "execution_count": 1,
   "metadata": {
    "collapsed": true
   },
   "outputs": [],
   "source": [
    "# Import library\n",
    "import json\n",
    "import sqlite3\n",
    "import requests\n",
    "import io\n",
    "import pandas as pd # data processing, CSV file I/O\n",
    "from IPython.display import display # Manage multiple output per cell"
   ]
  },
  {
   "cell_type": "code",
   "execution_count": 2,
   "metadata": {
    "collapsed": true
   },
   "outputs": [],
   "source": [
    "# DB Sqlite connection\n",
    "db = \"/Users/thibaultclement/Project/ligue1-predict/src/notebook/data/db/soccer_predict.sqlite\"\n",
    "conn = sqlite3.connect(db)\n",
    "cur = conn.cursor()"
   ]
  },
  {
   "cell_type": "code",
   "execution_count": 3,
   "metadata": {
    "collapsed": true
   },
   "outputs": [],
   "source": [
    "# Clean Database\n",
    "cur.execute('DROP TABLE IF EXISTS macths_raw')\n",
    "cur.execute('DROP TABLE IF EXISTS pre_matchs')\n",
    "conn.commit()"
   ]
  },
  {
   "cell_type": "code",
   "execution_count": 4,
   "metadata": {
    "collapsed": true
   },
   "outputs": [],
   "source": [
    "# Configuration\n",
    "leagues = ['D1', 'E0', 'E1', 'E2', 'F1', 'I1', 'SP1', 'SC0']\n",
    "seasons = ['1314', '1415', '1516', '1617', '0506', '0607', '0708', '0809','0910', '1011', '1112', '1213']\n",
    "website = \"http://www.football-data.co.uk/mmz4281\""
   ]
  },
  {
   "cell_type": "code",
   "execution_count": 5,
   "metadata": {
    "collapsed": true
   },
   "outputs": [],
   "source": [
    "# Crawl Data from internet to get result on a league for a specific season\n",
    "def crawlLeagueBySeason( season, league ):\n",
    "    url = website+\"/\"+season+\"/\"+league+\".csv\"\n",
    "    req = requests.get(url).content\n",
    "    df = pd.read_csv(io.StringIO(req.decode('utf-8')))\n",
    "    # Remove not use columns only for premier league\n",
    "    if 'Attendance' in df.columns:\n",
    "        df = df[df.columns.drop(['Attendance'])]\n",
    "    if 'Referee' in df.columns:\n",
    "        df = df[df.columns.drop(['Referee'])]\n",
    "    if 'SBH' in df.columns:\n",
    "        df = df[df.columns.drop(['SBH'])]\n",
    "    if 'SBD' in df.columns:\n",
    "        df = df[df.columns.drop(['SBD'])]\n",
    "    if 'SBA' in df.columns:\n",
    "        df = df[df.columns.drop(['SBA'])]\n",
    "    if 'GBH' in df.columns:\n",
    "        df = df[df.columns.drop(['GBH'])]\n",
    "    if 'GBA' in df.columns:\n",
    "        df = df[df.columns.drop(['GBA'])]\n",
    "    if 'GBD' in df.columns:\n",
    "        df = df[df.columns.drop(['GBD'])]\n",
    "    if 'BSH' in df.columns:\n",
    "        df = df[df.columns.drop(['BSH'])]\n",
    "    if 'BSD' in df.columns:\n",
    "        df = df[df.columns.drop(['BSD'])]\n",
    "    if 'BSA' in df.columns:\n",
    "        df = df[df.columns.drop(['BSA'])]\n",
    "    if 'Unnamed: 70' in df.columns:\n",
    "        df = df[df.columns.drop(['Unnamed: 70'])]\n",
    "    if 'Unnamed: 71' in df.columns:\n",
    "        df = df[df.columns.drop(['Unnamed: 71'])]\n",
    "    if 'Unnamed: 72' in df.columns:\n",
    "        df = df[df.columns.drop(['Unnamed: 72'])]\n",
    "    # Transform Date column to Date Type\n",
    "    if len(df['Date'][0]) == 8:\n",
    "        df['Date'] = pd.to_datetime(df['Date'], format='%d/%m/%y')\n",
    "    else:\n",
    "        df['Date'] = pd.to_datetime(df['Date'], format='%d/%m/%Y')\n",
    "    # Insert to DB\n",
    "    df.to_sql(\"macths_raw\", conn, if_exists=\"append\")\n",
    "    display(league, season,100. * df.FTR.value_counts() / len(df.FTR))"
   ]
  },
  {
   "cell_type": "code",
   "execution_count": 6,
   "metadata": {
    "scrolled": false
   },
   "outputs": [
    {
     "data": {
      "text/plain": [
       "'D1'"
      ]
     },
     "metadata": {},
     "output_type": "display_data"
    },
    {
     "data": {
      "text/plain": [
       "'1314'"
      ]
     },
     "metadata": {},
     "output_type": "display_data"
    },
    {
     "data": {
      "text/plain": [
       "H    47.385621\n",
       "A    31.699346\n",
       "D    20.915033\n",
       "Name: FTR, dtype: float64"
      ]
     },
     "metadata": {},
     "output_type": "display_data"
    },
    {
     "data": {
      "text/plain": [
       "'D1'"
      ]
     },
     "metadata": {},
     "output_type": "display_data"
    },
    {
     "data": {
      "text/plain": [
       "'1415'"
      ]
     },
     "metadata": {},
     "output_type": "display_data"
    },
    {
     "data": {
      "text/plain": [
       "H    47.385621\n",
       "D    26.797386\n",
       "A    25.816993\n",
       "Name: FTR, dtype: float64"
      ]
     },
     "metadata": {},
     "output_type": "display_data"
    },
    {
     "data": {
      "text/plain": [
       "'D1'"
      ]
     },
     "metadata": {},
     "output_type": "display_data"
    },
    {
     "data": {
      "text/plain": [
       "'1516'"
      ]
     },
     "metadata": {},
     "output_type": "display_data"
    },
    {
     "data": {
      "text/plain": [
       "H    44.117647\n",
       "A    32.679739\n",
       "D    23.202614\n",
       "Name: FTR, dtype: float64"
      ]
     },
     "metadata": {},
     "output_type": "display_data"
    },
    {
     "data": {
      "text/plain": [
       "'D1'"
      ]
     },
     "metadata": {},
     "output_type": "display_data"
    },
    {
     "data": {
      "text/plain": [
       "'1617'"
      ]
     },
     "metadata": {},
     "output_type": "display_data"
    },
    {
     "data": {
      "text/plain": [
       "H    49.019608\n",
       "A    26.797386\n",
       "D    24.183007\n",
       "Name: FTR, dtype: float64"
      ]
     },
     "metadata": {},
     "output_type": "display_data"
    },
    {
     "data": {
      "text/plain": [
       "'D1'"
      ]
     },
     "metadata": {},
     "output_type": "display_data"
    },
    {
     "data": {
      "text/plain": [
       "'0506'"
      ]
     },
     "metadata": {},
     "output_type": "display_data"
    },
    {
     "data": {
      "text/plain": [
       "H    42.810458\n",
       "D    31.372549\n",
       "A    25.816993\n",
       "Name: FTR, dtype: float64"
      ]
     },
     "metadata": {},
     "output_type": "display_data"
    },
    {
     "data": {
      "text/plain": [
       "'D1'"
      ]
     },
     "metadata": {},
     "output_type": "display_data"
    },
    {
     "data": {
      "text/plain": [
       "'0607'"
      ]
     },
     "metadata": {},
     "output_type": "display_data"
    },
    {
     "data": {
      "text/plain": [
       "H    43.790850\n",
       "A    30.392157\n",
       "D    25.816993\n",
       "Name: FTR, dtype: float64"
      ]
     },
     "metadata": {},
     "output_type": "display_data"
    },
    {
     "data": {
      "text/plain": [
       "'D1'"
      ]
     },
     "metadata": {},
     "output_type": "display_data"
    },
    {
     "data": {
      "text/plain": [
       "'0708'"
      ]
     },
     "metadata": {},
     "output_type": "display_data"
    },
    {
     "data": {
      "text/plain": [
       "H    46.732026\n",
       "A    27.777778\n",
       "D    25.490196\n",
       "Name: FTR, dtype: float64"
      ]
     },
     "metadata": {},
     "output_type": "display_data"
    },
    {
     "data": {
      "text/plain": [
       "'D1'"
      ]
     },
     "metadata": {},
     "output_type": "display_data"
    },
    {
     "data": {
      "text/plain": [
       "'0809'"
      ]
     },
     "metadata": {},
     "output_type": "display_data"
    },
    {
     "data": {
      "text/plain": [
       "H    48.039216\n",
       "A    27.777778\n",
       "D    24.183007\n",
       "Name: FTR, dtype: float64"
      ]
     },
     "metadata": {},
     "output_type": "display_data"
    },
    {
     "data": {
      "text/plain": [
       "'D1'"
      ]
     },
     "metadata": {},
     "output_type": "display_data"
    },
    {
     "data": {
      "text/plain": [
       "'0910'"
      ]
     },
     "metadata": {},
     "output_type": "display_data"
    },
    {
     "data": {
      "text/plain": [
       "H    40.849673\n",
       "A    31.045752\n",
       "D    28.104575\n",
       "Name: FTR, dtype: float64"
      ]
     },
     "metadata": {},
     "output_type": "display_data"
    },
    {
     "data": {
      "text/plain": [
       "'D1'"
      ]
     },
     "metadata": {},
     "output_type": "display_data"
    },
    {
     "data": {
      "text/plain": [
       "'1011'"
      ]
     },
     "metadata": {},
     "output_type": "display_data"
    },
    {
     "data": {
      "text/plain": [
       "H    46.078431\n",
       "A    33.333333\n",
       "D    20.588235\n",
       "Name: FTR, dtype: float64"
      ]
     },
     "metadata": {},
     "output_type": "display_data"
    },
    {
     "data": {
      "text/plain": [
       "'D1'"
      ]
     },
     "metadata": {},
     "output_type": "display_data"
    },
    {
     "data": {
      "text/plain": [
       "'1112'"
      ]
     },
     "metadata": {},
     "output_type": "display_data"
    },
    {
     "data": {
      "text/plain": [
       "H    45.424837\n",
       "A    28.758170\n",
       "D    25.816993\n",
       "Name: FTR, dtype: float64"
      ]
     },
     "metadata": {},
     "output_type": "display_data"
    },
    {
     "data": {
      "text/plain": [
       "'D1'"
      ]
     },
     "metadata": {},
     "output_type": "display_data"
    },
    {
     "data": {
      "text/plain": [
       "'1213'"
      ]
     },
     "metadata": {},
     "output_type": "display_data"
    },
    {
     "data": {
      "text/plain": [
       "H    42.483660\n",
       "A    32.026144\n",
       "D    25.490196\n",
       "Name: FTR, dtype: float64"
      ]
     },
     "metadata": {},
     "output_type": "display_data"
    },
    {
     "data": {
      "text/plain": [
       "'E0'"
      ]
     },
     "metadata": {},
     "output_type": "display_data"
    },
    {
     "data": {
      "text/plain": [
       "'1314'"
      ]
     },
     "metadata": {},
     "output_type": "display_data"
    },
    {
     "data": {
      "text/plain": [
       "H    47.105263\n",
       "A    32.368421\n",
       "D    20.526316\n",
       "Name: FTR, dtype: float64"
      ]
     },
     "metadata": {},
     "output_type": "display_data"
    },
    {
     "data": {
      "text/plain": [
       "'E0'"
      ]
     },
     "metadata": {},
     "output_type": "display_data"
    },
    {
     "data": {
      "text/plain": [
       "'1415'"
      ]
     },
     "metadata": {},
     "output_type": "display_data"
    },
    {
     "data": {
      "text/plain": [
       "H    45.144357\n",
       "A    30.183727\n",
       "D    24.409449\n",
       "Name: FTR, dtype: float64"
      ]
     },
     "metadata": {},
     "output_type": "display_data"
    },
    {
     "data": {
      "text/plain": [
       "'E0'"
      ]
     },
     "metadata": {},
     "output_type": "display_data"
    },
    {
     "data": {
      "text/plain": [
       "'1516'"
      ]
     },
     "metadata": {},
     "output_type": "display_data"
    },
    {
     "data": {
      "text/plain": [
       "H    41.315789\n",
       "A    30.526316\n",
       "D    28.157895\n",
       "Name: FTR, dtype: float64"
      ]
     },
     "metadata": {},
     "output_type": "display_data"
    },
    {
     "data": {
      "text/plain": [
       "'E0'"
      ]
     },
     "metadata": {},
     "output_type": "display_data"
    },
    {
     "data": {
      "text/plain": [
       "'1617'"
      ]
     },
     "metadata": {},
     "output_type": "display_data"
    },
    {
     "data": {
      "text/plain": [
       "H    49.210526\n",
       "A    28.684211\n",
       "D    22.105263\n",
       "Name: FTR, dtype: float64"
      ]
     },
     "metadata": {},
     "output_type": "display_data"
    },
    {
     "data": {
      "text/plain": [
       "'E0'"
      ]
     },
     "metadata": {},
     "output_type": "display_data"
    },
    {
     "data": {
      "text/plain": [
       "'0506'"
      ]
     },
     "metadata": {},
     "output_type": "display_data"
    },
    {
     "data": {
      "text/plain": [
       "H    50.526316\n",
       "A    29.210526\n",
       "D    20.263158\n",
       "Name: FTR, dtype: float64"
      ]
     },
     "metadata": {},
     "output_type": "display_data"
    },
    {
     "data": {
      "text/plain": [
       "'E0'"
      ]
     },
     "metadata": {},
     "output_type": "display_data"
    },
    {
     "data": {
      "text/plain": [
       "'0607'"
      ]
     },
     "metadata": {},
     "output_type": "display_data"
    },
    {
     "data": {
      "text/plain": [
       "H    47.894737\n",
       "A    26.315789\n",
       "D    25.789474\n",
       "Name: FTR, dtype: float64"
      ]
     },
     "metadata": {},
     "output_type": "display_data"
    },
    {
     "data": {
      "text/plain": [
       "'E0'"
      ]
     },
     "metadata": {},
     "output_type": "display_data"
    },
    {
     "data": {
      "text/plain": [
       "'0708'"
      ]
     },
     "metadata": {},
     "output_type": "display_data"
    },
    {
     "data": {
      "text/plain": [
       "H    46.315789\n",
       "A    27.368421\n",
       "D    26.315789\n",
       "Name: FTR, dtype: float64"
      ]
     },
     "metadata": {},
     "output_type": "display_data"
    },
    {
     "data": {
      "text/plain": [
       "'E0'"
      ]
     },
     "metadata": {},
     "output_type": "display_data"
    },
    {
     "data": {
      "text/plain": [
       "'0809'"
      ]
     },
     "metadata": {},
     "output_type": "display_data"
    },
    {
     "data": {
      "text/plain": [
       "H    45.526316\n",
       "A    28.947368\n",
       "D    25.526316\n",
       "Name: FTR, dtype: float64"
      ]
     },
     "metadata": {},
     "output_type": "display_data"
    },
    {
     "data": {
      "text/plain": [
       "'E0'"
      ]
     },
     "metadata": {},
     "output_type": "display_data"
    },
    {
     "data": {
      "text/plain": [
       "'0910'"
      ]
     },
     "metadata": {},
     "output_type": "display_data"
    },
    {
     "data": {
      "text/plain": [
       "H    50.789474\n",
       "D    25.263158\n",
       "A    23.947368\n",
       "Name: FTR, dtype: float64"
      ]
     },
     "metadata": {},
     "output_type": "display_data"
    },
    {
     "data": {
      "text/plain": [
       "'E0'"
      ]
     },
     "metadata": {},
     "output_type": "display_data"
    },
    {
     "data": {
      "text/plain": [
       "'1011'"
      ]
     },
     "metadata": {},
     "output_type": "display_data"
    },
    {
     "data": {
      "text/plain": [
       "H    47.105263\n",
       "D    29.210526\n",
       "A    23.684211\n",
       "Name: FTR, dtype: float64"
      ]
     },
     "metadata": {},
     "output_type": "display_data"
    },
    {
     "data": {
      "text/plain": [
       "'E0'"
      ]
     },
     "metadata": {},
     "output_type": "display_data"
    },
    {
     "data": {
      "text/plain": [
       "'1112'"
      ]
     },
     "metadata": {},
     "output_type": "display_data"
    },
    {
     "data": {
      "text/plain": [
       "H    45.000000\n",
       "A    30.526316\n",
       "D    24.473684\n",
       "Name: FTR, dtype: float64"
      ]
     },
     "metadata": {},
     "output_type": "display_data"
    },
    {
     "data": {
      "text/plain": [
       "'E0'"
      ]
     },
     "metadata": {},
     "output_type": "display_data"
    },
    {
     "data": {
      "text/plain": [
       "'1213'"
      ]
     },
     "metadata": {},
     "output_type": "display_data"
    },
    {
     "data": {
      "text/plain": [
       "H    43.684211\n",
       "D    28.421053\n",
       "A    27.894737\n",
       "Name: FTR, dtype: float64"
      ]
     },
     "metadata": {},
     "output_type": "display_data"
    },
    {
     "data": {
      "text/plain": [
       "'E1'"
      ]
     },
     "metadata": {},
     "output_type": "display_data"
    },
    {
     "data": {
      "text/plain": [
       "'1314'"
      ]
     },
     "metadata": {},
     "output_type": "display_data"
    },
    {
     "data": {
      "text/plain": [
       "H    41.304348\n",
       "A    30.434783\n",
       "D    28.260870\n",
       "Name: FTR, dtype: float64"
      ]
     },
     "metadata": {},
     "output_type": "display_data"
    },
    {
     "data": {
      "text/plain": [
       "'E1'"
      ]
     },
     "metadata": {},
     "output_type": "display_data"
    },
    {
     "data": {
      "text/plain": [
       "'1415'"
      ]
     },
     "metadata": {},
     "output_type": "display_data"
    },
    {
     "data": {
      "text/plain": [
       "H    41.229656\n",
       "A    30.018083\n",
       "D    28.571429\n",
       "Name: FTR, dtype: float64"
      ]
     },
     "metadata": {},
     "output_type": "display_data"
    },
    {
     "data": {
      "text/plain": [
       "'E1'"
      ]
     },
     "metadata": {},
     "output_type": "display_data"
    },
    {
     "data": {
      "text/plain": [
       "'1516'"
      ]
     },
     "metadata": {},
     "output_type": "display_data"
    },
    {
     "data": {
      "text/plain": [
       "H    41.123188\n",
       "D    31.159420\n",
       "A    27.717391\n",
       "Name: FTR, dtype: float64"
      ]
     },
     "metadata": {},
     "output_type": "display_data"
    },
    {
     "data": {
      "text/plain": [
       "'E1'"
      ]
     },
     "metadata": {},
     "output_type": "display_data"
    },
    {
     "data": {
      "text/plain": [
       "'1617'"
      ]
     },
     "metadata": {},
     "output_type": "display_data"
    },
    {
     "data": {
      "text/plain": [
       "H    47.463768\n",
       "A    28.985507\n",
       "D    23.550725\n",
       "Name: FTR, dtype: float64"
      ]
     },
     "metadata": {},
     "output_type": "display_data"
    },
    {
     "data": {
      "text/plain": [
       "'E1'"
      ]
     },
     "metadata": {},
     "output_type": "display_data"
    },
    {
     "data": {
      "text/plain": [
       "'0506'"
      ]
     },
     "metadata": {},
     "output_type": "display_data"
    },
    {
     "data": {
      "text/plain": [
       "H    42.391304\n",
       "D    31.340580\n",
       "A    26.268116\n",
       "Name: FTR, dtype: float64"
      ]
     },
     "metadata": {},
     "output_type": "display_data"
    },
    {
     "data": {
      "text/plain": [
       "'E1'"
      ]
     },
     "metadata": {},
     "output_type": "display_data"
    },
    {
     "data": {
      "text/plain": [
       "'0607'"
      ]
     },
     "metadata": {},
     "output_type": "display_data"
    },
    {
     "data": {
      "text/plain": [
       "H    48.188406\n",
       "A    29.528986\n",
       "D    22.282609\n",
       "Name: FTR, dtype: float64"
      ]
     },
     "metadata": {},
     "output_type": "display_data"
    },
    {
     "data": {
      "text/plain": [
       "'E1'"
      ]
     },
     "metadata": {},
     "output_type": "display_data"
    },
    {
     "data": {
      "text/plain": [
       "'0708'"
      ]
     },
     "metadata": {},
     "output_type": "display_data"
    },
    {
     "data": {
      "text/plain": [
       "H    42.391304\n",
       "D    30.978261\n",
       "A    26.630435\n",
       "Name: FTR, dtype: float64"
      ]
     },
     "metadata": {},
     "output_type": "display_data"
    },
    {
     "data": {
      "text/plain": [
       "'E1'"
      ]
     },
     "metadata": {},
     "output_type": "display_data"
    },
    {
     "data": {
      "text/plain": [
       "'0809'"
      ]
     },
     "metadata": {},
     "output_type": "display_data"
    },
    {
     "data": {
      "text/plain": [
       "H    43.297101\n",
       "D    29.347826\n",
       "A    27.355072\n",
       "Name: FTR, dtype: float64"
      ]
     },
     "metadata": {},
     "output_type": "display_data"
    },
    {
     "data": {
      "text/plain": [
       "'E1'"
      ]
     },
     "metadata": {},
     "output_type": "display_data"
    },
    {
     "data": {
      "text/plain": [
       "'0910'"
      ]
     },
     "metadata": {},
     "output_type": "display_data"
    },
    {
     "data": {
      "text/plain": [
       "H    45.289855\n",
       "D    29.347826\n",
       "A    25.362319\n",
       "Name: FTR, dtype: float64"
      ]
     },
     "metadata": {},
     "output_type": "display_data"
    },
    {
     "data": {
      "text/plain": [
       "'E1'"
      ]
     },
     "metadata": {},
     "output_type": "display_data"
    },
    {
     "data": {
      "text/plain": [
       "'1011'"
      ]
     },
     "metadata": {},
     "output_type": "display_data"
    },
    {
     "data": {
      "text/plain": [
       "H    44.565217\n",
       "A    28.623188\n",
       "D    26.811594\n",
       "Name: FTR, dtype: float64"
      ]
     },
     "metadata": {},
     "output_type": "display_data"
    },
    {
     "data": {
      "text/plain": [
       "'E1'"
      ]
     },
     "metadata": {},
     "output_type": "display_data"
    },
    {
     "data": {
      "text/plain": [
       "'1112'"
      ]
     },
     "metadata": {},
     "output_type": "display_data"
    },
    {
     "data": {
      "text/plain": [
       "H    42.753623\n",
       "A    30.253623\n",
       "D    26.992754\n",
       "Name: FTR, dtype: float64"
      ]
     },
     "metadata": {},
     "output_type": "display_data"
    },
    {
     "data": {
      "text/plain": [
       "'E1'"
      ]
     },
     "metadata": {},
     "output_type": "display_data"
    },
    {
     "data": {
      "text/plain": [
       "'1213'"
      ]
     },
     "metadata": {},
     "output_type": "display_data"
    },
    {
     "data": {
      "text/plain": [
       "H    44.565217\n",
       "A    29.166667\n",
       "D    26.268116\n",
       "Name: FTR, dtype: float64"
      ]
     },
     "metadata": {},
     "output_type": "display_data"
    },
    {
     "data": {
      "text/plain": [
       "'E2'"
      ]
     },
     "metadata": {},
     "output_type": "display_data"
    },
    {
     "data": {
      "text/plain": [
       "'1314'"
      ]
     },
     "metadata": {},
     "output_type": "display_data"
    },
    {
     "data": {
      "text/plain": [
       "H    44.202899\n",
       "A    30.072464\n",
       "D    25.724638\n",
       "Name: FTR, dtype: float64"
      ]
     },
     "metadata": {},
     "output_type": "display_data"
    },
    {
     "data": {
      "text/plain": [
       "'E2'"
      ]
     },
     "metadata": {},
     "output_type": "display_data"
    },
    {
     "data": {
      "text/plain": [
       "'1415'"
      ]
     },
     "metadata": {},
     "output_type": "display_data"
    },
    {
     "data": {
      "text/plain": [
       "H    40.398551\n",
       "A    33.333333\n",
       "D    26.268116\n",
       "Name: FTR, dtype: float64"
      ]
     },
     "metadata": {},
     "output_type": "display_data"
    },
    {
     "data": {
      "text/plain": [
       "'E2'"
      ]
     },
     "metadata": {},
     "output_type": "display_data"
    },
    {
     "data": {
      "text/plain": [
       "'1516'"
      ]
     },
     "metadata": {},
     "output_type": "display_data"
    },
    {
     "data": {
      "text/plain": [
       "H    42.857143\n",
       "A    32.007233\n",
       "D    24.954792\n",
       "Name: FTR, dtype: float64"
      ]
     },
     "metadata": {},
     "output_type": "display_data"
    },
    {
     "data": {
      "text/plain": [
       "'E2'"
      ]
     },
     "metadata": {},
     "output_type": "display_data"
    },
    {
     "data": {
      "text/plain": [
       "'1617'"
      ]
     },
     "metadata": {},
     "output_type": "display_data"
    },
    {
     "data": {
      "text/plain": [
       "H    44.927536\n",
       "D    27.898551\n",
       "A    27.173913\n",
       "Name: FTR, dtype: float64"
      ]
     },
     "metadata": {},
     "output_type": "display_data"
    },
    {
     "data": {
      "text/plain": [
       "'E2'"
      ]
     },
     "metadata": {},
     "output_type": "display_data"
    },
    {
     "data": {
      "text/plain": [
       "'0506'"
      ]
     },
     "metadata": {},
     "output_type": "display_data"
    },
    {
     "data": {
      "text/plain": [
       "H    42.391304\n",
       "D    31.340580\n",
       "A    26.268116\n",
       "Name: FTR, dtype: float64"
      ]
     },
     "metadata": {},
     "output_type": "display_data"
    },
    {
     "data": {
      "text/plain": [
       "'E2'"
      ]
     },
     "metadata": {},
     "output_type": "display_data"
    },
    {
     "data": {
      "text/plain": [
       "'0607'"
      ]
     },
     "metadata": {},
     "output_type": "display_data"
    },
    {
     "data": {
      "text/plain": [
       "H    45.108696\n",
       "A    29.710145\n",
       "D    25.181159\n",
       "Name: FTR, dtype: float64"
      ]
     },
     "metadata": {},
     "output_type": "display_data"
    },
    {
     "data": {
      "text/plain": [
       "'E2'"
      ]
     },
     "metadata": {},
     "output_type": "display_data"
    },
    {
     "data": {
      "text/plain": [
       "'0708'"
      ]
     },
     "metadata": {},
     "output_type": "display_data"
    },
    {
     "data": {
      "text/plain": [
       "H    46.557971\n",
       "A    28.079710\n",
       "D    25.362319\n",
       "Name: FTR, dtype: float64"
      ]
     },
     "metadata": {},
     "output_type": "display_data"
    },
    {
     "data": {
      "text/plain": [
       "'E2'"
      ]
     },
     "metadata": {},
     "output_type": "display_data"
    },
    {
     "data": {
      "text/plain": [
       "'0809'"
      ]
     },
     "metadata": {},
     "output_type": "display_data"
    },
    {
     "data": {
      "text/plain": [
       "H    42.753623\n",
       "A    32.427536\n",
       "D    24.818841\n",
       "Name: FTR, dtype: float64"
      ]
     },
     "metadata": {},
     "output_type": "display_data"
    },
    {
     "data": {
      "text/plain": [
       "'E2'"
      ]
     },
     "metadata": {},
     "output_type": "display_data"
    },
    {
     "data": {
      "text/plain": [
       "'0910'"
      ]
     },
     "metadata": {},
     "output_type": "display_data"
    },
    {
     "data": {
      "text/plain": [
       "H    47.282609\n",
       "D    27.536232\n",
       "A    25.181159\n",
       "Name: FTR, dtype: float64"
      ]
     },
     "metadata": {},
     "output_type": "display_data"
    },
    {
     "data": {
      "text/plain": [
       "'E2'"
      ]
     },
     "metadata": {},
     "output_type": "display_data"
    },
    {
     "data": {
      "text/plain": [
       "'1011'"
      ]
     },
     "metadata": {},
     "output_type": "display_data"
    },
    {
     "data": {
      "text/plain": [
       "H    45.108696\n",
       "A    30.072464\n",
       "D    24.818841\n",
       "Name: FTR, dtype: float64"
      ]
     },
     "metadata": {},
     "output_type": "display_data"
    },
    {
     "data": {
      "text/plain": [
       "'E2'"
      ]
     },
     "metadata": {},
     "output_type": "display_data"
    },
    {
     "data": {
      "text/plain": [
       "'1112'"
      ]
     },
     "metadata": {},
     "output_type": "display_data"
    },
    {
     "data": {
      "text/plain": [
       "H    41.847826\n",
       "D    29.891304\n",
       "A    28.260870\n",
       "Name: FTR, dtype: float64"
      ]
     },
     "metadata": {},
     "output_type": "display_data"
    },
    {
     "data": {
      "text/plain": [
       "'E2'"
      ]
     },
     "metadata": {},
     "output_type": "display_data"
    },
    {
     "data": {
      "text/plain": [
       "'1213'"
      ]
     },
     "metadata": {},
     "output_type": "display_data"
    },
    {
     "data": {
      "text/plain": [
       "H    40.144665\n",
       "A    32.730561\n",
       "D    26.943942\n",
       "Name: FTR, dtype: float64"
      ]
     },
     "metadata": {},
     "output_type": "display_data"
    },
    {
     "data": {
      "text/plain": [
       "'F1'"
      ]
     },
     "metadata": {},
     "output_type": "display_data"
    },
    {
     "data": {
      "text/plain": [
       "'1314'"
      ]
     },
     "metadata": {},
     "output_type": "display_data"
    },
    {
     "data": {
      "text/plain": [
       "H    44.094488\n",
       "D    28.346457\n",
       "A    27.296588\n",
       "Name: FTR, dtype: float64"
      ]
     },
     "metadata": {},
     "output_type": "display_data"
    },
    {
     "data": {
      "text/plain": [
       "'F1'"
      ]
     },
     "metadata": {},
     "output_type": "display_data"
    },
    {
     "data": {
      "text/plain": [
       "'1415'"
      ]
     },
     "metadata": {},
     "output_type": "display_data"
    },
    {
     "data": {
      "text/plain": [
       "H    47.631579\n",
       "A    29.210526\n",
       "D    23.157895\n",
       "Name: FTR, dtype: float64"
      ]
     },
     "metadata": {},
     "output_type": "display_data"
    },
    {
     "data": {
      "text/plain": [
       "'F1'"
      ]
     },
     "metadata": {},
     "output_type": "display_data"
    },
    {
     "data": {
      "text/plain": [
       "'1516'"
      ]
     },
     "metadata": {},
     "output_type": "display_data"
    },
    {
     "data": {
      "text/plain": [
       "H    41.994751\n",
       "A    29.396325\n",
       "D    28.346457\n",
       "Name: FTR, dtype: float64"
      ]
     },
     "metadata": {},
     "output_type": "display_data"
    },
    {
     "data": {
      "text/plain": [
       "'F1'"
      ]
     },
     "metadata": {},
     "output_type": "display_data"
    },
    {
     "data": {
      "text/plain": [
       "'1617'"
      ]
     },
     "metadata": {},
     "output_type": "display_data"
    },
    {
     "data": {
      "text/plain": [
       "H    48.947368\n",
       "A    26.315789\n",
       "D    24.736842\n",
       "Name: FTR, dtype: float64"
      ]
     },
     "metadata": {},
     "output_type": "display_data"
    },
    {
     "data": {
      "text/plain": [
       "'F1'"
      ]
     },
     "metadata": {},
     "output_type": "display_data"
    },
    {
     "data": {
      "text/plain": [
       "'0506'"
      ]
     },
     "metadata": {},
     "output_type": "display_data"
    },
    {
     "data": {
      "text/plain": [
       "H    44.736842\n",
       "D    31.052632\n",
       "A    24.210526\n",
       "Name: FTR, dtype: float64"
      ]
     },
     "metadata": {},
     "output_type": "display_data"
    },
    {
     "data": {
      "text/plain": [
       "'F1'"
      ]
     },
     "metadata": {},
     "output_type": "display_data"
    },
    {
     "data": {
      "text/plain": [
       "'0607'"
      ]
     },
     "metadata": {},
     "output_type": "display_data"
    },
    {
     "data": {
      "text/plain": [
       "H    47.631579\n",
       "D    30.789474\n",
       "A    21.578947\n",
       "Name: FTR, dtype: float64"
      ]
     },
     "metadata": {},
     "output_type": "display_data"
    },
    {
     "data": {
      "text/plain": [
       "'F1'"
      ]
     },
     "metadata": {},
     "output_type": "display_data"
    },
    {
     "data": {
      "text/plain": [
       "'0708'"
      ]
     },
     "metadata": {},
     "output_type": "display_data"
    },
    {
     "data": {
      "text/plain": [
       "H    43.947368\n",
       "D    30.526316\n",
       "A    25.526316\n",
       "Name: FTR, dtype: float64"
      ]
     },
     "metadata": {},
     "output_type": "display_data"
    },
    {
     "data": {
      "text/plain": [
       "'F1'"
      ]
     },
     "metadata": {},
     "output_type": "display_data"
    },
    {
     "data": {
      "text/plain": [
       "'0809'"
      ]
     },
     "metadata": {},
     "output_type": "display_data"
    },
    {
     "data": {
      "text/plain": [
       "H    43.421053\n",
       "D    29.473684\n",
       "A    27.105263\n",
       "Name: FTR, dtype: float64"
      ]
     },
     "metadata": {},
     "output_type": "display_data"
    },
    {
     "data": {
      "text/plain": [
       "'F1'"
      ]
     },
     "metadata": {},
     "output_type": "display_data"
    },
    {
     "data": {
      "text/plain": [
       "'0910'"
      ]
     },
     "metadata": {},
     "output_type": "display_data"
    },
    {
     "data": {
      "text/plain": [
       "H    47.105263\n",
       "A    27.368421\n",
       "D    25.526316\n",
       "Name: FTR, dtype: float64"
      ]
     },
     "metadata": {},
     "output_type": "display_data"
    },
    {
     "data": {
      "text/plain": [
       "'F1'"
      ]
     },
     "metadata": {},
     "output_type": "display_data"
    },
    {
     "data": {
      "text/plain": [
       "'1011'"
      ]
     },
     "metadata": {},
     "output_type": "display_data"
    },
    {
     "data": {
      "text/plain": [
       "H    41.315789\n",
       "D    34.210526\n",
       "A    24.473684\n",
       "Name: FTR, dtype: float64"
      ]
     },
     "metadata": {},
     "output_type": "display_data"
    },
    {
     "data": {
      "text/plain": [
       "'F1'"
      ]
     },
     "metadata": {},
     "output_type": "display_data"
    },
    {
     "data": {
      "text/plain": [
       "'1112'"
      ]
     },
     "metadata": {},
     "output_type": "display_data"
    },
    {
     "data": {
      "text/plain": [
       "H    47.105263\n",
       "D    28.421053\n",
       "A    24.473684\n",
       "Name: FTR, dtype: float64"
      ]
     },
     "metadata": {},
     "output_type": "display_data"
    },
    {
     "data": {
      "text/plain": [
       "'F1'"
      ]
     },
     "metadata": {},
     "output_type": "display_data"
    },
    {
     "data": {
      "text/plain": [
       "'1213'"
      ]
     },
     "metadata": {},
     "output_type": "display_data"
    },
    {
     "data": {
      "text/plain": [
       "H    44.736842\n",
       "D    28.421053\n",
       "A    26.842105\n",
       "Name: FTR, dtype: float64"
      ]
     },
     "metadata": {},
     "output_type": "display_data"
    },
    {
     "data": {
      "text/plain": [
       "'I1'"
      ]
     },
     "metadata": {},
     "output_type": "display_data"
    },
    {
     "data": {
      "text/plain": [
       "'1314'"
      ]
     },
     "metadata": {},
     "output_type": "display_data"
    },
    {
     "data": {
      "text/plain": [
       "H    47.631579\n",
       "A    28.684211\n",
       "D    23.684211\n",
       "Name: FTR, dtype: float64"
      ]
     },
     "metadata": {},
     "output_type": "display_data"
    },
    {
     "data": {
      "text/plain": [
       "'I1'"
      ]
     },
     "metadata": {},
     "output_type": "display_data"
    },
    {
     "data": {
      "text/plain": [
       "'1415'"
      ]
     },
     "metadata": {},
     "output_type": "display_data"
    },
    {
     "data": {
      "text/plain": [
       "H    39.895013\n",
       "D    31.496063\n",
       "A    28.346457\n",
       "Name: FTR, dtype: float64"
      ]
     },
     "metadata": {},
     "output_type": "display_data"
    },
    {
     "data": {
      "text/plain": [
       "'I1'"
      ]
     },
     "metadata": {},
     "output_type": "display_data"
    },
    {
     "data": {
      "text/plain": [
       "'1516'"
      ]
     },
     "metadata": {},
     "output_type": "display_data"
    },
    {
     "data": {
      "text/plain": [
       "H    45.931759\n",
       "A    28.871391\n",
       "D    24.934383\n",
       "Name: FTR, dtype: float64"
      ]
     },
     "metadata": {},
     "output_type": "display_data"
    },
    {
     "data": {
      "text/plain": [
       "'I1'"
      ]
     },
     "metadata": {},
     "output_type": "display_data"
    },
    {
     "data": {
      "text/plain": [
       "'1617'"
      ]
     },
     "metadata": {},
     "output_type": "display_data"
    },
    {
     "data": {
      "text/plain": [
       "H    48.421053\n",
       "A    30.526316\n",
       "D    21.052632\n",
       "Name: FTR, dtype: float64"
      ]
     },
     "metadata": {},
     "output_type": "display_data"
    },
    {
     "data": {
      "text/plain": [
       "'I1'"
      ]
     },
     "metadata": {},
     "output_type": "display_data"
    },
    {
     "data": {
      "text/plain": [
       "'0506'"
      ]
     },
     "metadata": {},
     "output_type": "display_data"
    },
    {
     "data": {
      "text/plain": [
       "H    46.315789\n",
       "D    28.421053\n",
       "A    25.263158\n",
       "Name: FTR, dtype: float64"
      ]
     },
     "metadata": {},
     "output_type": "display_data"
    },
    {
     "data": {
      "text/plain": [
       "'I1'"
      ]
     },
     "metadata": {},
     "output_type": "display_data"
    },
    {
     "data": {
      "text/plain": [
       "'0607'"
      ]
     },
     "metadata": {},
     "output_type": "display_data"
    },
    {
     "data": {
      "text/plain": [
       "H    45.526316\n",
       "D    30.000000\n",
       "A    24.473684\n",
       "Name: FTR, dtype: float64"
      ]
     },
     "metadata": {},
     "output_type": "display_data"
    },
    {
     "data": {
      "text/plain": [
       "'I1'"
      ]
     },
     "metadata": {},
     "output_type": "display_data"
    },
    {
     "data": {
      "text/plain": [
       "'0708'"
      ]
     },
     "metadata": {},
     "output_type": "display_data"
    },
    {
     "data": {
      "text/plain": [
       "H    46.052632\n",
       "D    29.473684\n",
       "A    24.473684\n",
       "Name: FTR, dtype: float64"
      ]
     },
     "metadata": {},
     "output_type": "display_data"
    },
    {
     "data": {
      "text/plain": [
       "'I1'"
      ]
     },
     "metadata": {},
     "output_type": "display_data"
    },
    {
     "data": {
      "text/plain": [
       "'0809'"
      ]
     },
     "metadata": {},
     "output_type": "display_data"
    },
    {
     "data": {
      "text/plain": [
       "H    50.526316\n",
       "D    25.000000\n",
       "A    24.473684\n",
       "Name: FTR, dtype: float64"
      ]
     },
     "metadata": {},
     "output_type": "display_data"
    },
    {
     "data": {
      "text/plain": [
       "'I1'"
      ]
     },
     "metadata": {},
     "output_type": "display_data"
    },
    {
     "data": {
      "text/plain": [
       "'0910'"
      ]
     },
     "metadata": {},
     "output_type": "display_data"
    },
    {
     "data": {
      "text/plain": [
       "H    48.947368\n",
       "D    26.842105\n",
       "A    24.210526\n",
       "Name: FTR, dtype: float64"
      ]
     },
     "metadata": {},
     "output_type": "display_data"
    },
    {
     "data": {
      "text/plain": [
       "'I1'"
      ]
     },
     "metadata": {},
     "output_type": "display_data"
    },
    {
     "data": {
      "text/plain": [
       "'1011'"
      ]
     },
     "metadata": {},
     "output_type": "display_data"
    },
    {
     "data": {
      "text/plain": [
       "H    47.105263\n",
       "A    27.368421\n",
       "D    25.526316\n",
       "Name: FTR, dtype: float64"
      ]
     },
     "metadata": {},
     "output_type": "display_data"
    },
    {
     "data": {
      "text/plain": [
       "'I1'"
      ]
     },
     "metadata": {},
     "output_type": "display_data"
    },
    {
     "data": {
      "text/plain": [
       "'1112'"
      ]
     },
     "metadata": {},
     "output_type": "display_data"
    },
    {
     "data": {
      "text/plain": [
       "H    45.526316\n",
       "D    29.210526\n",
       "A    25.263158\n",
       "Name: FTR, dtype: float64"
      ]
     },
     "metadata": {},
     "output_type": "display_data"
    },
    {
     "data": {
      "text/plain": [
       "'I1'"
      ]
     },
     "metadata": {},
     "output_type": "display_data"
    },
    {
     "data": {
      "text/plain": [
       "'1213'"
      ]
     },
     "metadata": {},
     "output_type": "display_data"
    },
    {
     "data": {
      "text/plain": [
       "H    46.214099\n",
       "A    27.937337\n",
       "D    25.065274\n",
       "Name: FTR, dtype: float64"
      ]
     },
     "metadata": {},
     "output_type": "display_data"
    },
    {
     "data": {
      "text/plain": [
       "'SP1'"
      ]
     },
     "metadata": {},
     "output_type": "display_data"
    },
    {
     "data": {
      "text/plain": [
       "'1314'"
      ]
     },
     "metadata": {},
     "output_type": "display_data"
    },
    {
     "data": {
      "text/plain": [
       "H    47.105263\n",
       "A    30.263158\n",
       "D    22.631579\n",
       "Name: FTR, dtype: float64"
      ]
     },
     "metadata": {},
     "output_type": "display_data"
    },
    {
     "data": {
      "text/plain": [
       "'SP1'"
      ]
     },
     "metadata": {},
     "output_type": "display_data"
    },
    {
     "data": {
      "text/plain": [
       "'1415'"
      ]
     },
     "metadata": {},
     "output_type": "display_data"
    },
    {
     "data": {
      "text/plain": [
       "H    45.000000\n",
       "A    31.052632\n",
       "D    23.947368\n",
       "Name: FTR, dtype: float64"
      ]
     },
     "metadata": {},
     "output_type": "display_data"
    },
    {
     "data": {
      "text/plain": [
       "'SP1'"
      ]
     },
     "metadata": {},
     "output_type": "display_data"
    },
    {
     "data": {
      "text/plain": [
       "'1516'"
      ]
     },
     "metadata": {},
     "output_type": "display_data"
    },
    {
     "data": {
      "text/plain": [
       "H    48.157895\n",
       "A    27.631579\n",
       "D    24.210526\n",
       "Name: FTR, dtype: float64"
      ]
     },
     "metadata": {},
     "output_type": "display_data"
    },
    {
     "data": {
      "text/plain": [
       "'SP1'"
      ]
     },
     "metadata": {},
     "output_type": "display_data"
    },
    {
     "data": {
      "text/plain": [
       "'1617'"
      ]
     },
     "metadata": {},
     "output_type": "display_data"
    },
    {
     "data": {
      "text/plain": [
       "H    47.631579\n",
       "A    28.947368\n",
       "D    23.421053\n",
       "Name: FTR, dtype: float64"
      ]
     },
     "metadata": {},
     "output_type": "display_data"
    },
    {
     "data": {
      "text/plain": [
       "'SP1'"
      ]
     },
     "metadata": {},
     "output_type": "display_data"
    },
    {
     "data": {
      "text/plain": [
       "'0506'"
      ]
     },
     "metadata": {},
     "output_type": "display_data"
    },
    {
     "data": {
      "text/plain": [
       "H    42.631579\n",
       "A    29.736842\n",
       "D    27.631579\n",
       "Name: FTR, dtype: float64"
      ]
     },
     "metadata": {},
     "output_type": "display_data"
    },
    {
     "data": {
      "text/plain": [
       "'SP1'"
      ]
     },
     "metadata": {},
     "output_type": "display_data"
    },
    {
     "data": {
      "text/plain": [
       "'0607'"
      ]
     },
     "metadata": {},
     "output_type": "display_data"
    },
    {
     "data": {
      "text/plain": [
       "H    45.263158\n",
       "A    28.947368\n",
       "D    25.789474\n",
       "Name: FTR, dtype: float64"
      ]
     },
     "metadata": {},
     "output_type": "display_data"
    },
    {
     "data": {
      "text/plain": [
       "'SP1'"
      ]
     },
     "metadata": {},
     "output_type": "display_data"
    },
    {
     "data": {
      "text/plain": [
       "'0708'"
      ]
     },
     "metadata": {},
     "output_type": "display_data"
    },
    {
     "data": {
      "text/plain": [
       "H    47.894737\n",
       "A    29.210526\n",
       "D    22.894737\n",
       "Name: FTR, dtype: float64"
      ]
     },
     "metadata": {},
     "output_type": "display_data"
    },
    {
     "data": {
      "text/plain": [
       "'SP1'"
      ]
     },
     "metadata": {},
     "output_type": "display_data"
    },
    {
     "data": {
      "text/plain": [
       "'0809'"
      ]
     },
     "metadata": {},
     "output_type": "display_data"
    },
    {
     "data": {
      "text/plain": [
       "H    48.421053\n",
       "A    29.736842\n",
       "D    21.842105\n",
       "Name: FTR, dtype: float64"
      ]
     },
     "metadata": {},
     "output_type": "display_data"
    },
    {
     "data": {
      "text/plain": [
       "'SP1'"
      ]
     },
     "metadata": {},
     "output_type": "display_data"
    },
    {
     "data": {
      "text/plain": [
       "'0910'"
      ]
     },
     "metadata": {},
     "output_type": "display_data"
    },
    {
     "data": {
      "text/plain": [
       "H    51.052632\n",
       "D    25.000000\n",
       "A    23.947368\n",
       "Name: FTR, dtype: float64"
      ]
     },
     "metadata": {},
     "output_type": "display_data"
    },
    {
     "data": {
      "text/plain": [
       "'SP1'"
      ]
     },
     "metadata": {},
     "output_type": "display_data"
    },
    {
     "data": {
      "text/plain": [
       "'1011'"
      ]
     },
     "metadata": {},
     "output_type": "display_data"
    },
    {
     "data": {
      "text/plain": [
       "H    51.842105\n",
       "A    27.368421\n",
       "D    20.789474\n",
       "Name: FTR, dtype: float64"
      ]
     },
     "metadata": {},
     "output_type": "display_data"
    },
    {
     "data": {
      "text/plain": [
       "'SP1'"
      ]
     },
     "metadata": {},
     "output_type": "display_data"
    },
    {
     "data": {
      "text/plain": [
       "'1112'"
      ]
     },
     "metadata": {},
     "output_type": "display_data"
    },
    {
     "data": {
      "text/plain": [
       "H    49.473684\n",
       "A    25.789474\n",
       "D    24.736842\n",
       "Name: FTR, dtype: float64"
      ]
     },
     "metadata": {},
     "output_type": "display_data"
    },
    {
     "data": {
      "text/plain": [
       "'SP1'"
      ]
     },
     "metadata": {},
     "output_type": "display_data"
    },
    {
     "data": {
      "text/plain": [
       "'1213'"
      ]
     },
     "metadata": {},
     "output_type": "display_data"
    },
    {
     "data": {
      "text/plain": [
       "H    49.736842\n",
       "A    28.157895\n",
       "D    22.105263\n",
       "Name: FTR, dtype: float64"
      ]
     },
     "metadata": {},
     "output_type": "display_data"
    },
    {
     "data": {
      "text/plain": [
       "'SC0'"
      ]
     },
     "metadata": {},
     "output_type": "display_data"
    },
    {
     "data": {
      "text/plain": [
       "'1314'"
      ]
     },
     "metadata": {},
     "output_type": "display_data"
    },
    {
     "data": {
      "text/plain": [
       "H    44.736842\n",
       "A    33.333333\n",
       "D    21.929825\n",
       "Name: FTR, dtype: float64"
      ]
     },
     "metadata": {},
     "output_type": "display_data"
    },
    {
     "data": {
      "text/plain": [
       "'SC0'"
      ]
     },
     "metadata": {},
     "output_type": "display_data"
    },
    {
     "data": {
      "text/plain": [
       "'1415'"
      ]
     },
     "metadata": {},
     "output_type": "display_data"
    },
    {
     "data": {
      "text/plain": [
       "H    44.736842\n",
       "A    35.964912\n",
       "D    19.298246\n",
       "Name: FTR, dtype: float64"
      ]
     },
     "metadata": {},
     "output_type": "display_data"
    },
    {
     "data": {
      "text/plain": [
       "'SC0'"
      ]
     },
     "metadata": {},
     "output_type": "display_data"
    },
    {
     "data": {
      "text/plain": [
       "'1516'"
      ]
     },
     "metadata": {},
     "output_type": "display_data"
    },
    {
     "data": {
      "text/plain": [
       "H    40.789474\n",
       "A    36.403509\n",
       "D    22.807018\n",
       "Name: FTR, dtype: float64"
      ]
     },
     "metadata": {},
     "output_type": "display_data"
    },
    {
     "data": {
      "text/plain": [
       "'SC0'"
      ]
     },
     "metadata": {},
     "output_type": "display_data"
    },
    {
     "data": {
      "text/plain": [
       "'1617'"
      ]
     },
     "metadata": {},
     "output_type": "display_data"
    },
    {
     "data": {
      "text/plain": [
       "H    41.228070\n",
       "A    33.333333\n",
       "D    25.438596\n",
       "Name: FTR, dtype: float64"
      ]
     },
     "metadata": {},
     "output_type": "display_data"
    },
    {
     "data": {
      "text/plain": [
       "'SC0'"
      ]
     },
     "metadata": {},
     "output_type": "display_data"
    },
    {
     "data": {
      "text/plain": [
       "'0506'"
      ]
     },
     "metadata": {},
     "output_type": "display_data"
    },
    {
     "data": {
      "text/plain": [
       "H    42.54386\n",
       "A    32.45614\n",
       "D    25.00000\n",
       "Name: FTR, dtype: float64"
      ]
     },
     "metadata": {},
     "output_type": "display_data"
    },
    {
     "data": {
      "text/plain": [
       "'SC0'"
      ]
     },
     "metadata": {},
     "output_type": "display_data"
    },
    {
     "data": {
      "text/plain": [
       "'0607'"
      ]
     },
     "metadata": {},
     "output_type": "display_data"
    },
    {
     "data": {
      "text/plain": [
       "H    43.859649\n",
       "A    32.456140\n",
       "D    23.684211\n",
       "Name: FTR, dtype: float64"
      ]
     },
     "metadata": {},
     "output_type": "display_data"
    },
    {
     "data": {
      "text/plain": [
       "'SC0'"
      ]
     },
     "metadata": {},
     "output_type": "display_data"
    },
    {
     "data": {
      "text/plain": [
       "'0708'"
      ]
     },
     "metadata": {},
     "output_type": "display_data"
    },
    {
     "data": {
      "text/plain": [
       "H    50.000000\n",
       "A    28.947368\n",
       "D    21.052632\n",
       "Name: FTR, dtype: float64"
      ]
     },
     "metadata": {},
     "output_type": "display_data"
    },
    {
     "data": {
      "text/plain": [
       "'SC0'"
      ]
     },
     "metadata": {},
     "output_type": "display_data"
    },
    {
     "data": {
      "text/plain": [
       "'0809'"
      ]
     },
     "metadata": {},
     "output_type": "display_data"
    },
    {
     "data": {
      "text/plain": [
       "H    42.105263\n",
       "A    32.017544\n",
       "D    25.877193\n",
       "Name: FTR, dtype: float64"
      ]
     },
     "metadata": {},
     "output_type": "display_data"
    },
    {
     "data": {
      "text/plain": [
       "'SC0'"
      ]
     },
     "metadata": {},
     "output_type": "display_data"
    },
    {
     "data": {
      "text/plain": [
       "'0910'"
      ]
     },
     "metadata": {},
     "output_type": "display_data"
    },
    {
     "data": {
      "text/plain": [
       "H    41.228070\n",
       "A    31.140351\n",
       "D    27.631579\n",
       "Name: FTR, dtype: float64"
      ]
     },
     "metadata": {},
     "output_type": "display_data"
    },
    {
     "data": {
      "text/plain": [
       "'SC0'"
      ]
     },
     "metadata": {},
     "output_type": "display_data"
    },
    {
     "data": {
      "text/plain": [
       "'1011'"
      ]
     },
     "metadata": {},
     "output_type": "display_data"
    },
    {
     "data": {
      "text/plain": [
       "H    41.228070\n",
       "A    37.280702\n",
       "D    21.491228\n",
       "Name: FTR, dtype: float64"
      ]
     },
     "metadata": {},
     "output_type": "display_data"
    },
    {
     "data": {
      "text/plain": [
       "'SC0'"
      ]
     },
     "metadata": {},
     "output_type": "display_data"
    },
    {
     "data": {
      "text/plain": [
       "'1112'"
      ]
     },
     "metadata": {},
     "output_type": "display_data"
    },
    {
     "data": {
      "text/plain": [
       "H    39.473684\n",
       "A    35.526316\n",
       "D    25.000000\n",
       "Name: FTR, dtype: float64"
      ]
     },
     "metadata": {},
     "output_type": "display_data"
    },
    {
     "data": {
      "text/plain": [
       "'SC0'"
      ]
     },
     "metadata": {},
     "output_type": "display_data"
    },
    {
     "data": {
      "text/plain": [
       "'1213'"
      ]
     },
     "metadata": {},
     "output_type": "display_data"
    },
    {
     "data": {
      "text/plain": [
       "H    39.035088\n",
       "D    32.017544\n",
       "A    28.947368\n",
       "Name: FTR, dtype: float64"
      ]
     },
     "metadata": {},
     "output_type": "display_data"
    }
   ],
   "source": [
    "# Crawl all seasons for all leagues\n",
    "for league in leagues:\n",
    "    for season in seasons:\n",
    "        crawlLeagueBySeason(season, league)"
   ]
  },
  {
   "cell_type": "code",
   "execution_count": 7,
   "metadata": {
    "collapsed": true,
    "scrolled": false
   },
   "outputs": [],
   "source": [
    "# Get all data for pre match on away team\n",
    "def homeData( date, team, div, nb_matches, nb_matches_string ):\n",
    "    # Dataframe to return with all info\n",
    "    dic = {}\n",
    "    # Home team query\n",
    "    #TODO Recuperer aussi combien de buts ils se sont pris dans la tronche et tout et tout\n",
    "    queryHome = '''\n",
    "            SELECT Date, FTHG, FTR, HTHG, HTR, HS, HST, HF, HC, HY, HR, FTAG, HTAG, `AS`, AST, AF, AC, AY, AR\n",
    "            FROM macths_raw\n",
    "            WHERE Date < ? AND HomeTeam = ? AND Div = ? ORDER BY Date DESC LIMIT ?'''\n",
    "    # Get the previous home game of the Home Team\n",
    "    df_home = pd.read_sql(queryHome, conn, params=[date, team, div, nb_matches])\n",
    "    # Hot-encode Category Full Time Result and Half Time Result\n",
    "    df_home = pd.get_dummies(df_home, columns=['FTR', 'HTR'])\n",
    "    # Calculate the mean of all columns\n",
    "    #display(df_home.head())\n",
    "    dic['H_MEANS_'+nb_matches_string+'_FTHG'] = round(df_home.FTHG.mean(), 2)\n",
    "    dic['H_MEANS_'+nb_matches_string+'_FTR_H'] = 0 if 'FTR_H'not in df_home.columns else round(df_home.FTR_H.mean(), 2)\n",
    "    dic['H_MEANS_'+nb_matches_string+'_FTR_D'] = 0 if 'FTR_D' not in df_home.columns else round(df_home.FTR_D.mean(), 2)\n",
    "    dic['H_MEANS_'+nb_matches_string+'_FTR_A'] = 0 if 'FTR_A' not in df_home.columns else round(df_home.FTR_A.mean(), 2)\n",
    "    dic['H_MEANS_'+nb_matches_string+'_HTHG'] = round(df_home.HTHG.mean(), 2)\n",
    "    dic['H_MEANS_'+nb_matches_string+'_HTR_H'] = 0 if 'HTR_H' not in df_home.columns else round(df_home.HTR_H.mean(), 2)\n",
    "    dic['H_MEANS_'+nb_matches_string+'_HTR_D'] = 0 if 'HTR_D' not in df_home.columns else round(df_home.HTR_D.mean(), 2)\n",
    "    dic['H_MEANS_'+nb_matches_string+'_HTR_A'] = 0 if 'HTR_A' not in df_home.columns else round(df_home.HTR_A.mean(), 2)\n",
    "    dic['H_MEANS_'+nb_matches_string+'_HS'] = round(df_home.HS.mean(), 2)\n",
    "    dic['H_MEANS_'+nb_matches_string+'_HST'] = round(df_home.HST.mean(), 2)\n",
    "    dic['H_MEANS_'+nb_matches_string+'_HF'] = round( df_home.HF.mean(), 2)\n",
    "    dic['H_MEANS_'+nb_matches_string+'_HC'] = round(df_home.HC.mean(), 2)\n",
    "    dic['H_MEANS_'+nb_matches_string+'_HY'] = round(df_home.HY.mean(), 2)\n",
    "    dic['H_MEANS_'+nb_matches_string+'_HR'] = round(df_home.HR.mean(), 2)\n",
    "    dic['H_MEANS_'+nb_matches_string+'_FTAG'] = round(df_home.FTAG.mean(), 2)\n",
    "    dic['H_MEANS_'+nb_matches_string+'_HTAG'] = round(df_home.HTAG.mean(), 2)\n",
    "    dic['H_MEANS_'+nb_matches_string+'_AS'] = round(df_home.AS.mean(), 2)\n",
    "    dic['H_MEANS_'+nb_matches_string+'_AST'] = round(df_home.AST.mean(), 2)\n",
    "    dic['H_MEANS_'+nb_matches_string+'_AF'] = round(df_home.AF.mean(), 2)\n",
    "    dic['H_MEANS_'+nb_matches_string+'_AC'] = round(df_home.AC.mean(), 2)\n",
    "    dic['H_MEANS_'+nb_matches_string+'_AY'] = round(df_home.AY.mean(), 2)\n",
    "    dic['H_MEANS_'+nb_matches_string+'_AR'] = round(df_home.AR.mean(), 2)\n",
    "    dic['H_STD_'+nb_matches_string+'_FTHG'] = round(df_home.FTHG.std(), 3)\n",
    "    dic['H_STD_'+nb_matches_string+'_FTR_H'] = 0 if 'FTR_H'not in df_home.columns else round(df_home.FTR_H.std(), 3)\n",
    "    dic['H_STD_'+nb_matches_string+'_FTR_D'] = 0 if 'FTR_D' not in df_home.columns else round(df_home.FTR_D.std(), 3)\n",
    "    dic['H_STD_'+nb_matches_string+'_FTR_A'] = 0 if 'FTR_A' not in df_home.columns else round(df_home.FTR_A.std(), 3)\n",
    "    dic['H_STD_'+nb_matches_string+'_HTHG'] = round(df_home.HTHG.std(), 3)\n",
    "    dic['H_STD_'+nb_matches_string+'_HTR_H'] = 0 if 'HTR_H' not in df_home.columns else round(df_home.HTR_H.std(), 3)\n",
    "    dic['H_STD_'+nb_matches_string+'_HTR_D'] = 0 if 'HTR_D' not in df_home.columns else round(df_home.HTR_D.std(), 3)\n",
    "    dic['H_STD_'+nb_matches_string+'_HTR_A'] = 0 if 'HTR_A' not in df_home.columns else round(df_home.HTR_A.std(), 3)\n",
    "    dic['H_STD_'+nb_matches_string+'_HS'] = round(df_home.HS.std(), 3)\n",
    "    dic['H_STD_'+nb_matches_string+'_HST'] = round(df_home.HST.std(), 3)\n",
    "    dic['H_STD_'+nb_matches_string+'_HF'] = round( df_home.HF.std(), 3)\n",
    "    dic['H_STD_'+nb_matches_string+'_HC'] = round(df_home.HC.std(), 3)\n",
    "    dic['H_STD_'+nb_matches_string+'_HY'] = round(df_home.HY.std(), 3)\n",
    "    dic['H_STD_'+nb_matches_string+'_HR'] = round(df_home.HR.std(), 3)\n",
    "    dic['H_STD_'+nb_matches_string+'_FTAG'] = round(df_home.FTAG.std(), 3)\n",
    "    dic['H_STD_'+nb_matches_string+'_HTAG'] = round(df_home.HTAG.std(), 3)\n",
    "    dic['H_STD_'+nb_matches_string+'_AS'] = round(df_home.AS.std(), 3)\n",
    "    dic['H_STD_'+nb_matches_string+'_AST'] = round(df_home.AST.std(), 3)\n",
    "    dic['H_STD_'+nb_matches_string+'_AF'] = round(df_home.AF.std(), 3)\n",
    "    dic['H_STD_'+nb_matches_string+'_AC'] = round(df_home.AC.std(), 3)\n",
    "    dic['H_STD_'+nb_matches_string+'_AY'] = round(df_home.AY.std(), 3)\n",
    "    dic['H_STD_'+nb_matches_string+'_AR'] = round(df_home.AR.std(), 3)\n",
    "    return dic"
   ]
  },
  {
   "cell_type": "code",
   "execution_count": 8,
   "metadata": {
    "collapsed": true
   },
   "outputs": [],
   "source": [
    "# Get all data for pre match on away team\n",
    "def awayData( date, team, div, nb_matches, nb_matches_string ):\n",
    "    # Dataframe to return with all info\n",
    "    dic = {}\n",
    "    # away team query\n",
    "    #TODO Recuperer aussi combien de buts ils se sont pris dans la tronche et tout et tout\n",
    "    queryAway = '''\n",
    "            SELECT Date, FTAG, FTR, HTAG, HTR, `AS`, AST, AF, AC, AY, AR, FTHG, HTHG, HS, HST, HF, HC, HY, HR\n",
    "            FROM macths_raw\n",
    "            WHERE Date < ? AND AwayTeam = ? AND Div = ? ORDER BY Date DESC LIMIT ?'''\n",
    "    # Get the previous away game of the away Team\n",
    "    df_away = pd.read_sql(queryAway, conn, params=[date, team, div, nb_matches])\n",
    "    # Hot-encode Category Full Time Result and Half Time Result\n",
    "    df_away = pd.get_dummies(df_away, columns=['FTR', 'HTR'])\n",
    "    # Calculate the mean of all columns\n",
    "    #display(df_away.head())\n",
    "    dic['A_MEANS_'+nb_matches_string+'_FTAG'] = round(df_away.FTAG.mean(), 2)\n",
    "    dic['A_MEANS_'+nb_matches_string+'_FTR_H'] = 0 if 'FTR_H'not in df_away.columns else round(df_away.FTR_H.mean(), 2)\n",
    "    dic['A_MEANS_'+nb_matches_string+'_FTR_D'] = 0 if 'FTR_D' not in df_away.columns else round(df_away.FTR_D.mean(), 2)\n",
    "    dic['A_MEANS_'+nb_matches_string+'_FTR_A'] = 0 if 'FTR_A' not in df_away.columns else round(df_away.FTR_A.mean(), 2)\n",
    "    dic['A_MEANS_'+nb_matches_string+'_HTAG'] = round(df_away.HTAG.mean(), 2)\n",
    "    dic['A_MEANS_'+nb_matches_string+'_HTR_H'] = 0 if 'HTR_H' not in df_away.columns else round(df_away.HTR_H.mean(), 2)\n",
    "    dic['A_MEANS_'+nb_matches_string+'_HTR_D'] = 0 if 'HTR_D' not in df_away.columns else round(df_away.HTR_D.mean(), 2)\n",
    "    dic['A_MEANS_'+nb_matches_string+'_HTR_A'] = 0 if 'HTR_A' not in df_away.columns else round(df_away.HTR_A.mean(), 2)\n",
    "    dic['A_MEANS_'+nb_matches_string+'_AS'] = round(df_away.AS.mean(), 2)\n",
    "    dic['A_MEANS_'+nb_matches_string+'_AST'] = round(df_away.AST.mean(), 2)\n",
    "    dic['A_MEANS_'+nb_matches_string+'_AF'] = round(df_away.AF.mean(), 2)\n",
    "    dic['A_MEANS_'+nb_matches_string+'_AC'] = round(df_away.AC.mean(), 2)\n",
    "    dic['A_MEANS_'+nb_matches_string+'_AY'] = round(df_away.AY.mean(), 2)\n",
    "    dic['A_MEANS_'+nb_matches_string+'_AR'] = round(df_away.AR.mean(), 2)\n",
    "    dic['A_MEANS_'+nb_matches_string+'_FTHG'] = round(df_away.FTHG.mean(), 2)\n",
    "    dic['A_MEANS_'+nb_matches_string+'_HTHG'] = round(df_away.HTHG.mean(), 2)\n",
    "    dic['A_MEANS_'+nb_matches_string+'_HS'] = round(df_away.HS.mean(), 2)\n",
    "    dic['A_MEANS_'+nb_matches_string+'_HST'] = round(df_away.HST.mean(), 2)\n",
    "    dic['A_MEANS_'+nb_matches_string+'_HF'] = round( df_away.HF.mean(), 2)\n",
    "    dic['A_MEANS_'+nb_matches_string+'_HC'] = round(df_away.HC.mean(), 2)\n",
    "    dic['A_MEANS_'+nb_matches_string+'_HY'] = round(df_away.HY.mean(), 2)\n",
    "    dic['A_MEANS_'+nb_matches_string+'_HR'] = round(df_away.HR.mean(), 2)\n",
    "    dic['A_STD_'+nb_matches_string+'_FTAG'] = round(df_away.FTAG.std(), 3)\n",
    "    dic['A_STD_'+nb_matches_string+'_FTR_H'] = 0 if 'FTR_H'not in df_away.columns else round(df_away.FTR_H.std(), 3)\n",
    "    dic['A_STD_'+nb_matches_string+'_FTR_D'] = 0 if 'FTR_D' not in df_away.columns else round(df_away.FTR_D.std(), 3)\n",
    "    dic['A_STD_'+nb_matches_string+'_FTR_A'] = 0 if 'FTR_A' not in df_away.columns else round(df_away.FTR_A.std(), 3)\n",
    "    dic['A_STD_'+nb_matches_string+'_HTAG'] = round(df_away.HTAG.std(), 3)\n",
    "    dic['A_STD_'+nb_matches_string+'_HTR_H'] = 0 if 'HTR_H' not in df_away.columns else round(df_away.HTR_H.std(), 3)\n",
    "    dic['A_STD_'+nb_matches_string+'_HTR_D'] = 0 if 'HTR_D' not in df_away.columns else round(df_away.HTR_D.std(), 3)\n",
    "    dic['A_STD_'+nb_matches_string+'_HTR_A'] = 0 if 'HTR_A' not in df_away.columns else round(df_away.HTR_A.std(), 3)\n",
    "    dic['A_STD_'+nb_matches_string+'_AS'] = round(df_away.AS.std(), 3)\n",
    "    dic['A_STD_'+nb_matches_string+'_AST'] = round(df_away.AST.std(), 3)\n",
    "    dic['A_STD_'+nb_matches_string+'_AF'] = round(df_away.AF.std(), 3)\n",
    "    dic['A_STD_'+nb_matches_string+'_AC'] = round(df_away.AC.std(), 3)\n",
    "    dic['A_STD_'+nb_matches_string+'_AY'] = round(df_away.AY.std(), 3)\n",
    "    dic['A_STD_'+nb_matches_string+'_AR'] = round(df_away.AR.std(), 3)\n",
    "    dic['A_STD_'+nb_matches_string+'_FTHG'] = round(df_away.FTHG.std(), 3)\n",
    "    dic['A_STD_'+nb_matches_string+'_HTHG'] = round(df_away.HTHG.std(), 3)\n",
    "    dic['A_STD_'+nb_matches_string+'_HS'] = round(df_away.HS.std(), 3)\n",
    "    dic['A_STD_'+nb_matches_string+'_HST'] = round(df_away.HST.std(), 3)\n",
    "    dic['A_STD_'+nb_matches_string+'_HF'] = round( df_away.HF.std(), 3)\n",
    "    dic['A_STD_'+nb_matches_string+'_HC'] = round(df_away.HC.std(), 3)\n",
    "    dic['A_STD_'+nb_matches_string+'_HY'] = round(df_away.HY.std(), 3)\n",
    "    dic['A_STD_'+nb_matches_string+'_HR'] = round(df_away.HR.std(), 3)\n",
    "    return dic"
   ]
  },
  {
   "cell_type": "code",
   "execution_count": 9,
   "metadata": {},
   "outputs": [
    {
     "data": {
      "text/plain": [
       "(37907, 28)"
      ]
     },
     "execution_count": 9,
     "metadata": {},
     "output_type": "execute_result"
    }
   ],
   "source": [
    "# Compute all pre matchs and insert them in pre_match table\n",
    "df_macths_raw = pd.read_sql_query(\"SELECT Div, Date, HomeTeam, AwayTeam, FTHG, FTAG, FTR, HTHG, HTAG, HTR, HS, `AS`, HST, AST, HF, AF, HC, AC, HY, AY, HR, AR, PSH, PSD, PSA, BbAvH, BbAvD, BbAvA FROM macths_raw ORDER BY Date ASC;\", conn)\n",
    "for index, row in df_macths_raw.iterrows():\n",
    "    #display(row)\n",
    "    \n",
    "    # HOME TEAM\n",
    "    # Get the 5 previous home game of the Home Team\n",
    "    dic_home_five = homeData(row.Date, row.HomeTeam, row.Div, 5, 'FIVE')\n",
    "    #display(df_home_five)\n",
    "    # Get the 3 previous home game of the Home Team\n",
    "    dic_home_three = homeData(row.Date, row.HomeTeam, row.Div, 3, 'THREE')\n",
    "    #display(df_home_three)\n",
    "    \n",
    "    # AWAY TEAM\n",
    "    # Get the 5 previous away game of the Away Team\n",
    "    dic_away_five = awayData(row.Date, row.AwayTeam, row.Div, 5, 'FIVE')\n",
    "    #display(df_away_five)\n",
    "    # Get the 3 previous away game of the Away Team\n",
    "    dic_away_three = awayData(row.Date, row.AwayTeam, row.Div, 3, 'THREE')\n",
    "    #display(df_away_three)\n",
    "    \n",
    "    # Merge different dataset together\n",
    "    #dic_all = dic_home_five.copy().update(dic_home_three)\n",
    "    dic_all = dict(dic_home_five.items() + dic_home_three.items() + dic_away_five.items() + dic_away_three.items())\n",
    "    # Add division and date\n",
    "    dic_all['INFO_Div'] = row['Div']\n",
    "    dic_all['INFO_Date'] = row['Date']\n",
    "    # Add info on result\n",
    "    dic_all['INFO_HomeTeam'] = row['HomeTeam']\n",
    "    dic_all['INFO_AwayTeam'] = row['AwayTeam']\n",
    "    dic_all['INFO_FTR'] = row['FTR']\n",
    "    dic_all['INFO_HTR'] = row['HTR']\n",
    "    dic_all['INFO_FTHG'] = row['FTHG']\n",
    "    dic_all['INFO_FTAG'] = row['FTAG']\n",
    "    # Add all Bet\n",
    "    dic_all['INFO_PSH'] = row['PSH']\n",
    "    dic_all['INFO_PSD'] = row['PSD']\n",
    "    dic_all['INFO_PSA'] = row['PSA']\n",
    "    dic_all['INFO_BbAvH'] = row['BbAvH']\n",
    "    dic_all['INFO_BbAvD'] = row['BbAvD']\n",
    "    dic_all['INFO_BbAvA'] = row['BbAvA']\n",
    "    df_pre_matches = pd.DataFrame.from_dict([dic_all], orient='columns')\n",
    "    df_pre_matches.to_sql(\"pre_matchs\", conn, if_exists=\"append\")\n",
    "\n",
    "df_macths_raw.shape"
   ]
  },
  {
   "cell_type": "code",
   "execution_count": null,
   "metadata": {
    "collapsed": true
   },
   "outputs": [],
   "source": []
  }
 ],
 "metadata": {
  "kernelspec": {
   "display_name": "Python 2",
   "language": "python",
   "name": "python2"
  },
  "language_info": {
   "codemirror_mode": {
    "name": "ipython",
    "version": 2
   },
   "file_extension": ".py",
   "mimetype": "text/x-python",
   "name": "python",
   "nbconvert_exporter": "python",
   "pygments_lexer": "ipython2",
   "version": "2.7.13"
  }
 },
 "nbformat": 4,
 "nbformat_minor": 2
}
