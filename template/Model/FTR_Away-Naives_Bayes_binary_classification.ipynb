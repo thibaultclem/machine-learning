{
 "cells": [
  {
   "cell_type": "markdown",
   "metadata": {},
   "source": [
    "# Naive Bayes Binary Classification"
   ]
  },
  {
   "cell_type": "code",
   "execution_count": 1,
   "metadata": {
    "collapsed": true
   },
   "outputs": [],
   "source": [
    "# Importing the library\n",
    "import numpy as np # linear algebra\n",
    "import pandas as pd # data processing, CSV file I/O\n",
    "import matplotlib.pyplot as plt # plotting library\n",
    "import seaborn as sns # visualization library based on matplotlib\n",
    "from IPython.display import display # Manage multiple output per cell"
   ]
  },
  {
   "cell_type": "code",
   "execution_count": 2,
   "metadata": {
    "collapsed": true
   },
   "outputs": [],
   "source": [
    "# Manage UTF-8 issue\n",
    "import sys  \n",
    "reload(sys)  \n",
    "sys.setdefaultencoding('utf8')"
   ]
  },
  {
   "cell_type": "code",
   "execution_count": 3,
   "metadata": {
    "collapsed": true
   },
   "outputs": [],
   "source": [
    "all_features = [\"A_MEANS_FIVE_AC\",\"A_MEANS_FIVE_AF\",\"A_MEANS_FIVE_AR\",\"A_MEANS_FIVE_AS\",\"A_MEANS_FIVE_AST\",\"A_MEANS_FIVE_AY\",\"A_MEANS_FIVE_FTAG\",\"A_MEANS_FIVE_FTHG\",\"A_MEANS_FIVE_FTR_A\",\"A_MEANS_FIVE_FTR_D\",\"A_MEANS_FIVE_FTR_H\",\"A_MEANS_FIVE_HC\",\"A_MEANS_FIVE_HF\",\"A_MEANS_FIVE_HR\",\"A_MEANS_FIVE_HS\",\"A_MEANS_FIVE_HST\",\"A_MEANS_FIVE_HTAG\",\"A_MEANS_FIVE_HTHG\",\"A_MEANS_FIVE_HTR_A\",\"A_MEANS_FIVE_HTR_D\",\"A_MEANS_FIVE_HTR_H\",\"A_MEANS_FIVE_HY\",\"H_MEANS_FIVE_AC\",\"H_MEANS_FIVE_AF\",\"H_MEANS_FIVE_AR\",\"H_MEANS_FIVE_AS\",\"H_MEANS_FIVE_AST\",\"H_MEANS_FIVE_AY\",\"H_MEANS_FIVE_FTAG\",\"H_MEANS_FIVE_FTHG\",\"H_MEANS_FIVE_FTR_A\",\"H_MEANS_FIVE_FTR_D\",\"H_MEANS_FIVE_FTR_H\",\"H_MEANS_FIVE_HC\",\"H_MEANS_FIVE_HF\",\"H_MEANS_FIVE_HR\",\"H_MEANS_FIVE_HS\",\"H_MEANS_FIVE_HST\",\"H_MEANS_FIVE_HTAG\",\"H_MEANS_FIVE_HTHG\",\"H_MEANS_FIVE_HTR_A\",\"H_MEANS_FIVE_HTR_D\",\"H_MEANS_FIVE_HTR_H\",\"H_MEANS_FIVE_HY\",\"A_MEANS_THREE_AC\",\"A_MEANS_THREE_AF\",\"A_MEANS_THREE_AR\",\"A_MEANS_THREE_AS\",\"A_MEANS_THREE_AST\",\"A_MEANS_THREE_AY\",\"A_MEANS_THREE_FTAG\",\"A_MEANS_THREE_FTHG\",\"A_MEANS_THREE_FTR_A\",\"A_MEANS_THREE_FTR_D\",\"A_MEANS_THREE_FTR_H\",\"A_MEANS_THREE_HC\",\"A_MEANS_THREE_HF\",\"A_MEANS_THREE_HR\",\"A_MEANS_THREE_HS\",\"A_MEANS_THREE_HST\",\"A_MEANS_THREE_HTAG\",\"A_MEANS_THREE_HTHG\",\"A_MEANS_THREE_HTR_A\",\"A_MEANS_THREE_HTR_D\",\"A_MEANS_THREE_HTR_H\",\"A_MEANS_THREE_HY\",\"H_MEANS_THREE_AC\",\"H_MEANS_THREE_AF\",\"H_MEANS_THREE_AR\",\"H_MEANS_THREE_AS\",\"H_MEANS_THREE_AST\",\"H_MEANS_THREE_AY\",\"H_MEANS_THREE_FTAG\",\"H_MEANS_THREE_FTHG\",\"H_MEANS_THREE_FTR_A\",\"H_MEANS_THREE_FTR_D\",\"H_MEANS_THREE_FTR_H\",\"H_MEANS_THREE_HC\",\"H_MEANS_THREE_HF\",\"H_MEANS_THREE_HR\",\"H_MEANS_THREE_HS\",\"H_MEANS_THREE_HST\",\"H_MEANS_THREE_HTAG\",\"H_MEANS_THREE_HTHG\",\"H_MEANS_THREE_HTR_A\",\"H_MEANS_THREE_HTR_D\",\"H_MEANS_THREE_HTR_H\",\"H_MEANS_THREE_HY\",\"A_STD_FIVE_AC\",\"A_STD_FIVE_AF\",\"A_STD_FIVE_AR\",\"A_STD_FIVE_AS\",\"A_STD_FIVE_AST\",\"A_STD_FIVE_AY\",\"A_STD_FIVE_FTAG\",\"A_STD_FIVE_FTHG\",\"A_STD_FIVE_FTR_A\",\"A_STD_FIVE_FTR_D\",\"A_STD_FIVE_FTR_H\",\"A_STD_FIVE_HC\",\"A_STD_FIVE_HF\",\"A_STD_FIVE_HR\",\"A_STD_FIVE_HS\",\"A_STD_FIVE_HST\",\"A_STD_FIVE_HTAG\",\"A_STD_FIVE_HTHG\",\"A_STD_FIVE_HTR_A\",\"A_STD_FIVE_HTR_D\",\"A_STD_FIVE_HTR_H\",\"A_STD_FIVE_HY\",\"H_STD_FIVE_AC\",\"H_STD_FIVE_AF\",\"H_STD_FIVE_AR\",\"H_STD_FIVE_AS\",\"H_STD_FIVE_AST\",\"H_STD_FIVE_AY\",\"H_STD_FIVE_FTAG\",\"H_STD_FIVE_FTHG\",\"H_STD_FIVE_FTR_A\",\"H_STD_FIVE_FTR_D\",\"H_STD_FIVE_FTR_H\",\"H_STD_FIVE_HC\",\"H_STD_FIVE_HF\",\"H_STD_FIVE_HR\",\"H_STD_FIVE_HS\",\"H_STD_FIVE_HST\",\"H_STD_FIVE_HTAG\",\"H_STD_FIVE_HTHG\",\"H_STD_FIVE_HTR_A\",\"H_STD_FIVE_HTR_D\",\"H_STD_FIVE_HTR_H\",\"H_STD_FIVE_HY\",\"A_STD_THREE_AC\",\"A_STD_THREE_AF\",\"A_STD_THREE_AR\",\"A_STD_THREE_AS\",\"A_STD_THREE_AST\",\"A_STD_THREE_AY\",\"A_STD_THREE_FTAG\",\"A_STD_THREE_FTHG\",\"A_STD_THREE_FTR_A\",\"A_STD_THREE_FTR_D\",\"A_STD_THREE_FTR_H\",\"A_STD_THREE_HC\",\"A_STD_THREE_HF\",\"A_STD_THREE_HR\",\"A_STD_THREE_HS\",\"A_STD_THREE_HST\",\"A_STD_THREE_HTAG\",\"A_STD_THREE_HTHG\",\"A_STD_THREE_HTR_A\",\"A_STD_THREE_HTR_D\",\"A_STD_THREE_HTR_H\",\"A_STD_THREE_HY\",\"H_STD_THREE_AC\",\"H_STD_THREE_AF\",\"H_STD_THREE_AR\",\"H_STD_THREE_AS\",\"H_STD_THREE_AST\",\"H_STD_THREE_AY\",\"H_STD_THREE_FTAG\",\"H_STD_THREE_FTHG\",\"H_STD_THREE_FTR_A\",\"H_STD_THREE_FTR_D\",\"H_STD_THREE_FTR_H\",\"H_STD_THREE_HC\",\"H_STD_THREE_HF\",\"H_STD_THREE_HR\",\"H_STD_THREE_HS\",\"H_STD_THREE_HST\",\"H_STD_THREE_HTAG\",\"H_STD_THREE_HTHG\",\"H_STD_THREE_HTR_A\",\"H_STD_THREE_HTR_D\",\"H_STD_THREE_HTR_H\",\"H_STD_THREE_HY\",\"INFO_Div\"]\n",
    "# To add STD:\n",
    "three_matches_features = [\"A_THREE_AC\",\"A_THREE_AF\",\"A_THREE_AR\",\"A_THREE_AS\",\"A_THREE_AST\",\"A_THREE_AY\",\"A_THREE_FTAG\",\"A_THREE_FTHG\",\"A_THREE_FTR_A\",\"A_THREE_FTR_D\",\"A_THREE_FTR_H\",\"A_THREE_HC\",\"A_THREE_HF\",\"A_THREE_HR\",\"A_THREE_HS\",\"A_THREE_HST\",\"A_THREE_HTAG\",\"A_THREE_HTHG\",\"A_THREE_HTR_A\",\"A_THREE_HTR_D\",\"A_THREE_HTR_H\",\"A_THREE_HY\",\"H_THREE_AC\",\"H_THREE_AF\",\"H_THREE_AR\",\"H_THREE_AS\",\"H_THREE_AST\",\"H_THREE_AY\",\"H_THREE_FTAG\",\"H_THREE_FTHG\",\"H_THREE_FTR_A\",\"H_THREE_FTR_D\",\"H_THREE_FTR_H\",\"H_THREE_HC\",\"H_THREE_HF\",\"H_THREE_HR\",\"H_THREE_HS\",\"H_THREE_HST\",\"H_THREE_HTAG\",\"H_THREE_HTHG\",\"H_THREE_HTR_A\",\"H_THREE_HTR_D\",\"H_THREE_HTR_H\",\"H_THREE_HY\",\"INFO_Div\"]\n",
    "five_matches_features = [\"A_FIVE_AC\",\"A_FIVE_AF\",\"A_FIVE_AR\",\"A_FIVE_AS\",\"A_FIVE_AST\",\"A_FIVE_AY\",\"A_FIVE_FTAG\",\"A_FIVE_FTHG\",\"A_FIVE_FTR_A\",\"A_FIVE_FTR_D\",\"A_FIVE_FTR_H\",\"A_FIVE_HC\",\"A_FIVE_HF\",\"A_FIVE_HR\",\"A_FIVE_HS\",\"A_FIVE_HST\",\"A_FIVE_HTAG\",\"A_FIVE_HTHG\",\"A_FIVE_HTR_A\",\"A_FIVE_HTR_D\",\"A_FIVE_HTR_H\",\"A_FIVE_HY\",\"H_FIVE_AC\",\"H_FIVE_AF\",\"H_FIVE_AR\",\"H_FIVE_AS\",\"H_FIVE_AST\",\"H_FIVE_AY\",\"H_FIVE_FTAG\",\"H_FIVE_FTHG\",\"H_FIVE_FTR_A\",\"H_FIVE_FTR_D\",\"H_FIVE_FTR_H\",\"H_FIVE_HC\",\"H_FIVE_HF\",\"H_FIVE_HR\",\"H_FIVE_HS\",\"H_FIVE_HST\",\"H_FIVE_HTAG\",\"H_FIVE_HTHG\",\"H_FIVE_HTR_A\",\"H_FIVE_HTR_D\",\"H_FIVE_HTR_H\",\"H_FIVE_HY\",\"INFO_Div\"]\n",
    "all_features_no_div = [\"A_FIVE_AC\",\"A_FIVE_AF\",\"A_FIVE_AR\",\"A_FIVE_AS\",\"A_FIVE_AST\",\"A_FIVE_AY\",\"A_FIVE_FTAG\",\"A_FIVE_FTHG\",\"A_FIVE_FTR_A\",\"A_FIVE_FTR_D\",\"A_FIVE_FTR_H\",\"A_FIVE_HC\",\"A_FIVE_HF\",\"A_FIVE_HR\",\"A_FIVE_HS\",\"A_FIVE_HST\",\"A_FIVE_HTAG\",\"A_FIVE_HTHG\",\"A_FIVE_HTR_A\",\"A_FIVE_HTR_D\",\"A_FIVE_HTR_H\",\"A_FIVE_HY\",\"H_FIVE_AC\",\"H_FIVE_AF\",\"H_FIVE_AR\",\"H_FIVE_AS\",\"H_FIVE_AST\",\"H_FIVE_AY\",\"H_FIVE_FTAG\",\"H_FIVE_FTHG\",\"H_FIVE_FTR_A\",\"H_FIVE_FTR_D\",\"H_FIVE_FTR_H\",\"H_FIVE_HC\",\"H_FIVE_HF\",\"H_FIVE_HR\",\"H_FIVE_HS\",\"H_FIVE_HST\",\"H_FIVE_HTAG\",\"H_FIVE_HTHG\",\"H_FIVE_HTR_A\",\"H_FIVE_HTR_D\",\"H_FIVE_HTR_H\",\"H_FIVE_HY\",\"A_THREE_AC\",\"A_THREE_AF\",\"A_THREE_AR\",\"A_THREE_AS\",\"A_THREE_AST\",\"A_THREE_AY\",\"A_THREE_FTAG\",\"A_THREE_FTHG\",\"A_THREE_FTR_A\",\"A_THREE_FTR_D\",\"A_THREE_FTR_H\",\"A_THREE_HC\",\"A_THREE_HF\",\"A_THREE_HR\",\"A_THREE_HS\",\"A_THREE_HST\",\"A_THREE_HTAG\",\"A_THREE_HTHG\",\"A_THREE_HTR_A\",\"A_THREE_HTR_D\",\"A_THREE_HTR_H\",\"A_THREE_HY\",\"H_THREE_AC\",\"H_THREE_AF\",\"H_THREE_AR\",\"H_THREE_AS\",\"H_THREE_AST\",\"H_THREE_AY\",\"H_THREE_FTAG\",\"H_THREE_FTHG\",\"H_THREE_FTR_A\",\"H_THREE_FTR_D\",\"H_THREE_FTR_H\",\"H_THREE_HC\",\"H_THREE_HF\",\"H_THREE_HR\",\"H_THREE_HS\",\"H_THREE_HST\",\"H_THREE_HTAG\",\"H_THREE_HTHG\",\"H_THREE_HTR_A\",\"H_THREE_HTR_D\",\"H_THREE_HTR_H\",\"H_THREE_HY\"] \n",
    "three_matches_features_no_div = [\"A_THREE_AC\",\"A_THREE_AF\",\"A_THREE_AR\",\"A_THREE_AS\",\"A_THREE_AST\",\"A_THREE_AY\",\"A_THREE_FTAG\",\"A_THREE_FTHG\",\"A_THREE_FTR_A\",\"A_THREE_FTR_D\",\"A_THREE_FTR_H\",\"A_THREE_HC\",\"A_THREE_HF\",\"A_THREE_HR\",\"A_THREE_HS\",\"A_THREE_HST\",\"A_THREE_HTAG\",\"A_THREE_HTHG\",\"A_THREE_HTR_A\",\"A_THREE_HTR_D\",\"A_THREE_HTR_H\",\"A_THREE_HY\",\"H_THREE_AC\",\"H_THREE_AF\",\"H_THREE_AR\",\"H_THREE_AS\",\"H_THREE_AST\",\"H_THREE_AY\",\"H_THREE_FTAG\",\"H_THREE_FTHG\",\"H_THREE_FTR_A\",\"H_THREE_FTR_D\",\"H_THREE_FTR_H\",\"H_THREE_HC\",\"H_THREE_HF\",\"H_THREE_HR\",\"H_THREE_HS\",\"H_THREE_HST\",\"H_THREE_HTAG\",\"H_THREE_HTHG\",\"H_THREE_HTR_A\",\"H_THREE_HTR_D\",\"H_THREE_HTR_H\",\"H_THREE_HY\"]\n",
    "five_matches_features_no_div = [\"A_FIVE_AC\",\"A_FIVE_AF\",\"A_FIVE_AR\",\"A_FIVE_AS\",\"A_FIVE_AST\",\"A_FIVE_AY\",\"A_FIVE_FTAG\",\"A_FIVE_FTHG\",\"A_FIVE_FTR_A\",\"A_FIVE_FTR_D\",\"A_FIVE_FTR_H\",\"A_FIVE_HC\",\"A_FIVE_HF\",\"A_FIVE_HR\",\"A_FIVE_HS\",\"A_FIVE_HST\",\"A_FIVE_HTAG\",\"A_FIVE_HTHG\",\"A_FIVE_HTR_A\",\"A_FIVE_HTR_D\",\"A_FIVE_HTR_H\",\"A_FIVE_HY\",\"H_FIVE_AC\",\"H_FIVE_AF\",\"H_FIVE_AR\",\"H_FIVE_AS\",\"H_FIVE_AST\",\"H_FIVE_AY\",\"H_FIVE_FTAG\",\"H_FIVE_FTHG\",\"H_FIVE_FTR_A\",\"H_FIVE_FTR_D\",\"H_FIVE_FTR_H\",\"H_FIVE_HC\",\"H_FIVE_HF\",\"H_FIVE_HR\",\"H_FIVE_HS\",\"H_FIVE_HST\",\"H_FIVE_HTAG\",\"H_FIVE_HTHG\",\"H_FIVE_HTR_A\",\"H_FIVE_HTR_D\",\"H_FIVE_HTR_H\",\"H_FIVE_HY\"]\n",
    "less_features = [\"A_FIVE_AC\",\"A_FIVE_AS\",\"A_FIVE_AST\",\"A_FIVE_FTAG\",\"A_FIVE_FTHG\",\"A_FIVE_FTR_A\",\"A_FIVE_FTR_D\",\"A_FIVE_FTR_H\",\"A_FIVE_HC\",\"A_FIVE_HS\",\"A_FIVE_HST\",\"A_FIVE_HTAG\",\"A_FIVE_HTHG\",\"A_FIVE_HTR_A\",\"A_FIVE_HTR_D\",\"A_FIVE_HTR_H\",\"H_FIVE_AC\",\"H_FIVE_AS\",\"H_FIVE_AST\",\"H_FIVE_FTAG\",\"H_FIVE_FTHG\",\"H_FIVE_FTR_A\",\"H_FIVE_FTR_D\",\"H_FIVE_FTR_H\",\"H_FIVE_HC\",\"H_FIVE_HS\",\"H_FIVE_HST\",\"H_FIVE_HTAG\",\"H_FIVE_HTHG\",\"H_FIVE_HTR_A\",\"H_FIVE_HTR_D\",\"H_FIVE_HTR_H\",\"A_THREE_AC\",\"A_THREE_AS\",\"A_THREE_AST\",\"A_THREE_FTAG\",\"A_THREE_FTHG\",\"A_THREE_FTR_A\",\"A_THREE_FTR_D\",\"A_THREE_FTR_H\",\"A_THREE_HC\",\"A_THREE_HS\",\"A_THREE_HST\",\"A_THREE_HTAG\",\"A_THREE_HTHG\",\"A_THREE_HTR_A\",\"A_THREE_HTR_D\",\"A_THREE_HTR_H\",\"H_THREE_AC\",\"H_THREE_AS\",\"H_THREE_AST\",\"H_THREE_FTAG\",\"H_THREE_FTHG\",\"H_THREE_FTR_A\",\"H_THREE_FTR_D\",\"H_THREE_FTR_H\",\"H_THREE_HC\",\"H_THREE_HS\",\"H_THREE_HST\",\"H_THREE_HTAG\",\"H_THREE_HTHG\",\"H_THREE_HTR_A\",\"H_THREE_HTR_D\",\"H_THREE_HTR_H\",\"INFO_Div\"]\n",
    "less_features_no_div = [\"A_FIVE_AC\",\"A_FIVE_AS\",\"A_FIVE_AST\",\"A_FIVE_FTAG\",\"A_FIVE_FTHG\",\"A_FIVE_FTR_A\",\"A_FIVE_FTR_D\",\"A_FIVE_FTR_H\",\"A_FIVE_HC\",\"A_FIVE_HS\",\"A_FIVE_HST\",\"A_FIVE_HTAG\",\"A_FIVE_HTHG\",\"A_FIVE_HTR_A\",\"A_FIVE_HTR_D\",\"A_FIVE_HTR_H\",\"H_FIVE_AC\",\"H_FIVE_AS\",\"H_FIVE_AST\",\"H_FIVE_FTAG\",\"H_FIVE_FTHG\",\"H_FIVE_FTR_A\",\"H_FIVE_FTR_D\",\"H_FIVE_FTR_H\",\"H_FIVE_HC\",\"H_FIVE_HS\",\"H_FIVE_HST\",\"H_FIVE_HTAG\",\"H_FIVE_HTHG\",\"H_FIVE_HTR_A\",\"H_FIVE_HTR_D\",\"H_FIVE_HTR_H\",\"A_THREE_AC\",\"A_THREE_AS\",\"A_THREE_AST\",\"A_THREE_FTAG\",\"A_THREE_FTHG\",\"A_THREE_FTR_A\",\"A_THREE_FTR_D\",\"A_THREE_FTR_H\",\"A_THREE_HC\",\"A_THREE_HS\",\"A_THREE_HST\",\"A_THREE_HTAG\",\"A_THREE_HTHG\",\"A_THREE_HTR_A\",\"A_THREE_HTR_D\",\"A_THREE_HTR_H\",\"H_THREE_AC\",\"H_THREE_AS\",\"H_THREE_AST\",\"H_THREE_FTAG\",\"H_THREE_FTHG\",\"H_THREE_FTR_A\",\"H_THREE_FTR_D\",\"H_THREE_FTR_H\",\"H_THREE_HC\",\"H_THREE_HS\",\"H_THREE_HST\",\"H_THREE_HTAG\",\"H_THREE_HTHG\",\"H_THREE_HTR_A\",\"H_THREE_HTR_D\",\"H_THREE_HTR_H\"] \n",
    "home_away_features = [\"A_FIVE_AC\",\"A_FIVE_AS\",\"A_FIVE_AST\",\"A_FIVE_FTAG\",\"A_FIVE_FTR_A\",\"A_FIVE_FTR_D\",\"A_FIVE_FTR_H\",\"A_FIVE_HTAG\",\"A_FIVE_HTR_A\",\"A_FIVE_HTR_D\",\"A_FIVE_HTR_H\",\"H_FIVE_FTHG\",\"H_FIVE_FTR_A\",\"H_FIVE_FTR_D\",\"H_FIVE_FTR_H\",\"H_FIVE_HC\",\"H_FIVE_HS\",\"H_FIVE_HST\",\"H_FIVE_HTHG\",\"H_FIVE_HTR_A\",\"H_FIVE_HTR_D\",\"H_FIVE_HTR_H\",\"A_THREE_AC\",\"A_THREE_AS\",\"A_THREE_AST\",\"A_THREE_FTAG\",\"A_THREE_FTR_A\",\"A_THREE_FTR_D\",\"A_THREE_FTR_H\",\"A_THREE_HTAG\",\"A_THREE_HTR_A\",\"A_THREE_HTR_D\",\"A_THREE_HTR_H\",\"H_THREE_FTHG\",\"H_THREE_FTR_A\",\"H_THREE_FTR_D\",\"H_THREE_FTR_H\",\"H_THREE_HC\",\"H_THREE_HS\",\"H_THREE_HST\",\"H_THREE_HTHG\",\"H_THREE_HTR_A\",\"H_THREE_HTR_D\",\"H_THREE_HTR_H\",\"INFO_Div\"]\n",
    "home_away_features_no_div = [\"A_FIVE_AC\",\"A_FIVE_AS\",\"A_FIVE_AST\",\"A_FIVE_FTAG\",\"A_FIVE_FTR_A\",\"A_FIVE_FTR_D\",\"A_FIVE_FTR_H\",\"A_FIVE_HTAG\",\"A_FIVE_HTR_A\",\"A_FIVE_HTR_D\",\"A_FIVE_HTR_H\",\"H_FIVE_FTHG\",\"H_FIVE_FTR_A\",\"H_FIVE_FTR_D\",\"H_FIVE_FTR_H\",\"H_FIVE_HC\",\"H_FIVE_HS\",\"H_FIVE_HST\",\"H_FIVE_HTHG\",\"H_FIVE_HTR_A\",\"H_FIVE_HTR_D\",\"H_FIVE_HTR_H\",\"A_THREE_AC\",\"A_THREE_AS\",\"A_THREE_AST\",\"A_THREE_FTAG\",\"A_THREE_FTR_A\",\"A_THREE_FTR_D\",\"A_THREE_FTR_H\",\"A_THREE_HTAG\",\"A_THREE_HTR_A\",\"A_THREE_HTR_D\",\"A_THREE_HTR_H\",\"H_THREE_FTHG\",\"H_THREE_FTR_A\",\"H_THREE_FTR_D\",\"H_THREE_FTR_H\",\"H_THREE_HC\",\"H_THREE_HS\",\"H_THREE_HST\",\"H_THREE_HTHG\",\"H_THREE_HTR_A\",\"H_THREE_HTR_D\",\"H_THREE_HTR_H\"]"
   ]
  },
  {
   "cell_type": "markdown",
   "metadata": {},
   "source": [
    "## Importing Data"
   ]
  },
  {
   "cell_type": "code",
   "execution_count": 4,
   "metadata": {
    "collapsed": true
   },
   "outputs": [],
   "source": [
    "# DB Sqlite connection\n",
    "import sqlite3\n",
    "db = \"/Users/thibaultclement/Project/ligue1-predict/src/notebook/data/db/soccer_predict.sqlite\"\n",
    "conn = sqlite3.connect(db)\n",
    "cur = conn.cursor()"
   ]
  },
  {
   "cell_type": "code",
   "execution_count": 5,
   "metadata": {},
   "outputs": [
    {
     "data": {
      "text/plain": [
       "(25275, 190)"
      ]
     },
     "execution_count": 5,
     "metadata": {},
     "output_type": "execute_result"
    }
   ],
   "source": [
    "# Get all prematch\n",
    "df = pd.read_sql_query(\"SELECT * FROM pre_matchs ORDER BY INFO_Date ASC;\", conn)\n",
    "df = (df[df.columns.drop(['index'])])\n",
    "df.shape"
   ]
  },
  {
   "cell_type": "code",
   "execution_count": 6,
   "metadata": {},
   "outputs": [
    {
     "data": {
      "text/plain": [
       "(18027, 190)"
      ]
     },
     "execution_count": 6,
     "metadata": {},
     "output_type": "execute_result"
    }
   ],
   "source": [
    "# Remove all game between June (include) and October (include)\n",
    "df['INFO_Date'] = pd.to_datetime(df['INFO_Date'])\n",
    "df['INFO_Date'].dt.month\n",
    "df = df[(df['INFO_Date'].dt.month < 6) | (df['INFO_Date'].dt.month > 10)]\n",
    "df.shape"
   ]
  },
  {
   "cell_type": "code",
   "execution_count": 7,
   "metadata": {},
   "outputs": [
    {
     "data": {
      "text/plain": [
       "(18027, 190)"
      ]
     },
     "execution_count": 7,
     "metadata": {},
     "output_type": "execute_result"
    }
   ],
   "source": [
    "# Remove league I don't want\n",
    "#df = df[(df['INFO_Div'] != 'E1') & (df['INFO_Div'] != 'E2') & (df['INFO_Div'] != 'SC0')]\n",
    "#df = df[(df['INFO_Div'] == 'D1')]\n",
    "#df = df[(df['INFO_Div'] == 'E0')]\n",
    "df.shape"
   ]
  },
  {
   "cell_type": "code",
   "execution_count": 8,
   "metadata": {},
   "outputs": [
    {
     "data": {
      "text/plain": [
       "4.617278024911034"
      ]
     },
     "execution_count": 8,
     "metadata": {},
     "output_type": "execute_result"
    }
   ],
   "source": [
    "# Check the average odd\n",
    "df.INFO_PSA.mean()"
   ]
  },
  {
   "cell_type": "code",
   "execution_count": 9,
   "metadata": {},
   "outputs": [
    {
     "data": {
      "text/plain": [
       "(17098, 190)"
      ]
     },
     "execution_count": 9,
     "metadata": {},
     "output_type": "execute_result"
    }
   ],
   "source": [
    "# Removing column where bet for Away Victory is too high or too low\n",
    "df = df.drop(df[df.INFO_BbAvA < 1].index)\n",
    "df = df.drop(df[df.INFO_BbAvA > 10].index)\n",
    "df.shape"
   ]
  },
  {
   "cell_type": "code",
   "execution_count": 10,
   "metadata": {},
   "outputs": [
    {
     "data": {
      "text/plain": [
       "3.8607903149976477"
      ]
     },
     "execution_count": 10,
     "metadata": {},
     "output_type": "execute_result"
    }
   ],
   "source": [
    "df.INFO_PSA.mean()"
   ]
  },
  {
   "cell_type": "code",
   "execution_count": 11,
   "metadata": {
    "collapsed": true
   },
   "outputs": [],
   "source": [
    "# Create a INFO_WIN column containing the gain. If bet success it's equal to odd -1, else -1 (lose you bet)\n",
    "df['INFO_WIN'] = df['INFO_PSA']-1\n",
    "df.loc[df.INFO_FTR != 'A', 'INFO_WIN'] = -1"
   ]
  },
  {
   "cell_type": "code",
   "execution_count": 12,
   "metadata": {},
   "outputs": [
    {
     "data": {
      "text/plain": [
       "None"
      ]
     },
     "metadata": {},
     "output_type": "display_data"
    },
    {
     "data": {
      "text/plain": [
       "H    43.426132\n",
       "A    30.196514\n",
       "D    26.377354\n",
       "Name: INFO_FTR, dtype: float64"
      ]
     },
     "metadata": {},
     "output_type": "display_data"
    }
   ],
   "source": [
    "# Statistic for Away victory odd after removing low and high odds\n",
    "display(plt.show(), 100. * df.INFO_FTR.value_counts() / len(df.INFO_FTR))"
   ]
  },
  {
   "cell_type": "code",
   "execution_count": 13,
   "metadata": {},
   "outputs": [
    {
     "data": {
      "text/plain": [
       "-0.3181480633342042"
      ]
     },
     "execution_count": 13,
     "metadata": {},
     "output_type": "execute_result"
    }
   ],
   "source": [
    "# How much did you win per match if bet on all\n",
    "df.INFO_WIN.mean()"
   ]
  },
  {
   "cell_type": "code",
   "execution_count": 14,
   "metadata": {
    "collapsed": true
   },
   "outputs": [],
   "source": [
    "# Keep season 2016/2017 for further test and don't use it for traning\n",
    "import datetime\n",
    "date_start_current_season = datetime.date(2016, 8, 1)\n",
    "df_current_season = df[(df['INFO_Date'] > date_start_current_season)]\n",
    "df = df[(df['INFO_Date'] < date_start_current_season)]"
   ]
  },
  {
   "cell_type": "code",
   "execution_count": 15,
   "metadata": {},
   "outputs": [
    {
     "data": {
      "text/plain": [
       "(2062, 191)"
      ]
     },
     "execution_count": 15,
     "metadata": {},
     "output_type": "execute_result"
    }
   ],
   "source": [
    "df_current_season.shape"
   ]
  },
  {
   "cell_type": "code",
   "execution_count": 16,
   "metadata": {
    "collapsed": true
   },
   "outputs": [],
   "source": [
    "# Prepare the dataset\n",
    "features_list = all_features\n",
    "X = pd.get_dummies(df[features_list])\n",
    "y = pd.get_dummies(df)['INFO_FTR_A'].astype('bool_')\n",
    "X_current_season = pd.get_dummies(df_current_season[features_list])\n",
    "y_current_season = pd.get_dummies(df_current_season)['INFO_FTR_A'].astype('bool_')"
   ]
  },
  {
   "cell_type": "markdown",
   "metadata": {},
   "source": [
    "## Preprocessing Data"
   ]
  },
  {
   "cell_type": "code",
   "execution_count": 17,
   "metadata": {
    "collapsed": true
   },
   "outputs": [],
   "source": [
    "# Standardize features\n",
    "from sklearn.preprocessing import StandardScaler\n",
    "sc_X = StandardScaler().fit(X)\n",
    "X = sc_X.transform(X)\n",
    "X_current_season = sc_X.transform(X_current_season)"
   ]
  },
  {
   "cell_type": "code",
   "execution_count": 18,
   "metadata": {
    "collapsed": true
   },
   "outputs": [],
   "source": [
    "# Impute of missing values (NaN) with the mean\n",
    "from sklearn.preprocessing import Imputer\n",
    "imp = Imputer(missing_values='NaN', strategy='mean', axis=0)\n",
    "imp = imp.fit(X)\n",
    "X = imp.transform(X)\n",
    "X_current_season = imp.transform(X_current_season)"
   ]
  },
  {
   "cell_type": "code",
   "execution_count": 19,
   "metadata": {
    "collapsed": true
   },
   "outputs": [],
   "source": [
    "# Split the dataset into the Training set and Test set\n",
    "from sklearn.model_selection import train_test_split\n",
    "X_train, X_test, y_train, y_test = train_test_split(X, y, test_size=0.3, random_state = 0)"
   ]
  },
  {
   "cell_type": "code",
   "execution_count": 20,
   "metadata": {
    "collapsed": true
   },
   "outputs": [],
   "source": [
    "# Import Naive Bayes Classifier\n",
    "from sklearn.naive_bayes import GaussianNB\n",
    "from sklearn.model_selection import cross_val_score\n",
    "classifier = GaussianNB()"
   ]
  },
  {
   "cell_type": "markdown",
   "metadata": {},
   "source": [
    "## Tuning Hyper-parameters"
   ]
  },
  {
   "cell_type": "code",
   "execution_count": 21,
   "metadata": {},
   "outputs": [
    {
     "data": {
      "text/plain": [
       "-1.6350332680301165"
      ]
     },
     "execution_count": 21,
     "metadata": {},
     "output_type": "execute_result"
    }
   ],
   "source": [
    "# Applying Grid Search to find the best hyper-parameters for our Model\n",
    "from sklearn.model_selection import GridSearchCV\n",
    "from sklearn.metrics.classification import log_loss\n",
    "from sklearn.metrics import make_scorer\n",
    "\n",
    "parameters = [{}]\n",
    "grid_search = GridSearchCV(estimator=classifier,\n",
    "                          param_grid=parameters,\n",
    "                          scoring='neg_log_loss',\n",
    "                          cv=8,\n",
    "                          n_jobs=-1)\n",
    "grid_search.fit(X_train, y_train)\n",
    "best_score = grid_search.best_score_\n",
    "best_score"
   ]
  },
  {
   "cell_type": "code",
   "execution_count": 22,
   "metadata": {},
   "outputs": [
    {
     "data": {
      "text/plain": [
       "{}"
      ]
     },
     "execution_count": 22,
     "metadata": {},
     "output_type": "execute_result"
    }
   ],
   "source": [
    "# Extract best hyper-parameter calculated with the GridSearchCV\n",
    "best_params = grid_search.best_params_\n",
    "best_params"
   ]
  },
  {
   "cell_type": "markdown",
   "metadata": {},
   "source": [
    "## Evaluating Model"
   ]
  },
  {
   "cell_type": "code",
   "execution_count": 23,
   "metadata": {},
   "outputs": [
    {
     "data": {
      "text/plain": [
       "GaussianNB(priors=None)"
      ]
     },
     "execution_count": 23,
     "metadata": {},
     "output_type": "execute_result"
    }
   ],
   "source": [
    "# Train a new classifier using the best parameters found by the grid search\n",
    "clf = GaussianNB()\n",
    "clf.fit(X_train, y_train)"
   ]
  },
  {
   "cell_type": "code",
   "execution_count": 24,
   "metadata": {
    "collapsed": true
   },
   "outputs": [],
   "source": [
    "# Predict target values\n",
    "y_pred = clf.predict(X_test)"
   ]
  },
  {
   "cell_type": "code",
   "execution_count": 25,
   "metadata": {
    "collapsed": true
   },
   "outputs": [],
   "source": [
    "# Predict probabilities\n",
    "y_probs = clf.predict_proba(X_test)"
   ]
  },
  {
   "cell_type": "code",
   "execution_count": 26,
   "metadata": {},
   "outputs": [
    {
     "data": {
      "text/plain": [
       "(0.38871667699938006, 0.47213855421686746, 0.42638558313498814, None)"
      ]
     },
     "execution_count": 26,
     "metadata": {},
     "output_type": "execute_result"
    }
   ],
   "source": [
    "# Compute precision, recall, F-measure and support\n",
    "from sklearn.metrics import precision_recall_fscore_support\n",
    "precision_recall_fscore_support(y_test, y_pred, average='binary')"
   ]
  },
  {
   "cell_type": "code",
   "execution_count": 27,
   "metadata": {},
   "outputs": [
    {
     "data": {
      "text/html": [
       "<div>\n",
       "<style>\n",
       "    .dataframe thead tr:only-child th {\n",
       "        text-align: right;\n",
       "    }\n",
       "\n",
       "    .dataframe thead th {\n",
       "        text-align: left;\n",
       "    }\n",
       "\n",
       "    .dataframe tbody tr th {\n",
       "        vertical-align: top;\n",
       "    }\n",
       "</style>\n",
       "<table border=\"1\" class=\"dataframe\">\n",
       "  <thead>\n",
       "    <tr style=\"text-align: right;\">\n",
       "      <th>Predicted</th>\n",
       "      <th>False</th>\n",
       "      <th>True</th>\n",
       "      <th>All</th>\n",
       "    </tr>\n",
       "    <tr>\n",
       "      <th>Actual</th>\n",
       "      <th></th>\n",
       "      <th></th>\n",
       "      <th></th>\n",
       "    </tr>\n",
       "  </thead>\n",
       "  <tbody>\n",
       "    <tr>\n",
       "      <th>False</th>\n",
       "      <td>2197</td>\n",
       "      <td>986</td>\n",
       "      <td>3183</td>\n",
       "    </tr>\n",
       "    <tr>\n",
       "      <th>True</th>\n",
       "      <td>701</td>\n",
       "      <td>627</td>\n",
       "      <td>1328</td>\n",
       "    </tr>\n",
       "    <tr>\n",
       "      <th>All</th>\n",
       "      <td>2898</td>\n",
       "      <td>1613</td>\n",
       "      <td>4511</td>\n",
       "    </tr>\n",
       "  </tbody>\n",
       "</table>\n",
       "</div>"
      ],
      "text/plain": [
       "Predicted  False  True   All\n",
       "Actual                      \n",
       "False       2197   986  3183\n",
       "True         701   627  1328\n",
       "All         2898  1613  4511"
      ]
     },
     "execution_count": 27,
     "metadata": {},
     "output_type": "execute_result"
    }
   ],
   "source": [
    "# Compute the confusion Matrix\n",
    "df_confusion = pd.crosstab(y_test, y_pred, rownames=['Actual'], colnames=['Predicted'], margins=True)\n",
    "df_confusion"
   ]
  },
  {
   "cell_type": "code",
   "execution_count": 28,
   "metadata": {},
   "outputs": [
    {
     "data": {
      "image/png": "[encoded data removed]",
      "text/plain": [
       "<matplotlib.figure.Figure at 0x10daf1e10>"
      ]
     },
     "metadata": {},
     "output_type": "display_data"
    }
   ],
   "source": [
    "# Plot a ROC curve\n",
    "from sklearn.metrics import roc_curve, auc\n",
    "false_positive_rate, true_positive_rate, thresholds = roc_curve(y_test.ravel(), y_probs[:, 1].ravel())\n",
    "roc_auc = auc(false_positive_rate, true_positive_rate)\n",
    "plt.title('ROC')\n",
    "plt.plot(false_positive_rate, true_positive_rate, 'b',\n",
    "label='AUC = %0.2f'% roc_auc)\n",
    "plt.legend(loc='lower right')\n",
    "plt.plot([0,1],[0,1],'r--')\n",
    "plt.xlim([-0.1,1.2])\n",
    "plt.ylim([-0.1,1.2])\n",
    "plt.ylabel('True Positive Rate')\n",
    "plt.xlabel('False Positive Rate')\n",
    "plt.show()"
   ]
  },
  {
   "cell_type": "code",
   "execution_count": 29,
   "metadata": {
    "scrolled": false
   },
   "outputs": [
    {
     "data": {
      "image/png": "[encoded data removed]",
      "text/plain": [
       "<matplotlib.figure.Figure at 0x10d6fbad0>"
      ]
     },
     "metadata": {},
     "output_type": "display_data"
    }
   ],
   "source": [
    "# Plot a leqrning curve\n",
    "from sklearn.datasets import load_digits\n",
    "from sklearn.model_selection import learning_curve\n",
    "from sklearn.model_selection import ShuffleSplit\n",
    "\n",
    "\n",
    "def plot_learning_curve(estimator, title, X, y, ylim=None, cv=None,\n",
    "                        n_jobs=1, train_sizes=np.linspace(.1, 1.0, 5)):\n",
    "    plt.figure()\n",
    "    plt.title(title)\n",
    "    if ylim is not None:\n",
    "        plt.ylim(*ylim)\n",
    "    plt.xlabel(\"Training examples\")\n",
    "    plt.ylabel(\"Score\")\n",
    "    train_sizes, train_scores, test_scores = learning_curve(\n",
    "        estimator, X, y, cv=cv, n_jobs=n_jobs, train_sizes=train_sizes, scoring='f1')\n",
    "    train_scores_mean = np.mean(train_scores, axis=1)\n",
    "    train_scores_std = np.std(train_scores, axis=1)\n",
    "    test_scores_mean = np.mean(test_scores, axis=1)\n",
    "    test_scores_std = np.std(test_scores, axis=1)\n",
    "    plt.grid()\n",
    "\n",
    "    plt.fill_between(train_sizes, train_scores_mean - train_scores_std,\n",
    "                     train_scores_mean + train_scores_std, alpha=0.1,\n",
    "                     color=\"r\")\n",
    "    plt.fill_between(train_sizes, test_scores_mean - test_scores_std,\n",
    "                     test_scores_mean + test_scores_std, alpha=0.1, color=\"g\")\n",
    "    plt.plot(train_sizes, train_scores_mean, 'o-', color=\"r\",\n",
    "             label=\"Training score\")\n",
    "    plt.plot(train_sizes, test_scores_mean, 'o-', color=\"g\",\n",
    "             label=\"Cross-validation score\")\n",
    "\n",
    "    plt.legend(loc=\"best\")\n",
    "    return plt\n",
    "\n",
    "plot_learning_curve(clf, 'Learning Curve', X, y, cv=4, n_jobs=-1).show()\n",
    "plt.show()"
   ]
  },
  {
   "cell_type": "markdown",
   "metadata": {},
   "source": [
    "# ALL DATASET TEST"
   ]
  },
  {
   "cell_type": "code",
   "execution_count": 30,
   "metadata": {
    "collapsed": true
   },
   "outputs": [],
   "source": [
    "# Apply on all the dataset\n",
    "X_pred = clf.predict(X)\n",
    "df['pred'] = X_pred\n",
    "df_bet_away = df.drop(df[df.pred == 0].index)"
   ]
  },
  {
   "cell_type": "code",
   "execution_count": 31,
   "metadata": {},
   "outputs": [
    {
     "data": {
      "text/plain": [
       "(5486, 192)"
      ]
     },
     "execution_count": 31,
     "metadata": {},
     "output_type": "execute_result"
    }
   ],
   "source": [
    "# How many Away victory bet I did on Away Victory on all dataset\n",
    "df_bet_away.shape"
   ]
  },
  {
   "cell_type": "code",
   "execution_count": 32,
   "metadata": {},
   "outputs": [
    {
     "data": {
      "text/plain": [
       "None"
      ]
     },
     "metadata": {},
     "output_type": "display_data"
    },
    {
     "data": {
      "text/plain": [
       "A    39.537003\n",
       "H    33.047758\n",
       "D    27.415239\n",
       "Name: INFO_FTR, dtype: float64"
      ]
     },
     "metadata": {},
     "output_type": "display_data"
    }
   ],
   "source": [
    "# What will be the real result of what I bet Home victory on all dataset\n",
    "display(plt.show(), 100. * df_bet_away.INFO_FTR.value_counts() / len(df_bet_away.INFO_FTR))"
   ]
  },
  {
   "cell_type": "code",
   "execution_count": 33,
   "metadata": {},
   "outputs": [
    {
     "data": {
      "text/plain": [
       "(0.39537003281079108, 0.47891366747626407, 0.43315027458811778, None)"
      ]
     },
     "execution_count": 33,
     "metadata": {},
     "output_type": "execute_result"
    }
   ],
   "source": [
    "# Score for all dataset\n",
    "precision_recall_fscore_support(y, X_pred, average='binary') "
   ]
  },
  {
   "cell_type": "code",
   "execution_count": 34,
   "metadata": {},
   "outputs": [
    {
     "data": {
      "text/html": [
       "<div>\n",
       "<style>\n",
       "    .dataframe thead tr:only-child th {\n",
       "        text-align: right;\n",
       "    }\n",
       "\n",
       "    .dataframe thead th {\n",
       "        text-align: left;\n",
       "    }\n",
       "\n",
       "    .dataframe tbody tr th {\n",
       "        vertical-align: top;\n",
       "    }\n",
       "</style>\n",
       "<table border=\"1\" class=\"dataframe\">\n",
       "  <thead>\n",
       "    <tr style=\"text-align: right;\">\n",
       "      <th>Predicted</th>\n",
       "      <th>False</th>\n",
       "      <th>True</th>\n",
       "      <th>All</th>\n",
       "    </tr>\n",
       "    <tr>\n",
       "      <th>Actual</th>\n",
       "      <th></th>\n",
       "      <th></th>\n",
       "      <th></th>\n",
       "    </tr>\n",
       "  </thead>\n",
       "  <tbody>\n",
       "    <tr>\n",
       "      <th>False</th>\n",
       "      <td>7190</td>\n",
       "      <td>3317</td>\n",
       "      <td>10507</td>\n",
       "    </tr>\n",
       "    <tr>\n",
       "      <th>True</th>\n",
       "      <td>2360</td>\n",
       "      <td>2169</td>\n",
       "      <td>4529</td>\n",
       "    </tr>\n",
       "    <tr>\n",
       "      <th>All</th>\n",
       "      <td>9550</td>\n",
       "      <td>5486</td>\n",
       "      <td>15036</td>\n",
       "    </tr>\n",
       "  </tbody>\n",
       "</table>\n",
       "</div>"
      ],
      "text/plain": [
       "Predicted  False  True    All\n",
       "Actual                       \n",
       "False       7190  3317  10507\n",
       "True        2360  2169   4529\n",
       "All         9550  5486  15036"
      ]
     },
     "execution_count": 34,
     "metadata": {},
     "output_type": "execute_result"
    }
   ],
   "source": [
    "# Making the confusion Matrix\n",
    "df_confusion = pd.crosstab(y, X_pred, rownames=['Actual'], colnames=['Predicted'], margins=True)\n",
    "df_confusion"
   ]
  },
  {
   "cell_type": "code",
   "execution_count": 35,
   "metadata": {},
   "outputs": [
    {
     "data": {
      "text/plain": [
       "-0.30996678096870867"
      ]
     },
     "execution_count": 35,
     "metadata": {},
     "output_type": "execute_result"
    }
   ],
   "source": [
    "df_bet_away.INFO_WIN.mean()"
   ]
  },
  {
   "cell_type": "markdown",
   "metadata": {},
   "source": [
    "# SEASON 2016/2017 TEST"
   ]
  },
  {
   "cell_type": "code",
   "execution_count": 36,
   "metadata": {
    "collapsed": true
   },
   "outputs": [],
   "source": [
    "# Apply on current season that is not use for train and test set\n",
    "X_pred_current_season = clf.predict(X_current_season)\n",
    "df_current_season['pred'] = X_pred_current_season\n",
    "#df_bet_away_current_season = df_current_season.drop(df_current_season[df_current_season.pred == 0].index)\n",
    "X_prob_current_season = clf.predict_proba(X_current_season)\n",
    "df_current_season['prob'] = X_prob_current_season[:,1:]\n",
    "df_current_season['prob_less_bet'] = df_current_season['prob'] - df_current_season['INFO_BbAvA'].apply(lambda x: 1/x)\n",
    "df_bet_away_current_season = df_current_season[df_current_season.prob_less_bet > 0.2]\n",
    "df_bet_away_current_season = df_bet_away_current_season[df_bet_away_current_season.INFO_BbAvA > 2]\n",
    "df_bet_away_current_season = df_bet_away_current_season[df_bet_away_current_season.INFO_BbAvA < 4]"
   ]
  },
  {
   "cell_type": "code",
   "execution_count": 37,
   "metadata": {},
   "outputs": [
    {
     "data": {
      "text/plain": [
       "(459, 194)"
      ]
     },
     "execution_count": 37,
     "metadata": {},
     "output_type": "execute_result"
    }
   ],
   "source": [
    "# How many Away victory bet I did on Away Victory\n",
    "df_bet_away_current_season.shape"
   ]
  },
  {
   "cell_type": "code",
   "execution_count": 38,
   "metadata": {},
   "outputs": [
    {
     "data": {
      "text/plain": [
       "(2062,)"
      ]
     },
     "execution_count": 38,
     "metadata": {},
     "output_type": "execute_result"
    }
   ],
   "source": [
    "X_pred_current_season.shape"
   ]
  },
  {
   "cell_type": "code",
   "execution_count": 39,
   "metadata": {},
   "outputs": [
    {
     "data": {
      "text/plain": [
       "None"
      ]
     },
     "metadata": {},
     "output_type": "display_data"
    },
    {
     "data": {
      "text/plain": [
       "H    38.779956\n",
       "A    35.729847\n",
       "D    25.490196\n",
       "Name: INFO_FTR, dtype: float64"
      ]
     },
     "metadata": {},
     "output_type": "display_data"
    }
   ],
   "source": [
    "# What will be the real result of what I bet Away victory\n",
    "display(plt.show(), 100. * df_bet_away_current_season.INFO_FTR.value_counts() / len(df_bet_away_current_season.INFO_FTR))"
   ]
  },
  {
   "cell_type": "code",
   "execution_count": 40,
   "metadata": {},
   "outputs": [
    {
     "data": {
      "text/plain": [
       "(0.44542032622333749, 0.55993690851735012, 0.49615653389238296, None)"
      ]
     },
     "execution_count": 40,
     "metadata": {},
     "output_type": "execute_result"
    }
   ],
   "source": [
    "# Score for this current season\n",
    "precision_recall_fscore_support(y_current_season, X_pred_current_season, average='binary') "
   ]
  },
  {
   "cell_type": "code",
   "execution_count": 41,
   "metadata": {},
   "outputs": [
    {
     "data": {
      "text/html": [
       "<div>\n",
       "<style>\n",
       "    .dataframe thead tr:only-child th {\n",
       "        text-align: right;\n",
       "    }\n",
       "\n",
       "    .dataframe thead th {\n",
       "        text-align: left;\n",
       "    }\n",
       "\n",
       "    .dataframe tbody tr th {\n",
       "        vertical-align: top;\n",
       "    }\n",
       "</style>\n",
       "<table border=\"1\" class=\"dataframe\">\n",
       "  <thead>\n",
       "    <tr style=\"text-align: right;\">\n",
       "      <th>Predicted</th>\n",
       "      <th>False</th>\n",
       "      <th>True</th>\n",
       "      <th>All</th>\n",
       "    </tr>\n",
       "    <tr>\n",
       "      <th>Actual</th>\n",
       "      <th></th>\n",
       "      <th></th>\n",
       "      <th></th>\n",
       "    </tr>\n",
       "  </thead>\n",
       "  <tbody>\n",
       "    <tr>\n",
       "      <th>False</th>\n",
       "      <td>986</td>\n",
       "      <td>442</td>\n",
       "      <td>1428</td>\n",
       "    </tr>\n",
       "    <tr>\n",
       "      <th>True</th>\n",
       "      <td>279</td>\n",
       "      <td>355</td>\n",
       "      <td>634</td>\n",
       "    </tr>\n",
       "    <tr>\n",
       "      <th>All</th>\n",
       "      <td>1265</td>\n",
       "      <td>797</td>\n",
       "      <td>2062</td>\n",
       "    </tr>\n",
       "  </tbody>\n",
       "</table>\n",
       "</div>"
      ],
      "text/plain": [
       "Predicted  False  True   All\n",
       "Actual                      \n",
       "False        986   442  1428\n",
       "True         279   355   634\n",
       "All         1265   797  2062"
      ]
     },
     "execution_count": 41,
     "metadata": {},
     "output_type": "execute_result"
    }
   ],
   "source": [
    "# Making the confusion Matrix\n",
    "df_confusion = pd.crosstab(y_current_season, X_pred_current_season, rownames=['Actual'], colnames=['Predicted'], margins=True)\n",
    "df_confusion"
   ]
  },
  {
   "cell_type": "code",
   "execution_count": 42,
   "metadata": {},
   "outputs": [
    {
     "data": {
      "text/plain": [
       "0.006840958605664485"
      ]
     },
     "execution_count": 42,
     "metadata": {},
     "output_type": "execute_result"
    }
   ],
   "source": [
    "df_bet_away_current_season.INFO_WIN.mean()"
   ]
  },
  {
   "cell_type": "code",
   "execution_count": 43,
   "metadata": {},
   "outputs": [
    {
     "data": {
      "text/plain": [
       "-0.29652885097842363"
      ]
     },
     "execution_count": 43,
     "metadata": {},
     "output_type": "execute_result"
    }
   ],
   "source": [
    "X_prob = clf.predict_proba(X)\n",
    "df['prob'] = X_prob[:,1:]\n",
    "df['prob_less_bet'] = df['prob'] - df['INFO_BbAvA'].apply(lambda x: 1/x)\n",
    "df_bet_prod_away = df[df.prob_less_bet > 0.2]\n",
    "df_bet_prod_away = df_bet_prod_away[df_bet_prod_away.INFO_BbAvA > 1]\n",
    "df_bet_prod_away = df_bet_prod_away[df_bet_prod_away.INFO_BbAvA < 4]\n",
    "df_bet_prod_away.INFO_WIN.mean()"
   ]
  },
  {
   "cell_type": "code",
   "execution_count": null,
   "metadata": {
    "collapsed": true
   },
   "outputs": [],
   "source": []
  }
 ],
 "metadata": {
  "kernelspec": {
   "display_name": "Python 2",
   "language": "python",
   "name": "python2"
  },
  "language_info": {
   "codemirror_mode": {
    "name": "ipython",
    "version": 2
   },
   "file_extension": ".py",
   "mimetype": "text/x-python",
   "name": "python",
   "nbconvert_exporter": "python",
   "pygments_lexer": "ipython2",
   "version": "2.7.13"
  }
 },
 "nbformat": 4,
 "nbformat_minor": 2
}
