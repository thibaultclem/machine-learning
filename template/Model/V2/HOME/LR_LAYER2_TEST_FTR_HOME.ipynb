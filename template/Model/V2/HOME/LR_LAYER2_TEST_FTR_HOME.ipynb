{
 "cells": [
  {
   "cell_type": "code",
   "execution_count": 1,
   "metadata": {
    "collapsed": true
   },
   "outputs": [],
   "source": [
    "# Importing the library\n",
    "import numpy as np # linear algebra\n",
    "import pandas as pd # data processing, CSV file I/O\n",
    "import matplotlib.pyplot as plt # plotting library\n",
    "import seaborn as sns # visualization library based on matplotlib\n",
    "from IPython.display import display # Manage multiple output per cell\n",
    "import datetime"
   ]
  },
  {
   "cell_type": "code",
   "execution_count": 2,
   "metadata": {},
   "outputs": [],
   "source": [
    "X_train = pd.DataFrame.from_csv('./TEST_LAYER3_X.csv')\n",
    "y_train = pd.DataFrame.from_csv('./TEST_LAYER3_y.csv')['PRED']"
   ]
  },
  {
   "cell_type": "code",
   "execution_count": 40,
   "metadata": {},
   "outputs": [
    {
     "name": "stdout",
     "output_type": "stream",
     "text": [
      "Fitting 8 folds for each of 11 candidates, totalling 88 fits\n"
     ]
    },
    {
     "name": "stderr",
     "output_type": "stream",
     "text": [
      "/anaconda/lib/python2.7/site-packages/sklearn/externals/joblib/parallel.py:540: UserWarning: Multiprocessing-backed parallel loops cannot be nested, setting n_jobs=1\n",
      "  **self._backend_args)\n",
      "/anaconda/lib/python2.7/site-packages/sklearn/externals/joblib/parallel.py:540: UserWarning: Multiprocessing-backed parallel loops cannot be nested, setting n_jobs=1\n",
      "  **self._backend_args)\n",
      "/anaconda/lib/python2.7/site-packages/sklearn/externals/joblib/parallel.py:540: UserWarning: Multiprocessing-backed parallel loops cannot be nested, setting n_jobs=1\n",
      "  **self._backend_args)\n",
      "/anaconda/lib/python2.7/site-packages/sklearn/externals/joblib/parallel.py:540: UserWarning: Multiprocessing-backed parallel loops cannot be nested, setting n_jobs=1\n",
      "  **self._backend_args)\n",
      "[Parallel(n_jobs=-1)]: Done  65 tasks      | elapsed:    1.5s\n",
      "[Parallel(n_jobs=-1)]: Done  81 out of  88 | elapsed:    1.9s remaining:    0.2s\n",
      "[Parallel(n_jobs=-1)]: Done  88 out of  88 | elapsed:    1.9s finished\n"
     ]
    },
    {
     "data": {
      "text/plain": [
       "2.3879599571228027"
      ]
     },
     "execution_count": 40,
     "metadata": {},
     "output_type": "execute_result"
    }
   ],
   "source": [
    "# Import model\n",
    "from sklearn.linear_model import LogisticRegression\n",
    "from sklearn.model_selection import cross_val_score\n",
    "classifier = LogisticRegression(random_state=0,n_jobs=-1)\n",
    "\n",
    "# Applying Grid Search to find the best hyper-parameters for our Model\n",
    "from sklearn.model_selection import GridSearchCV\n",
    "from sklearn.metrics.classification import log_loss\n",
    "from sklearn.metrics import make_scorer\n",
    "import time\n",
    "\n",
    "start = time.time()\n",
    "\n",
    "parameters = [{\n",
    "    'penalty': ['l1', 'l2'],\n",
    "    'C': [0.01, 0.1, 1],\n",
    "    'solver': ['liblinear']\n",
    "},\n",
    "{\n",
    "    'penalty': ['l2'],\n",
    "    'C': [0.01, 0.1, 1],\n",
    "    'solver': ['sag', 'lbfgs']\n",
    "}]\n",
    "# {'C': 1, 'penalty': 'l2', 'solver': 'lbfgs'}\n",
    "parameters = [{\n",
    "    'penalty': ['l2'],\n",
    "    'C': [1, 2, 3, 5, 10],\n",
    "    'solver': ['lbfgs']\n",
    "}]\n",
    "# {'C': 1, 'penalty': 'l2', 'solver': 'lbfgs'}\n",
    "parameters = [{\n",
    "    'penalty': ['l2'],\n",
    "    'C': [0.5, 0.6, 0.7, 0.8, 0.9, 1, 1.1, 1.2, 1.3, 1.4, 1.5],\n",
    "    'solver': ['lbfgs']\n",
    "}]\n",
    "grid_search = GridSearchCV(estimator=classifier,\n",
    "                           param_grid=parameters,\n",
    "                           scoring='f1',\n",
    "                           cv=8,\n",
    "                           n_jobs=-1,\n",
    "                           verbose=1)\n",
    "grid_search.fit(X_train, y_train)\n",
    "\n",
    "time.time() - start"
   ]
  },
  {
   "cell_type": "code",
   "execution_count": 30,
   "metadata": {},
   "outputs": [
    {
     "name": "stdout",
     "output_type": "stream",
     "text": [
      "Fitting 8 folds for each of 5 candidates, totalling 40 fits\n"
     ]
    },
    {
     "name": "stderr",
     "output_type": "stream",
     "text": [
      "[Parallel(n_jobs=-1)]: Done  40 out of  40 | elapsed:    0.4s finished\n"
     ]
    },
    {
     "data": {
      "text/plain": [
       "0.6926648616790771"
      ]
     },
     "execution_count": 30,
     "metadata": {},
     "output_type": "execute_result"
    }
   ],
   "source": [
    "# Import model\n",
    "from sklearn.linear_model import SGDClassifier\n",
    "from sklearn.model_selection import cross_val_score\n",
    "classifier = SGDClassifier(random_state=0)\n",
    "\n",
    "# Applying Grid Search to find the best hyper-parameters for our Model\n",
    "from sklearn.model_selection import GridSearchCV\n",
    "from sklearn.metrics.classification import log_loss\n",
    "from sklearn.metrics import make_scorer\n",
    "import time\n",
    "\n",
    "start = time.time()\n",
    "\n",
    "parameters = [{'penalty': ['elasticnet'],\n",
    "               'loss': ['log', 'modified_huber', 'perceptron'],\n",
    "               'alpha': [0.00003, 0.0001, 0.0003, 0.001],\n",
    "               'l1_ratio': [0.15, 0.30, 0.50, 0.75]\n",
    "              }]\n",
    "# {'alpha': 0.001, 'l1_ratio': 0.15, 'loss': 'log', 'penalty': 'elasticnet'}\n",
    "parameters = [{'penalty': ['elasticnet'],\n",
    "               'loss': ['log'],\n",
    "               'alpha': [0.0003, 0.0004, 0.0005, 0.0006, 0.0007],\n",
    "               'l1_ratio': [0.15, 0.30, 0.50, 0.75]\n",
    "              }]\n",
    "# {'alpha': 0.0005, 'l1_ratio': 0.3, 'loss': 'log', 'penalty': 'elasticnet'}\n",
    "parameters = [{'penalty': ['elasticnet'],\n",
    "               'loss': ['log'],\n",
    "               'alpha': [0.0005],\n",
    "               'l1_ratio': [0.15, 0.20, 0.25, 0.30, 0.35, 0.4]\n",
    "              }]\n",
    "# {'alpha': 0.0005, 'l1_ratio': 0.4, 'loss': 'log', 'penalty': 'elasticnet'}\n",
    "parameters = [{'penalty': ['elasticnet'],\n",
    "               'loss': ['log'],\n",
    "               'alpha': [0.0005],\n",
    "               'l1_ratio': [0.30, 0.35, 0.4, 0.45, 0.5]\n",
    "              }]\n",
    "# {'alpha': 0.0005, 'l1_ratio': 0.4, 'loss': 'log', 'penalty': 'elasticnet'}\n",
    "grid_search = GridSearchCV(estimator=classifier,\n",
    "                           param_grid=parameters,\n",
    "                           scoring='f1',\n",
    "                           cv=8,\n",
    "                           n_jobs=-1,\n",
    "                           verbose=1)\n",
    "grid_search.fit(X_train, y_train)\n",
    "\n",
    "time.time() - start"
   ]
  },
  {
   "cell_type": "code",
   "execution_count": 31,
   "metadata": {},
   "outputs": [
    {
     "data": {
      "text/plain": [
       "0.51653944535334417"
      ]
     },
     "metadata": {},
     "output_type": "display_data"
    }
   ],
   "source": [
    "# Extract best score calculated with the GridSearchCV\n",
    "best_score = grid_search.best_score_\n",
    "display(best_score)"
   ]
  },
  {
   "cell_type": "code",
   "execution_count": 32,
   "metadata": {},
   "outputs": [
    {
     "data": {
      "text/plain": [
       "{'alpha': 0.0005, 'l1_ratio': 0.4, 'loss': 'log', 'penalty': 'elasticnet'}"
      ]
     },
     "execution_count": 32,
     "metadata": {},
     "output_type": "execute_result"
    }
   ],
   "source": [
    "# Extract best hyper-parameter calculated with the GridSearchCV\n",
    "best_params = grid_search.best_params_\n",
    "best_params"
   ]
  },
  {
   "cell_type": "code",
   "execution_count": 33,
   "metadata": {
    "scrolled": false
   },
   "outputs": [
    {
     "data": {
      "text/html": [
       "<div>\n",
       "<style>\n",
       "    .dataframe thead tr:only-child th {\n",
       "        text-align: right;\n",
       "    }\n",
       "\n",
       "    .dataframe thead th {\n",
       "        text-align: left;\n",
       "    }\n",
       "\n",
       "    .dataframe tbody tr th {\n",
       "        vertical-align: top;\n",
       "    }\n",
       "</style>\n",
       "<table border=\"1\" class=\"dataframe\">\n",
       "  <thead>\n",
       "    <tr style=\"text-align: right;\">\n",
       "      <th></th>\n",
       "      <th>mean_fit_time</th>\n",
       "      <th>mean_score_time</th>\n",
       "      <th>mean_test_score</th>\n",
       "      <th>mean_train_score</th>\n",
       "      <th>param_alpha</th>\n",
       "      <th>param_l1_ratio</th>\n",
       "      <th>param_loss</th>\n",
       "      <th>param_penalty</th>\n",
       "      <th>params</th>\n",
       "      <th>rank_test_score</th>\n",
       "      <th>...</th>\n",
       "      <th>split5_test_score</th>\n",
       "      <th>split5_train_score</th>\n",
       "      <th>split6_test_score</th>\n",
       "      <th>split6_train_score</th>\n",
       "      <th>split7_test_score</th>\n",
       "      <th>split7_train_score</th>\n",
       "      <th>std_fit_time</th>\n",
       "      <th>std_score_time</th>\n",
       "      <th>std_test_score</th>\n",
       "      <th>std_train_score</th>\n",
       "    </tr>\n",
       "  </thead>\n",
       "  <tbody>\n",
       "    <tr>\n",
       "      <th>0</th>\n",
       "      <td>0.020231</td>\n",
       "      <td>0.011072</td>\n",
       "      <td>0.516459</td>\n",
       "      <td>0.513344</td>\n",
       "      <td>0.0005</td>\n",
       "      <td>0.3</td>\n",
       "      <td>log</td>\n",
       "      <td>elasticnet</td>\n",
       "      <td>{u'penalty': u'elasticnet', u'alpha': 0.0005, ...</td>\n",
       "      <td>3</td>\n",
       "      <td>...</td>\n",
       "      <td>0.529595</td>\n",
       "      <td>0.535808</td>\n",
       "      <td>0.566273</td>\n",
       "      <td>0.571314</td>\n",
       "      <td>0.518092</td>\n",
       "      <td>0.487032</td>\n",
       "      <td>0.010110</td>\n",
       "      <td>0.012592</td>\n",
       "      <td>0.038887</td>\n",
       "      <td>0.038705</td>\n",
       "    </tr>\n",
       "    <tr>\n",
       "      <th>1</th>\n",
       "      <td>0.014590</td>\n",
       "      <td>0.001558</td>\n",
       "      <td>0.516535</td>\n",
       "      <td>0.513247</td>\n",
       "      <td>0.0005</td>\n",
       "      <td>0.35</td>\n",
       "      <td>log</td>\n",
       "      <td>elasticnet</td>\n",
       "      <td>{u'penalty': u'elasticnet', u'alpha': 0.0005, ...</td>\n",
       "      <td>2</td>\n",
       "      <td>...</td>\n",
       "      <td>0.529595</td>\n",
       "      <td>0.535590</td>\n",
       "      <td>0.566273</td>\n",
       "      <td>0.571343</td>\n",
       "      <td>0.518092</td>\n",
       "      <td>0.486908</td>\n",
       "      <td>0.003434</td>\n",
       "      <td>0.000117</td>\n",
       "      <td>0.038416</td>\n",
       "      <td>0.038765</td>\n",
       "    </tr>\n",
       "    <tr>\n",
       "      <th>2</th>\n",
       "      <td>0.012783</td>\n",
       "      <td>0.001598</td>\n",
       "      <td>0.516539</td>\n",
       "      <td>0.513189</td>\n",
       "      <td>0.0005</td>\n",
       "      <td>0.4</td>\n",
       "      <td>log</td>\n",
       "      <td>elasticnet</td>\n",
       "      <td>{u'penalty': u'elasticnet', u'alpha': 0.0005, ...</td>\n",
       "      <td>1</td>\n",
       "      <td>...</td>\n",
       "      <td>0.530739</td>\n",
       "      <td>0.535270</td>\n",
       "      <td>0.565489</td>\n",
       "      <td>0.571543</td>\n",
       "      <td>0.516872</td>\n",
       "      <td>0.486844</td>\n",
       "      <td>0.003149</td>\n",
       "      <td>0.000110</td>\n",
       "      <td>0.038159</td>\n",
       "      <td>0.038934</td>\n",
       "    </tr>\n",
       "    <tr>\n",
       "      <th>3</th>\n",
       "      <td>0.011281</td>\n",
       "      <td>0.001642</td>\n",
       "      <td>0.515751</td>\n",
       "      <td>0.513162</td>\n",
       "      <td>0.0005</td>\n",
       "      <td>0.45</td>\n",
       "      <td>log</td>\n",
       "      <td>elasticnet</td>\n",
       "      <td>{u'penalty': u'elasticnet', u'alpha': 0.0005, ...</td>\n",
       "      <td>4</td>\n",
       "      <td>...</td>\n",
       "      <td>0.528037</td>\n",
       "      <td>0.535691</td>\n",
       "      <td>0.563498</td>\n",
       "      <td>0.571829</td>\n",
       "      <td>0.516872</td>\n",
       "      <td>0.486357</td>\n",
       "      <td>0.000388</td>\n",
       "      <td>0.000205</td>\n",
       "      <td>0.037674</td>\n",
       "      <td>0.039217</td>\n",
       "    </tr>\n",
       "    <tr>\n",
       "      <th>4</th>\n",
       "      <td>0.011449</td>\n",
       "      <td>0.001505</td>\n",
       "      <td>0.515318</td>\n",
       "      <td>0.513211</td>\n",
       "      <td>0.0005</td>\n",
       "      <td>0.5</td>\n",
       "      <td>log</td>\n",
       "      <td>elasticnet</td>\n",
       "      <td>{u'penalty': u'elasticnet', u'alpha': 0.0005, ...</td>\n",
       "      <td>5</td>\n",
       "      <td>...</td>\n",
       "      <td>0.528037</td>\n",
       "      <td>0.535632</td>\n",
       "      <td>0.563498</td>\n",
       "      <td>0.571686</td>\n",
       "      <td>0.516872</td>\n",
       "      <td>0.486708</td>\n",
       "      <td>0.000763</td>\n",
       "      <td>0.000069</td>\n",
       "      <td>0.038088</td>\n",
       "      <td>0.039115</td>\n",
       "    </tr>\n",
       "  </tbody>\n",
       "</table>\n",
       "<p>5 rows × 30 columns</p>\n",
       "</div>"
      ],
      "text/plain": [
       "   mean_fit_time  mean_score_time  mean_test_score  mean_train_score  \\\n",
       "0       0.020231         0.011072         0.516459          0.513344   \n",
       "1       0.014590         0.001558         0.516535          0.513247   \n",
       "2       0.012783         0.001598         0.516539          0.513189   \n",
       "3       0.011281         0.001642         0.515751          0.513162   \n",
       "4       0.011449         0.001505         0.515318          0.513211   \n",
       "\n",
       "  param_alpha param_l1_ratio param_loss param_penalty  \\\n",
       "0      0.0005            0.3        log    elasticnet   \n",
       "1      0.0005           0.35        log    elasticnet   \n",
       "2      0.0005            0.4        log    elasticnet   \n",
       "3      0.0005           0.45        log    elasticnet   \n",
       "4      0.0005            0.5        log    elasticnet   \n",
       "\n",
       "                                              params  rank_test_score  \\\n",
       "0  {u'penalty': u'elasticnet', u'alpha': 0.0005, ...                3   \n",
       "1  {u'penalty': u'elasticnet', u'alpha': 0.0005, ...                2   \n",
       "2  {u'penalty': u'elasticnet', u'alpha': 0.0005, ...                1   \n",
       "3  {u'penalty': u'elasticnet', u'alpha': 0.0005, ...                4   \n",
       "4  {u'penalty': u'elasticnet', u'alpha': 0.0005, ...                5   \n",
       "\n",
       "        ...         split5_test_score  split5_train_score  split6_test_score  \\\n",
       "0       ...                  0.529595            0.535808           0.566273   \n",
       "1       ...                  0.529595            0.535590           0.566273   \n",
       "2       ...                  0.530739            0.535270           0.565489   \n",
       "3       ...                  0.528037            0.535691           0.563498   \n",
       "4       ...                  0.528037            0.535632           0.563498   \n",
       "\n",
       "   split6_train_score  split7_test_score  split7_train_score  std_fit_time  \\\n",
       "0            0.571314           0.518092            0.487032      0.010110   \n",
       "1            0.571343           0.518092            0.486908      0.003434   \n",
       "2            0.571543           0.516872            0.486844      0.003149   \n",
       "3            0.571829           0.516872            0.486357      0.000388   \n",
       "4            0.571686           0.516872            0.486708      0.000763   \n",
       "\n",
       "   std_score_time  std_test_score  std_train_score  \n",
       "0        0.012592        0.038887         0.038705  \n",
       "1        0.000117        0.038416         0.038765  \n",
       "2        0.000110        0.038159         0.038934  \n",
       "3        0.000205        0.037674         0.039217  \n",
       "4        0.000069        0.038088         0.039115  \n",
       "\n",
       "[5 rows x 30 columns]"
      ]
     },
     "execution_count": 33,
     "metadata": {},
     "output_type": "execute_result"
    }
   ],
   "source": [
    "# Get all results of Grid Search\n",
    "cv_results = pd.DataFrame(grid_search.cv_results_)\n",
    "cv_results"
   ]
  },
  {
   "cell_type": "code",
   "execution_count": 34,
   "metadata": {},
   "outputs": [
    {
     "name": "stdout",
     "output_type": "stream",
     "text": [
      "0.653335205099\n",
      "0.516535397684\n",
      "0.608402041969\n",
      "0.455159807772\n"
     ]
    }
   ],
   "source": [
    "from sklearn.metrics import make_scorer\n",
    "from sklearn.metrics import log_loss\n",
    "from sklearn.model_selection import cross_val_score\n",
    "clf = SGDClassifier(random_state=0,\n",
    "                    penalty=best_params['penalty'],\n",
    "                    loss=best_params['loss'],\n",
    "                    alpha=best_params['alpha'],\n",
    "                    l1_ratio=best_params['l1_ratio'])\n",
    "print cross_val_score(clf, X_train, y_train, cv=8, scoring='roc_auc').mean()\n",
    "print cross_val_score(clf, X_train, y_train, cv=8, scoring='f1').mean()\n",
    "print cross_val_score(clf, X_train, y_train, cv=8, scoring='precision').mean()\n",
    "print cross_val_score(clf, X_train, y_train, cv=8, scoring='recall').mean()"
   ]
  },
  {
   "cell_type": "code",
   "execution_count": 44,
   "metadata": {},
   "outputs": [
    {
     "name": "stdout",
     "output_type": "stream",
     "text": [
      "0.653334610881\n",
      "0.51960372252\n",
      "0.604274612676\n",
      "0.456039265277\n"
     ]
    }
   ],
   "source": [
    "from sklearn.metrics import make_scorer\n",
    "from sklearn.metrics import log_loss\n",
    "from sklearn.model_selection import cross_val_score\n",
    "clf = LogisticRegression(random_state=0,\n",
    "                         n_jobs=-1,\n",
    "                         C=best_params['C'],\n",
    "                         solver=best_params['solver'],\n",
    "                         penalty=best_params['penalty']\n",
    "                        )\n",
    "print cross_val_score(clf, X_train, y_train, cv=8, scoring='roc_auc').mean()\n",
    "print cross_val_score(clf, X_train, y_train, cv=8, scoring='f1').mean()\n",
    "print cross_val_score(clf, X_train, y_train, cv=8, scoring='precision').mean()\n",
    "print cross_val_score(clf, X_train, y_train, cv=8, scoring='recall').mean()"
   ]
  },
  {
   "cell_type": "code",
   "execution_count": null,
   "metadata": {
    "collapsed": true
   },
   "outputs": [],
   "source": []
  },
  {
   "cell_type": "code",
   "execution_count": null,
   "metadata": {
    "collapsed": true
   },
   "outputs": [],
   "source": []
  },
  {
   "cell_type": "code",
   "execution_count": null,
   "metadata": {
    "collapsed": true
   },
   "outputs": [],
   "source": []
  },
  {
   "cell_type": "code",
   "execution_count": null,
   "metadata": {
    "collapsed": true
   },
   "outputs": [],
   "source": [
    "#LR\n",
    "#0.653334610881\n",
    "#0.51960372252\n",
    "#0.604274612676\n",
    "#0.456039265277"
   ]
  }
 ],
 "metadata": {
  "kernelspec": {
   "display_name": "Python 2",
   "language": "python",
   "name": "python2"
  },
  "language_info": {
   "codemirror_mode": {
    "name": "ipython",
    "version": 2
   },
   "file_extension": ".py",
   "mimetype": "text/x-python",
   "name": "python",
   "nbconvert_exporter": "python",
   "pygments_lexer": "ipython2",
   "version": "2.7.13"
  }
 },
 "nbformat": 4,
 "nbformat_minor": 2
}
