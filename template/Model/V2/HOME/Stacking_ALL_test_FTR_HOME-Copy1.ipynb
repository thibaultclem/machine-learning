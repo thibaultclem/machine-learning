{
 "cells": [
  {
   "cell_type": "code",
   "execution_count": 1,
   "metadata": {
    "collapsed": true
   },
   "outputs": [],
   "source": [
    "# Import library\n",
    "import numpy as np # linear algebra\n",
    "import pandas as pd # data processing, CSV file I/O\n",
    "import matplotlib.pyplot as plt # plotting library\n",
    "import seaborn as sns # visualization library based on matplotlib\n",
    "from IPython.display import display # Manage multiple output per cell\n",
    "import datetime\n",
    "import sqlite3"
   ]
  },
  {
   "cell_type": "code",
   "execution_count": 2,
   "metadata": {},
   "outputs": [
    {
     "name": "stderr",
     "output_type": "stream",
     "text": [
      "/anaconda/lib/python2.7/site-packages/sklearn/cross_validation.py:44: DeprecationWarning: This module was deprecated in version 0.18 in favor of the model_selection module into which all the refactored classes and functions are moved. Also note that the interface of the new CV iterators are different from that of this module. This module will be removed in 0.20.\n",
      "  \"This module will be removed in 0.20.\", DeprecationWarning)\n"
     ]
    }
   ],
   "source": [
    "# Import sickit methods\n",
    "from sklearn.model_selection import train_test_split\n",
    "from sklearn.preprocessing import Imputer\n",
    "from sklearn.preprocessing import StandardScaler\n",
    "from sklearn.metrics import precision_score, recall_score, f1_score, log_loss, accuracy_score, roc_auc_score\n",
    "from sklearn.calibration import calibration_curve\n",
    "from sklearn.cross_validation import KFold"
   ]
  },
  {
   "cell_type": "code",
   "execution_count": 3,
   "metadata": {
    "collapsed": true
   },
   "outputs": [],
   "source": [
    "# Import model\n",
    "from sklearn.calibration import CalibratedClassifierCV\n",
    "from sklearn.svm import SVC\n",
    "from sklearn.linear_model import LogisticRegression\n",
    "from sklearn.linear_model import SGDClassifier\n",
    "from sklearn.naive_bayes import GaussianNB\n",
    "from sklearn.neural_network import MLPClassifier\n",
    "from sklearn.discriminant_analysis import LinearDiscriminantAnalysis\n",
    "from sklearn.neighbors import KNeighborsClassifier\n",
    "from sklearn.ensemble import AdaBoostClassifier\n",
    "from sklearn.ensemble import ExtraTreesClassifier\n",
    "from sklearn.ensemble import RandomForestClassifier\n",
    "from sklearn.ensemble import BaggingClassifier\n",
    "from sklearn.ensemble import GradientBoostingClassifier\n",
    "from xgboost import XGBClassifier"
   ]
  },
  {
   "cell_type": "code",
   "execution_count": 4,
   "metadata": {},
   "outputs": [
    {
     "name": "stderr",
     "output_type": "stream",
     "text": [
      "Using TensorFlow backend.\n"
     ]
    }
   ],
   "source": [
    "# Import and define deep learning model\n",
    "from keras.models import Sequential\n",
    "from keras.layers import Dense\n",
    "from keras.wrappers.scikit_learn import KerasClassifier\n",
    "def create_DNN_model(optimizer,nb_feature):\n",
    "    model = Sequential()\n",
    "    model.add(Dense(nb_feature, input_dim=nb_feature, kernel_initializer='normal', activation='relu'))\n",
    "    model.add(Dense(1, kernel_initializer='normal', activation='sigmoid'))\n",
    "    model.compile(loss='binary_crossentropy', optimizer=optimizer)\n",
    "    return model\n",
    "def create_DNN_model_adam_all():\n",
    "    #return create_DNN_model('adam',184)\n",
    "    return create_DNN_model('adam',176)\n",
    "def create_DNN_model_adam_38():\n",
    "    return create_DNN_model('adam',38)\n",
    "def create_DNN_model_sgd_all():\n",
    "    #return create_DNN_model('SGD',184)\n",
    "    return create_DNN_model('SGD',176)\n",
    "def create_DNN_model_sgd_56():\n",
    "    return create_DNN_model('SGD',56)"
   ]
  },
  {
   "cell_type": "code",
   "execution_count": 5,
   "metadata": {
    "collapsed": true
   },
   "outputs": [],
   "source": [
    "# Define target\n",
    "target = 'INFO_FTR_H'\n",
    "bet_on = 'H'\n",
    "odd_avg = 'INFO_BbAvH'\n",
    "odd_pinnacle = 'INFO_PSH'\n",
    "# Define if we want to train only a specific league\n",
    "leagues = ['D1', 'E0', 'E1', 'E2', 'F1', 'I1', 'SP1', 'SC0']\n",
    "leagues = ['D1']\n",
    "# Define number of fold use for out of fold prediction\n",
    "NFOLDS = 4\n",
    "# Season to Test\n",
    "test_seasons = [2013, 2014]\n",
    "#test_seasons = [2013]\n",
    "#test_seasons = [2014]\n",
    "# Numbers of season for training\n",
    "#nb_train_seasons = [5, 3, 1]\n",
    "nb_train_seasons = [5]\n",
    "# List informative column in dataset\n",
    "column_info = ['INFO_Date','INFO_Div','INFO_HomeTeam','INFO_AwayTeam','INFO_FTHG','INFO_FTAG','INFO_FTR','INFO_BbAvH','INFO_PSH']"
   ]
  },
  {
   "cell_type": "code",
   "execution_count": 6,
   "metadata": {
    "collapsed": true
   },
   "outputs": [],
   "source": [
    "# Define all different features dataset for layer 1\n",
    "raw_features = [\"A_MEANS_FIVE_AC\",\"A_MEANS_FIVE_AF\",\"A_MEANS_FIVE_AR\",\"A_MEANS_FIVE_AS\",\"A_MEANS_FIVE_AST\",\"A_MEANS_FIVE_AY\",\"A_MEANS_FIVE_FTAG\",\"A_MEANS_FIVE_FTHG\",\"A_MEANS_FIVE_FTR_A\",\"A_MEANS_FIVE_FTR_D\",\"A_MEANS_FIVE_FTR_H\",\"A_MEANS_FIVE_HC\",\"A_MEANS_FIVE_HF\",\"A_MEANS_FIVE_HR\",\"A_MEANS_FIVE_HS\",\"A_MEANS_FIVE_HST\",\"A_MEANS_FIVE_HTAG\",\"A_MEANS_FIVE_HTHG\",\"A_MEANS_FIVE_HTR_A\",\"A_MEANS_FIVE_HTR_D\",\"A_MEANS_FIVE_HTR_H\",\"A_MEANS_FIVE_HY\",\"H_MEANS_FIVE_AC\",\"H_MEANS_FIVE_AF\",\"H_MEANS_FIVE_AR\",\"H_MEANS_FIVE_AS\",\"H_MEANS_FIVE_AST\",\"H_MEANS_FIVE_AY\",\"H_MEANS_FIVE_FTAG\",\"H_MEANS_FIVE_FTHG\",\"H_MEANS_FIVE_FTR_A\",\"H_MEANS_FIVE_FTR_D\",\"H_MEANS_FIVE_FTR_H\",\"H_MEANS_FIVE_HC\",\"H_MEANS_FIVE_HF\",\"H_MEANS_FIVE_HR\",\"H_MEANS_FIVE_HS\",\"H_MEANS_FIVE_HST\",\"H_MEANS_FIVE_HTAG\",\"H_MEANS_FIVE_HTHG\",\"H_MEANS_FIVE_HTR_A\",\"H_MEANS_FIVE_HTR_D\",\"H_MEANS_FIVE_HTR_H\",\"H_MEANS_FIVE_HY\",\"A_MEANS_THREE_AC\",\"A_MEANS_THREE_AF\",\"A_MEANS_THREE_AR\",\"A_MEANS_THREE_AS\",\"A_MEANS_THREE_AST\",\"A_MEANS_THREE_AY\",\"A_MEANS_THREE_FTAG\",\"A_MEANS_THREE_FTHG\",\"A_MEANS_THREE_FTR_A\",\"A_MEANS_THREE_FTR_D\",\"A_MEANS_THREE_FTR_H\",\"A_MEANS_THREE_HC\",\"A_MEANS_THREE_HF\",\"A_MEANS_THREE_HR\",\"A_MEANS_THREE_HS\",\"A_MEANS_THREE_HST\",\"A_MEANS_THREE_HTAG\",\"A_MEANS_THREE_HTHG\",\"A_MEANS_THREE_HTR_A\",\"A_MEANS_THREE_HTR_D\",\"A_MEANS_THREE_HTR_H\",\"A_MEANS_THREE_HY\",\"H_MEANS_THREE_AC\",\"H_MEANS_THREE_AF\",\"H_MEANS_THREE_AR\",\"H_MEANS_THREE_AS\",\"H_MEANS_THREE_AST\",\"H_MEANS_THREE_AY\",\"H_MEANS_THREE_FTAG\",\"H_MEANS_THREE_FTHG\",\"H_MEANS_THREE_FTR_A\",\"H_MEANS_THREE_FTR_D\",\"H_MEANS_THREE_FTR_H\",\"H_MEANS_THREE_HC\",\"H_MEANS_THREE_HF\",\"H_MEANS_THREE_HR\",\"H_MEANS_THREE_HS\",\"H_MEANS_THREE_HST\",\"H_MEANS_THREE_HTAG\",\"H_MEANS_THREE_HTHG\",\"H_MEANS_THREE_HTR_A\",\"H_MEANS_THREE_HTR_D\",\"H_MEANS_THREE_HTR_H\",\"H_MEANS_THREE_HY\",\"A_STD_FIVE_AC\",\"A_STD_FIVE_AF\",\"A_STD_FIVE_AR\",\"A_STD_FIVE_AS\",\"A_STD_FIVE_AST\",\"A_STD_FIVE_AY\",\"A_STD_FIVE_FTAG\",\"A_STD_FIVE_FTHG\",\"A_STD_FIVE_FTR_A\",\"A_STD_FIVE_FTR_D\",\"A_STD_FIVE_FTR_H\",\"A_STD_FIVE_HC\",\"A_STD_FIVE_HF\",\"A_STD_FIVE_HR\",\"A_STD_FIVE_HS\",\"A_STD_FIVE_HST\",\"A_STD_FIVE_HTAG\",\"A_STD_FIVE_HTHG\",\"A_STD_FIVE_HTR_A\",\"A_STD_FIVE_HTR_D\",\"A_STD_FIVE_HTR_H\",\"A_STD_FIVE_HY\",\"H_STD_FIVE_AC\",\"H_STD_FIVE_AF\",\"H_STD_FIVE_AR\",\"H_STD_FIVE_AS\",\"H_STD_FIVE_AST\",\"H_STD_FIVE_AY\",\"H_STD_FIVE_FTAG\",\"H_STD_FIVE_FTHG\",\"H_STD_FIVE_FTR_A\",\"H_STD_FIVE_FTR_D\",\"H_STD_FIVE_FTR_H\",\"H_STD_FIVE_HC\",\"H_STD_FIVE_HF\",\"H_STD_FIVE_HR\",\"H_STD_FIVE_HS\",\"H_STD_FIVE_HST\",\"H_STD_FIVE_HTAG\",\"H_STD_FIVE_HTHG\",\"H_STD_FIVE_HTR_A\",\"H_STD_FIVE_HTR_D\",\"H_STD_FIVE_HTR_H\",\"H_STD_FIVE_HY\",\"A_STD_THREE_AC\",\"A_STD_THREE_AF\",\"A_STD_THREE_AR\",\"A_STD_THREE_AS\",\"A_STD_THREE_AST\",\"A_STD_THREE_AY\",\"A_STD_THREE_FTAG\",\"A_STD_THREE_FTHG\",\"A_STD_THREE_FTR_A\",\"A_STD_THREE_FTR_D\",\"A_STD_THREE_FTR_H\",\"A_STD_THREE_HC\",\"A_STD_THREE_HF\",\"A_STD_THREE_HR\",\"A_STD_THREE_HS\",\"A_STD_THREE_HST\",\"A_STD_THREE_HTAG\",\"A_STD_THREE_HTHG\",\"A_STD_THREE_HTR_A\",\"A_STD_THREE_HTR_D\",\"A_STD_THREE_HTR_H\",\"A_STD_THREE_HY\",\"H_STD_THREE_AC\",\"H_STD_THREE_AF\",\"H_STD_THREE_AR\",\"H_STD_THREE_AS\",\"H_STD_THREE_AST\",\"H_STD_THREE_AY\",\"H_STD_THREE_FTAG\",\"H_STD_THREE_FTHG\",\"H_STD_THREE_FTR_A\",\"H_STD_THREE_FTR_D\",\"H_STD_THREE_FTR_H\",\"H_STD_THREE_HC\",\"H_STD_THREE_HF\",\"H_STD_THREE_HR\",\"H_STD_THREE_HS\",\"H_STD_THREE_HST\",\"H_STD_THREE_HTAG\",\"H_STD_THREE_HTHG\",\"H_STD_THREE_HTR_A\",\"H_STD_THREE_HTR_D\",\"H_STD_THREE_HTR_H\",\"H_STD_THREE_HY\",\"INFO_Div\"]\n",
    "#all_features = ['A_MEANS_FIVE_AC','A_MEANS_FIVE_AF','A_MEANS_FIVE_AR','A_MEANS_FIVE_AS','A_MEANS_FIVE_AST','A_MEANS_FIVE_AY','A_MEANS_FIVE_FTAG','A_MEANS_FIVE_FTHG','A_MEANS_FIVE_FTR_A','A_MEANS_FIVE_FTR_D','A_MEANS_FIVE_FTR_H','A_MEANS_FIVE_HC','A_MEANS_FIVE_HF','A_MEANS_FIVE_HR','A_MEANS_FIVE_HS','A_MEANS_FIVE_HST','A_MEANS_FIVE_HTAG','A_MEANS_FIVE_HTHG','A_MEANS_FIVE_HTR_A','A_MEANS_FIVE_HTR_D','A_MEANS_FIVE_HTR_H','A_MEANS_FIVE_HY','H_MEANS_FIVE_AC','H_MEANS_FIVE_AF','H_MEANS_FIVE_AR','H_MEANS_FIVE_AS','H_MEANS_FIVE_AST','H_MEANS_FIVE_AY','H_MEANS_FIVE_FTAG','H_MEANS_FIVE_FTHG','H_MEANS_FIVE_FTR_A','H_MEANS_FIVE_FTR_D','H_MEANS_FIVE_FTR_H','H_MEANS_FIVE_HC','H_MEANS_FIVE_HF','H_MEANS_FIVE_HR','H_MEANS_FIVE_HS','H_MEANS_FIVE_HST','H_MEANS_FIVE_HTAG','H_MEANS_FIVE_HTHG','H_MEANS_FIVE_HTR_A','H_MEANS_FIVE_HTR_D','H_MEANS_FIVE_HTR_H','H_MEANS_FIVE_HY','A_MEANS_THREE_AC','A_MEANS_THREE_AF','A_MEANS_THREE_AR','A_MEANS_THREE_AS','A_MEANS_THREE_AST','A_MEANS_THREE_AY','A_MEANS_THREE_FTAG','A_MEANS_THREE_FTHG','A_MEANS_THREE_FTR_A','A_MEANS_THREE_FTR_D','A_MEANS_THREE_FTR_H','A_MEANS_THREE_HC','A_MEANS_THREE_HF','A_MEANS_THREE_HR','A_MEANS_THREE_HS','A_MEANS_THREE_HST','A_MEANS_THREE_HTAG','A_MEANS_THREE_HTHG','A_MEANS_THREE_HTR_A','A_MEANS_THREE_HTR_D','A_MEANS_THREE_HTR_H','A_MEANS_THREE_HY','H_MEANS_THREE_AC','H_MEANS_THREE_AF','H_MEANS_THREE_AR','H_MEANS_THREE_AS','H_MEANS_THREE_AST','H_MEANS_THREE_AY','H_MEANS_THREE_FTAG','H_MEANS_THREE_FTHG','H_MEANS_THREE_FTR_A','H_MEANS_THREE_FTR_D','H_MEANS_THREE_FTR_H','H_MEANS_THREE_HC','H_MEANS_THREE_HF','H_MEANS_THREE_HR','H_MEANS_THREE_HS','H_MEANS_THREE_HST','H_MEANS_THREE_HTAG','H_MEANS_THREE_HTHG','H_MEANS_THREE_HTR_A','H_MEANS_THREE_HTR_D','H_MEANS_THREE_HTR_H','H_MEANS_THREE_HY','A_STD_FIVE_AC','A_STD_FIVE_AF','A_STD_FIVE_AR','A_STD_FIVE_AS','A_STD_FIVE_AST','A_STD_FIVE_AY','A_STD_FIVE_FTAG','A_STD_FIVE_FTHG','A_STD_FIVE_FTR_A','A_STD_FIVE_FTR_D','A_STD_FIVE_FTR_H','A_STD_FIVE_HC','A_STD_FIVE_HF','A_STD_FIVE_HR','A_STD_FIVE_HS','A_STD_FIVE_HST','A_STD_FIVE_HTAG','A_STD_FIVE_HTHG','A_STD_FIVE_HTR_A','A_STD_FIVE_HTR_D','A_STD_FIVE_HTR_H','A_STD_FIVE_HY','H_STD_FIVE_AC','H_STD_FIVE_AF','H_STD_FIVE_AR','H_STD_FIVE_AS','H_STD_FIVE_AST','H_STD_FIVE_AY','H_STD_FIVE_FTAG','H_STD_FIVE_FTHG','H_STD_FIVE_FTR_A','H_STD_FIVE_FTR_D','H_STD_FIVE_FTR_H','H_STD_FIVE_HC','H_STD_FIVE_HF','H_STD_FIVE_HR','H_STD_FIVE_HS','H_STD_FIVE_HST','H_STD_FIVE_HTAG','H_STD_FIVE_HTHG','H_STD_FIVE_HTR_A','H_STD_FIVE_HTR_D','H_STD_FIVE_HTR_H','H_STD_FIVE_HY','A_STD_THREE_AC','A_STD_THREE_AF','A_STD_THREE_AR','A_STD_THREE_AS','A_STD_THREE_AST','A_STD_THREE_AY','A_STD_THREE_FTAG','A_STD_THREE_FTHG','A_STD_THREE_FTR_A','A_STD_THREE_FTR_D','A_STD_THREE_FTR_H','A_STD_THREE_HC','A_STD_THREE_HF','A_STD_THREE_HR','A_STD_THREE_HS','A_STD_THREE_HST','A_STD_THREE_HTAG','A_STD_THREE_HTHG','A_STD_THREE_HTR_A','A_STD_THREE_HTR_D','A_STD_THREE_HTR_H','A_STD_THREE_HY','H_STD_THREE_AC','H_STD_THREE_AF','H_STD_THREE_AR','H_STD_THREE_AS','H_STD_THREE_AST','H_STD_THREE_AY','H_STD_THREE_FTAG','H_STD_THREE_FTHG','H_STD_THREE_FTR_A','H_STD_THREE_FTR_D','H_STD_THREE_FTR_H','H_STD_THREE_HC','H_STD_THREE_HF','H_STD_THREE_HR','H_STD_THREE_HS','H_STD_THREE_HST','H_STD_THREE_HTAG','H_STD_THREE_HTHG','H_STD_THREE_HTR_A','H_STD_THREE_HTR_D','H_STD_THREE_HTR_H','H_STD_THREE_HY','INFO_Div_D1','INFO_Div_E0','INFO_Div_E1','INFO_Div_E2','INFO_Div_F1','INFO_Div_I1','INFO_Div_SC0','INFO_Div_SP1']\n",
    "# All features without info_div\n",
    "all_features = ['A_MEANS_FIVE_AC','A_MEANS_FIVE_AF','A_MEANS_FIVE_AR','A_MEANS_FIVE_AS','A_MEANS_FIVE_AST','A_MEANS_FIVE_AY','A_MEANS_FIVE_FTAG','A_MEANS_FIVE_FTHG','A_MEANS_FIVE_FTR_A','A_MEANS_FIVE_FTR_D','A_MEANS_FIVE_FTR_H','A_MEANS_FIVE_HC','A_MEANS_FIVE_HF','A_MEANS_FIVE_HR','A_MEANS_FIVE_HS','A_MEANS_FIVE_HST','A_MEANS_FIVE_HTAG','A_MEANS_FIVE_HTHG','A_MEANS_FIVE_HTR_A','A_MEANS_FIVE_HTR_D','A_MEANS_FIVE_HTR_H','A_MEANS_FIVE_HY','H_MEANS_FIVE_AC','H_MEANS_FIVE_AF','H_MEANS_FIVE_AR','H_MEANS_FIVE_AS','H_MEANS_FIVE_AST','H_MEANS_FIVE_AY','H_MEANS_FIVE_FTAG','H_MEANS_FIVE_FTHG','H_MEANS_FIVE_FTR_A','H_MEANS_FIVE_FTR_D','H_MEANS_FIVE_FTR_H','H_MEANS_FIVE_HC','H_MEANS_FIVE_HF','H_MEANS_FIVE_HR','H_MEANS_FIVE_HS','H_MEANS_FIVE_HST','H_MEANS_FIVE_HTAG','H_MEANS_FIVE_HTHG','H_MEANS_FIVE_HTR_A','H_MEANS_FIVE_HTR_D','H_MEANS_FIVE_HTR_H','H_MEANS_FIVE_HY','A_MEANS_THREE_AC','A_MEANS_THREE_AF','A_MEANS_THREE_AR','A_MEANS_THREE_AS','A_MEANS_THREE_AST','A_MEANS_THREE_AY','A_MEANS_THREE_FTAG','A_MEANS_THREE_FTHG','A_MEANS_THREE_FTR_A','A_MEANS_THREE_FTR_D','A_MEANS_THREE_FTR_H','A_MEANS_THREE_HC','A_MEANS_THREE_HF','A_MEANS_THREE_HR','A_MEANS_THREE_HS','A_MEANS_THREE_HST','A_MEANS_THREE_HTAG','A_MEANS_THREE_HTHG','A_MEANS_THREE_HTR_A','A_MEANS_THREE_HTR_D','A_MEANS_THREE_HTR_H','A_MEANS_THREE_HY','H_MEANS_THREE_AC','H_MEANS_THREE_AF','H_MEANS_THREE_AR','H_MEANS_THREE_AS','H_MEANS_THREE_AST','H_MEANS_THREE_AY','H_MEANS_THREE_FTAG','H_MEANS_THREE_FTHG','H_MEANS_THREE_FTR_A','H_MEANS_THREE_FTR_D','H_MEANS_THREE_FTR_H','H_MEANS_THREE_HC','H_MEANS_THREE_HF','H_MEANS_THREE_HR','H_MEANS_THREE_HS','H_MEANS_THREE_HST','H_MEANS_THREE_HTAG','H_MEANS_THREE_HTHG','H_MEANS_THREE_HTR_A','H_MEANS_THREE_HTR_D','H_MEANS_THREE_HTR_H','H_MEANS_THREE_HY','A_STD_FIVE_AC','A_STD_FIVE_AF','A_STD_FIVE_AR','A_STD_FIVE_AS','A_STD_FIVE_AST','A_STD_FIVE_AY','A_STD_FIVE_FTAG','A_STD_FIVE_FTHG','A_STD_FIVE_FTR_A','A_STD_FIVE_FTR_D','A_STD_FIVE_FTR_H','A_STD_FIVE_HC','A_STD_FIVE_HF','A_STD_FIVE_HR','A_STD_FIVE_HS','A_STD_FIVE_HST','A_STD_FIVE_HTAG','A_STD_FIVE_HTHG','A_STD_FIVE_HTR_A','A_STD_FIVE_HTR_D','A_STD_FIVE_HTR_H','A_STD_FIVE_HY','H_STD_FIVE_AC','H_STD_FIVE_AF','H_STD_FIVE_AR','H_STD_FIVE_AS','H_STD_FIVE_AST','H_STD_FIVE_AY','H_STD_FIVE_FTAG','H_STD_FIVE_FTHG','H_STD_FIVE_FTR_A','H_STD_FIVE_FTR_D','H_STD_FIVE_FTR_H','H_STD_FIVE_HC','H_STD_FIVE_HF','H_STD_FIVE_HR','H_STD_FIVE_HS','H_STD_FIVE_HST','H_STD_FIVE_HTAG','H_STD_FIVE_HTHG','H_STD_FIVE_HTR_A','H_STD_FIVE_HTR_D','H_STD_FIVE_HTR_H','H_STD_FIVE_HY','A_STD_THREE_AC','A_STD_THREE_AF','A_STD_THREE_AR','A_STD_THREE_AS','A_STD_THREE_AST','A_STD_THREE_AY','A_STD_THREE_FTAG','A_STD_THREE_FTHG','A_STD_THREE_FTR_A','A_STD_THREE_FTR_D','A_STD_THREE_FTR_H','A_STD_THREE_HC','A_STD_THREE_HF','A_STD_THREE_HR','A_STD_THREE_HS','A_STD_THREE_HST','A_STD_THREE_HTAG','A_STD_THREE_HTHG','A_STD_THREE_HTR_A','A_STD_THREE_HTR_D','A_STD_THREE_HTR_H','A_STD_THREE_HY','H_STD_THREE_AC','H_STD_THREE_AF','H_STD_THREE_AR','H_STD_THREE_AS','H_STD_THREE_AST','H_STD_THREE_AY','H_STD_THREE_FTAG','H_STD_THREE_FTHG','H_STD_THREE_FTR_A','H_STD_THREE_FTR_D','H_STD_THREE_FTR_H','H_STD_THREE_HC','H_STD_THREE_HF','H_STD_THREE_HR','H_STD_THREE_HS','H_STD_THREE_HST','H_STD_THREE_HTAG','H_STD_THREE_HTHG','H_STD_THREE_HTR_A','H_STD_THREE_HTR_D','H_STD_THREE_HTR_H','H_STD_THREE_HY']\n",
    "best_features_DNN_adam_38 = ['A_MEANS_FIVE_AC', 'A_MEANS_FIVE_AS', 'A_MEANS_FIVE_AST','A_MEANS_FIVE_FTAG', 'A_MEANS_FIVE_FTHG', 'A_MEANS_FIVE_FTR_H','A_MEANS_FIVE_HC', 'A_MEANS_FIVE_HF', 'A_MEANS_FIVE_HS','A_MEANS_FIVE_HST', 'A_MEANS_FIVE_HTR_A', 'A_MEANS_FIVE_HY','H_MEANS_FIVE_AC', 'H_MEANS_FIVE_AS', 'H_MEANS_FIVE_AST','H_MEANS_FIVE_AY', 'H_MEANS_FIVE_FTAG', 'H_MEANS_FIVE_FTHG','H_MEANS_FIVE_FTR_A', 'H_MEANS_FIVE_FTR_H', 'H_MEANS_FIVE_HC','H_MEANS_FIVE_HS', 'H_MEANS_FIVE_HST', 'H_MEANS_FIVE_HTR_H','A_MEANS_THREE_AC', 'A_MEANS_THREE_AS', 'A_MEANS_THREE_FTHG','A_MEANS_THREE_HF', 'A_MEANS_THREE_HS', 'H_MEANS_THREE_AS','H_MEANS_THREE_HC', 'A_STD_FIVE_AST', 'A_STD_FIVE_HF','H_STD_FIVE_AF', 'H_STD_FIVE_AS', 'H_STD_FIVE_HC', 'H_STD_FIVE_HF','H_STD_FIVE_HST']\n",
    "best_features_DNN_SGD_56 = ['A_MEANS_FIVE_AC', 'A_MEANS_FIVE_AS', 'A_MEANS_FIVE_AST','A_MEANS_FIVE_FTAG', 'A_MEANS_FIVE_FTHG', 'A_MEANS_FIVE_FTR_A','A_MEANS_FIVE_FTR_H', 'A_MEANS_FIVE_HC', 'A_MEANS_FIVE_HF','A_MEANS_FIVE_HS', 'A_MEANS_FIVE_HST', 'A_MEANS_FIVE_HTHG','A_MEANS_FIVE_HTR_A', 'A_MEANS_FIVE_HY', 'H_MEANS_FIVE_AC','H_MEANS_FIVE_AS', 'H_MEANS_FIVE_AST', 'H_MEANS_FIVE_AY','H_MEANS_FIVE_FTAG', 'H_MEANS_FIVE_FTHG', 'H_MEANS_FIVE_FTR_A','H_MEANS_FIVE_FTR_H', 'H_MEANS_FIVE_HC', 'H_MEANS_FIVE_HF','H_MEANS_FIVE_HS', 'H_MEANS_FIVE_HST', 'H_MEANS_FIVE_HTAG','H_MEANS_FIVE_HTR_H', 'A_MEANS_THREE_AC', 'A_MEANS_THREE_AS','A_MEANS_THREE_FTHG', 'A_MEANS_THREE_FTR_A', 'A_MEANS_THREE_HC','A_MEANS_THREE_HF', 'A_MEANS_THREE_HS', 'A_MEANS_THREE_HST','H_MEANS_THREE_AC', 'H_MEANS_THREE_AS', 'H_MEANS_THREE_FTHG','H_MEANS_THREE_HC', 'H_MEANS_THREE_HST', 'H_MEANS_THREE_HTR_H','A_STD_FIVE_AF', 'A_STD_FIVE_AST', 'A_STD_FIVE_HC', 'A_STD_FIVE_HF','A_STD_FIVE_HS', 'H_STD_FIVE_AF', 'H_STD_FIVE_AS', 'H_STD_FIVE_AST','H_STD_FIVE_HC', 'H_STD_FIVE_HF', 'H_STD_FIVE_HST','H_STD_FIVE_HTHG', 'H_STD_THREE_AS', 'H_STD_THREE_HST']\n",
    "best_features_XGBoost_60 = ['A_MEANS_FIVE_AC', 'A_MEANS_FIVE_AS', 'A_MEANS_FIVE_AST','A_MEANS_FIVE_AY', 'A_MEANS_FIVE_FTAG', 'A_MEANS_FIVE_FTHG','A_MEANS_FIVE_FTR_A', 'A_MEANS_FIVE_FTR_H', 'A_MEANS_FIVE_HC','A_MEANS_FIVE_HF', 'A_MEANS_FIVE_HS', 'A_MEANS_FIVE_HST','A_MEANS_FIVE_HTHG', 'A_MEANS_FIVE_HTR_A', 'A_MEANS_FIVE_HY','H_MEANS_FIVE_AC', 'H_MEANS_FIVE_AS', 'H_MEANS_FIVE_AST','H_MEANS_FIVE_AY', 'H_MEANS_FIVE_FTAG', 'H_MEANS_FIVE_FTHG','H_MEANS_FIVE_FTR_A', 'H_MEANS_FIVE_FTR_H', 'H_MEANS_FIVE_HC','H_MEANS_FIVE_HF', 'H_MEANS_FIVE_HS', 'H_MEANS_FIVE_HST','H_MEANS_FIVE_HTAG', 'H_MEANS_FIVE_HTR_A', 'H_MEANS_FIVE_HTR_H','A_MEANS_THREE_AC', 'A_MEANS_THREE_AS', 'A_MEANS_THREE_FTHG','A_MEANS_THREE_FTR_A', 'A_MEANS_THREE_HC', 'A_MEANS_THREE_HF','A_MEANS_THREE_HS', 'A_MEANS_THREE_HST', 'H_MEANS_THREE_AC','H_MEANS_THREE_AS', 'H_MEANS_THREE_AST', 'H_MEANS_THREE_FTHG','H_MEANS_THREE_HC', 'H_MEANS_THREE_HST', 'H_MEANS_THREE_HTR_H','A_STD_FIVE_AF', 'A_STD_FIVE_AS', 'A_STD_FIVE_AST', 'A_STD_FIVE_HC','A_STD_FIVE_HF', 'A_STD_FIVE_HS', 'H_STD_FIVE_AF', 'H_STD_FIVE_AS','H_STD_FIVE_AST', 'H_STD_FIVE_HC', 'H_STD_FIVE_HF','H_STD_FIVE_HST', 'H_STD_FIVE_HTHG', 'H_STD_THREE_AS','H_STD_THREE_HST']\n",
    "best_features_SVM = ['A_MEANS_FIVE_AC', 'A_MEANS_FIVE_AS', 'A_MEANS_FIVE_AST','A_MEANS_FIVE_FTAG', 'A_MEANS_FIVE_FTHG', 'A_MEANS_FIVE_FTR_H','A_MEANS_FIVE_HC', 'A_MEANS_FIVE_HS', 'A_MEANS_FIVE_HST','A_MEANS_FIVE_HTR_A', 'H_MEANS_FIVE_AC', 'H_MEANS_FIVE_AS','H_MEANS_FIVE_AST', 'H_MEANS_FIVE_AY', 'H_MEANS_FIVE_FTAG','H_MEANS_FIVE_FTHG', 'H_MEANS_FIVE_FTR_A', 'H_MEANS_FIVE_FTR_H','H_MEANS_FIVE_HC', 'H_MEANS_FIVE_HS', 'H_MEANS_FIVE_HST','H_MEANS_FIVE_HTR_H', 'A_MEANS_THREE_AC', 'A_MEANS_THREE_AS','A_MEANS_THREE_FTHG', 'A_MEANS_THREE_HS', 'H_MEANS_THREE_AS','A_STD_FIVE_HF', 'H_STD_FIVE_HC', 'H_STD_FIVE_HST']\n",
    "best_features_RF = ['A_MEANS_FIVE_AC', 'A_MEANS_FIVE_AS', 'A_MEANS_FIVE_AST','A_MEANS_FIVE_FTAG', 'A_MEANS_FIVE_FTHG', 'A_MEANS_FIVE_FTR_A','A_MEANS_FIVE_FTR_H', 'A_MEANS_FIVE_HC', 'A_MEANS_FIVE_HF','A_MEANS_FIVE_HS', 'A_MEANS_FIVE_HST', 'A_MEANS_FIVE_HTHG','A_MEANS_FIVE_HTR_A', 'A_MEANS_FIVE_HY', 'H_MEANS_FIVE_AC','H_MEANS_FIVE_AS', 'H_MEANS_FIVE_AST', 'H_MEANS_FIVE_AY','H_MEANS_FIVE_FTAG', 'H_MEANS_FIVE_FTHG', 'H_MEANS_FIVE_FTR_A','H_MEANS_FIVE_FTR_H', 'H_MEANS_FIVE_HC', 'H_MEANS_FIVE_HF','H_MEANS_FIVE_HS', 'H_MEANS_FIVE_HST', 'H_MEANS_FIVE_HTAG','H_MEANS_FIVE_HTR_H', 'A_MEANS_THREE_AC', 'A_MEANS_THREE_AS','A_MEANS_THREE_FTHG', 'A_MEANS_THREE_HC', 'A_MEANS_THREE_HF','A_MEANS_THREE_HS', 'H_MEANS_THREE_AC', 'H_MEANS_THREE_AS','H_MEANS_THREE_FTHG', 'H_MEANS_THREE_HC', 'H_MEANS_THREE_HST','A_STD_FIVE_AF', 'A_STD_FIVE_AST', 'A_STD_FIVE_HC', 'A_STD_FIVE_HF','A_STD_FIVE_HS', 'H_STD_FIVE_AF', 'H_STD_FIVE_AS', 'H_STD_FIVE_AST','H_STD_FIVE_HC', 'H_STD_FIVE_HF', 'H_STD_FIVE_HST','H_STD_FIVE_HTHG', 'H_STD_THREE_AS', 'H_STD_THREE_HST']\n",
    "best_features_NB = ['A_MEANS_FIVE_AC', 'A_MEANS_FIVE_AS', 'A_MEANS_FIVE_AST','A_MEANS_FIVE_FTAG', 'A_MEANS_FIVE_FTHG', 'A_MEANS_FIVE_FTR_H','A_MEANS_FIVE_HC', 'A_MEANS_FIVE_HS', 'A_MEANS_FIVE_HST','A_MEANS_FIVE_HTR_A', 'H_MEANS_FIVE_AC', 'H_MEANS_FIVE_AS','H_MEANS_FIVE_AST', 'H_MEANS_FIVE_AY', 'H_MEANS_FIVE_FTAG','H_MEANS_FIVE_FTHG', 'H_MEANS_FIVE_FTR_A', 'H_MEANS_FIVE_FTR_H','H_MEANS_FIVE_HC', 'H_MEANS_FIVE_HS', 'H_MEANS_FIVE_HST','H_MEANS_FIVE_HTR_H', 'A_MEANS_THREE_AC', 'A_MEANS_THREE_AS','A_MEANS_THREE_FTHG', 'A_MEANS_THREE_HS', 'H_MEANS_THREE_AS','A_STD_FIVE_HF', 'H_STD_FIVE_HC', 'H_STD_FIVE_HST']\n",
    "best_features_MLP = ['A_MEANS_FIVE_AC', 'A_MEANS_FIVE_AS', 'A_MEANS_FIVE_AST','A_MEANS_FIVE_FTAG', 'A_MEANS_FIVE_FTHG', 'A_MEANS_FIVE_FTR_H','A_MEANS_FIVE_HC', 'A_MEANS_FIVE_HS', 'A_MEANS_FIVE_HST','A_MEANS_FIVE_HTR_A', 'H_MEANS_FIVE_AC', 'H_MEANS_FIVE_AS','H_MEANS_FIVE_AST', 'H_MEANS_FIVE_AY', 'H_MEANS_FIVE_FTAG','H_MEANS_FIVE_FTHG', 'H_MEANS_FIVE_FTR_A', 'H_MEANS_FIVE_FTR_H','H_MEANS_FIVE_HC', 'H_MEANS_FIVE_HS', 'H_MEANS_FIVE_HST','H_MEANS_FIVE_HTR_H', 'A_MEANS_THREE_AC', 'A_MEANS_THREE_AS','A_MEANS_THREE_FTHG', 'A_MEANS_THREE_HS', 'H_MEANS_THREE_AS','A_STD_FIVE_HF', 'H_STD_FIVE_HC', 'H_STD_FIVE_HST']\n",
    "best_features_LDA = ['A_MEANS_FIVE_AS', 'A_MEANS_FIVE_FTAG', 'A_MEANS_FIVE_HC','A_MEANS_FIVE_HS', 'H_MEANS_FIVE_AS', 'H_MEANS_FIVE_AST','H_MEANS_FIVE_FTHG', 'H_MEANS_FIVE_HC', 'H_MEANS_FIVE_HS','H_MEANS_FIVE_HST']\n",
    "best_features_KNN = ['A_MEANS_FIVE_AC', 'A_MEANS_FIVE_AS', 'A_MEANS_FIVE_AST','A_MEANS_FIVE_FTAG', 'A_MEANS_FIVE_HC', 'A_MEANS_FIVE_HS','A_MEANS_FIVE_HST', 'A_MEANS_FIVE_HTR_A', 'H_MEANS_FIVE_AC','H_MEANS_FIVE_AS', 'H_MEANS_FIVE_AST', 'H_MEANS_FIVE_AY','H_MEANS_FIVE_FTAG', 'H_MEANS_FIVE_FTHG', 'H_MEANS_FIVE_FTR_A','H_MEANS_FIVE_HC', 'H_MEANS_FIVE_HS', 'H_MEANS_FIVE_HST','A_MEANS_THREE_AS', 'A_MEANS_THREE_HS', 'A_STD_FIVE_HF']\n",
    "best_features_ExraTree = ['A_MEANS_FIVE_AC', 'A_MEANS_FIVE_AS', 'A_MEANS_FIVE_AST','A_MEANS_FIVE_FTAG', 'A_MEANS_FIVE_FTHG', 'A_MEANS_FIVE_FTR_A','A_MEANS_FIVE_FTR_H', 'A_MEANS_FIVE_HC', 'A_MEANS_FIVE_HF','A_MEANS_FIVE_HS', 'A_MEANS_FIVE_HST', 'A_MEANS_FIVE_HTHG','A_MEANS_FIVE_HTR_A', 'A_MEANS_FIVE_HY', 'H_MEANS_FIVE_AC','H_MEANS_FIVE_AS', 'H_MEANS_FIVE_AST', 'H_MEANS_FIVE_AY','H_MEANS_FIVE_FTAG', 'H_MEANS_FIVE_FTHG', 'H_MEANS_FIVE_FTR_A','H_MEANS_FIVE_FTR_H', 'H_MEANS_FIVE_HC', 'H_MEANS_FIVE_HF','H_MEANS_FIVE_HS', 'H_MEANS_FIVE_HST', 'H_MEANS_FIVE_HTAG','H_MEANS_FIVE_HTR_H', 'A_MEANS_THREE_AC', 'A_MEANS_THREE_AS','A_MEANS_THREE_FTHG', 'A_MEANS_THREE_FTR_A', 'A_MEANS_THREE_HC','A_MEANS_THREE_HF', 'A_MEANS_THREE_HS', 'A_MEANS_THREE_HST','H_MEANS_THREE_AC', 'H_MEANS_THREE_AS', 'H_MEANS_THREE_FTHG','H_MEANS_THREE_HC', 'H_MEANS_THREE_HST', 'H_MEANS_THREE_HTR_H','A_STD_FIVE_AF', 'A_STD_FIVE_AST', 'A_STD_FIVE_HC', 'A_STD_FIVE_HF','A_STD_FIVE_HS', 'H_STD_FIVE_AF', 'H_STD_FIVE_AS', 'H_STD_FIVE_AST','H_STD_FIVE_HC', 'H_STD_FIVE_HF', 'H_STD_FIVE_HST','H_STD_FIVE_HTHG', 'H_STD_THREE_AS', 'H_STD_THREE_HST']\n",
    "best_features_ElasticNEt = ['A_MEANS_FIVE_AC', 'A_MEANS_FIVE_AS', 'A_MEANS_FIVE_AST','A_MEANS_FIVE_FTAG', 'A_MEANS_FIVE_FTR_H', 'A_MEANS_FIVE_HC','A_MEANS_FIVE_HS', 'A_MEANS_FIVE_HST', 'A_MEANS_FIVE_HTR_A','H_MEANS_FIVE_AC', 'H_MEANS_FIVE_AS', 'H_MEANS_FIVE_AST','H_MEANS_FIVE_AY', 'H_MEANS_FIVE_FTAG', 'H_MEANS_FIVE_FTHG','H_MEANS_FIVE_FTR_A', 'H_MEANS_FIVE_HC', 'H_MEANS_FIVE_HS','H_MEANS_FIVE_HST', 'A_MEANS_THREE_AS', 'A_MEANS_THREE_FTHG','A_MEANS_THREE_HS', 'A_STD_FIVE_HF', 'H_STD_FIVE_HST']\n",
    "best_features_bagging = ['A_MEANS_FIVE_AS', 'A_MEANS_FIVE_AST', 'A_MEANS_FIVE_FTAG','A_MEANS_FIVE_HC', 'A_MEANS_FIVE_HS', 'A_MEANS_FIVE_HST','H_MEANS_FIVE_AC', 'H_MEANS_FIVE_AS', 'H_MEANS_FIVE_AST','H_MEANS_FIVE_AY', 'H_MEANS_FIVE_FTHG', 'H_MEANS_FIVE_FTR_A','H_MEANS_FIVE_HC', 'H_MEANS_FIVE_HS', 'H_MEANS_FIVE_HST','A_MEANS_THREE_HS']\n",
    "best_features_AdaBoost = ['A_MEANS_FIVE_AC', 'A_MEANS_FIVE_AS', 'A_MEANS_FIVE_AST','A_MEANS_FIVE_FTAG', 'A_MEANS_FIVE_FTHG', 'A_MEANS_FIVE_FTR_H','A_MEANS_FIVE_HC', 'A_MEANS_FIVE_HS', 'A_MEANS_FIVE_HST','A_MEANS_FIVE_HTR_A', 'A_MEANS_FIVE_HY', 'H_MEANS_FIVE_AC','H_MEANS_FIVE_AS', 'H_MEANS_FIVE_AST', 'H_MEANS_FIVE_AY','H_MEANS_FIVE_FTAG', 'H_MEANS_FIVE_FTHG', 'H_MEANS_FIVE_FTR_A','H_MEANS_FIVE_FTR_H', 'H_MEANS_FIVE_HC', 'H_MEANS_FIVE_HS','H_MEANS_FIVE_HST', 'H_MEANS_FIVE_HTR_H', 'A_MEANS_THREE_AC','A_MEANS_THREE_AS', 'A_MEANS_THREE_FTHG', 'A_MEANS_THREE_HS','H_MEANS_THREE_AS', 'H_MEANS_THREE_HC', 'A_STD_FIVE_AST','A_STD_FIVE_HF', 'H_STD_FIVE_AF', 'H_STD_FIVE_HC','H_STD_FIVE_HST']\n",
    "best_features_LR = ['A_MEANS_FIVE_AC', 'A_MEANS_FIVE_AS', 'A_MEANS_FIVE_AST','A_MEANS_FIVE_FTAG', 'A_MEANS_FIVE_FTHG', 'A_MEANS_FIVE_FTR_H','A_MEANS_FIVE_HC', 'A_MEANS_FIVE_HF', 'A_MEANS_FIVE_HS','A_MEANS_FIVE_HST', 'A_MEANS_FIVE_HTR_A', 'A_MEANS_FIVE_HY','H_MEANS_FIVE_AC', 'H_MEANS_FIVE_AS', 'H_MEANS_FIVE_AST','H_MEANS_FIVE_AY', 'H_MEANS_FIVE_FTAG', 'H_MEANS_FIVE_FTHG','H_MEANS_FIVE_FTR_A', 'H_MEANS_FIVE_FTR_H', 'H_MEANS_FIVE_HC','H_MEANS_FIVE_HF', 'H_MEANS_FIVE_HS', 'H_MEANS_FIVE_HST','H_MEANS_FIVE_HTAG', 'H_MEANS_FIVE_HTR_H', 'A_MEANS_THREE_AC','A_MEANS_THREE_AS', 'A_MEANS_THREE_FTHG', 'A_MEANS_THREE_HF','A_MEANS_THREE_HS', 'H_MEANS_THREE_AS', 'H_MEANS_THREE_HC','A_STD_FIVE_AST', 'A_STD_FIVE_HC', 'A_STD_FIVE_HF', 'A_STD_FIVE_HS','H_STD_FIVE_AF', 'H_STD_FIVE_AS', 'H_STD_FIVE_AST', 'H_STD_FIVE_HC','H_STD_FIVE_HF', 'H_STD_FIVE_HST']\n",
    "best_features_GB = ['A_MEANS_FIVE_AC', 'A_MEANS_FIVE_AS', 'A_MEANS_FIVE_AST','A_MEANS_FIVE_FTAG', 'A_MEANS_FIVE_FTHG', 'A_MEANS_FIVE_FTR_A','A_MEANS_FIVE_FTR_H', 'A_MEANS_FIVE_HC', 'A_MEANS_FIVE_HF','A_MEANS_FIVE_HS', 'A_MEANS_FIVE_HST', 'A_MEANS_FIVE_HTHG','A_MEANS_FIVE_HTR_A', 'A_MEANS_FIVE_HY', 'H_MEANS_FIVE_AC','H_MEANS_FIVE_AS', 'H_MEANS_FIVE_AST', 'H_MEANS_FIVE_AY','H_MEANS_FIVE_FTAG', 'H_MEANS_FIVE_FTHG', 'H_MEANS_FIVE_FTR_A','H_MEANS_FIVE_FTR_H', 'H_MEANS_FIVE_HC', 'H_MEANS_FIVE_HF','H_MEANS_FIVE_HS', 'H_MEANS_FIVE_HST', 'H_MEANS_FIVE_HTAG','H_MEANS_FIVE_HTR_H', 'A_MEANS_THREE_AC', 'A_MEANS_THREE_AS','A_MEANS_THREE_FTHG', 'A_MEANS_THREE_HC', 'A_MEANS_THREE_HF','A_MEANS_THREE_HS', 'H_MEANS_THREE_AC', 'H_MEANS_THREE_AS','H_MEANS_THREE_FTHG', 'H_MEANS_THREE_HC', 'H_MEANS_THREE_HST','A_STD_FIVE_AF', 'A_STD_FIVE_AST', 'A_STD_FIVE_HC', 'A_STD_FIVE_HF','A_STD_FIVE_HS', 'H_STD_FIVE_AF', 'H_STD_FIVE_AS', 'H_STD_FIVE_AST','H_STD_FIVE_HC', 'H_STD_FIVE_HF', 'H_STD_FIVE_HST','H_STD_FIVE_HTHG', 'H_STD_THREE_AS', 'H_STD_THREE_HST']"
   ]
  },
  {
   "cell_type": "code",
   "execution_count": 7,
   "metadata": {
    "collapsed": true
   },
   "outputs": [],
   "source": [
    "# Construct layer 1\n",
    "# [Model_name, Preprocessing_needed, calibration, model_with_hyperparameter, feature_list]\n",
    "layer_1 = [\n",
    "    ['DNN_adam_all', True, 'sigmoid', KerasClassifier(build_fn=create_DNN_model_adam_all,verbose=0,batch_size=1500,epochs=3), all_features],\n",
    "    ['DNN_adam_bf', True, 'isotonic', KerasClassifier(build_fn=create_DNN_model_adam_38,verbose=0,batch_size=1500,epochs=3), best_features_DNN_adam_38],\n",
    "    ['DNN_sgd_all', True, 'sigmoid', KerasClassifier(build_fn=create_DNN_model_sgd_all,verbose=0,batch_size=80,epochs=5), all_features],\n",
    "    ['DNN_sgd_bf', True, 'isotonic', KerasClassifier(build_fn=create_DNN_model_sgd_56,verbose=0,batch_size=80,epochs=5), best_features_DNN_SGD_56],\n",
    "    ['XGBoost_all', False, 'sigmoid', XGBClassifier(learning_rate =0.01,n_estimators=572,max_depth=3,min_child_weight=5,gamma=0,subsample=0.9,colsample_bytree=0.9,objective= 'binary:logistic',nthread=4,scale_pos_weight=1,seed=15), all_features],\n",
    "    ['XGBoost_bf', False, 'no', XGBClassifier(learning_rate =0.01,n_estimators=716,max_depth=3,min_child_weight=5,gamma=0,subsample=0.9,colsample_bytree=0.9,objective= 'binary:logistic',nthread=4,scale_pos_weight=1,seed=15), best_features_XGBoost_60],\n",
    "    ['SVM', True, 'sigmoid', SVC(random_state=0,C=0.02,kernel='linear',gamma=1,probability=True), best_features_SVM],\n",
    "    ['RF_all', False, 'isotonic', RandomForestClassifier(random_state=0, n_jobs=-1,criterion='entropy', max_depth=None, max_features='sqrt', min_samples_leaf=1, min_samples_split=2, n_estimators=360), all_features],\n",
    "    ['RF_bf', False, 'sigmoid', RandomForestClassifier(random_state=0, n_jobs=-1,criterion='entropy', max_depth=None, max_features='sqrt', min_samples_leaf=1, min_samples_split=2, n_estimators=360), best_features_RF],\n",
    "    ['NB', True, 'isotonic', GaussianNB(), best_features_NB],\n",
    "    ['MLP', True, 'no', MLPClassifier(random_state=0,activation='identity', alpha=3, hidden_layer_sizes=(10,), max_iter=200, solver= 'adam'), best_features_MLP],\n",
    "    ['LDA', True, 'no', LinearDiscriminantAnalysis(), best_features_LDA],\n",
    "    #['KNN', True, 'sigmoid', KNeighborsClassifier(n_jobs=-1,n_neighbors=200, p=2, weights='uniform'), best_features_KNN],\n",
    "    ['KNN', True, 'sigmoid', KNeighborsClassifier(n_jobs=-1,n_neighbors=50, p=2, weights='uniform'), best_features_KNN],\n",
    "    ['ExraTree', False, 'isotonic', ExtraTreesClassifier(random_state=0,n_jobs=-1,criterion='entropy',max_depth=30,max_features=None,min_samples_leaf=1,min_samples_split=16,n_estimators=350), best_features_ExraTree],\n",
    "    ['ElasticNEt', True, 'isotonic', SGDClassifier(random_state=0,alpha=0.0024, l1_ratio=0.64, loss='log', penalty='elasticnet'), best_features_ElasticNEt],\n",
    "    ['Bagging_max_sample', False, 'sigmoid', BaggingClassifier(random_state=0, n_jobs=-1,max_features=0.7, max_samples=1.0, n_estimators=100), all_features],\n",
    "    ['Bagging_min_sample_all', False, 'isotonic', BaggingClassifier(random_state=0, n_jobs=-1,max_features=0.5, max_samples=0.1, n_estimators=400), all_features],\n",
    "    ['Bagging_min_sample_bf', False, 'sigmoid', BaggingClassifier(random_state=0, n_jobs=-1,max_features=0.5, max_samples=0.1, n_estimators=400), best_features_bagging],\n",
    "    ['AdaBoost', False, 'sigmoid', AdaBoostClassifier(random_state=0,n_estimators=30), best_features_AdaBoost],\n",
    "    ['GB', False, 'isotonic', GradientBoostingClassifier(random_state=0,criterion='friedman_mse',loss='deviance',max_depth=20,max_features='log2',min_samples_leaf=3,min_samples_split=10,n_estimators=150), best_features_GB],\n",
    "    ['LR', True, 'no', LogisticRegression(random_state=0,n_jobs=-1,solver='liblinear',C=0.008,penalty='l1'), best_features_LR]\n",
    "]\n",
    "# For testing\n",
    "#layer_1 = [\n",
    "#    ['AdaBoost', False, 'sigmoid', AdaBoostClassifier(random_state=0,n_estimators=30), best_features_AdaBoost],\n",
    "#    ['NB', True, 'isotonic', GaussianNB(), best_features_NB],\n",
    "#    ['LR', True, 'no', LogisticRegression(random_state=0,n_jobs=-1,solver='liblinear',C=0.008,penalty='l1'), best_features_LR]\n",
    "#]"
   ]
  },
  {
   "cell_type": "code",
   "execution_count": 8,
   "metadata": {
    "collapsed": true
   },
   "outputs": [],
   "source": [
    "# Define all different features dataset for layer 2\n",
    "#to_remove = ['A_MEANS_FIVE_FTAG', 'A_MEANS_FIVE_HF', 'A_MEANS_FIVE_HS','A_MEANS_FIVE_HTR_D', 'H_MEANS_FIVE_AF', 'H_MEANS_FIVE_AY','H_MEANS_FIVE_HF', 'A_MEANS_THREE_AF', 'A_MEANS_THREE_HF','H_MEANS_THREE_AF', 'A_STD_FIVE_HF', 'H_STD_FIVE_AS','H_STD_FIVE_AST', 'H_STD_FIVE_FTHG', 'H_STD_FIVE_HTAG','H_STD_FIVE_HY', 'NB', 'AdaBoost']\n",
    "best_feature_L2_ET = ['A_MEANS_FIVE_FTAG', 'A_MEANS_FIVE_HS', 'H_MEANS_FIVE_AF','H_MEANS_FIVE_HF', 'A_MEANS_THREE_AF', 'A_MEANS_THREE_HF','H_MEANS_THREE_AF', 'A_STD_FIVE_HF', 'H_STD_FIVE_AS','H_STD_FIVE_AST', 'H_STD_FIVE_HY', 'DNN_adam_all', 'DNN_adam_bf','DNN_sgd_bf', 'XGBoost_all', 'XGBoost_bf', 'SVM', 'RF_all','RF_bf', 'NB', 'MLP', 'LDA', 'KNN', 'ElasticNEt','Bagging_max_sample', 'Bagging_min_sample_bf', 'AdaBoost', 'GB']\n",
    "best_features_L2_NB = ['A_MEANS_FIVE_FTAG', 'A_MEANS_FIVE_HF', 'A_MEANS_FIVE_HS','A_MEANS_FIVE_HTR_D', 'H_MEANS_FIVE_AF', 'H_MEANS_FIVE_AY','H_MEANS_FIVE_HF', 'A_MEANS_THREE_AF', 'A_MEANS_THREE_HF','H_MEANS_THREE_AF', 'A_STD_FIVE_HF', 'H_STD_FIVE_AS','H_STD_FIVE_AST', 'H_STD_FIVE_FTHG', 'H_STD_FIVE_HTAG','H_STD_FIVE_HY', 'DNN_adam_all', 'DNN_adam_bf', 'DNN_sgd_all','DNN_sgd_bf', 'XGBoost_all', 'XGBoost_bf', 'SVM', 'RF_all','RF_bf', 'NB', 'MLP', 'LDA', 'KNN', 'ExraTree', 'ElasticNEt','Bagging_max_sample', 'Bagging_min_sample_all','Bagging_min_sample_bf', 'AdaBoost', 'GB']\n",
    "best_features_L2_MLP = ['DNN_sgd_bf', 'RF_all', 'RF_bf', 'NB', 'MLP', 'LDA', 'KNN','Bagging_min_sample_bf']\n",
    "best_features_L2_LR = ['A_MEANS_FIVE_AC','A_MEANS_FIVE_AF','A_MEANS_FIVE_AS','A_MEANS_FIVE_AST','A_MEANS_FIVE_AY','A_MEANS_FIVE_FTAG','A_MEANS_FIVE_FTR_H','A_MEANS_FIVE_HC','A_MEANS_FIVE_HF','A_MEANS_FIVE_HS','A_MEANS_FIVE_HTR_D','A_MEANS_FIVE_HTR_H','A_MEANS_FIVE_HY','H_MEANS_FIVE_AC','H_MEANS_FIVE_AF','H_MEANS_FIVE_AS','H_MEANS_FIVE_AST','H_MEANS_FIVE_AY','H_MEANS_FIVE_FTAG','H_MEANS_FIVE_FTHG','H_MEANS_FIVE_FTR_A','H_MEANS_FIVE_HC','H_MEANS_FIVE_HF','H_MEANS_FIVE_HR','H_MEANS_FIVE_HST','H_MEANS_FIVE_HTAG','H_MEANS_FIVE_HTR_H','H_MEANS_FIVE_HY','A_MEANS_THREE_AC','A_MEANS_THREE_AF','A_MEANS_THREE_AS','A_MEANS_THREE_FTHG','A_MEANS_THREE_HC','A_MEANS_THREE_HF','A_MEANS_THREE_HS','A_MEANS_THREE_HST','A_MEANS_THREE_HTR_D','A_MEANS_THREE_HY','H_MEANS_THREE_AC','H_MEANS_THREE_AF','H_MEANS_THREE_FTHG','H_MEANS_THREE_HF','H_MEANS_THREE_HS','H_MEANS_THREE_HST','H_MEANS_THREE_HY','A_STD_FIVE_AC','A_STD_FIVE_AF','A_STD_FIVE_AST','A_STD_FIVE_AY','A_STD_FIVE_FTAG','A_STD_FIVE_FTHG','A_STD_FIVE_FTR_D','A_STD_FIVE_FTR_H','A_STD_FIVE_HC','A_STD_FIVE_HF','A_STD_FIVE_HS','A_STD_FIVE_HST','A_STD_FIVE_HY','H_STD_FIVE_AC','H_STD_FIVE_AF','H_STD_FIVE_AS','H_STD_FIVE_AST','H_STD_FIVE_AY','H_STD_FIVE_FTAG','H_STD_FIVE_FTHG','H_STD_FIVE_HF','H_STD_FIVE_HS','H_STD_FIVE_HST','H_STD_FIVE_HTAG','H_STD_FIVE_HTHG','H_STD_FIVE_HY','A_STD_THREE_AF','A_STD_THREE_AS','A_STD_THREE_AST','A_STD_THREE_FTHG','A_STD_THREE_HC','A_STD_THREE_HF','A_STD_THREE_HS','A_STD_THREE_HST','H_STD_THREE_AF','H_STD_THREE_AS','H_STD_THREE_AST','H_STD_THREE_FTAG','H_STD_THREE_FTHG','H_STD_THREE_HF','H_STD_THREE_HS','H_STD_THREE_HST','H_STD_THREE_HTHG','H_STD_THREE_HY','DNN_adam_all','DNN_adam_bf','DNN_sgd_all','DNN_sgd_bf','XGBoost_all','XGBoost_bf','SVM','RF_all','RF_bf','NB','MLP','LDA','KNN','ExraTree','ElasticNEt','Bagging_max_sample','Bagging_min_sample_all','Bagging_min_sample_bf','AdaBoost','GB','LR']\n",
    "\n",
    "# Define all different features dataset\n",
    "all_feature_L2 = ['A_MEANS_FIVE_AC','A_MEANS_FIVE_AF','A_MEANS_FIVE_AR','A_MEANS_FIVE_AS','A_MEANS_FIVE_AST','A_MEANS_FIVE_AY','A_MEANS_FIVE_FTAG','A_MEANS_FIVE_FTHG','A_MEANS_FIVE_FTR_A','A_MEANS_FIVE_FTR_D','A_MEANS_FIVE_FTR_H','A_MEANS_FIVE_HC','A_MEANS_FIVE_HF','A_MEANS_FIVE_HR','A_MEANS_FIVE_HS','A_MEANS_FIVE_HST','A_MEANS_FIVE_HTAG','A_MEANS_FIVE_HTHG','A_MEANS_FIVE_HTR_A','A_MEANS_FIVE_HTR_D','A_MEANS_FIVE_HTR_H','A_MEANS_FIVE_HY','H_MEANS_FIVE_AC','H_MEANS_FIVE_AF','H_MEANS_FIVE_AR','H_MEANS_FIVE_AS','H_MEANS_FIVE_AST','H_MEANS_FIVE_AY','H_MEANS_FIVE_FTAG','H_MEANS_FIVE_FTHG','H_MEANS_FIVE_FTR_A','H_MEANS_FIVE_FTR_D','H_MEANS_FIVE_FTR_H','H_MEANS_FIVE_HC','H_MEANS_FIVE_HF','H_MEANS_FIVE_HR','H_MEANS_FIVE_HS','H_MEANS_FIVE_HST','H_MEANS_FIVE_HTAG','H_MEANS_FIVE_HTHG','H_MEANS_FIVE_HTR_A','H_MEANS_FIVE_HTR_D','H_MEANS_FIVE_HTR_H','H_MEANS_FIVE_HY','A_MEANS_THREE_AC','A_MEANS_THREE_AF','A_MEANS_THREE_AR','A_MEANS_THREE_AS','A_MEANS_THREE_AST','A_MEANS_THREE_AY','A_MEANS_THREE_FTAG','A_MEANS_THREE_FTHG','A_MEANS_THREE_FTR_A','A_MEANS_THREE_FTR_D','A_MEANS_THREE_FTR_H','A_MEANS_THREE_HC','A_MEANS_THREE_HF','A_MEANS_THREE_HR','A_MEANS_THREE_HS','A_MEANS_THREE_HST','A_MEANS_THREE_HTAG','A_MEANS_THREE_HTHG','A_MEANS_THREE_HTR_A','A_MEANS_THREE_HTR_D','A_MEANS_THREE_HTR_H','A_MEANS_THREE_HY','H_MEANS_THREE_AC','H_MEANS_THREE_AF','H_MEANS_THREE_AR','H_MEANS_THREE_AS','H_MEANS_THREE_AST','H_MEANS_THREE_AY','H_MEANS_THREE_FTAG','H_MEANS_THREE_FTHG','H_MEANS_THREE_FTR_A','H_MEANS_THREE_FTR_D','H_MEANS_THREE_FTR_H','H_MEANS_THREE_HC','H_MEANS_THREE_HF','H_MEANS_THREE_HR','H_MEANS_THREE_HS','H_MEANS_THREE_HST','H_MEANS_THREE_HTAG','H_MEANS_THREE_HTHG','H_MEANS_THREE_HTR_A','H_MEANS_THREE_HTR_D','H_MEANS_THREE_HTR_H','H_MEANS_THREE_HY','A_STD_FIVE_AC','A_STD_FIVE_AF','A_STD_FIVE_AR','A_STD_FIVE_AS','A_STD_FIVE_AST','A_STD_FIVE_AY','A_STD_FIVE_FTAG','A_STD_FIVE_FTHG','A_STD_FIVE_FTR_A','A_STD_FIVE_FTR_D','A_STD_FIVE_FTR_H','A_STD_FIVE_HC','A_STD_FIVE_HF','A_STD_FIVE_HR','A_STD_FIVE_HS','A_STD_FIVE_HST','A_STD_FIVE_HTAG','A_STD_FIVE_HTHG','A_STD_FIVE_HTR_A','A_STD_FIVE_HTR_D','A_STD_FIVE_HTR_H','A_STD_FIVE_HY','H_STD_FIVE_AC','H_STD_FIVE_AF','H_STD_FIVE_AR','H_STD_FIVE_AS','H_STD_FIVE_AST','H_STD_FIVE_AY','H_STD_FIVE_FTAG','H_STD_FIVE_FTHG','H_STD_FIVE_FTR_A','H_STD_FIVE_FTR_D','H_STD_FIVE_FTR_H','H_STD_FIVE_HC','H_STD_FIVE_HF','H_STD_FIVE_HR','H_STD_FIVE_HS','H_STD_FIVE_HST','H_STD_FIVE_HTAG','H_STD_FIVE_HTHG','H_STD_FIVE_HTR_A','H_STD_FIVE_HTR_D','H_STD_FIVE_HTR_H','H_STD_FIVE_HY','A_STD_THREE_AC','A_STD_THREE_AF','A_STD_THREE_AR','A_STD_THREE_AS','A_STD_THREE_AST','A_STD_THREE_AY','A_STD_THREE_FTAG','A_STD_THREE_FTHG','A_STD_THREE_FTR_A','A_STD_THREE_FTR_D','A_STD_THREE_FTR_H','A_STD_THREE_HC','A_STD_THREE_HF','A_STD_THREE_HR','A_STD_THREE_HS','A_STD_THREE_HST','A_STD_THREE_HTAG','A_STD_THREE_HTHG','A_STD_THREE_HTR_A','A_STD_THREE_HTR_D','A_STD_THREE_HTR_H','A_STD_THREE_HY','H_STD_THREE_AC','H_STD_THREE_AF','H_STD_THREE_AR','H_STD_THREE_AS','H_STD_THREE_AST','H_STD_THREE_AY','H_STD_THREE_FTAG','H_STD_THREE_FTHG','H_STD_THREE_FTR_A','H_STD_THREE_FTR_D','H_STD_THREE_FTR_H','H_STD_THREE_HC','H_STD_THREE_HF','H_STD_THREE_HR','H_STD_THREE_HS','H_STD_THREE_HST','H_STD_THREE_HTAG','H_STD_THREE_HTHG','H_STD_THREE_HTR_A','H_STD_THREE_HTR_D','H_STD_THREE_HTR_H','H_STD_THREE_HY','DNN_adam_all','DNN_adam_bf','DNN_sgd_all','DNN_sgd_bf','XGBoost_all','XGBoost_bf','SVM','RF_all','RF_bf','NB','MLP','LDA','KNN','ExraTree','ElasticNEt','Bagging_max_sample','Bagging_min_sample_all','Bagging_min_sample_bf','AdaBoost','GB','LR']\n",
    "best_features_L2_NB = ['A_MEANS_FIVE_FTAG', 'A_MEANS_FIVE_HF', 'A_MEANS_FIVE_HS','A_MEANS_FIVE_HTR_D', 'H_MEANS_FIVE_AF', 'H_MEANS_FIVE_AY','H_MEANS_FIVE_HF', 'A_MEANS_THREE_AF', 'A_MEANS_THREE_HF','H_MEANS_THREE_AF', 'A_STD_FIVE_HF', 'H_STD_FIVE_AS','H_STD_FIVE_AST', 'H_STD_FIVE_FTHG', 'H_STD_FIVE_HTAG','H_STD_FIVE_HY', 'DNN_adam_all', 'DNN_adam_bf', 'DNN_sgd_all','DNN_sgd_bf', 'XGBoost_all', 'XGBoost_bf', 'SVM', 'RF_all','RF_bf', 'NB', 'MLP', 'LDA', 'KNN', 'ExraTree', 'ElasticNEt','Bagging_max_sample', 'Bagging_min_sample_all','Bagging_min_sample_bf', 'AdaBoost', 'GB']\n",
    "best_features_L2_MLP = ['DNN_sgd_bf', 'RF_all', 'RF_bf', 'NB', 'MLP', 'LDA', 'KNN','Bagging_min_sample_bf']\n",
    "best_feature_L2_ET = ['A_MEANS_FIVE_FTAG', 'A_MEANS_FIVE_HS', 'H_MEANS_FIVE_AF','H_MEANS_FIVE_HF', 'A_MEANS_THREE_AF', 'A_MEANS_THREE_HF','H_MEANS_THREE_AF', 'A_STD_FIVE_HF', 'H_STD_FIVE_AS','H_STD_FIVE_AST', 'H_STD_FIVE_HY', 'DNN_adam_all', 'DNN_adam_bf','DNN_sgd_bf', 'XGBoost_all', 'XGBoost_bf', 'SVM', 'RF_all','RF_bf', 'NB', 'MLP', 'LDA', 'KNN', 'ElasticNEt','Bagging_max_sample', 'Bagging_min_sample_bf', 'AdaBoost', 'GB']\n",
    "best_features_L2_LR = ['A_MEANS_FIVE_AC','A_MEANS_FIVE_AF','A_MEANS_FIVE_AS','A_MEANS_FIVE_AST','A_MEANS_FIVE_AY','A_MEANS_FIVE_FTAG','A_MEANS_FIVE_FTR_H','A_MEANS_FIVE_HC','A_MEANS_FIVE_HF','A_MEANS_FIVE_HS','A_MEANS_FIVE_HTR_D','A_MEANS_FIVE_HTR_H','A_MEANS_FIVE_HY','H_MEANS_FIVE_AC','H_MEANS_FIVE_AF','H_MEANS_FIVE_AS','H_MEANS_FIVE_AST','H_MEANS_FIVE_AY','H_MEANS_FIVE_FTAG','H_MEANS_FIVE_FTHG','H_MEANS_FIVE_FTR_A','H_MEANS_FIVE_HC','H_MEANS_FIVE_HF','H_MEANS_FIVE_HR','H_MEANS_FIVE_HST','H_MEANS_FIVE_HTAG','H_MEANS_FIVE_HTR_H','H_MEANS_FIVE_HY','A_MEANS_THREE_AC','A_MEANS_THREE_AF','A_MEANS_THREE_AS','A_MEANS_THREE_FTHG','A_MEANS_THREE_HC','A_MEANS_THREE_HF','A_MEANS_THREE_HS','A_MEANS_THREE_HST','A_MEANS_THREE_HTR_D','A_MEANS_THREE_HY','H_MEANS_THREE_AC','H_MEANS_THREE_AF','H_MEANS_THREE_FTHG','H_MEANS_THREE_HF','H_MEANS_THREE_HS','H_MEANS_THREE_HST','H_MEANS_THREE_HY','A_STD_FIVE_AC','A_STD_FIVE_AF','A_STD_FIVE_AST','A_STD_FIVE_AY','A_STD_FIVE_FTAG','A_STD_FIVE_FTHG','A_STD_FIVE_FTR_D','A_STD_FIVE_FTR_H','A_STD_FIVE_HC','A_STD_FIVE_HF','A_STD_FIVE_HS','A_STD_FIVE_HST','A_STD_FIVE_HY','H_STD_FIVE_AC','H_STD_FIVE_AF','H_STD_FIVE_AS','H_STD_FIVE_AST','H_STD_FIVE_AY','H_STD_FIVE_FTAG','H_STD_FIVE_FTHG','H_STD_FIVE_HF','H_STD_FIVE_HS','H_STD_FIVE_HST','H_STD_FIVE_HTAG','H_STD_FIVE_HTHG','H_STD_FIVE_HY','A_STD_THREE_AF','A_STD_THREE_AS','A_STD_THREE_AST','A_STD_THREE_FTHG','A_STD_THREE_HC','A_STD_THREE_HF','A_STD_THREE_HS','A_STD_THREE_HST','H_STD_THREE_AF','H_STD_THREE_AS','H_STD_THREE_AST','H_STD_THREE_FTAG','H_STD_THREE_FTHG','H_STD_THREE_HF','H_STD_THREE_HS','H_STD_THREE_HST','H_STD_THREE_HTHG','H_STD_THREE_HY','DNN_adam_all','DNN_adam_bf','DNN_sgd_all','DNN_sgd_bf','XGBoost_all','XGBoost_bf','SVM','RF_all','RF_bf','NB','MLP','LDA','KNN','ExraTree','ElasticNEt','Bagging_max_sample','Bagging_min_sample_all','Bagging_min_sample_bf','AdaBoost','GB','LR']\n",
    "\n",
    "\n",
    "# Define all different features dataset\n",
    "#all_feature_L2 = ['A_MEANS_FIVE_AC','A_MEANS_FIVE_AF','A_MEANS_FIVE_AR','A_MEANS_FIVE_AS','A_MEANS_FIVE_AST','A_MEANS_FIVE_AY','A_MEANS_FIVE_FTAG','A_MEANS_FIVE_FTHG','A_MEANS_FIVE_FTR_A','A_MEANS_FIVE_FTR_D','A_MEANS_FIVE_FTR_H','A_MEANS_FIVE_HC','A_MEANS_FIVE_HF','A_MEANS_FIVE_HR','A_MEANS_FIVE_HS','A_MEANS_FIVE_HST','A_MEANS_FIVE_HTAG','A_MEANS_FIVE_HTHG','A_MEANS_FIVE_HTR_A','A_MEANS_FIVE_HTR_D','A_MEANS_FIVE_HTR_H','A_MEANS_FIVE_HY','H_MEANS_FIVE_AC','H_MEANS_FIVE_AF','H_MEANS_FIVE_AR','H_MEANS_FIVE_AS','H_MEANS_FIVE_AST','H_MEANS_FIVE_AY','H_MEANS_FIVE_FTAG','H_MEANS_FIVE_FTHG','H_MEANS_FIVE_FTR_A','H_MEANS_FIVE_FTR_D','H_MEANS_FIVE_FTR_H','H_MEANS_FIVE_HC','H_MEANS_FIVE_HF','H_MEANS_FIVE_HR','H_MEANS_FIVE_HS','H_MEANS_FIVE_HST','H_MEANS_FIVE_HTAG','H_MEANS_FIVE_HTHG','H_MEANS_FIVE_HTR_A','H_MEANS_FIVE_HTR_D','H_MEANS_FIVE_HTR_H','H_MEANS_FIVE_HY','A_MEANS_THREE_AC','A_MEANS_THREE_AF','A_MEANS_THREE_AR','A_MEANS_THREE_AS','A_MEANS_THREE_AST','A_MEANS_THREE_AY','A_MEANS_THREE_FTAG','A_MEANS_THREE_FTHG','A_MEANS_THREE_FTR_A','A_MEANS_THREE_FTR_D','A_MEANS_THREE_FTR_H','A_MEANS_THREE_HC','A_MEANS_THREE_HF','A_MEANS_THREE_HR','A_MEANS_THREE_HS','A_MEANS_THREE_HST','A_MEANS_THREE_HTAG','A_MEANS_THREE_HTHG','A_MEANS_THREE_HTR_A','A_MEANS_THREE_HTR_D','A_MEANS_THREE_HTR_H','A_MEANS_THREE_HY','H_MEANS_THREE_AC','H_MEANS_THREE_AF','H_MEANS_THREE_AR','H_MEANS_THREE_AS','H_MEANS_THREE_AST','H_MEANS_THREE_AY','H_MEANS_THREE_FTAG','H_MEANS_THREE_FTHG','H_MEANS_THREE_FTR_A','H_MEANS_THREE_FTR_D','H_MEANS_THREE_FTR_H','H_MEANS_THREE_HC','H_MEANS_THREE_HF','H_MEANS_THREE_HR','H_MEANS_THREE_HS','H_MEANS_THREE_HST','H_MEANS_THREE_HTAG','H_MEANS_THREE_HTHG','H_MEANS_THREE_HTR_A','H_MEANS_THREE_HTR_D','H_MEANS_THREE_HTR_H','H_MEANS_THREE_HY','A_STD_FIVE_AC','A_STD_FIVE_AF','A_STD_FIVE_AR','A_STD_FIVE_AS','A_STD_FIVE_AST','A_STD_FIVE_AY','A_STD_FIVE_FTAG','A_STD_FIVE_FTHG','A_STD_FIVE_FTR_A','A_STD_FIVE_FTR_D','A_STD_FIVE_FTR_H','A_STD_FIVE_HC','A_STD_FIVE_HF','A_STD_FIVE_HR','A_STD_FIVE_HS','A_STD_FIVE_HST','A_STD_FIVE_HTAG','A_STD_FIVE_HTHG','A_STD_FIVE_HTR_A','A_STD_FIVE_HTR_D','A_STD_FIVE_HTR_H','A_STD_FIVE_HY','H_STD_FIVE_AC','H_STD_FIVE_AF','H_STD_FIVE_AR','H_STD_FIVE_AS','H_STD_FIVE_AST','H_STD_FIVE_AY','H_STD_FIVE_FTAG','H_STD_FIVE_FTHG','H_STD_FIVE_FTR_A','H_STD_FIVE_FTR_D','H_STD_FIVE_FTR_H','H_STD_FIVE_HC','H_STD_FIVE_HF','H_STD_FIVE_HR','H_STD_FIVE_HS','H_STD_FIVE_HST','H_STD_FIVE_HTAG','H_STD_FIVE_HTHG','H_STD_FIVE_HTR_A','H_STD_FIVE_HTR_D','H_STD_FIVE_HTR_H','H_STD_FIVE_HY','A_STD_THREE_AC','A_STD_THREE_AF','A_STD_THREE_AR','A_STD_THREE_AS','A_STD_THREE_AST','A_STD_THREE_AY','A_STD_THREE_FTAG','A_STD_THREE_FTHG','A_STD_THREE_FTR_A','A_STD_THREE_FTR_D','A_STD_THREE_FTR_H','A_STD_THREE_HC','A_STD_THREE_HF','A_STD_THREE_HR','A_STD_THREE_HS','A_STD_THREE_HST','A_STD_THREE_HTAG','A_STD_THREE_HTHG','A_STD_THREE_HTR_A','A_STD_THREE_HTR_D','A_STD_THREE_HTR_H','A_STD_THREE_HY','H_STD_THREE_AC','H_STD_THREE_AF','H_STD_THREE_AR','H_STD_THREE_AS','H_STD_THREE_AST','H_STD_THREE_AY','H_STD_THREE_FTAG','H_STD_THREE_FTHG','H_STD_THREE_FTR_A','H_STD_THREE_FTR_D','H_STD_THREE_FTR_H','H_STD_THREE_HC','H_STD_THREE_HF','H_STD_THREE_HR','H_STD_THREE_HS','H_STD_THREE_HST','H_STD_THREE_HTAG','H_STD_THREE_HTHG','H_STD_THREE_HTR_A','H_STD_THREE_HTR_D','H_STD_THREE_HTR_H','H_STD_THREE_HY','XGBoost_all','XGBoost_bf','SVM','RF_all','RF_bf','NB','MLP','LDA','KNN','ExraTree','ElasticNEt','Bagging_max_sample','Bagging_min_sample_all','Bagging_min_sample_bf','AdaBoost','GB','LR']\n",
    "#best_features_L2_NB = ['A_MEANS_FIVE_FTAG', 'A_MEANS_FIVE_HF', 'A_MEANS_FIVE_HS','A_MEANS_FIVE_HTR_D', 'H_MEANS_FIVE_AF', 'H_MEANS_FIVE_AY','H_MEANS_FIVE_HF', 'A_MEANS_THREE_AF', 'A_MEANS_THREE_HF','H_MEANS_THREE_AF', 'A_STD_FIVE_HF', 'H_STD_FIVE_AS','H_STD_FIVE_AST', 'H_STD_FIVE_FTHG', 'H_STD_FIVE_HTAG','H_STD_FIVE_HY', 'XGBoost_all', 'XGBoost_bf', 'SVM', 'RF_all','RF_bf', 'NB', 'MLP', 'LDA', 'KNN', 'ExraTree', 'ElasticNEt','Bagging_max_sample', 'Bagging_min_sample_all','Bagging_min_sample_bf', 'AdaBoost', 'GB']\n",
    "#best_features_L2_MLP = ['XGBoost_all', 'RF_all', 'RF_bf', 'NB', 'MLP', 'LDA', 'KNN','Bagging_min_sample_bf']\n",
    "#best_feature_L2_ET = ['A_MEANS_FIVE_FTAG', 'A_MEANS_FIVE_HS', 'H_MEANS_FIVE_AF','H_MEANS_FIVE_HF', 'A_MEANS_THREE_AF', 'A_MEANS_THREE_HF','H_MEANS_THREE_AF', 'A_STD_FIVE_HF', 'H_STD_FIVE_AS','H_STD_FIVE_AST', 'H_STD_FIVE_HY', 'XGBoost_all', 'XGBoost_bf', 'SVM', 'RF_all','RF_bf', 'NB', 'MLP', 'LDA', 'KNN', 'ElasticNEt','Bagging_max_sample', 'Bagging_min_sample_bf', 'AdaBoost', 'GB']\n",
    "#best_features_L2_LR = ['A_MEANS_FIVE_AC','A_MEANS_FIVE_AF','A_MEANS_FIVE_AS','A_MEANS_FIVE_AST','A_MEANS_FIVE_AY','A_MEANS_FIVE_FTAG','A_MEANS_FIVE_FTR_H','A_MEANS_FIVE_HC','A_MEANS_FIVE_HF','A_MEANS_FIVE_HS','A_MEANS_FIVE_HTR_D','A_MEANS_FIVE_HTR_H','A_MEANS_FIVE_HY','H_MEANS_FIVE_AC','H_MEANS_FIVE_AF','H_MEANS_FIVE_AS','H_MEANS_FIVE_AST','H_MEANS_FIVE_AY','H_MEANS_FIVE_FTAG','H_MEANS_FIVE_FTHG','H_MEANS_FIVE_FTR_A','H_MEANS_FIVE_HC','H_MEANS_FIVE_HF','H_MEANS_FIVE_HR','H_MEANS_FIVE_HST','H_MEANS_FIVE_HTAG','H_MEANS_FIVE_HTR_H','H_MEANS_FIVE_HY','A_MEANS_THREE_AC','A_MEANS_THREE_AF','A_MEANS_THREE_AS','A_MEANS_THREE_FTHG','A_MEANS_THREE_HC','A_MEANS_THREE_HF','A_MEANS_THREE_HS','A_MEANS_THREE_HST','A_MEANS_THREE_HTR_D','A_MEANS_THREE_HY','H_MEANS_THREE_AC','H_MEANS_THREE_AF','H_MEANS_THREE_FTHG','H_MEANS_THREE_HF','H_MEANS_THREE_HS','H_MEANS_THREE_HST','H_MEANS_THREE_HY','A_STD_FIVE_AC','A_STD_FIVE_AF','A_STD_FIVE_AST','A_STD_FIVE_AY','A_STD_FIVE_FTAG','A_STD_FIVE_FTHG','A_STD_FIVE_FTR_D','A_STD_FIVE_FTR_H','A_STD_FIVE_HC','A_STD_FIVE_HF','A_STD_FIVE_HS','A_STD_FIVE_HST','A_STD_FIVE_HY','H_STD_FIVE_AC','H_STD_FIVE_AF','H_STD_FIVE_AS','H_STD_FIVE_AST','H_STD_FIVE_AY','H_STD_FIVE_FTAG','H_STD_FIVE_FTHG','H_STD_FIVE_HF','H_STD_FIVE_HS','H_STD_FIVE_HST','H_STD_FIVE_HTAG','H_STD_FIVE_HTHG','H_STD_FIVE_HY','A_STD_THREE_AF','A_STD_THREE_AS','A_STD_THREE_AST','A_STD_THREE_FTHG','A_STD_THREE_HC','A_STD_THREE_HF','A_STD_THREE_HS','A_STD_THREE_HST','H_STD_THREE_AF','H_STD_THREE_AS','H_STD_THREE_AST','H_STD_THREE_FTAG','H_STD_THREE_FTHG','H_STD_THREE_HF','H_STD_THREE_HS','H_STD_THREE_HST','H_STD_THREE_HTHG','H_STD_THREE_HY','XGBoost_all','XGBoost_bf','SVM','RF_all','RF_bf','NB','MLP','LDA','KNN','ExraTree','ElasticNEt','Bagging_max_sample','Bagging_min_sample_all','Bagging_min_sample_bf','AdaBoost','GB','LR']"
   ]
  },
  {
   "cell_type": "code",
   "execution_count": 9,
   "metadata": {
    "collapsed": true
   },
   "outputs": [],
   "source": [
    "# Construct layer 2\n",
    "layer_2 = [\n",
    "    ['NB', False, 'isotonic', GaussianNB(), best_features_L2_NB],\n",
    "    ['XGBoost_all', False, 'sigmoid', XGBClassifier(learning_rate =0.01,n_estimators=572,max_depth=3,min_child_weight=5,gamma=0,subsample=0.9,colsample_bytree=0.9,objective= 'binary:logistic',nthread=4,scale_pos_weight=1,seed=15), all_feature_L2],\n",
    "    ['ExtraTree', False, 'isotonic', ExtraTreesClassifier(random_state=0,n_jobs=-1,criterion='entropy',max_depth=30,max_features=None,min_samples_leaf=1,min_samples_split=16,n_estimators=350), best_feature_L2_ET],\n",
    "    ['MLP', False, 'no', MLPClassifier(random_state=0,activation='identity', alpha=3, hidden_layer_sizes=(10,), max_iter=200, solver= 'adam'), best_features_L2_MLP],\n",
    "    ['LR', False, 'no', LogisticRegression(random_state=0,n_jobs=-1,solver='liblinear',C=0.008,penalty='l1'), best_features_L2_LR]\n",
    "]"
   ]
  },
  {
   "cell_type": "code",
   "execution_count": 10,
   "metadata": {
    "collapsed": true
   },
   "outputs": [],
   "source": [
    "# Construct layer 3\n",
    "layer_3 = SGDClassifier(random_state=0,penalty='elasticnet',loss='log',alpha=0.0005,l1_ratio=0.4)"
   ]
  },
  {
   "cell_type": "code",
   "execution_count": 11,
   "metadata": {
    "collapsed": true
   },
   "outputs": [],
   "source": [
    "# Get dataset function\n",
    "def get_data(season_test, training_season_nb, train_one_league_only, train_league):\n",
    "    \n",
    "    # DB Sqlite connection\n",
    "    db = \"/Users/thibaultclement/Project/ligue1-predict/src/notebook/data/db/soccer_predict.sqlite\"\n",
    "    conn = sqlite3.connect(db)\n",
    "    cur = conn.cursor()\n",
    "    \n",
    "    # Get all prematch data\n",
    "    df = pd.read_sql_query(\"SELECT * FROM pre_matchs ORDER BY INFO_Date ASC;\", conn)\n",
    "    df = (df[df.columns.drop(['index'])])\n",
    "    \n",
    "    # Select a particular league\n",
    "    if train_one_league_only:\n",
    "        df = df[(df['INFO_Div'] == train_league)]\n",
    "    \n",
    "    # Remove all game between June (include) and October (include)\n",
    "    df['INFO_Date'] = pd.to_datetime(df['INFO_Date'])\n",
    "    df['INFO_Date'].dt.month\n",
    "    df = df[(df['INFO_Date'].dt.month < 6) | (df['INFO_Date'].dt.month > 10)]\n",
    "    \n",
    "    # Keep season_test for independant testing and don't use it for training\n",
    "    date_start_train_season = datetime.date(season_test-training_season_nb, 8, 1)\n",
    "    date_start_test_season = datetime.date(season_test, 8, 1)\n",
    "    date_end_test_season = datetime.date(season_test+1, 8, 1)\n",
    "    train_df = df[(df['INFO_Date'] > date_start_train_season) & (df['INFO_Date'] < date_start_test_season)].reset_index()\n",
    "    test_df = df[(df['INFO_Date'] > date_start_test_season) & (df['INFO_Date'] < date_end_test_season)].reset_index()\n",
    "    \n",
    "    # separate features (X) from target (y) for train and test set\n",
    "    X_train_df = pd.get_dummies(train_df[raw_features])\n",
    "    X_test_df = pd.get_dummies(test_df[raw_features])\n",
    "    y_train_df = pd.get_dummies(train_df)[target].astype('bool_')\n",
    "    y_test_df= pd.get_dummies(test_df)[target].astype('bool_')\n",
    "    \n",
    "    # Impute of missing values (NaN) with the mean\n",
    "    imp = Imputer(missing_values='NaN', strategy='mean', axis=0)\n",
    "    imp = imp.fit(X_train_df)\n",
    "    X_imputed = imp.transform(X_train_df)\n",
    "    X_train_df = pd.DataFrame(X_imputed, columns = X_train_df.columns)\n",
    "    imp = imp.fit(X_test_df) # TODO test with training fit only (inconvenient is that it would need to be save for reuse to predict)\n",
    "    X_imputed = imp.transform(X_test_df)\n",
    "    X_test_df = pd.DataFrame(X_imputed, columns = X_test_df.columns)\n",
    "    \n",
    "    return train_df, test_df, X_train_df, X_test_df, y_train_df, y_test_df"
   ]
  },
  {
   "cell_type": "code",
   "execution_count": 12,
   "metadata": {
    "collapsed": true
   },
   "outputs": [],
   "source": [
    "# Get k-fold function\n",
    "def get_kf(train_df, test_df):\n",
    "    ntrain = train_df.shape[0]\n",
    "    ntest = test_df.shape[0]\n",
    "    kf = KFold(ntrain, n_folds=NFOLDS, shuffle=True, random_state=0)\n",
    "    return kf"
   ]
  },
  {
   "cell_type": "code",
   "execution_count": 13,
   "metadata": {
    "collapsed": true
   },
   "outputs": [],
   "source": [
    "# Out of Fold model training and predict test function\n",
    "def get_oof(clf, x_train, x_test, y_train):\n",
    "    \n",
    "    # Prepare dataset\n",
    "    oof_train = np.zeros((x_train.shape[0],))\n",
    "    oof_test = np.zeros((x_test.shape[0],))\n",
    "    oof_test_skf = np.empty((NFOLDS, x_test.shape[0]))\n",
    "    \n",
    "    # Loop on all fold\n",
    "    for i, (train_index, test_index) in enumerate(get_kf(x_train, x_test)):\n",
    "        # Split data for training and prediction\n",
    "        x_tr = x_train[train_index]\n",
    "        y_tr = y_train_df[train_index]\n",
    "        x_te = x_train[test_index]\n",
    "        # Calibrate model by fitting on K-1 fold\n",
    "        clf.fit(x_tr, y_tr)\n",
    "        \n",
    "        # Predict the fold not use for fitting\n",
    "        oof_train[test_index] = clf.predict_proba(x_te)[:,1]\n",
    "        # Predict the test dataset\n",
    "        oof_test_skf[i, :] = clf.predict_proba(x_test)[:,1]\n",
    "    \n",
    "    # Keep as test prediction the mean of all prediction done by K-fold\n",
    "    oof_test[:] = oof_test_skf.mean(axis=0)\n",
    "    \n",
    "    # Return the prediction for train and test dataset\n",
    "    return oof_train.reshape(-1, 1), oof_test.reshape(-1, 1)"
   ]
  },
  {
   "cell_type": "code",
   "execution_count": 14,
   "metadata": {
    "collapsed": true
   },
   "outputs": [],
   "source": [
    "# Train model and predict test function\n",
    "def train_model(preprocessing, calibration, classifier, features, X_train_model, X_test_model, y_train_model):\n",
    "\n",
    "    # Check if we need to standardize X for this model (only for not tree based model)\n",
    "    if preprocessing:\n",
    "        sc_X = StandardScaler().fit(X_train_model[features])\n",
    "        X_train_model = sc_X.transform(X_train_model[features])\n",
    "        X_test_model = sc_X.transform(X_test_model[features])\n",
    "    else:\n",
    "        X_train_model = X_train_model[features].as_matrix()\n",
    "        X_test_model = X_test_model[features].as_matrix()\n",
    "        \n",
    "    # Check if we need to recalibrate the prediction (using Plat's or Isotonic scaling)\n",
    "    if calibration == 'sigmoid':\n",
    "        clf = CalibratedClassifierCV(classifier, cv=4, method='sigmoid')\n",
    "    elif calibration == 'isotonic':\n",
    "        clf = CalibratedClassifierCV(classifier, cv=4, method='isotonic')\n",
    "    elif calibration == 'no':\n",
    "        clf = classifier\n",
    "        \n",
    "    # Obtain out-of-fold predictions for this model\n",
    "    oof_train, oof_test = get_oof(clf, X_train_model, X_test_model, y_train_model)\n",
    "    \n",
    "    # Return the prediction for train and test dataset\n",
    "    return oof_train, oof_test"
   ]
  },
  {
   "cell_type": "code",
   "execution_count": 15,
   "metadata": {
    "collapsed": true,
    "scrolled": false
   },
   "outputs": [],
   "source": [
    "# get prediction for a 'season' with training based on 'nb of train season' before the 'season'\n",
    "def get_season_pred(league, season, nb_train_season, target, train_df, test_df, X_train_df, X_test_df, y_train_df, y_test_df):\n",
    "\n",
    "    # Create array for saving meta features created by Layer 1 and used by Layer 2\n",
    "    X_train_layer2 = np.zeros((X_train_df.shape[0], len(layer_1)))\n",
    "    X_train_layer2 = pd.DataFrame(X_train_layer2, columns=[clf_name for clf_name, preprocessing, calibration, clf, features in layer_1])\n",
    "    X_test_layer2 = np.zeros((X_test_df.shape[0], len(layer_1)))\n",
    "    X_test_layer2 = pd.DataFrame(X_test_layer2, columns=[clf_name for clf_name, preprocessing, calibration, clf, features in layer_1])\n",
    "\n",
    "    # Compute out-of-fold predictions for layer 1 \n",
    "    for clf_name, preprocessing, calibration, classifier, features in layer_1:\n",
    "        print \"Layer 1 - Processing model:\",clf_name\n",
    "        oof_train, oof_test = train_model(preprocessing, calibration, classifier, features, X_train_df, X_test_df, y_train_df)\n",
    "        X_train_layer2.loc[:, clf_name] = oof_train\n",
    "        X_test_layer2.loc[:, clf_name] = oof_test\n",
    "    \n",
    "    # Concat meta features from layer 1 with initial features for training layer 2\n",
    "    X_train_layer2_df = pd.concat([X_train_df, X_train_layer2], axis=1)\n",
    "    X_test_layer2_df = pd.concat([X_test_df, X_test_layer2], axis=1)\n",
    "\n",
    "    # Create array for saving meta features created by Layer 2 and used by Layer 3\n",
    "    X_train_layer3 = np.zeros((X_train_df.shape[0], len(layer_2)))\n",
    "    X_train_layer3 = pd.DataFrame(X_train_layer3, columns=[clf_name for clf_name, preprocessing, calibration, clf, features in layer_2])\n",
    "    X_test_layer3 = np.zeros((X_test_df.shape[0], len(layer_2)))\n",
    "    X_test_layer3 = pd.DataFrame(X_test_layer3, columns=[clf_name for clf_name, preprocessing, calibration, clf, features in layer_2])\n",
    "\n",
    "    # Compute out-of-fold predictions for layer 2\n",
    "    for clf_name, preprocessing, calibration, classifier, features in layer_2:\n",
    "        print \"Layer 2 - Processing model:\",clf_name\n",
    "        oof_train, oof_test = train_model(preprocessing, calibration, classifier, features, X_train_layer2_df, X_test_layer2_df, y_train_df)\n",
    "        X_train_layer3.loc[:, clf_name] = oof_train\n",
    "        X_test_layer3.loc[:, clf_name] = oof_test\n",
    "        \n",
    "    # Compute predictions for layer 3\n",
    "    #print \"Layer 3 - Processing model: ElasticNEt\"\n",
    "    #clf = layer_3\n",
    "    #clf.fit(X_train_layer3, y_train_df)\n",
    "    #train_probs = pd.Series(clf.predict_proba(X_test_layer3)[:,1])\n",
    "    #test_probs = pd.Series(clf.predict_proba(X_test_layer3)[:,1])\n",
    "\n",
    "    # Compute layer 3 by merging prediction from layer 2\n",
    "    print \"Layer 3 - Processing model: Weighted Sum\"\n",
    "    train_probs = X_train_layer3['NB']*0.3 + X_train_layer3['MLP']*0.3 + X_train_layer3['LR']*0.4\n",
    "    test_probs = X_test_layer3['NB']*0.3 + X_test_layer3['MLP']*0.3 + X_test_layer3['LR']*0.4\n",
    "    #train_probs = X_train_layer3['ExtraTree']*0.2 + X_train_layer3['MLP']*0.3 + X_train_layer3['LR']*0.5\n",
    "    #test_probs = X_test_layer3['ExtraTree']*0.2 + X_test_layer3['MLP']*0.3 + X_test_layer3['LR']*0.5\n",
    "\n",
    "    # Attach final prediction to informative columns of dataset to bet analysis\n",
    "    result_train_info = pd.concat([train_df[column_info], train_probs.rename(\"PROBS\"), y_train_df], axis=1)\n",
    "    result_test_info = pd.concat([test_df[column_info], test_probs.rename(\"PROBS\"), y_test_df], axis=1)\n",
    "    # Attach final prediction to list of feature of dataset to full analysis\n",
    "    result_train_all = pd.concat([train_df[column_info], train_probs.rename(\"PROBS\"), y_train_df], axis=1)\n",
    "    result_test_all = pd.concat([test_df[column_info], test_probs.rename(\"PROBS\"), y_test_df], axis=1)\n",
    "    # Calculate difference between my prediction and bookmaker prediction\n",
    "    result_train_info['PROB_LESS_ODD'] = result_train_info['PROBS'] - result_train_info[odd_avg].apply(lambda x: 1/x)\n",
    "    result_test_info['PROB_LESS_ODD'] = result_test_info['PROBS'] - result_test_info[odd_avg].apply(lambda x: 1/x)\n",
    "    result_train_all['PROB_LESS_ODD'] = result_train_all['PROBS'] - result_train_all[odd_avg].apply(lambda x: 1/x)\n",
    "    result_test_all['PROB_LESS_ODD'] = result_test_all['PROBS'] - result_test_all[odd_avg].apply(lambda x: 1/x)\n",
    "\n",
    "    # Create a new columns containing the gain. If bet success it's equal to odd -1, else -1 (loose your bet)\n",
    "    result_train_info['WIN_AVG'] = result_train_info[odd_avg]-1\n",
    "    result_train_info['WIN_PINNACLE'] = result_train_info[odd_pinnacle]-1\n",
    "    result_train_info.loc[result_train_info.INFO_FTR != bet_on, 'WIN_AVG'] = -1\n",
    "    result_train_info.loc[result_train_info.INFO_FTR != bet_on, 'WIN_PINNACLE'] = -1\n",
    "    result_train_all['WIN_AVG'] = result_train_info['WIN_AVG']\n",
    "    result_train_all['WIN_PINNACLE'] = result_train_info['WIN_AVG']\n",
    "    result_test_info['WIN_AVG'] = result_test_info[odd_avg]-1\n",
    "    result_test_info['WIN_PINNACLE'] = result_test_info[odd_pinnacle]-1\n",
    "    result_test_info.loc[result_test_info.INFO_FTR != bet_on, 'WIN_AVG'] = -1\n",
    "    result_test_info.loc[result_test_info.INFO_FTR != bet_on, 'WIN_PINNACLE'] = -1\n",
    "    result_test_all['WIN_AVG'] = result_test_info['WIN_AVG']\n",
    "    result_test_all['WIN_PINNACLE'] = result_test_info['WIN_AVG']\n",
    "\n",
    "    # Save to CSV\n",
    "    #result_train_info.to_csv('./result/test/'+league+'-'+str(season)+'-'+str(nb_train_season)+'-'+target+'-train-info.csv')\n",
    "    result_test_info.to_csv('./result/test/'+league+'-'+str(season)+'-'+str(nb_train_season)+'-'+target+'-test-info.csv')\n",
    "    #result_train_all.to_csv('./result/test/'+league+'-'+str(season)+'-'+str(nb_train_season)+'-'+target+'-train-all.csv')\n",
    "    #result_test_all.to_csv('./result/test/'+league+'-'+str(season)+'-'+str(nb_train_season)+'-'+target+'-test-all.csv')\n"
   ]
  },
  {
   "cell_type": "code",
   "execution_count": 16,
   "metadata": {
    "scrolled": false
   },
   "outputs": [
    {
     "name": "stdout",
     "output_type": "stream",
     "text": [
      "D1 test season 2013 training on  5 historical season\n",
      "Layer 1 - Processing model: DNN_adam_all\n",
      "Layer 1 - Processing model: DNN_adam_bf\n",
      "Layer 1 - Processing model: DNN_sgd_all\n",
      "Layer 1 - Processing model: DNN_sgd_bf\n",
      "Layer 1 - Processing model: XGBoost_all\n",
      "Layer 1 - Processing model: XGBoost_bf\n",
      "Layer 1 - Processing model: SVM\n",
      "Layer 1 - Processing model: RF_all\n",
      "Layer 1 - Processing model: RF_bf\n",
      "Layer 1 - Processing model: NB\n",
      "Layer 1 - Processing model: MLP\n",
      "Layer 1 - Processing model: LDA\n",
      "Layer 1 - Processing model: KNN\n",
      "Layer 1 - Processing model: ExraTree\n",
      "Layer 1 - Processing model: ElasticNEt\n",
      "Layer 1 - Processing model: Bagging_max_sample\n",
      "Layer 1 - Processing model: Bagging_min_sample_all\n",
      "Layer 1 - Processing model: Bagging_min_sample_bf\n",
      "Layer 1 - Processing model: AdaBoost\n",
      "Layer 1 - Processing model: GB\n",
      "Layer 1 - Processing model: LR\n",
      "Layer 2 - Processing model: NB\n",
      "Layer 2 - Processing model: XGBoost_all\n",
      "Layer 2 - Processing model: ExtraTree\n",
      "Layer 2 - Processing model: MLP\n"
     ]
    },
    {
     "name": "stderr",
     "output_type": "stream",
     "text": [
      "/anaconda/lib/python2.7/site-packages/sklearn/neural_network/multilayer_perceptron.py:563: ConvergenceWarning: Stochastic Optimizer: Maximum iterations reached and the optimization hasn't converged yet.\n",
      "  % (), ConvergenceWarning)\n"
     ]
    },
    {
     "name": "stdout",
     "output_type": "stream",
     "text": [
      "Layer 2 - Processing model: LR\n",
      "Layer 3 - Processing model: Weighted Sum\n",
      "D1 test season 2014 training on  5 historical season\n",
      "Layer 1 - Processing model: DNN_adam_all\n",
      "Layer 1 - Processing model: DNN_adam_bf\n",
      "Layer 1 - Processing model: DNN_sgd_all\n",
      "Layer 1 - Processing model: DNN_sgd_bf\n",
      "Layer 1 - Processing model: XGBoost_all\n",
      "Layer 1 - Processing model: XGBoost_bf\n",
      "Layer 1 - Processing model: SVM\n",
      "Layer 1 - Processing model: RF_all\n",
      "Layer 1 - Processing model: RF_bf\n",
      "Layer 1 - Processing model: NB\n",
      "Layer 1 - Processing model: MLP\n",
      "Layer 1 - Processing model: LDA\n",
      "Layer 1 - Processing model: KNN\n",
      "Layer 1 - Processing model: ExraTree\n",
      "Layer 1 - Processing model: ElasticNEt\n",
      "Layer 1 - Processing model: Bagging_max_sample\n",
      "Layer 1 - Processing model: Bagging_min_sample_all\n",
      "Layer 1 - Processing model: Bagging_min_sample_bf\n",
      "Layer 1 - Processing model: AdaBoost\n",
      "Layer 1 - Processing model: GB\n",
      "Layer 1 - Processing model: LR\n",
      "Layer 2 - Processing model: NB\n",
      "Layer 2 - Processing model: XGBoost_all\n",
      "Layer 2 - Processing model: ExtraTree\n",
      "Layer 2 - Processing model: MLP\n",
      "Layer 2 - Processing model: LR\n",
      "Layer 3 - Processing model: Weighted Sum\n",
      "Finish after 3080 seconds\n"
     ]
    }
   ],
   "source": [
    "# test all combination of season with number of year of training\n",
    "\n",
    "start = datetime.datetime.now()\n",
    "\n",
    "for league in leagues:\n",
    "    for test_season in test_seasons:\n",
    "        for nb_train_season in nb_train_seasons:\n",
    "            print league,'test season',test_season,'training on ',nb_train_season,'historical season'\n",
    "            train_df, test_df, X_train_df, X_test_df, y_train_df, y_test_df = get_data(test_season, nb_train_season, True, league)\n",
    "            get_season_pred(league, test_season, nb_train_season, target, train_df, test_df, X_train_df, X_test_df, y_train_df, y_test_df)\n",
    "        \n",
    "print(\"Finish after %d seconds\" % (datetime.datetime.now() - start).total_seconds())"
   ]
  },
  {
   "cell_type": "code",
   "execution_count": null,
   "metadata": {
    "collapsed": true
   },
   "outputs": [],
   "source": []
  }
 ],
 "metadata": {
  "kernelspec": {
   "display_name": "Python 2",
   "language": "python",
   "name": "python2"
  },
  "language_info": {
   "codemirror_mode": {
    "name": "ipython",
    "version": 2
   },
   "file_extension": ".py",
   "mimetype": "text/x-python",
   "name": "python",
   "nbconvert_exporter": "python",
   "pygments_lexer": "ipython2",
   "version": "2.7.13"
  }
 },
 "nbformat": 4,
 "nbformat_minor": 2
}
