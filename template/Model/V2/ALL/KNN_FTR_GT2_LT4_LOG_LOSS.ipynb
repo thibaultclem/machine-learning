{
 "cells": [
  {
   "cell_type": "markdown",
   "metadata": {},
   "source": [
    "# KNN_FTR_GT2_LT4_LOG_LOSS"
   ]
  },
  {
   "cell_type": "code",
   "execution_count": 1,
   "metadata": {
    "collapsed": true
   },
   "outputs": [],
   "source": [
    "# Importing the library\n",
    "import numpy as np # linear algebra\n",
    "import pandas as pd # data processing, CSV file I/O\n",
    "import matplotlib.pyplot as plt # plotting library\n",
    "import seaborn as sns # visualization library based on matplotlib\n",
    "from IPython.display import display # Manage multiple output per cell\n",
    "import datetime"
   ]
  },
  {
   "cell_type": "code",
   "execution_count": 2,
   "metadata": {
    "collapsed": true
   },
   "outputs": [],
   "source": [
    "all_features = [\"A_MEANS_FIVE_AC\",\"A_MEANS_FIVE_AF\",\"A_MEANS_FIVE_AR\",\"A_MEANS_FIVE_AS\",\"A_MEANS_FIVE_AST\",\"A_MEANS_FIVE_AY\",\"A_MEANS_FIVE_FTAG\",\"A_MEANS_FIVE_FTHG\",\"A_MEANS_FIVE_FTR_A\",\"A_MEANS_FIVE_FTR_D\",\"A_MEANS_FIVE_FTR_H\",\"A_MEANS_FIVE_HC\",\"A_MEANS_FIVE_HF\",\"A_MEANS_FIVE_HR\",\"A_MEANS_FIVE_HS\",\"A_MEANS_FIVE_HST\",\"A_MEANS_FIVE_HTAG\",\"A_MEANS_FIVE_HTHG\",\"A_MEANS_FIVE_HTR_A\",\"A_MEANS_FIVE_HTR_D\",\"A_MEANS_FIVE_HTR_H\",\"A_MEANS_FIVE_HY\",\"H_MEANS_FIVE_AC\",\"H_MEANS_FIVE_AF\",\"H_MEANS_FIVE_AR\",\"H_MEANS_FIVE_AS\",\"H_MEANS_FIVE_AST\",\"H_MEANS_FIVE_AY\",\"H_MEANS_FIVE_FTAG\",\"H_MEANS_FIVE_FTHG\",\"H_MEANS_FIVE_FTR_A\",\"H_MEANS_FIVE_FTR_D\",\"H_MEANS_FIVE_FTR_H\",\"H_MEANS_FIVE_HC\",\"H_MEANS_FIVE_HF\",\"H_MEANS_FIVE_HR\",\"H_MEANS_FIVE_HS\",\"H_MEANS_FIVE_HST\",\"H_MEANS_FIVE_HTAG\",\"H_MEANS_FIVE_HTHG\",\"H_MEANS_FIVE_HTR_A\",\"H_MEANS_FIVE_HTR_D\",\"H_MEANS_FIVE_HTR_H\",\"H_MEANS_FIVE_HY\",\"A_MEANS_THREE_AC\",\"A_MEANS_THREE_AF\",\"A_MEANS_THREE_AR\",\"A_MEANS_THREE_AS\",\"A_MEANS_THREE_AST\",\"A_MEANS_THREE_AY\",\"A_MEANS_THREE_FTAG\",\"A_MEANS_THREE_FTHG\",\"A_MEANS_THREE_FTR_A\",\"A_MEANS_THREE_FTR_D\",\"A_MEANS_THREE_FTR_H\",\"A_MEANS_THREE_HC\",\"A_MEANS_THREE_HF\",\"A_MEANS_THREE_HR\",\"A_MEANS_THREE_HS\",\"A_MEANS_THREE_HST\",\"A_MEANS_THREE_HTAG\",\"A_MEANS_THREE_HTHG\",\"A_MEANS_THREE_HTR_A\",\"A_MEANS_THREE_HTR_D\",\"A_MEANS_THREE_HTR_H\",\"A_MEANS_THREE_HY\",\"H_MEANS_THREE_AC\",\"H_MEANS_THREE_AF\",\"H_MEANS_THREE_AR\",\"H_MEANS_THREE_AS\",\"H_MEANS_THREE_AST\",\"H_MEANS_THREE_AY\",\"H_MEANS_THREE_FTAG\",\"H_MEANS_THREE_FTHG\",\"H_MEANS_THREE_FTR_A\",\"H_MEANS_THREE_FTR_D\",\"H_MEANS_THREE_FTR_H\",\"H_MEANS_THREE_HC\",\"H_MEANS_THREE_HF\",\"H_MEANS_THREE_HR\",\"H_MEANS_THREE_HS\",\"H_MEANS_THREE_HST\",\"H_MEANS_THREE_HTAG\",\"H_MEANS_THREE_HTHG\",\"H_MEANS_THREE_HTR_A\",\"H_MEANS_THREE_HTR_D\",\"H_MEANS_THREE_HTR_H\",\"H_MEANS_THREE_HY\",\"A_STD_FIVE_AC\",\"A_STD_FIVE_AF\",\"A_STD_FIVE_AR\",\"A_STD_FIVE_AS\",\"A_STD_FIVE_AST\",\"A_STD_FIVE_AY\",\"A_STD_FIVE_FTAG\",\"A_STD_FIVE_FTHG\",\"A_STD_FIVE_FTR_A\",\"A_STD_FIVE_FTR_D\",\"A_STD_FIVE_FTR_H\",\"A_STD_FIVE_HC\",\"A_STD_FIVE_HF\",\"A_STD_FIVE_HR\",\"A_STD_FIVE_HS\",\"A_STD_FIVE_HST\",\"A_STD_FIVE_HTAG\",\"A_STD_FIVE_HTHG\",\"A_STD_FIVE_HTR_A\",\"A_STD_FIVE_HTR_D\",\"A_STD_FIVE_HTR_H\",\"A_STD_FIVE_HY\",\"H_STD_FIVE_AC\",\"H_STD_FIVE_AF\",\"H_STD_FIVE_AR\",\"H_STD_FIVE_AS\",\"H_STD_FIVE_AST\",\"H_STD_FIVE_AY\",\"H_STD_FIVE_FTAG\",\"H_STD_FIVE_FTHG\",\"H_STD_FIVE_FTR_A\",\"H_STD_FIVE_FTR_D\",\"H_STD_FIVE_FTR_H\",\"H_STD_FIVE_HC\",\"H_STD_FIVE_HF\",\"H_STD_FIVE_HR\",\"H_STD_FIVE_HS\",\"H_STD_FIVE_HST\",\"H_STD_FIVE_HTAG\",\"H_STD_FIVE_HTHG\",\"H_STD_FIVE_HTR_A\",\"H_STD_FIVE_HTR_D\",\"H_STD_FIVE_HTR_H\",\"H_STD_FIVE_HY\",\"A_STD_THREE_AC\",\"A_STD_THREE_AF\",\"A_STD_THREE_AR\",\"A_STD_THREE_AS\",\"A_STD_THREE_AST\",\"A_STD_THREE_AY\",\"A_STD_THREE_FTAG\",\"A_STD_THREE_FTHG\",\"A_STD_THREE_FTR_A\",\"A_STD_THREE_FTR_D\",\"A_STD_THREE_FTR_H\",\"A_STD_THREE_HC\",\"A_STD_THREE_HF\",\"A_STD_THREE_HR\",\"A_STD_THREE_HS\",\"A_STD_THREE_HST\",\"A_STD_THREE_HTAG\",\"A_STD_THREE_HTHG\",\"A_STD_THREE_HTR_A\",\"A_STD_THREE_HTR_D\",\"A_STD_THREE_HTR_H\",\"A_STD_THREE_HY\",\"H_STD_THREE_AC\",\"H_STD_THREE_AF\",\"H_STD_THREE_AR\",\"H_STD_THREE_AS\",\"H_STD_THREE_AST\",\"H_STD_THREE_AY\",\"H_STD_THREE_FTAG\",\"H_STD_THREE_FTHG\",\"H_STD_THREE_FTR_A\",\"H_STD_THREE_FTR_D\",\"H_STD_THREE_FTR_H\",\"H_STD_THREE_HC\",\"H_STD_THREE_HF\",\"H_STD_THREE_HR\",\"H_STD_THREE_HS\",\"H_STD_THREE_HST\",\"H_STD_THREE_HTAG\",\"H_STD_THREE_HTHG\",\"H_STD_THREE_HTR_A\",\"H_STD_THREE_HTR_D\",\"H_STD_THREE_HTR_H\",\"H_STD_THREE_HY\",\"INFO_Div\"]\n",
    "best_features = ['A_MEANS_FIVE_AC', 'A_MEANS_FIVE_AS', 'A_MEANS_FIVE_AST',\n",
    "       'A_MEANS_FIVE_FTAG', 'A_MEANS_FIVE_HC', 'A_MEANS_FIVE_HS',\n",
    "       'A_MEANS_FIVE_HST', 'A_MEANS_FIVE_HTR_A', 'H_MEANS_FIVE_AC',\n",
    "       'H_MEANS_FIVE_AS', 'H_MEANS_FIVE_AST', 'H_MEANS_FIVE_AY',\n",
    "       'H_MEANS_FIVE_FTAG', 'H_MEANS_FIVE_FTHG', 'H_MEANS_FIVE_FTR_A',\n",
    "       'H_MEANS_FIVE_HC', 'H_MEANS_FIVE_HS', 'H_MEANS_FIVE_HST',\n",
    "       'A_MEANS_THREE_AS', 'A_MEANS_THREE_HS', 'A_STD_FIVE_HF']\n",
    "features_list = best_features\n"
   ]
  },
  {
   "cell_type": "code",
   "execution_count": 3,
   "metadata": {
    "collapsed": true
   },
   "outputs": [],
   "source": [
    "model_name = 'KNN_FTR_GT2_LT4_LOG_LOSS'\n",
    "odd_H = 'INFO_BbAvH'\n",
    "odd_A = 'INFO_BbAvA'\n",
    "odd_D = 'INFO_BbAvD'\n",
    "target = 'INFO_FTR'\n",
    "start_date = datetime.datetime.now().strftime(\"%Y-%m-%d-%H-%M\")\n",
    "min_odd = 2\n",
    "max_odd = 4"
   ]
  },
  {
   "cell_type": "markdown",
   "metadata": {},
   "source": [
    "## Importing Data"
   ]
  },
  {
   "cell_type": "code",
   "execution_count": 4,
   "metadata": {
    "collapsed": true
   },
   "outputs": [],
   "source": [
    "# DB Sqlite connection\n",
    "import sqlite3\n",
    "db = \"/Users/thibaultclement/Project/ligue1-predict/src/notebook/data/db/soccer_predict.sqlite\"\n",
    "conn = sqlite3.connect(db)\n",
    "cur = conn.cursor()"
   ]
  },
  {
   "cell_type": "code",
   "execution_count": 5,
   "metadata": {},
   "outputs": [
    {
     "data": {
      "text/plain": [
       "(25275, 190)"
      ]
     },
     "execution_count": 5,
     "metadata": {},
     "output_type": "execute_result"
    }
   ],
   "source": [
    "# Get all prematch data\n",
    "df = pd.read_sql_query(\"SELECT * FROM pre_matchs ORDER BY INFO_Date ASC;\", conn)\n",
    "df = (df[df.columns.drop(['index'])])\n",
    "df.shape"
   ]
  },
  {
   "cell_type": "code",
   "execution_count": 6,
   "metadata": {},
   "outputs": [
    {
     "data": {
      "text/plain": [
       "(18027, 190)"
      ]
     },
     "execution_count": 6,
     "metadata": {},
     "output_type": "execute_result"
    }
   ],
   "source": [
    "# Remove all game between June (include) and October (include)\n",
    "df['INFO_Date'] = pd.to_datetime(df['INFO_Date'])\n",
    "df['INFO_Date'].dt.month\n",
    "df = df[(df['INFO_Date'].dt.month < 6) | (df['INFO_Date'].dt.month > 10)]\n",
    "df.shape"
   ]
  },
  {
   "cell_type": "code",
   "execution_count": 7,
   "metadata": {},
   "outputs": [
    {
     "data": {
      "text/plain": [
       "(18027, 190)"
      ]
     },
     "execution_count": 7,
     "metadata": {},
     "output_type": "execute_result"
    }
   ],
   "source": [
    "# Remove too small odd\n",
    "#df = df[(df[odd_H] > min_odd) & (df[odd_A] > min_odd)]\n",
    "#df = df[(df[odd_H] < max_odd) & (df[odd_A] < max_odd)]\n",
    "df.shape"
   ]
  },
  {
   "cell_type": "code",
   "execution_count": 8,
   "metadata": {},
   "outputs": [
    {
     "data": {
      "text/plain": [
       "(18027, 190)"
      ]
     },
     "execution_count": 8,
     "metadata": {},
     "output_type": "execute_result"
    }
   ],
   "source": [
    "# Select a particular league\n",
    "#df = df[(df['INFO_Div'] == 'E0')]\n",
    "#df = df[(df['INFO_Div'] == 'E0')]\n",
    "df.shape"
   ]
  },
  {
   "cell_type": "code",
   "execution_count": 9,
   "metadata": {},
   "outputs": [
    {
     "data": {
      "text/plain": [
       "(18027, 190)"
      ]
     },
     "execution_count": 9,
     "metadata": {},
     "output_type": "execute_result"
    }
   ],
   "source": [
    "# Removing column where odd is too high or too low\n",
    "# df = df.drop(df[df['INFO_BbAvH'] < 2].index)\n",
    "# df = df.drop(df[df['INFO_BbAvA'] < 2].index)\n",
    "# df = df.drop(df[df['INFO_BbAvH'] > 10].index)\n",
    "# df = df.drop(df[df['INFO_BbAvA'] > 10].index)\n",
    "df.shape"
   ]
  },
  {
   "cell_type": "code",
   "execution_count": 10,
   "metadata": {},
   "outputs": [
    {
     "data": {
      "text/html": [
       "<div>\n",
       "<style>\n",
       "    .dataframe thead tr:only-child th {\n",
       "        text-align: right;\n",
       "    }\n",
       "\n",
       "    .dataframe thead th {\n",
       "        text-align: left;\n",
       "    }\n",
       "\n",
       "    .dataframe tbody tr th {\n",
       "        vertical-align: top;\n",
       "    }\n",
       "</style>\n",
       "<table border=\"1\" class=\"dataframe\">\n",
       "  <thead>\n",
       "    <tr style=\"text-align: right;\">\n",
       "      <th></th>\n",
       "      <th>INFO_BbAvH</th>\n",
       "      <th>INFO_BbAvD</th>\n",
       "      <th>INFO_BbAvA</th>\n",
       "      <th>INFO_FTR</th>\n",
       "      <th>INFO_WIN</th>\n",
       "    </tr>\n",
       "  </thead>\n",
       "  <tbody>\n",
       "    <tr>\n",
       "      <th>920</th>\n",
       "      <td>1.86</td>\n",
       "      <td>3.38</td>\n",
       "      <td>4.09</td>\n",
       "      <td>H</td>\n",
       "      <td>1.86</td>\n",
       "    </tr>\n",
       "    <tr>\n",
       "      <th>921</th>\n",
       "      <td>3.75</td>\n",
       "      <td>3.34</td>\n",
       "      <td>1.95</td>\n",
       "      <td>A</td>\n",
       "      <td>1.95</td>\n",
       "    </tr>\n",
       "    <tr>\n",
       "      <th>922</th>\n",
       "      <td>4.28</td>\n",
       "      <td>3.44</td>\n",
       "      <td>1.83</td>\n",
       "      <td>D</td>\n",
       "      <td>3.44</td>\n",
       "    </tr>\n",
       "    <tr>\n",
       "      <th>923</th>\n",
       "      <td>1.83</td>\n",
       "      <td>3.38</td>\n",
       "      <td>4.18</td>\n",
       "      <td>D</td>\n",
       "      <td>3.38</td>\n",
       "    </tr>\n",
       "    <tr>\n",
       "      <th>924</th>\n",
       "      <td>2.51</td>\n",
       "      <td>3.25</td>\n",
       "      <td>2.63</td>\n",
       "      <td>A</td>\n",
       "      <td>2.63</td>\n",
       "    </tr>\n",
       "    <tr>\n",
       "      <th>925</th>\n",
       "      <td>1.99</td>\n",
       "      <td>3.13</td>\n",
       "      <td>3.86</td>\n",
       "      <td>H</td>\n",
       "      <td>1.99</td>\n",
       "    </tr>\n",
       "    <tr>\n",
       "      <th>926</th>\n",
       "      <td>1.64</td>\n",
       "      <td>3.41</td>\n",
       "      <td>5.66</td>\n",
       "      <td>A</td>\n",
       "      <td>5.66</td>\n",
       "    </tr>\n",
       "    <tr>\n",
       "      <th>927</th>\n",
       "      <td>2.71</td>\n",
       "      <td>2.94</td>\n",
       "      <td>2.68</td>\n",
       "      <td>A</td>\n",
       "      <td>2.68</td>\n",
       "    </tr>\n",
       "    <tr>\n",
       "      <th>928</th>\n",
       "      <td>2.08</td>\n",
       "      <td>3.14</td>\n",
       "      <td>3.64</td>\n",
       "      <td>H</td>\n",
       "      <td>2.08</td>\n",
       "    </tr>\n",
       "    <tr>\n",
       "      <th>929</th>\n",
       "      <td>2.49</td>\n",
       "      <td>3.11</td>\n",
       "      <td>2.84</td>\n",
       "      <td>D</td>\n",
       "      <td>3.11</td>\n",
       "    </tr>\n",
       "  </tbody>\n",
       "</table>\n",
       "</div>"
      ],
      "text/plain": [
       "     INFO_BbAvH  INFO_BbAvD  INFO_BbAvA INFO_FTR  INFO_WIN\n",
       "920        1.86        3.38        4.09        H      1.86\n",
       "921        3.75        3.34        1.95        A      1.95\n",
       "922        4.28        3.44        1.83        D      3.44\n",
       "923        1.83        3.38        4.18        D      3.38\n",
       "924        2.51        3.25        2.63        A      2.63\n",
       "925        1.99        3.13        3.86        H      1.99\n",
       "926        1.64        3.41        5.66        A      5.66\n",
       "927        2.71        2.94        2.68        A      2.68\n",
       "928        2.08        3.14        3.64        H      2.08\n",
       "929        2.49        3.11        2.84        D      3.11"
      ]
     },
     "execution_count": 10,
     "metadata": {},
     "output_type": "execute_result"
    }
   ],
   "source": [
    "# Create a INFO_WIN column containing the gain if you bet the good result\n",
    "df['INFO_WIN'] = 0\n",
    "df.loc[df.INFO_FTR == 'H', 'INFO_WIN'] = df[odd_H]\n",
    "df.loc[df.INFO_FTR == 'A', 'INFO_WIN'] = df[odd_A]\n",
    "df.loc[df.INFO_FTR == 'D', 'INFO_WIN'] = df[odd_D]\n",
    "df['INFO_WIN_P'] = 0\n",
    "df.loc[df.INFO_FTR == 'H', 'INFO_WIN_P'] = df['INFO_PSH']\n",
    "df.loc[df.INFO_FTR == 'A', 'INFO_WIN_P'] = df['INFO_PSA']\n",
    "df.loc[df.INFO_FTR == 'D', 'INFO_WIN_P'] = df['INFO_PSD']\n",
    "df[[odd_H, odd_D, odd_A, 'INFO_FTR', 'INFO_WIN']].head(10)"
   ]
  },
  {
   "cell_type": "code",
   "execution_count": 11,
   "metadata": {},
   "outputs": [
    {
     "data": {
      "text/plain": [
       "None"
      ]
     },
     "metadata": {},
     "output_type": "display_data"
    },
    {
     "data": {
      "text/plain": [
       "H    45.515061\n",
       "A    28.856715\n",
       "D    25.628224\n",
       "Name: INFO_FTR, dtype: float64"
      ]
     },
     "metadata": {},
     "output_type": "display_data"
    }
   ],
   "source": [
    "# Statistic about winners\n",
    "display(plt.show(), 100. * df.INFO_FTR.value_counts() / len(df.INFO_FTR))"
   ]
  },
  {
   "cell_type": "code",
   "execution_count": 12,
   "metadata": {},
   "outputs": [
    {
     "data": {
      "text/plain": [
       "2.7576302213346655"
      ]
     },
     "execution_count": 12,
     "metadata": {},
     "output_type": "execute_result"
    }
   ],
   "source": [
    "# How much did you win/lost per match if bet on all\n",
    "df.INFO_WIN.mean()"
   ]
  },
  {
   "cell_type": "code",
   "execution_count": 13,
   "metadata": {
    "collapsed": true
   },
   "outputs": [],
   "source": [
    "# Keep season 2016/2017 for further test and don't use it for traning\n",
    "import datetime\n",
    "date_start_learn = datetime.date(2007, 8, 1)\n",
    "date_end_learn = datetime.date(2016, 8, 1)\n",
    "date_start_current_season = datetime.date(2016, 8, 1)\n",
    "date_end_current_season = datetime.date(2017, 8, 1)\n",
    "df_current_season = df[(df['INFO_Date'] > date_start_current_season)]\n",
    "df_current_season = df_current_season[(df_current_season['INFO_Date'] < date_end_current_season)]\n",
    "df = df[(df['INFO_Date'] > date_start_learn)]\n",
    "df = df[(df['INFO_Date'] < date_end_learn)]"
   ]
  },
  {
   "cell_type": "code",
   "execution_count": 14,
   "metadata": {},
   "outputs": [
    {
     "data": {
      "text/plain": [
       "None"
      ]
     },
     "metadata": {},
     "output_type": "display_data"
    },
    {
     "data": {
      "text/plain": [
       "H    37.382704\n",
       "A    33.578494\n",
       "D    29.038803\n",
       "Name: INFO_FTR, dtype: float64"
      ]
     },
     "metadata": {},
     "output_type": "display_data"
    }
   ],
   "source": [
    "# Remove too small odd\n",
    "df = df[(df[odd_H] > min_odd) & (df[odd_A] > min_odd)]\n",
    "df = df[(df[odd_H] < max_odd) & (df[odd_A] < max_odd)]\n",
    "display(plt.show(), 100. * df.INFO_FTR.value_counts() / len(df.INFO_FTR))"
   ]
  },
  {
   "cell_type": "code",
   "execution_count": 15,
   "metadata": {},
   "outputs": [
    {
     "data": {
      "text/plain": [
       "(7886, 192)"
      ]
     },
     "execution_count": 15,
     "metadata": {},
     "output_type": "execute_result"
    }
   ],
   "source": [
    "df.shape"
   ]
  },
  {
   "cell_type": "code",
   "execution_count": 16,
   "metadata": {},
   "outputs": [
    {
     "data": {
      "text/plain": [
       "(2222, 192)"
      ]
     },
     "execution_count": 16,
     "metadata": {},
     "output_type": "execute_result"
    }
   ],
   "source": [
    "# Number of matches in current season\n",
    "df_current_season.shape"
   ]
  },
  {
   "cell_type": "code",
   "execution_count": 17,
   "metadata": {
    "collapsed": true
   },
   "outputs": [],
   "source": [
    "# Encode string label\n",
    "from sklearn import preprocessing\n",
    "le = preprocessing.LabelEncoder()\n",
    "le.fit(df[target])\n",
    "# Prepare the dataset\n",
    "X = pd.get_dummies(df[features_list])\n",
    "y = le.transform(df[target]) \n",
    "X_current_season = pd.get_dummies(df_current_season[features_list])\n",
    "y_current_season = le.transform(df_current_season[target]) "
   ]
  },
  {
   "cell_type": "code",
   "execution_count": 18,
   "metadata": {},
   "outputs": [
    {
     "data": {
      "text/plain": [
       "array([2, 2, 2, ..., 2, 0, 2])"
      ]
     },
     "execution_count": 18,
     "metadata": {},
     "output_type": "execute_result"
    }
   ],
   "source": [
    "y_current_season"
   ]
  },
  {
   "cell_type": "markdown",
   "metadata": {},
   "source": [
    "## Preprocessing Data"
   ]
  },
  {
   "cell_type": "code",
   "execution_count": 19,
   "metadata": {
    "collapsed": true
   },
   "outputs": [],
   "source": [
    "# Standardize features\n",
    "from sklearn.preprocessing import StandardScaler\n",
    "sc_X = StandardScaler().fit(X)\n",
    "X = sc_X.transform(X)\n",
    "X_current_season = sc_X.transform(X_current_season)"
   ]
  },
  {
   "cell_type": "code",
   "execution_count": 20,
   "metadata": {
    "collapsed": true
   },
   "outputs": [],
   "source": [
    "# Impute of missing values (NaN) with the mean\n",
    "from sklearn.preprocessing import Imputer\n",
    "imp = Imputer(missing_values='NaN', strategy='mean', axis=0)\n",
    "imp = imp.fit(X)\n",
    "X = imp.transform(X)\n",
    "X_current_season = imp.transform(X_current_season)"
   ]
  },
  {
   "cell_type": "code",
   "execution_count": 21,
   "metadata": {
    "collapsed": true
   },
   "outputs": [],
   "source": [
    "# Split the dataset into the Training set and Test set\n",
    "from sklearn.model_selection import train_test_split\n",
    "X_train, X_test, y_train, y_test = train_test_split(X, y, test_size=0.3, random_state = 0)"
   ]
  },
  {
   "cell_type": "markdown",
   "metadata": {},
   "source": [
    "## Tuning Hyper-parameters"
   ]
  },
  {
   "cell_type": "code",
   "execution_count": 22,
   "metadata": {
    "collapsed": true
   },
   "outputs": [],
   "source": [
    "# Import model\n",
    "from sklearn.neighbors import KNeighborsClassifier\n",
    "from sklearn.model_selection import cross_val_score\n",
    "classifier = KNeighborsClassifier(n_jobs=-1)"
   ]
  },
  {
   "cell_type": "code",
   "execution_count": 23,
   "metadata": {},
   "outputs": [
    {
     "name": "stdout",
     "output_type": "stream",
     "text": [
      "Fitting 8 folds for each of 3 candidates, totalling 24 fits\n"
     ]
    },
    {
     "name": "stderr",
     "output_type": "stream",
     "text": [
      "[Parallel(n_jobs=-1)]: Done  24 out of  24 | elapsed:   28.0s finished\n"
     ]
    },
    {
     "data": {
      "text/plain": [
       "28.22598099708557"
      ]
     },
     "execution_count": 23,
     "metadata": {},
     "output_type": "execute_result"
    }
   ],
   "source": [
    "# Applying Grid Search to find the best hyper-parameters for our Model\n",
    "from sklearn.model_selection import GridSearchCV\n",
    "from sklearn.metrics.classification import log_loss\n",
    "from sklearn.metrics import make_scorer\n",
    "import time\n",
    "\n",
    "start = time.time()\n",
    "\n",
    "parameters = [{\n",
    "    'n_neighbors': [3, 5, 10, 30], # 30\n",
    "    'weights': ['uniform', 'distance'], # uniform\n",
    "    'p': [1, 2] # 2\n",
    "}]\n",
    "parameters = [{\n",
    "    'n_neighbors': [30, 100, 300], # 300\n",
    "    'weights': ['uniform'],\n",
    "    'p': [2]\n",
    "}]\n",
    "parameters = [{\n",
    "    'n_neighbors': [300, 500, 1000], # 500\n",
    "    'weights': ['uniform'],\n",
    "    'p': [2]\n",
    "}]\n",
    "parameters = [{\n",
    "    'n_neighbors': [500, 600, 700], # 600\n",
    "    'weights': ['uniform'],\n",
    "    'p': [2]\n",
    "}]\n",
    "parameters = [{\n",
    "    'n_neighbors': [550, 600, 650], # 650\n",
    "    'weights': ['uniform'],\n",
    "    'p': [2]\n",
    "}]\n",
    "grid_search = GridSearchCV(estimator=classifier,\n",
    "                           param_grid=parameters,\n",
    "                           scoring=make_scorer(log_loss, greater_is_better=False, needs_proba=True),\n",
    "                           cv=8,\n",
    "                           n_jobs=-1,\n",
    "                           verbose=1)\n",
    "grid_search.fit(X_train, y_train)\n",
    "\n",
    "time.time() - start"
   ]
  },
  {
   "cell_type": "code",
   "execution_count": 24,
   "metadata": {},
   "outputs": [
    {
     "data": {
      "text/plain": [
       "-1.0904624691984117"
      ]
     },
     "metadata": {},
     "output_type": "display_data"
    }
   ],
   "source": [
    "# Extract best score calculated with the GridSearchCV\n",
    "best_score = grid_search.best_score_\n",
    "display(best_score)"
   ]
  },
  {
   "cell_type": "code",
   "execution_count": 25,
   "metadata": {},
   "outputs": [
    {
     "data": {
      "text/plain": [
       "{'n_neighbors': 650, 'p': 2, 'weights': 'uniform'}"
      ]
     },
     "execution_count": 25,
     "metadata": {},
     "output_type": "execute_result"
    }
   ],
   "source": [
    "# Extract best hyper-parameter calculated with the GridSearchCV\n",
    "best_params = grid_search.best_params_\n",
    "best_params"
   ]
  },
  {
   "cell_type": "code",
   "execution_count": 26,
   "metadata": {
    "scrolled": false
   },
   "outputs": [
    {
     "data": {
      "text/html": [
       "<div>\n",
       "<style>\n",
       "    .dataframe thead tr:only-child th {\n",
       "        text-align: right;\n",
       "    }\n",
       "\n",
       "    .dataframe thead th {\n",
       "        text-align: left;\n",
       "    }\n",
       "\n",
       "    .dataframe tbody tr th {\n",
       "        vertical-align: top;\n",
       "    }\n",
       "</style>\n",
       "<table border=\"1\" class=\"dataframe\">\n",
       "  <thead>\n",
       "    <tr style=\"text-align: right;\">\n",
       "      <th></th>\n",
       "      <th>mean_fit_time</th>\n",
       "      <th>mean_score_time</th>\n",
       "      <th>mean_test_score</th>\n",
       "      <th>mean_train_score</th>\n",
       "      <th>param_n_neighbors</th>\n",
       "      <th>param_p</th>\n",
       "      <th>param_weights</th>\n",
       "      <th>params</th>\n",
       "      <th>rank_test_score</th>\n",
       "      <th>split0_test_score</th>\n",
       "      <th>...</th>\n",
       "      <th>split5_test_score</th>\n",
       "      <th>split5_train_score</th>\n",
       "      <th>split6_test_score</th>\n",
       "      <th>split6_train_score</th>\n",
       "      <th>split7_test_score</th>\n",
       "      <th>split7_train_score</th>\n",
       "      <th>std_fit_time</th>\n",
       "      <th>std_score_time</th>\n",
       "      <th>std_test_score</th>\n",
       "      <th>std_train_score</th>\n",
       "    </tr>\n",
       "  </thead>\n",
       "  <tbody>\n",
       "    <tr>\n",
       "      <th>0</th>\n",
       "      <td>0.025123</td>\n",
       "      <td>0.567787</td>\n",
       "      <td>-1.090891</td>\n",
       "      <td>-1.088261</td>\n",
       "      <td>550</td>\n",
       "      <td>2</td>\n",
       "      <td>uniform</td>\n",
       "      <td>{u'n_neighbors': 550, u'weights': u'uniform', ...</td>\n",
       "      <td>3</td>\n",
       "      <td>-1.090778</td>\n",
       "      <td>...</td>\n",
       "      <td>-1.092590</td>\n",
       "      <td>-1.087559</td>\n",
       "      <td>-1.092033</td>\n",
       "      <td>-1.087751</td>\n",
       "      <td>-1.088020</td>\n",
       "      <td>-1.088684</td>\n",
       "      <td>0.038885</td>\n",
       "      <td>0.094369</td>\n",
       "      <td>0.001436</td>\n",
       "      <td>0.000446</td>\n",
       "    </tr>\n",
       "    <tr>\n",
       "      <th>1</th>\n",
       "      <td>0.015775</td>\n",
       "      <td>0.402459</td>\n",
       "      <td>-1.090569</td>\n",
       "      <td>-1.088088</td>\n",
       "      <td>600</td>\n",
       "      <td>2</td>\n",
       "      <td>uniform</td>\n",
       "      <td>{u'n_neighbors': 600, u'weights': u'uniform', ...</td>\n",
       "      <td>2</td>\n",
       "      <td>-1.090021</td>\n",
       "      <td>...</td>\n",
       "      <td>-1.092079</td>\n",
       "      <td>-1.087462</td>\n",
       "      <td>-1.092539</td>\n",
       "      <td>-1.087829</td>\n",
       "      <td>-1.087117</td>\n",
       "      <td>-1.088531</td>\n",
       "      <td>0.013117</td>\n",
       "      <td>0.102170</td>\n",
       "      <td>0.001597</td>\n",
       "      <td>0.000349</td>\n",
       "    </tr>\n",
       "    <tr>\n",
       "      <th>2</th>\n",
       "      <td>0.013976</td>\n",
       "      <td>0.408870</td>\n",
       "      <td>-1.090462</td>\n",
       "      <td>-1.088253</td>\n",
       "      <td>650</td>\n",
       "      <td>2</td>\n",
       "      <td>uniform</td>\n",
       "      <td>{u'n_neighbors': 650, u'weights': u'uniform', ...</td>\n",
       "      <td>1</td>\n",
       "      <td>-1.089565</td>\n",
       "      <td>...</td>\n",
       "      <td>-1.092658</td>\n",
       "      <td>-1.087478</td>\n",
       "      <td>-1.091895</td>\n",
       "      <td>-1.088184</td>\n",
       "      <td>-1.087149</td>\n",
       "      <td>-1.088724</td>\n",
       "      <td>0.015247</td>\n",
       "      <td>0.095252</td>\n",
       "      <td>0.001725</td>\n",
       "      <td>0.000368</td>\n",
       "    </tr>\n",
       "  </tbody>\n",
       "</table>\n",
       "<p>3 rows × 29 columns</p>\n",
       "</div>"
      ],
      "text/plain": [
       "   mean_fit_time  mean_score_time  mean_test_score  mean_train_score  \\\n",
       "0       0.025123         0.567787        -1.090891         -1.088261   \n",
       "1       0.015775         0.402459        -1.090569         -1.088088   \n",
       "2       0.013976         0.408870        -1.090462         -1.088253   \n",
       "\n",
       "  param_n_neighbors param_p param_weights  \\\n",
       "0               550       2       uniform   \n",
       "1               600       2       uniform   \n",
       "2               650       2       uniform   \n",
       "\n",
       "                                              params  rank_test_score  \\\n",
       "0  {u'n_neighbors': 550, u'weights': u'uniform', ...                3   \n",
       "1  {u'n_neighbors': 600, u'weights': u'uniform', ...                2   \n",
       "2  {u'n_neighbors': 650, u'weights': u'uniform', ...                1   \n",
       "\n",
       "   split0_test_score       ...         split5_test_score  split5_train_score  \\\n",
       "0          -1.090778       ...                 -1.092590           -1.087559   \n",
       "1          -1.090021       ...                 -1.092079           -1.087462   \n",
       "2          -1.089565       ...                 -1.092658           -1.087478   \n",
       "\n",
       "   split6_test_score  split6_train_score  split7_test_score  \\\n",
       "0          -1.092033           -1.087751          -1.088020   \n",
       "1          -1.092539           -1.087829          -1.087117   \n",
       "2          -1.091895           -1.088184          -1.087149   \n",
       "\n",
       "   split7_train_score  std_fit_time  std_score_time  std_test_score  \\\n",
       "0           -1.088684      0.038885        0.094369        0.001436   \n",
       "1           -1.088531      0.013117        0.102170        0.001597   \n",
       "2           -1.088724      0.015247        0.095252        0.001725   \n",
       "\n",
       "   std_train_score  \n",
       "0         0.000446  \n",
       "1         0.000349  \n",
       "2         0.000368  \n",
       "\n",
       "[3 rows x 29 columns]"
      ]
     },
     "execution_count": 26,
     "metadata": {},
     "output_type": "execute_result"
    }
   ],
   "source": [
    "# Get all results of Grid Search\n",
    "cv_results = pd.DataFrame(grid_search.cv_results_)\n",
    "cv_results.to_csv('./tuning/'+model_name+'-'+target+'_'+start_date+'.csv')\n",
    "cv_results"
   ]
  },
  {
   "cell_type": "markdown",
   "metadata": {},
   "source": [
    "## Evaluating Model"
   ]
  },
  {
   "cell_type": "code",
   "execution_count": 27,
   "metadata": {},
   "outputs": [
    {
     "data": {
      "text/plain": [
       "KNeighborsClassifier(algorithm='auto', leaf_size=30, metric='minkowski',\n",
       "           metric_params=None, n_jobs=-1, n_neighbors=650, p=2,\n",
       "           weights='uniform')"
      ]
     },
     "execution_count": 27,
     "metadata": {},
     "output_type": "execute_result"
    }
   ],
   "source": [
    "# Train a new classifier using the best parameters found by the grid search\n",
    "clf = KNeighborsClassifier(n_jobs=-1,\n",
    "                          n_neighbors=best_params['n_neighbors'],\n",
    "                          weights=best_params['weights'],\n",
    "                          p=best_params['p'])\n",
    "clf.fit(X_train, y_train)"
   ]
  },
  {
   "cell_type": "code",
   "execution_count": 28,
   "metadata": {
    "collapsed": true
   },
   "outputs": [],
   "source": [
    "# Predict target values\n",
    "y_pred = clf.predict(X_test)"
   ]
  },
  {
   "cell_type": "code",
   "execution_count": 29,
   "metadata": {
    "collapsed": true
   },
   "outputs": [],
   "source": [
    "# Predict probabilities\n",
    "y_probs = clf.predict_proba(X_test)"
   ]
  },
  {
   "cell_type": "code",
   "execution_count": 30,
   "metadata": {},
   "outputs": [
    {
     "data": {
      "text/plain": [
       "1.0944911153315939"
      ]
     },
     "execution_count": 30,
     "metadata": {},
     "output_type": "execute_result"
    }
   ],
   "source": [
    "# Compute cross-entropy score\n",
    "from sklearn.metrics import log_loss\n",
    "log_loss(y_test, y_probs)"
   ]
  },
  {
   "cell_type": "code",
   "execution_count": 31,
   "metadata": {},
   "outputs": [
    {
     "name": "stdout",
     "output_type": "stream",
     "text": [
      "             precision    recall  f1-score   support\n",
      "\n",
      "          A       0.43      0.16      0.23       812\n",
      "          D       0.00      0.00      0.00       703\n",
      "          H       0.37      0.89      0.52       851\n",
      "\n",
      "avg / total       0.28      0.37      0.27      2366\n",
      "\n"
     ]
    }
   ],
   "source": [
    "# Compute precision, recall, F-measure and support\n",
    "from sklearn.metrics import classification_report\n",
    "print(classification_report(y_test, y_pred, target_names=['A', 'D', 'H']))"
   ]
  },
  {
   "cell_type": "code",
   "execution_count": 32,
   "metadata": {
    "collapsed": true
   },
   "outputs": [],
   "source": [
    "# Plot a ROC curve\n",
    "from sklearn.metrics import roc_auc_score\n",
    "#roc_auc_score(y_test, y_pred)"
   ]
  },
  {
   "cell_type": "code",
   "execution_count": 33,
   "metadata": {},
   "outputs": [
    {
     "data": {
      "text/plain": [
       "0.37447168216398985"
      ]
     },
     "execution_count": 33,
     "metadata": {},
     "output_type": "execute_result"
    }
   ],
   "source": [
    "from sklearn.metrics import accuracy_score\n",
    "accuracy_score(y_test, y_pred)"
   ]
  },
  {
   "cell_type": "markdown",
   "metadata": {},
   "source": [
    "# ALL DATASET TEST"
   ]
  },
  {
   "cell_type": "code",
   "execution_count": 34,
   "metadata": {
    "collapsed": true
   },
   "outputs": [],
   "source": [
    "# Apply on all the dataset\n",
    "X_pred = clf.predict(X)\n",
    "X_probs = clf.predict_proba(X)\n",
    "\n",
    "df['pred'] = le.inverse_transform(X_pred)\n",
    "\n",
    "df['probs_A'] = X_probs[:,0]\n",
    "df['probs_D'] = X_probs[:,1]\n",
    "df['probs_H'] = X_probs[:,2]\n",
    "#df['probs_A'] = X_probs[:,0]\n",
    "#df['probs_D'] = X_probs[:,1]\n",
    "#df['probs_H'] = X_probs[:,2]\n",
    "df['probs'] = df[['probs_A','probs_D','probs_H']].max(axis=1)\n",
    "\n",
    "df['WIN'] = -1\n",
    "df.loc[df.INFO_FTR == df.pred, 'WIN'] = df['INFO_WIN']\n",
    "\n",
    "df_bet_all_seasons = df.drop(df[df.pred == 'X'].index)"
   ]
  },
  {
   "cell_type": "code",
   "execution_count": 35,
   "metadata": {},
   "outputs": [
    {
     "data": {
      "text/html": [
       "<div>\n",
       "<style>\n",
       "    .dataframe thead tr:only-child th {\n",
       "        text-align: right;\n",
       "    }\n",
       "\n",
       "    .dataframe thead th {\n",
       "        text-align: left;\n",
       "    }\n",
       "\n",
       "    .dataframe tbody tr th {\n",
       "        vertical-align: top;\n",
       "    }\n",
       "</style>\n",
       "<table border=\"1\" class=\"dataframe\">\n",
       "  <thead>\n",
       "    <tr style=\"text-align: right;\">\n",
       "      <th></th>\n",
       "      <th>probs_A</th>\n",
       "      <th>probs_D</th>\n",
       "      <th>probs_H</th>\n",
       "      <th>pred</th>\n",
       "      <th>INFO_FTR</th>\n",
       "      <th>WIN</th>\n",
       "    </tr>\n",
       "  </thead>\n",
       "  <tbody>\n",
       "    <tr>\n",
       "      <th>924</th>\n",
       "      <td>0.343077</td>\n",
       "      <td>0.252308</td>\n",
       "      <td>0.404615</td>\n",
       "      <td>H</td>\n",
       "      <td>A</td>\n",
       "      <td>-1.00</td>\n",
       "    </tr>\n",
       "    <tr>\n",
       "      <th>927</th>\n",
       "      <td>0.323077</td>\n",
       "      <td>0.304615</td>\n",
       "      <td>0.372308</td>\n",
       "      <td>H</td>\n",
       "      <td>A</td>\n",
       "      <td>-1.00</td>\n",
       "    </tr>\n",
       "    <tr>\n",
       "      <th>928</th>\n",
       "      <td>0.301538</td>\n",
       "      <td>0.313846</td>\n",
       "      <td>0.384615</td>\n",
       "      <td>H</td>\n",
       "      <td>H</td>\n",
       "      <td>2.08</td>\n",
       "    </tr>\n",
       "    <tr>\n",
       "      <th>929</th>\n",
       "      <td>0.284615</td>\n",
       "      <td>0.312308</td>\n",
       "      <td>0.403077</td>\n",
       "      <td>H</td>\n",
       "      <td>D</td>\n",
       "      <td>-1.00</td>\n",
       "    </tr>\n",
       "    <tr>\n",
       "      <th>932</th>\n",
       "      <td>0.335385</td>\n",
       "      <td>0.263077</td>\n",
       "      <td>0.401538</td>\n",
       "      <td>H</td>\n",
       "      <td>D</td>\n",
       "      <td>-1.00</td>\n",
       "    </tr>\n",
       "    <tr>\n",
       "      <th>935</th>\n",
       "      <td>0.316923</td>\n",
       "      <td>0.286154</td>\n",
       "      <td>0.396923</td>\n",
       "      <td>H</td>\n",
       "      <td>D</td>\n",
       "      <td>-1.00</td>\n",
       "    </tr>\n",
       "    <tr>\n",
       "      <th>942</th>\n",
       "      <td>0.318462</td>\n",
       "      <td>0.275385</td>\n",
       "      <td>0.406154</td>\n",
       "      <td>H</td>\n",
       "      <td>A</td>\n",
       "      <td>-1.00</td>\n",
       "    </tr>\n",
       "    <tr>\n",
       "      <th>944</th>\n",
       "      <td>0.332308</td>\n",
       "      <td>0.290769</td>\n",
       "      <td>0.376923</td>\n",
       "      <td>H</td>\n",
       "      <td>H</td>\n",
       "      <td>2.74</td>\n",
       "    </tr>\n",
       "    <tr>\n",
       "      <th>946</th>\n",
       "      <td>0.326154</td>\n",
       "      <td>0.307692</td>\n",
       "      <td>0.366154</td>\n",
       "      <td>H</td>\n",
       "      <td>H</td>\n",
       "      <td>2.18</td>\n",
       "    </tr>\n",
       "    <tr>\n",
       "      <th>948</th>\n",
       "      <td>0.329231</td>\n",
       "      <td>0.281538</td>\n",
       "      <td>0.389231</td>\n",
       "      <td>H</td>\n",
       "      <td>A</td>\n",
       "      <td>-1.00</td>\n",
       "    </tr>\n",
       "    <tr>\n",
       "      <th>949</th>\n",
       "      <td>0.307692</td>\n",
       "      <td>0.309231</td>\n",
       "      <td>0.383077</td>\n",
       "      <td>H</td>\n",
       "      <td>A</td>\n",
       "      <td>-1.00</td>\n",
       "    </tr>\n",
       "    <tr>\n",
       "      <th>950</th>\n",
       "      <td>0.341538</td>\n",
       "      <td>0.263077</td>\n",
       "      <td>0.395385</td>\n",
       "      <td>H</td>\n",
       "      <td>H</td>\n",
       "      <td>2.07</td>\n",
       "    </tr>\n",
       "    <tr>\n",
       "      <th>951</th>\n",
       "      <td>0.327692</td>\n",
       "      <td>0.267692</td>\n",
       "      <td>0.404615</td>\n",
       "      <td>H</td>\n",
       "      <td>D</td>\n",
       "      <td>-1.00</td>\n",
       "    </tr>\n",
       "    <tr>\n",
       "      <th>953</th>\n",
       "      <td>0.321538</td>\n",
       "      <td>0.304615</td>\n",
       "      <td>0.373846</td>\n",
       "      <td>H</td>\n",
       "      <td>H</td>\n",
       "      <td>2.09</td>\n",
       "    </tr>\n",
       "    <tr>\n",
       "      <th>958</th>\n",
       "      <td>0.340000</td>\n",
       "      <td>0.296923</td>\n",
       "      <td>0.363077</td>\n",
       "      <td>H</td>\n",
       "      <td>H</td>\n",
       "      <td>2.64</td>\n",
       "    </tr>\n",
       "    <tr>\n",
       "      <th>959</th>\n",
       "      <td>0.376923</td>\n",
       "      <td>0.306154</td>\n",
       "      <td>0.316923</td>\n",
       "      <td>A</td>\n",
       "      <td>A</td>\n",
       "      <td>2.68</td>\n",
       "    </tr>\n",
       "    <tr>\n",
       "      <th>961</th>\n",
       "      <td>0.318462</td>\n",
       "      <td>0.261538</td>\n",
       "      <td>0.420000</td>\n",
       "      <td>H</td>\n",
       "      <td>D</td>\n",
       "      <td>-1.00</td>\n",
       "    </tr>\n",
       "    <tr>\n",
       "      <th>962</th>\n",
       "      <td>0.329231</td>\n",
       "      <td>0.310769</td>\n",
       "      <td>0.360000</td>\n",
       "      <td>H</td>\n",
       "      <td>H</td>\n",
       "      <td>2.39</td>\n",
       "    </tr>\n",
       "    <tr>\n",
       "      <th>963</th>\n",
       "      <td>0.340000</td>\n",
       "      <td>0.278462</td>\n",
       "      <td>0.381538</td>\n",
       "      <td>H</td>\n",
       "      <td>D</td>\n",
       "      <td>-1.00</td>\n",
       "    </tr>\n",
       "    <tr>\n",
       "      <th>964</th>\n",
       "      <td>0.327692</td>\n",
       "      <td>0.304615</td>\n",
       "      <td>0.367692</td>\n",
       "      <td>H</td>\n",
       "      <td>A</td>\n",
       "      <td>-1.00</td>\n",
       "    </tr>\n",
       "    <tr>\n",
       "      <th>965</th>\n",
       "      <td>0.303077</td>\n",
       "      <td>0.286154</td>\n",
       "      <td>0.410769</td>\n",
       "      <td>H</td>\n",
       "      <td>H</td>\n",
       "      <td>2.42</td>\n",
       "    </tr>\n",
       "    <tr>\n",
       "      <th>966</th>\n",
       "      <td>0.286154</td>\n",
       "      <td>0.312308</td>\n",
       "      <td>0.401538</td>\n",
       "      <td>H</td>\n",
       "      <td>H</td>\n",
       "      <td>2.39</td>\n",
       "    </tr>\n",
       "    <tr>\n",
       "      <th>967</th>\n",
       "      <td>0.372308</td>\n",
       "      <td>0.273846</td>\n",
       "      <td>0.353846</td>\n",
       "      <td>A</td>\n",
       "      <td>A</td>\n",
       "      <td>2.80</td>\n",
       "    </tr>\n",
       "    <tr>\n",
       "      <th>970</th>\n",
       "      <td>0.355385</td>\n",
       "      <td>0.255385</td>\n",
       "      <td>0.389231</td>\n",
       "      <td>H</td>\n",
       "      <td>A</td>\n",
       "      <td>-1.00</td>\n",
       "    </tr>\n",
       "    <tr>\n",
       "      <th>973</th>\n",
       "      <td>0.320000</td>\n",
       "      <td>0.293846</td>\n",
       "      <td>0.386154</td>\n",
       "      <td>H</td>\n",
       "      <td>D</td>\n",
       "      <td>-1.00</td>\n",
       "    </tr>\n",
       "    <tr>\n",
       "      <th>975</th>\n",
       "      <td>0.295385</td>\n",
       "      <td>0.321538</td>\n",
       "      <td>0.383077</td>\n",
       "      <td>H</td>\n",
       "      <td>D</td>\n",
       "      <td>-1.00</td>\n",
       "    </tr>\n",
       "    <tr>\n",
       "      <th>978</th>\n",
       "      <td>0.318462</td>\n",
       "      <td>0.272308</td>\n",
       "      <td>0.409231</td>\n",
       "      <td>H</td>\n",
       "      <td>A</td>\n",
       "      <td>-1.00</td>\n",
       "    </tr>\n",
       "    <tr>\n",
       "      <th>979</th>\n",
       "      <td>0.329231</td>\n",
       "      <td>0.289231</td>\n",
       "      <td>0.381538</td>\n",
       "      <td>H</td>\n",
       "      <td>D</td>\n",
       "      <td>-1.00</td>\n",
       "    </tr>\n",
       "    <tr>\n",
       "      <th>981</th>\n",
       "      <td>0.335385</td>\n",
       "      <td>0.309231</td>\n",
       "      <td>0.355385</td>\n",
       "      <td>H</td>\n",
       "      <td>D</td>\n",
       "      <td>-1.00</td>\n",
       "    </tr>\n",
       "    <tr>\n",
       "      <th>982</th>\n",
       "      <td>0.323077</td>\n",
       "      <td>0.313846</td>\n",
       "      <td>0.363077</td>\n",
       "      <td>H</td>\n",
       "      <td>D</td>\n",
       "      <td>-1.00</td>\n",
       "    </tr>\n",
       "    <tr>\n",
       "      <th>...</th>\n",
       "      <td>...</td>\n",
       "      <td>...</td>\n",
       "      <td>...</td>\n",
       "      <td>...</td>\n",
       "      <td>...</td>\n",
       "      <td>...</td>\n",
       "    </tr>\n",
       "    <tr>\n",
       "      <th>22037</th>\n",
       "      <td>0.347692</td>\n",
       "      <td>0.266154</td>\n",
       "      <td>0.386154</td>\n",
       "      <td>H</td>\n",
       "      <td>A</td>\n",
       "      <td>-1.00</td>\n",
       "    </tr>\n",
       "    <tr>\n",
       "      <th>22042</th>\n",
       "      <td>0.315385</td>\n",
       "      <td>0.306154</td>\n",
       "      <td>0.378462</td>\n",
       "      <td>H</td>\n",
       "      <td>D</td>\n",
       "      <td>-1.00</td>\n",
       "    </tr>\n",
       "    <tr>\n",
       "      <th>22043</th>\n",
       "      <td>0.353846</td>\n",
       "      <td>0.286154</td>\n",
       "      <td>0.360000</td>\n",
       "      <td>H</td>\n",
       "      <td>D</td>\n",
       "      <td>-1.00</td>\n",
       "    </tr>\n",
       "    <tr>\n",
       "      <th>22047</th>\n",
       "      <td>0.343077</td>\n",
       "      <td>0.258462</td>\n",
       "      <td>0.398462</td>\n",
       "      <td>H</td>\n",
       "      <td>A</td>\n",
       "      <td>-1.00</td>\n",
       "    </tr>\n",
       "    <tr>\n",
       "      <th>22048</th>\n",
       "      <td>0.306154</td>\n",
       "      <td>0.292308</td>\n",
       "      <td>0.401538</td>\n",
       "      <td>H</td>\n",
       "      <td>H</td>\n",
       "      <td>3.41</td>\n",
       "    </tr>\n",
       "    <tr>\n",
       "      <th>22049</th>\n",
       "      <td>0.350769</td>\n",
       "      <td>0.270769</td>\n",
       "      <td>0.378462</td>\n",
       "      <td>H</td>\n",
       "      <td>A</td>\n",
       "      <td>-1.00</td>\n",
       "    </tr>\n",
       "    <tr>\n",
       "      <th>22051</th>\n",
       "      <td>0.355385</td>\n",
       "      <td>0.272308</td>\n",
       "      <td>0.372308</td>\n",
       "      <td>H</td>\n",
       "      <td>H</td>\n",
       "      <td>2.96</td>\n",
       "    </tr>\n",
       "    <tr>\n",
       "      <th>22052</th>\n",
       "      <td>0.326154</td>\n",
       "      <td>0.272308</td>\n",
       "      <td>0.401538</td>\n",
       "      <td>H</td>\n",
       "      <td>D</td>\n",
       "      <td>-1.00</td>\n",
       "    </tr>\n",
       "    <tr>\n",
       "      <th>22057</th>\n",
       "      <td>0.332308</td>\n",
       "      <td>0.272308</td>\n",
       "      <td>0.395385</td>\n",
       "      <td>H</td>\n",
       "      <td>D</td>\n",
       "      <td>-1.00</td>\n",
       "    </tr>\n",
       "    <tr>\n",
       "      <th>22058</th>\n",
       "      <td>0.350769</td>\n",
       "      <td>0.272308</td>\n",
       "      <td>0.376923</td>\n",
       "      <td>H</td>\n",
       "      <td>A</td>\n",
       "      <td>-1.00</td>\n",
       "    </tr>\n",
       "    <tr>\n",
       "      <th>22059</th>\n",
       "      <td>0.352308</td>\n",
       "      <td>0.290769</td>\n",
       "      <td>0.356923</td>\n",
       "      <td>H</td>\n",
       "      <td>A</td>\n",
       "      <td>-1.00</td>\n",
       "    </tr>\n",
       "    <tr>\n",
       "      <th>22067</th>\n",
       "      <td>0.323077</td>\n",
       "      <td>0.280000</td>\n",
       "      <td>0.396923</td>\n",
       "      <td>H</td>\n",
       "      <td>A</td>\n",
       "      <td>-1.00</td>\n",
       "    </tr>\n",
       "    <tr>\n",
       "      <th>22069</th>\n",
       "      <td>0.343077</td>\n",
       "      <td>0.264615</td>\n",
       "      <td>0.392308</td>\n",
       "      <td>H</td>\n",
       "      <td>D</td>\n",
       "      <td>-1.00</td>\n",
       "    </tr>\n",
       "    <tr>\n",
       "      <th>22071</th>\n",
       "      <td>0.307692</td>\n",
       "      <td>0.310769</td>\n",
       "      <td>0.381538</td>\n",
       "      <td>H</td>\n",
       "      <td>H</td>\n",
       "      <td>2.30</td>\n",
       "    </tr>\n",
       "    <tr>\n",
       "      <th>22073</th>\n",
       "      <td>0.284615</td>\n",
       "      <td>0.321538</td>\n",
       "      <td>0.393846</td>\n",
       "      <td>H</td>\n",
       "      <td>H</td>\n",
       "      <td>2.32</td>\n",
       "    </tr>\n",
       "    <tr>\n",
       "      <th>22075</th>\n",
       "      <td>0.358462</td>\n",
       "      <td>0.270769</td>\n",
       "      <td>0.370769</td>\n",
       "      <td>H</td>\n",
       "      <td>H</td>\n",
       "      <td>3.06</td>\n",
       "    </tr>\n",
       "    <tr>\n",
       "      <th>22078</th>\n",
       "      <td>0.350769</td>\n",
       "      <td>0.307692</td>\n",
       "      <td>0.341538</td>\n",
       "      <td>A</td>\n",
       "      <td>H</td>\n",
       "      <td>-1.00</td>\n",
       "    </tr>\n",
       "    <tr>\n",
       "      <th>22080</th>\n",
       "      <td>0.346154</td>\n",
       "      <td>0.313846</td>\n",
       "      <td>0.340000</td>\n",
       "      <td>A</td>\n",
       "      <td>A</td>\n",
       "      <td>3.10</td>\n",
       "    </tr>\n",
       "    <tr>\n",
       "      <th>22083</th>\n",
       "      <td>0.327692</td>\n",
       "      <td>0.281538</td>\n",
       "      <td>0.390769</td>\n",
       "      <td>H</td>\n",
       "      <td>A</td>\n",
       "      <td>-1.00</td>\n",
       "    </tr>\n",
       "    <tr>\n",
       "      <th>22090</th>\n",
       "      <td>0.326154</td>\n",
       "      <td>0.292308</td>\n",
       "      <td>0.381538</td>\n",
       "      <td>H</td>\n",
       "      <td>H</td>\n",
       "      <td>2.07</td>\n",
       "    </tr>\n",
       "    <tr>\n",
       "      <th>22091</th>\n",
       "      <td>0.329231</td>\n",
       "      <td>0.272308</td>\n",
       "      <td>0.398462</td>\n",
       "      <td>H</td>\n",
       "      <td>A</td>\n",
       "      <td>-1.00</td>\n",
       "    </tr>\n",
       "    <tr>\n",
       "      <th>22092</th>\n",
       "      <td>0.338462</td>\n",
       "      <td>0.307692</td>\n",
       "      <td>0.353846</td>\n",
       "      <td>H</td>\n",
       "      <td>D</td>\n",
       "      <td>-1.00</td>\n",
       "    </tr>\n",
       "    <tr>\n",
       "      <th>22094</th>\n",
       "      <td>0.318462</td>\n",
       "      <td>0.292308</td>\n",
       "      <td>0.389231</td>\n",
       "      <td>H</td>\n",
       "      <td>D</td>\n",
       "      <td>-1.00</td>\n",
       "    </tr>\n",
       "    <tr>\n",
       "      <th>22098</th>\n",
       "      <td>0.329231</td>\n",
       "      <td>0.316923</td>\n",
       "      <td>0.353846</td>\n",
       "      <td>H</td>\n",
       "      <td>H</td>\n",
       "      <td>3.37</td>\n",
       "    </tr>\n",
       "    <tr>\n",
       "      <th>22100</th>\n",
       "      <td>0.304615</td>\n",
       "      <td>0.307692</td>\n",
       "      <td>0.387692</td>\n",
       "      <td>H</td>\n",
       "      <td>D</td>\n",
       "      <td>-1.00</td>\n",
       "    </tr>\n",
       "    <tr>\n",
       "      <th>22101</th>\n",
       "      <td>0.309231</td>\n",
       "      <td>0.323077</td>\n",
       "      <td>0.367692</td>\n",
       "      <td>H</td>\n",
       "      <td>D</td>\n",
       "      <td>-1.00</td>\n",
       "    </tr>\n",
       "    <tr>\n",
       "      <th>22102</th>\n",
       "      <td>0.349231</td>\n",
       "      <td>0.252308</td>\n",
       "      <td>0.398462</td>\n",
       "      <td>H</td>\n",
       "      <td>D</td>\n",
       "      <td>-1.00</td>\n",
       "    </tr>\n",
       "    <tr>\n",
       "      <th>22103</th>\n",
       "      <td>0.315385</td>\n",
       "      <td>0.295385</td>\n",
       "      <td>0.389231</td>\n",
       "      <td>H</td>\n",
       "      <td>H</td>\n",
       "      <td>2.53</td>\n",
       "    </tr>\n",
       "    <tr>\n",
       "      <th>22105</th>\n",
       "      <td>0.320000</td>\n",
       "      <td>0.313846</td>\n",
       "      <td>0.366154</td>\n",
       "      <td>H</td>\n",
       "      <td>A</td>\n",
       "      <td>-1.00</td>\n",
       "    </tr>\n",
       "    <tr>\n",
       "      <th>22107</th>\n",
       "      <td>0.326154</td>\n",
       "      <td>0.284615</td>\n",
       "      <td>0.389231</td>\n",
       "      <td>H</td>\n",
       "      <td>A</td>\n",
       "      <td>-1.00</td>\n",
       "    </tr>\n",
       "  </tbody>\n",
       "</table>\n",
       "<p>7886 rows × 6 columns</p>\n",
       "</div>"
      ],
      "text/plain": [
       "        probs_A   probs_D   probs_H pred INFO_FTR   WIN\n",
       "924    0.343077  0.252308  0.404615    H        A -1.00\n",
       "927    0.323077  0.304615  0.372308    H        A -1.00\n",
       "928    0.301538  0.313846  0.384615    H        H  2.08\n",
       "929    0.284615  0.312308  0.403077    H        D -1.00\n",
       "932    0.335385  0.263077  0.401538    H        D -1.00\n",
       "935    0.316923  0.286154  0.396923    H        D -1.00\n",
       "942    0.318462  0.275385  0.406154    H        A -1.00\n",
       "944    0.332308  0.290769  0.376923    H        H  2.74\n",
       "946    0.326154  0.307692  0.366154    H        H  2.18\n",
       "948    0.329231  0.281538  0.389231    H        A -1.00\n",
       "949    0.307692  0.309231  0.383077    H        A -1.00\n",
       "950    0.341538  0.263077  0.395385    H        H  2.07\n",
       "951    0.327692  0.267692  0.404615    H        D -1.00\n",
       "953    0.321538  0.304615  0.373846    H        H  2.09\n",
       "958    0.340000  0.296923  0.363077    H        H  2.64\n",
       "959    0.376923  0.306154  0.316923    A        A  2.68\n",
       "961    0.318462  0.261538  0.420000    H        D -1.00\n",
       "962    0.329231  0.310769  0.360000    H        H  2.39\n",
       "963    0.340000  0.278462  0.381538    H        D -1.00\n",
       "964    0.327692  0.304615  0.367692    H        A -1.00\n",
       "965    0.303077  0.286154  0.410769    H        H  2.42\n",
       "966    0.286154  0.312308  0.401538    H        H  2.39\n",
       "967    0.372308  0.273846  0.353846    A        A  2.80\n",
       "970    0.355385  0.255385  0.389231    H        A -1.00\n",
       "973    0.320000  0.293846  0.386154    H        D -1.00\n",
       "975    0.295385  0.321538  0.383077    H        D -1.00\n",
       "978    0.318462  0.272308  0.409231    H        A -1.00\n",
       "979    0.329231  0.289231  0.381538    H        D -1.00\n",
       "981    0.335385  0.309231  0.355385    H        D -1.00\n",
       "982    0.323077  0.313846  0.363077    H        D -1.00\n",
       "...         ...       ...       ...  ...      ...   ...\n",
       "22037  0.347692  0.266154  0.386154    H        A -1.00\n",
       "22042  0.315385  0.306154  0.378462    H        D -1.00\n",
       "22043  0.353846  0.286154  0.360000    H        D -1.00\n",
       "22047  0.343077  0.258462  0.398462    H        A -1.00\n",
       "22048  0.306154  0.292308  0.401538    H        H  3.41\n",
       "22049  0.350769  0.270769  0.378462    H        A -1.00\n",
       "22051  0.355385  0.272308  0.372308    H        H  2.96\n",
       "22052  0.326154  0.272308  0.401538    H        D -1.00\n",
       "22057  0.332308  0.272308  0.395385    H        D -1.00\n",
       "22058  0.350769  0.272308  0.376923    H        A -1.00\n",
       "22059  0.352308  0.290769  0.356923    H        A -1.00\n",
       "22067  0.323077  0.280000  0.396923    H        A -1.00\n",
       "22069  0.343077  0.264615  0.392308    H        D -1.00\n",
       "22071  0.307692  0.310769  0.381538    H        H  2.30\n",
       "22073  0.284615  0.321538  0.393846    H        H  2.32\n",
       "22075  0.358462  0.270769  0.370769    H        H  3.06\n",
       "22078  0.350769  0.307692  0.341538    A        H -1.00\n",
       "22080  0.346154  0.313846  0.340000    A        A  3.10\n",
       "22083  0.327692  0.281538  0.390769    H        A -1.00\n",
       "22090  0.326154  0.292308  0.381538    H        H  2.07\n",
       "22091  0.329231  0.272308  0.398462    H        A -1.00\n",
       "22092  0.338462  0.307692  0.353846    H        D -1.00\n",
       "22094  0.318462  0.292308  0.389231    H        D -1.00\n",
       "22098  0.329231  0.316923  0.353846    H        H  3.37\n",
       "22100  0.304615  0.307692  0.387692    H        D -1.00\n",
       "22101  0.309231  0.323077  0.367692    H        D -1.00\n",
       "22102  0.349231  0.252308  0.398462    H        D -1.00\n",
       "22103  0.315385  0.295385  0.389231    H        H  2.53\n",
       "22105  0.320000  0.313846  0.366154    H        A -1.00\n",
       "22107  0.326154  0.284615  0.389231    H        A -1.00\n",
       "\n",
       "[7886 rows x 6 columns]"
      ]
     },
     "execution_count": 35,
     "metadata": {},
     "output_type": "execute_result"
    }
   ],
   "source": [
    "df[['probs_A','probs_D','probs_H','pred', 'INFO_FTR', 'WIN']]"
   ]
  },
  {
   "cell_type": "code",
   "execution_count": 36,
   "metadata": {},
   "outputs": [
    {
     "data": {
      "text/plain": [
       "1.090227958207425"
      ]
     },
     "execution_count": 36,
     "metadata": {},
     "output_type": "execute_result"
    }
   ],
   "source": [
    "# Compute cross-entropy score\n",
    "log_loss(y, X_probs)"
   ]
  },
  {
   "cell_type": "code",
   "execution_count": 37,
   "metadata": {},
   "outputs": [
    {
     "name": "stdout",
     "output_type": "stream",
     "text": [
      "             precision    recall  f1-score   support\n",
      "\n",
      "          A       0.40      0.15      0.21      2648\n",
      "          D       0.21      0.00      0.00      2290\n",
      "          H       0.38      0.89      0.53      2948\n",
      "\n",
      "avg / total       0.34      0.38      0.27      7886\n",
      "\n"
     ]
    }
   ],
   "source": [
    "# Compute precision, recall, F-measure and support\n",
    "from sklearn.metrics import classification_report\n",
    "print(classification_report(y, X_pred, target_names=['A', 'D', 'H']))"
   ]
  },
  {
   "cell_type": "code",
   "execution_count": 38,
   "metadata": {},
   "outputs": [
    {
     "data": {
      "text/plain": [
       "(7886, 198)"
      ]
     },
     "execution_count": 38,
     "metadata": {},
     "output_type": "execute_result"
    }
   ],
   "source": [
    "df_bet_all_seasons.shape"
   ]
  },
  {
   "cell_type": "code",
   "execution_count": 39,
   "metadata": {},
   "outputs": [
    {
     "data": {
      "text/plain": [
       "None"
      ]
     },
     "metadata": {},
     "output_type": "display_data"
    },
    {
     "data": {
      "text/plain": [
       "H    37.382704\n",
       "A    33.578494\n",
       "D    29.038803\n",
       "Name: INFO_FTR, dtype: float64"
      ]
     },
     "metadata": {},
     "output_type": "display_data"
    }
   ],
   "source": [
    "# What will be the real result of games I bet on\n",
    "display(plt.show(), 100. * df_bet_all_seasons.INFO_FTR.value_counts() / len(df_bet_all_seasons.INFO_FTR))"
   ]
  },
  {
   "cell_type": "code",
   "execution_count": 40,
   "metadata": {},
   "outputs": [
    {
     "data": {
      "text/plain": [
       "0.32995054527009915"
      ]
     },
     "execution_count": 40,
     "metadata": {},
     "output_type": "execute_result"
    }
   ],
   "source": [
    "df_bet_all_seasons.WIN.mean()"
   ]
  },
  {
   "cell_type": "markdown",
   "metadata": {},
   "source": [
    "# SEASON 2016/2017 TEST"
   ]
  },
  {
   "cell_type": "code",
   "execution_count": 41,
   "metadata": {
    "collapsed": true
   },
   "outputs": [],
   "source": [
    "# Apply on current season that is not use for train and test set\n",
    "X_pred_current_season = clf.predict(X_current_season)\n",
    "X_prob_current_season = clf.predict_proba(X_current_season)\n",
    "\n",
    "df_current_season['probs_A'] = X_prob_current_season[:,0]\n",
    "df_current_season['probs_D'] = X_prob_current_season[:,1]\n",
    "df_current_season['probs_H'] = X_prob_current_season[:,2]\n",
    "df_current_season['probs'] = df_current_season[['probs_A','probs_D','probs_H']].max(axis=1)\n",
    "\n",
    "df_current_season['pred'] = le.inverse_transform(X_pred_current_season)\n",
    "\n",
    "df_current_season['WIN'] = -1\n",
    "df_current_season.loc[df_current_season.INFO_FTR == df_current_season.pred, 'WIN'] = df_current_season['INFO_WIN']-1\n",
    "\n",
    "df_current_season['WIN_P'] = -1\n",
    "df_current_season.loc[df_current_season.INFO_FTR == df_current_season.pred, 'WIN_P'] = df_current_season['INFO_WIN_P']-1\n",
    "\n",
    "df_current_season['INFO_ODD'] = 0\n",
    "df_current_season.loc[df_current_season.pred == 'A', 'INFO_ODD_BET'] = df_current_season[odd_A]\n",
    "df_current_season.loc[df_current_season.pred == 'D', 'INFO_ODD_BET'] = df_current_season[odd_D]\n",
    "df_current_season.loc[df_current_season.pred == 'H', 'INFO_ODD_BET'] = df_current_season[odd_H]\n",
    "\n",
    "#TODO\n",
    "# test prob_less_bet <= 0.2 et si ceux que je predisais H je les mettais A en fait !\n",
    "\n",
    "df_current_season['prob_less_bet'] = 0\n",
    "df_current_season.loc[df_current_season.pred == 'A', 'prob_less_bet'] = df_current_season['probs'] - df_current_season[odd_A].apply(lambda x: 1/x)\n",
    "df_current_season.loc[df_current_season.pred == 'D', 'prob_less_bet'] = df_current_season['probs'] - df_current_season[odd_D].apply(lambda x: 1/x)\n",
    "df_current_season.loc[df_current_season.pred == 'H', 'prob_less_bet'] = df_current_season['probs'] - df_current_season[odd_H].apply(lambda x: 1/x)"
   ]
  },
  {
   "cell_type": "code",
   "execution_count": 42,
   "metadata": {},
   "outputs": [
    {
     "data": {
      "text/plain": [
       "(2222,)"
      ]
     },
     "execution_count": 42,
     "metadata": {},
     "output_type": "execute_result"
    }
   ],
   "source": [
    "# How many matches was play\n",
    "X_pred_current_season.shape"
   ]
  },
  {
   "cell_type": "code",
   "execution_count": 43,
   "metadata": {},
   "outputs": [
    {
     "name": "stdout",
     "output_type": "stream",
     "text": [
      "             precision    recall  f1-score   support\n",
      "\n",
      "          A       0.50      0.29      0.37       637\n",
      "          D       0.00      0.00      0.00       516\n",
      "          H       0.52      0.89      0.65      1069\n",
      "\n",
      "avg / total       0.39      0.51      0.42      2222\n",
      "\n"
     ]
    }
   ],
   "source": [
    "# Score for this current season\n",
    "from sklearn.metrics import classification_report\n",
    "print(classification_report(y_current_season, X_pred_current_season, target_names=['A', 'D', 'H']))"
   ]
  },
  {
   "cell_type": "code",
   "execution_count": 68,
   "metadata": {
    "collapsed": true
   },
   "outputs": [],
   "source": [
    "# Remove games I didn't bet on\n",
    "df_bet_current_season = df_current_season\n",
    "#df_bet_current_season = df_bet_current_season.drop(df_bet_current_season[df_bet_current_season.probs <= 0.4].index)\n",
    "#df_bet_current_season = df_bet_current_season.drop(df_bet_current_season[df_bet_current_season.pred != 'A'].index)\n",
    "#df_bet_current_season = df_bet_current_season.drop(df_bet_current_season[df_bet_current_season.pred == 'D'].index)\n",
    "#df_bet_current_season = df_bet_current_season.drop(df_bet_current_season[df_bet_current_season.prob_less_bet <= 0].index)\n",
    "#df_bet_current_season = df_bet_current_season[df_bet_current_season.prob_less_bet > 0]\n",
    "#df_bet_current_season = df_bet_current_season[df_bet_current_season['INFO_ODD_BET'] > 2]\n",
    "#df_bet_current_season = df_bet_current_season[df_bet_current_season['INFO_ODD_BET'] < 4]"
   ]
  },
  {
   "cell_type": "code",
   "execution_count": 69,
   "metadata": {},
   "outputs": [
    {
     "data": {
      "text/plain": [
       "(2222, 202)"
      ]
     },
     "execution_count": 69,
     "metadata": {},
     "output_type": "execute_result"
    }
   ],
   "source": [
    "# How many bet I did\n",
    "df_bet_current_season.shape"
   ]
  },
  {
   "cell_type": "code",
   "execution_count": 70,
   "metadata": {},
   "outputs": [
    {
     "data": {
      "text/plain": [
       "None"
      ]
     },
     "metadata": {},
     "output_type": "display_data"
    },
    {
     "data": {
      "text/plain": [
       "H    48.109811\n",
       "A    28.667867\n",
       "D    23.222322\n",
       "Name: INFO_FTR, dtype: float64"
      ]
     },
     "metadata": {},
     "output_type": "display_data"
    }
   ],
   "source": [
    "# What will be the real result of games I bet on\n",
    "display(plt.show(), 100. * df_bet_current_season.INFO_FTR.value_counts() / len(df_bet_current_season.INFO_FTR))"
   ]
  },
  {
   "cell_type": "code",
   "execution_count": 71,
   "metadata": {},
   "outputs": [
    {
     "data": {
      "text/plain": [
       "None"
      ]
     },
     "metadata": {},
     "output_type": "display_data"
    },
    {
     "data": {
      "text/plain": [
       "H    83.213321\n",
       "A    16.696670\n",
       "D     0.090009\n",
       "Name: pred, dtype: float64"
      ]
     },
     "metadata": {},
     "output_type": "display_data"
    }
   ],
   "source": [
    "# What will I bet on\n",
    "display(plt.show(), 100. * df_bet_current_season.pred.value_counts() / len(df_bet_current_season.pred))"
   ]
  },
  {
   "cell_type": "code",
   "execution_count": 72,
   "metadata": {},
   "outputs": [
    {
     "data": {
      "text/plain": [
       "1.0636206029352342"
      ]
     },
     "execution_count": 72,
     "metadata": {},
     "output_type": "execute_result"
    }
   ],
   "source": [
    "# Compute cross-entropy score\n",
    "log_loss(y_current_season, X_prob_current_season)"
   ]
  },
  {
   "cell_type": "code",
   "execution_count": 73,
   "metadata": {},
   "outputs": [
    {
     "data": {
      "text/plain": [
       "0.37882711348057757"
      ]
     },
     "execution_count": 73,
     "metadata": {},
     "output_type": "execute_result"
    }
   ],
   "source": [
    "df_bet_current_season.probs.mean()"
   ]
  },
  {
   "cell_type": "code",
   "execution_count": 74,
   "metadata": {},
   "outputs": [
    {
     "data": {
      "text/plain": [
       "2.7012241224122406"
      ]
     },
     "execution_count": 74,
     "metadata": {},
     "output_type": "execute_result"
    }
   ],
   "source": [
    "df_bet_current_season.INFO_WIN.mean()"
   ]
  },
  {
   "cell_type": "code",
   "execution_count": 75,
   "metadata": {},
   "outputs": [
    {
     "data": {
      "text/plain": [
       "2.7997292418772575"
      ]
     },
     "execution_count": 75,
     "metadata": {},
     "output_type": "execute_result"
    }
   ],
   "source": [
    "df_bet_current_season.INFO_WIN_P.mean()"
   ]
  },
  {
   "cell_type": "code",
   "execution_count": 76,
   "metadata": {},
   "outputs": [
    {
     "data": {
      "text/plain": [
       "0.0568451845184518"
      ]
     },
     "execution_count": 76,
     "metadata": {},
     "output_type": "execute_result"
    }
   ],
   "source": [
    "# What I win/lost on each match\n",
    "df_bet_current_season.WIN.mean()"
   ]
  },
  {
   "cell_type": "code",
   "execution_count": 77,
   "metadata": {},
   "outputs": [
    {
     "data": {
      "text/plain": [
       "0.08079765660207308"
      ]
     },
     "execution_count": 77,
     "metadata": {},
     "output_type": "execute_result"
    }
   ],
   "source": [
    "df_bet_current_season.WIN_P.mean()"
   ]
  },
  {
   "cell_type": "code",
   "execution_count": 78,
   "metadata": {},
   "outputs": [
    {
     "data": {
      "text/html": [
       "<div>\n",
       "<style>\n",
       "    .dataframe thead tr:only-child th {\n",
       "        text-align: right;\n",
       "    }\n",
       "\n",
       "    .dataframe thead th {\n",
       "        text-align: left;\n",
       "    }\n",
       "\n",
       "    .dataframe tbody tr th {\n",
       "        vertical-align: top;\n",
       "    }\n",
       "</style>\n",
       "<table border=\"1\" class=\"dataframe\">\n",
       "  <thead>\n",
       "    <tr style=\"text-align: right;\">\n",
       "      <th></th>\n",
       "      <th>INFO_Date</th>\n",
       "      <th>probs_A</th>\n",
       "      <th>probs_D</th>\n",
       "      <th>probs_H</th>\n",
       "      <th>probs</th>\n",
       "      <th>prob_less_bet</th>\n",
       "      <th>pred</th>\n",
       "      <th>INFO_FTR</th>\n",
       "      <th>WIN</th>\n",
       "    </tr>\n",
       "  </thead>\n",
       "  <tbody>\n",
       "    <tr>\n",
       "      <th>23053</th>\n",
       "      <td>2016-11-01</td>\n",
       "      <td>0.310769</td>\n",
       "      <td>0.276923</td>\n",
       "      <td>0.412308</td>\n",
       "      <td>0.412308</td>\n",
       "      <td>-0.108526</td>\n",
       "      <td>H</td>\n",
       "      <td>H</td>\n",
       "      <td>0.92</td>\n",
       "    </tr>\n",
       "    <tr>\n",
       "      <th>23054</th>\n",
       "      <td>2016-11-01</td>\n",
       "      <td>0.361538</td>\n",
       "      <td>0.258462</td>\n",
       "      <td>0.380000</td>\n",
       "      <td>0.380000</td>\n",
       "      <td>-0.178659</td>\n",
       "      <td>H</td>\n",
       "      <td>H</td>\n",
       "      <td>0.79</td>\n",
       "    </tr>\n",
       "    <tr>\n",
       "      <th>23055</th>\n",
       "      <td>2016-11-04</td>\n",
       "      <td>0.336923</td>\n",
       "      <td>0.278462</td>\n",
       "      <td>0.384615</td>\n",
       "      <td>0.384615</td>\n",
       "      <td>-0.013791</td>\n",
       "      <td>H</td>\n",
       "      <td>H</td>\n",
       "      <td>1.51</td>\n",
       "    </tr>\n",
       "    <tr>\n",
       "      <th>23056</th>\n",
       "      <td>2016-11-04</td>\n",
       "      <td>0.381538</td>\n",
       "      <td>0.244615</td>\n",
       "      <td>0.373846</td>\n",
       "      <td>0.381538</td>\n",
       "      <td>0.055806</td>\n",
       "      <td>A</td>\n",
       "      <td>A</td>\n",
       "      <td>2.07</td>\n",
       "    </tr>\n",
       "    <tr>\n",
       "      <th>23057</th>\n",
       "      <td>2016-11-04</td>\n",
       "      <td>0.324615</td>\n",
       "      <td>0.295385</td>\n",
       "      <td>0.380000</td>\n",
       "      <td>0.380000</td>\n",
       "      <td>0.001212</td>\n",
       "      <td>H</td>\n",
       "      <td>H</td>\n",
       "      <td>1.64</td>\n",
       "    </tr>\n",
       "    <tr>\n",
       "      <th>23058</th>\n",
       "      <td>2016-11-04</td>\n",
       "      <td>0.333846</td>\n",
       "      <td>0.269231</td>\n",
       "      <td>0.396923</td>\n",
       "      <td>0.396923</td>\n",
       "      <td>-0.187872</td>\n",
       "      <td>H</td>\n",
       "      <td>H</td>\n",
       "      <td>0.71</td>\n",
       "    </tr>\n",
       "    <tr>\n",
       "      <th>23059</th>\n",
       "      <td>2016-11-04</td>\n",
       "      <td>0.364615</td>\n",
       "      <td>0.303077</td>\n",
       "      <td>0.332308</td>\n",
       "      <td>0.364615</td>\n",
       "      <td>-0.184835</td>\n",
       "      <td>A</td>\n",
       "      <td>A</td>\n",
       "      <td>0.82</td>\n",
       "    </tr>\n",
       "    <tr>\n",
       "      <th>23060</th>\n",
       "      <td>2016-11-05</td>\n",
       "      <td>0.335385</td>\n",
       "      <td>0.286154</td>\n",
       "      <td>0.378462</td>\n",
       "      <td>0.378462</td>\n",
       "      <td>-0.454872</td>\n",
       "      <td>H</td>\n",
       "      <td>D</td>\n",
       "      <td>-1.00</td>\n",
       "    </tr>\n",
       "    <tr>\n",
       "      <th>23061</th>\n",
       "      <td>2016-11-05</td>\n",
       "      <td>0.289231</td>\n",
       "      <td>0.300000</td>\n",
       "      <td>0.410769</td>\n",
       "      <td>0.410769</td>\n",
       "      <td>0.027627</td>\n",
       "      <td>H</td>\n",
       "      <td>H</td>\n",
       "      <td>1.61</td>\n",
       "    </tr>\n",
       "    <tr>\n",
       "      <th>23062</th>\n",
       "      <td>2016-11-05</td>\n",
       "      <td>0.327692</td>\n",
       "      <td>0.316923</td>\n",
       "      <td>0.355385</td>\n",
       "      <td>0.355385</td>\n",
       "      <td>-0.023403</td>\n",
       "      <td>H</td>\n",
       "      <td>A</td>\n",
       "      <td>-1.00</td>\n",
       "    </tr>\n",
       "    <tr>\n",
       "      <th>23063</th>\n",
       "      <td>2016-11-05</td>\n",
       "      <td>0.335385</td>\n",
       "      <td>0.329231</td>\n",
       "      <td>0.335385</td>\n",
       "      <td>0.335385</td>\n",
       "      <td>-0.349547</td>\n",
       "      <td>A</td>\n",
       "      <td>A</td>\n",
       "      <td>0.46</td>\n",
       "    </tr>\n",
       "    <tr>\n",
       "      <th>23064</th>\n",
       "      <td>2016-11-05</td>\n",
       "      <td>0.350769</td>\n",
       "      <td>0.298462</td>\n",
       "      <td>0.350769</td>\n",
       "      <td>0.350769</td>\n",
       "      <td>0.076044</td>\n",
       "      <td>A</td>\n",
       "      <td>A</td>\n",
       "      <td>2.64</td>\n",
       "    </tr>\n",
       "    <tr>\n",
       "      <th>23065</th>\n",
       "      <td>2016-11-05</td>\n",
       "      <td>0.338462</td>\n",
       "      <td>0.286154</td>\n",
       "      <td>0.375385</td>\n",
       "      <td>0.375385</td>\n",
       "      <td>-0.418266</td>\n",
       "      <td>H</td>\n",
       "      <td>H</td>\n",
       "      <td>0.26</td>\n",
       "    </tr>\n",
       "    <tr>\n",
       "      <th>23066</th>\n",
       "      <td>2016-11-05</td>\n",
       "      <td>0.323077</td>\n",
       "      <td>0.272308</td>\n",
       "      <td>0.404615</td>\n",
       "      <td>0.404615</td>\n",
       "      <td>-0.212669</td>\n",
       "      <td>H</td>\n",
       "      <td>A</td>\n",
       "      <td>-1.00</td>\n",
       "    </tr>\n",
       "    <tr>\n",
       "      <th>23067</th>\n",
       "      <td>2016-11-05</td>\n",
       "      <td>0.346154</td>\n",
       "      <td>0.281538</td>\n",
       "      <td>0.372308</td>\n",
       "      <td>0.372308</td>\n",
       "      <td>0.071103</td>\n",
       "      <td>H</td>\n",
       "      <td>H</td>\n",
       "      <td>2.32</td>\n",
       "    </tr>\n",
       "    <tr>\n",
       "      <th>23068</th>\n",
       "      <td>2016-11-05</td>\n",
       "      <td>0.323077</td>\n",
       "      <td>0.303077</td>\n",
       "      <td>0.373846</td>\n",
       "      <td>0.373846</td>\n",
       "      <td>-0.267179</td>\n",
       "      <td>H</td>\n",
       "      <td>H</td>\n",
       "      <td>0.56</td>\n",
       "    </tr>\n",
       "    <tr>\n",
       "      <th>23069</th>\n",
       "      <td>2016-11-05</td>\n",
       "      <td>0.340000</td>\n",
       "      <td>0.267692</td>\n",
       "      <td>0.392308</td>\n",
       "      <td>0.392308</td>\n",
       "      <td>-0.427364</td>\n",
       "      <td>H</td>\n",
       "      <td>D</td>\n",
       "      <td>-1.00</td>\n",
       "    </tr>\n",
       "    <tr>\n",
       "      <th>23070</th>\n",
       "      <td>2016-11-05</td>\n",
       "      <td>0.323077</td>\n",
       "      <td>0.300000</td>\n",
       "      <td>0.376923</td>\n",
       "      <td>0.376923</td>\n",
       "      <td>-0.123077</td>\n",
       "      <td>H</td>\n",
       "      <td>D</td>\n",
       "      <td>-1.00</td>\n",
       "    </tr>\n",
       "    <tr>\n",
       "      <th>23071</th>\n",
       "      <td>2016-11-05</td>\n",
       "      <td>0.350769</td>\n",
       "      <td>0.261538</td>\n",
       "      <td>0.387692</td>\n",
       "      <td>0.387692</td>\n",
       "      <td>-0.229592</td>\n",
       "      <td>H</td>\n",
       "      <td>H</td>\n",
       "      <td>0.62</td>\n",
       "    </tr>\n",
       "    <tr>\n",
       "      <th>23072</th>\n",
       "      <td>2016-11-05</td>\n",
       "      <td>0.333846</td>\n",
       "      <td>0.296923</td>\n",
       "      <td>0.369231</td>\n",
       "      <td>0.369231</td>\n",
       "      <td>0.030248</td>\n",
       "      <td>H</td>\n",
       "      <td>A</td>\n",
       "      <td>-1.00</td>\n",
       "    </tr>\n",
       "    <tr>\n",
       "      <th>23073</th>\n",
       "      <td>2016-11-05</td>\n",
       "      <td>0.329231</td>\n",
       "      <td>0.292308</td>\n",
       "      <td>0.378462</td>\n",
       "      <td>0.378462</td>\n",
       "      <td>-0.080254</td>\n",
       "      <td>H</td>\n",
       "      <td>D</td>\n",
       "      <td>-1.00</td>\n",
       "    </tr>\n",
       "    <tr>\n",
       "      <th>23074</th>\n",
       "      <td>2016-11-05</td>\n",
       "      <td>0.321538</td>\n",
       "      <td>0.296923</td>\n",
       "      <td>0.381538</td>\n",
       "      <td>0.381538</td>\n",
       "      <td>-0.070950</td>\n",
       "      <td>H</td>\n",
       "      <td>D</td>\n",
       "      <td>-1.00</td>\n",
       "    </tr>\n",
       "    <tr>\n",
       "      <th>23075</th>\n",
       "      <td>2016-11-05</td>\n",
       "      <td>0.340000</td>\n",
       "      <td>0.283077</td>\n",
       "      <td>0.376923</td>\n",
       "      <td>0.376923</td>\n",
       "      <td>-0.317521</td>\n",
       "      <td>H</td>\n",
       "      <td>H</td>\n",
       "      <td>0.44</td>\n",
       "    </tr>\n",
       "    <tr>\n",
       "      <th>23076</th>\n",
       "      <td>2016-11-05</td>\n",
       "      <td>0.364615</td>\n",
       "      <td>0.260000</td>\n",
       "      <td>0.375385</td>\n",
       "      <td>0.375385</td>\n",
       "      <td>-0.174066</td>\n",
       "      <td>H</td>\n",
       "      <td>A</td>\n",
       "      <td>-1.00</td>\n",
       "    </tr>\n",
       "    <tr>\n",
       "      <th>23077</th>\n",
       "      <td>2016-11-05</td>\n",
       "      <td>0.355385</td>\n",
       "      <td>0.284615</td>\n",
       "      <td>0.360000</td>\n",
       "      <td>0.360000</td>\n",
       "      <td>-0.084444</td>\n",
       "      <td>H</td>\n",
       "      <td>D</td>\n",
       "      <td>-1.00</td>\n",
       "    </tr>\n",
       "    <tr>\n",
       "      <th>23078</th>\n",
       "      <td>2016-11-05</td>\n",
       "      <td>0.338462</td>\n",
       "      <td>0.275385</td>\n",
       "      <td>0.386154</td>\n",
       "      <td>0.386154</td>\n",
       "      <td>0.059356</td>\n",
       "      <td>H</td>\n",
       "      <td>A</td>\n",
       "      <td>-1.00</td>\n",
       "    </tr>\n",
       "    <tr>\n",
       "      <th>23079</th>\n",
       "      <td>2016-11-05</td>\n",
       "      <td>0.358462</td>\n",
       "      <td>0.280000</td>\n",
       "      <td>0.361538</td>\n",
       "      <td>0.361538</td>\n",
       "      <td>-0.219857</td>\n",
       "      <td>H</td>\n",
       "      <td>A</td>\n",
       "      <td>-1.00</td>\n",
       "    </tr>\n",
       "    <tr>\n",
       "      <th>23080</th>\n",
       "      <td>2016-11-05</td>\n",
       "      <td>0.290769</td>\n",
       "      <td>0.333846</td>\n",
       "      <td>0.375385</td>\n",
       "      <td>0.375385</td>\n",
       "      <td>-0.027841</td>\n",
       "      <td>H</td>\n",
       "      <td>A</td>\n",
       "      <td>-1.00</td>\n",
       "    </tr>\n",
       "    <tr>\n",
       "      <th>23081</th>\n",
       "      <td>2016-11-05</td>\n",
       "      <td>0.341538</td>\n",
       "      <td>0.304615</td>\n",
       "      <td>0.353846</td>\n",
       "      <td>0.353846</td>\n",
       "      <td>-0.030769</td>\n",
       "      <td>H</td>\n",
       "      <td>A</td>\n",
       "      <td>-1.00</td>\n",
       "    </tr>\n",
       "    <tr>\n",
       "      <th>23082</th>\n",
       "      <td>2016-11-05</td>\n",
       "      <td>0.355385</td>\n",
       "      <td>0.286154</td>\n",
       "      <td>0.358462</td>\n",
       "      <td>0.358462</td>\n",
       "      <td>-0.058205</td>\n",
       "      <td>H</td>\n",
       "      <td>H</td>\n",
       "      <td>1.40</td>\n",
       "    </tr>\n",
       "    <tr>\n",
       "      <th>...</th>\n",
       "      <td>...</td>\n",
       "      <td>...</td>\n",
       "      <td>...</td>\n",
       "      <td>...</td>\n",
       "      <td>...</td>\n",
       "      <td>...</td>\n",
       "      <td>...</td>\n",
       "      <td>...</td>\n",
       "      <td>...</td>\n",
       "    </tr>\n",
       "    <tr>\n",
       "      <th>25245</th>\n",
       "      <td>2017-05-21</td>\n",
       "      <td>0.281538</td>\n",
       "      <td>0.300000</td>\n",
       "      <td>0.418462</td>\n",
       "      <td>0.418462</td>\n",
       "      <td>0.015236</td>\n",
       "      <td>H</td>\n",
       "      <td>H</td>\n",
       "      <td>1.48</td>\n",
       "    </tr>\n",
       "    <tr>\n",
       "      <th>25246</th>\n",
       "      <td>2017-05-21</td>\n",
       "      <td>0.330769</td>\n",
       "      <td>0.281538</td>\n",
       "      <td>0.387692</td>\n",
       "      <td>0.387692</td>\n",
       "      <td>-0.177279</td>\n",
       "      <td>H</td>\n",
       "      <td>A</td>\n",
       "      <td>-1.00</td>\n",
       "    </tr>\n",
       "    <tr>\n",
       "      <th>25247</th>\n",
       "      <td>2017-05-21</td>\n",
       "      <td>0.338462</td>\n",
       "      <td>0.264615</td>\n",
       "      <td>0.396923</td>\n",
       "      <td>0.396923</td>\n",
       "      <td>-0.088514</td>\n",
       "      <td>H</td>\n",
       "      <td>H</td>\n",
       "      <td>1.06</td>\n",
       "    </tr>\n",
       "    <tr>\n",
       "      <th>25248</th>\n",
       "      <td>2017-05-21</td>\n",
       "      <td>0.376923</td>\n",
       "      <td>0.270769</td>\n",
       "      <td>0.352308</td>\n",
       "      <td>0.376923</td>\n",
       "      <td>-0.404327</td>\n",
       "      <td>A</td>\n",
       "      <td>A</td>\n",
       "      <td>0.28</td>\n",
       "    </tr>\n",
       "    <tr>\n",
       "      <th>25249</th>\n",
       "      <td>2017-05-21</td>\n",
       "      <td>0.333846</td>\n",
       "      <td>0.286154</td>\n",
       "      <td>0.380000</td>\n",
       "      <td>0.380000</td>\n",
       "      <td>-0.051034</td>\n",
       "      <td>H</td>\n",
       "      <td>A</td>\n",
       "      <td>-1.00</td>\n",
       "    </tr>\n",
       "    <tr>\n",
       "      <th>25250</th>\n",
       "      <td>2017-05-21</td>\n",
       "      <td>0.324615</td>\n",
       "      <td>0.318462</td>\n",
       "      <td>0.356923</td>\n",
       "      <td>0.356923</td>\n",
       "      <td>-0.140589</td>\n",
       "      <td>H</td>\n",
       "      <td>H</td>\n",
       "      <td>1.01</td>\n",
       "    </tr>\n",
       "    <tr>\n",
       "      <th>25251</th>\n",
       "      <td>2017-05-21</td>\n",
       "      <td>0.309231</td>\n",
       "      <td>0.286154</td>\n",
       "      <td>0.404615</td>\n",
       "      <td>0.404615</td>\n",
       "      <td>-0.442842</td>\n",
       "      <td>H</td>\n",
       "      <td>H</td>\n",
       "      <td>0.18</td>\n",
       "    </tr>\n",
       "    <tr>\n",
       "      <th>25252</th>\n",
       "      <td>2017-05-21</td>\n",
       "      <td>0.355385</td>\n",
       "      <td>0.283077</td>\n",
       "      <td>0.361538</td>\n",
       "      <td>0.361538</td>\n",
       "      <td>-0.135974</td>\n",
       "      <td>H</td>\n",
       "      <td>A</td>\n",
       "      <td>-1.00</td>\n",
       "    </tr>\n",
       "    <tr>\n",
       "      <th>25253</th>\n",
       "      <td>2017-05-21</td>\n",
       "      <td>0.338462</td>\n",
       "      <td>0.276923</td>\n",
       "      <td>0.384615</td>\n",
       "      <td>0.384615</td>\n",
       "      <td>-0.345312</td>\n",
       "      <td>H</td>\n",
       "      <td>H</td>\n",
       "      <td>0.37</td>\n",
       "    </tr>\n",
       "    <tr>\n",
       "      <th>25254</th>\n",
       "      <td>2017-05-21</td>\n",
       "      <td>0.312308</td>\n",
       "      <td>0.295385</td>\n",
       "      <td>0.392308</td>\n",
       "      <td>0.392308</td>\n",
       "      <td>-0.163248</td>\n",
       "      <td>H</td>\n",
       "      <td>H</td>\n",
       "      <td>0.80</td>\n",
       "    </tr>\n",
       "    <tr>\n",
       "      <th>25255</th>\n",
       "      <td>2017-05-21</td>\n",
       "      <td>0.304615</td>\n",
       "      <td>0.296923</td>\n",
       "      <td>0.398462</td>\n",
       "      <td>0.398462</td>\n",
       "      <td>-0.082308</td>\n",
       "      <td>H</td>\n",
       "      <td>D</td>\n",
       "      <td>-1.00</td>\n",
       "    </tr>\n",
       "    <tr>\n",
       "      <th>25256</th>\n",
       "      <td>2017-05-21</td>\n",
       "      <td>0.349231</td>\n",
       "      <td>0.270769</td>\n",
       "      <td>0.380000</td>\n",
       "      <td>0.380000</td>\n",
       "      <td>-0.120000</td>\n",
       "      <td>H</td>\n",
       "      <td>H</td>\n",
       "      <td>1.00</td>\n",
       "    </tr>\n",
       "    <tr>\n",
       "      <th>25257</th>\n",
       "      <td>2017-05-21</td>\n",
       "      <td>0.352308</td>\n",
       "      <td>0.261538</td>\n",
       "      <td>0.386154</td>\n",
       "      <td>0.386154</td>\n",
       "      <td>-0.566227</td>\n",
       "      <td>H</td>\n",
       "      <td>H</td>\n",
       "      <td>0.05</td>\n",
       "    </tr>\n",
       "    <tr>\n",
       "      <th>25258</th>\n",
       "      <td>2017-05-21</td>\n",
       "      <td>0.340000</td>\n",
       "      <td>0.310769</td>\n",
       "      <td>0.349231</td>\n",
       "      <td>0.349231</td>\n",
       "      <td>0.124512</td>\n",
       "      <td>H</td>\n",
       "      <td>D</td>\n",
       "      <td>-1.00</td>\n",
       "    </tr>\n",
       "    <tr>\n",
       "      <th>25259</th>\n",
       "      <td>2017-05-21</td>\n",
       "      <td>0.327692</td>\n",
       "      <td>0.289231</td>\n",
       "      <td>0.383077</td>\n",
       "      <td>0.383077</td>\n",
       "      <td>0.289532</td>\n",
       "      <td>H</td>\n",
       "      <td>A</td>\n",
       "      <td>-1.00</td>\n",
       "    </tr>\n",
       "    <tr>\n",
       "      <th>25260</th>\n",
       "      <td>2017-05-21</td>\n",
       "      <td>0.327692</td>\n",
       "      <td>0.272308</td>\n",
       "      <td>0.400000</td>\n",
       "      <td>0.400000</td>\n",
       "      <td>0.066667</td>\n",
       "      <td>H</td>\n",
       "      <td>A</td>\n",
       "      <td>-1.00</td>\n",
       "    </tr>\n",
       "    <tr>\n",
       "      <th>25261</th>\n",
       "      <td>2017-05-21</td>\n",
       "      <td>0.332308</td>\n",
       "      <td>0.290769</td>\n",
       "      <td>0.376923</td>\n",
       "      <td>0.376923</td>\n",
       "      <td>-0.456410</td>\n",
       "      <td>H</td>\n",
       "      <td>H</td>\n",
       "      <td>0.20</td>\n",
       "    </tr>\n",
       "    <tr>\n",
       "      <th>25262</th>\n",
       "      <td>2017-05-21</td>\n",
       "      <td>0.420000</td>\n",
       "      <td>0.252308</td>\n",
       "      <td>0.327692</td>\n",
       "      <td>0.420000</td>\n",
       "      <td>-0.138659</td>\n",
       "      <td>A</td>\n",
       "      <td>A</td>\n",
       "      <td>0.79</td>\n",
       "    </tr>\n",
       "    <tr>\n",
       "      <th>25263</th>\n",
       "      <td>2017-05-21</td>\n",
       "      <td>0.361538</td>\n",
       "      <td>0.296923</td>\n",
       "      <td>0.341538</td>\n",
       "      <td>0.361538</td>\n",
       "      <td>-0.093007</td>\n",
       "      <td>A</td>\n",
       "      <td>A</td>\n",
       "      <td>1.20</td>\n",
       "    </tr>\n",
       "    <tr>\n",
       "      <th>25264</th>\n",
       "      <td>2017-05-22</td>\n",
       "      <td>0.315385</td>\n",
       "      <td>0.327692</td>\n",
       "      <td>0.356923</td>\n",
       "      <td>0.356923</td>\n",
       "      <td>-0.079758</td>\n",
       "      <td>H</td>\n",
       "      <td>H</td>\n",
       "      <td>1.29</td>\n",
       "    </tr>\n",
       "    <tr>\n",
       "      <th>25265</th>\n",
       "      <td>2017-05-27</td>\n",
       "      <td>0.352308</td>\n",
       "      <td>0.247692</td>\n",
       "      <td>0.400000</td>\n",
       "      <td>0.400000</td>\n",
       "      <td>-0.387402</td>\n",
       "      <td>H</td>\n",
       "      <td>H</td>\n",
       "      <td>0.27</td>\n",
       "    </tr>\n",
       "    <tr>\n",
       "      <th>25266</th>\n",
       "      <td>2017-05-27</td>\n",
       "      <td>0.355385</td>\n",
       "      <td>0.296923</td>\n",
       "      <td>0.347692</td>\n",
       "      <td>0.355385</td>\n",
       "      <td>-0.206413</td>\n",
       "      <td>A</td>\n",
       "      <td>A</td>\n",
       "      <td>0.78</td>\n",
       "    </tr>\n",
       "    <tr>\n",
       "      <th>25267</th>\n",
       "      <td>2017-05-28</td>\n",
       "      <td>0.332308</td>\n",
       "      <td>0.272308</td>\n",
       "      <td>0.395385</td>\n",
       "      <td>0.395385</td>\n",
       "      <td>0.113694</td>\n",
       "      <td>H</td>\n",
       "      <td>H</td>\n",
       "      <td>2.55</td>\n",
       "    </tr>\n",
       "    <tr>\n",
       "      <th>25268</th>\n",
       "      <td>2017-05-28</td>\n",
       "      <td>0.346154</td>\n",
       "      <td>0.280000</td>\n",
       "      <td>0.373846</td>\n",
       "      <td>0.373846</td>\n",
       "      <td>-0.102344</td>\n",
       "      <td>H</td>\n",
       "      <td>H</td>\n",
       "      <td>1.10</td>\n",
       "    </tr>\n",
       "    <tr>\n",
       "      <th>25269</th>\n",
       "      <td>2017-05-28</td>\n",
       "      <td>0.321538</td>\n",
       "      <td>0.284615</td>\n",
       "      <td>0.393846</td>\n",
       "      <td>0.393846</td>\n",
       "      <td>-0.475719</td>\n",
       "      <td>H</td>\n",
       "      <td>D</td>\n",
       "      <td>-1.00</td>\n",
       "    </tr>\n",
       "    <tr>\n",
       "      <th>25270</th>\n",
       "      <td>2017-05-28</td>\n",
       "      <td>0.326154</td>\n",
       "      <td>0.281538</td>\n",
       "      <td>0.392308</td>\n",
       "      <td>0.392308</td>\n",
       "      <td>-0.342986</td>\n",
       "      <td>H</td>\n",
       "      <td>H</td>\n",
       "      <td>0.36</td>\n",
       "    </tr>\n",
       "    <tr>\n",
       "      <th>25271</th>\n",
       "      <td>2017-05-28</td>\n",
       "      <td>0.321538</td>\n",
       "      <td>0.295385</td>\n",
       "      <td>0.383077</td>\n",
       "      <td>0.383077</td>\n",
       "      <td>0.210365</td>\n",
       "      <td>H</td>\n",
       "      <td>H</td>\n",
       "      <td>4.79</td>\n",
       "    </tr>\n",
       "    <tr>\n",
       "      <th>25272</th>\n",
       "      <td>2017-05-28</td>\n",
       "      <td>0.375385</td>\n",
       "      <td>0.250769</td>\n",
       "      <td>0.373846</td>\n",
       "      <td>0.375385</td>\n",
       "      <td>0.346566</td>\n",
       "      <td>A</td>\n",
       "      <td>H</td>\n",
       "      <td>-1.00</td>\n",
       "    </tr>\n",
       "    <tr>\n",
       "      <th>25273</th>\n",
       "      <td>2017-05-28</td>\n",
       "      <td>0.383077</td>\n",
       "      <td>0.284615</td>\n",
       "      <td>0.332308</td>\n",
       "      <td>0.383077</td>\n",
       "      <td>-0.471624</td>\n",
       "      <td>A</td>\n",
       "      <td>A</td>\n",
       "      <td>0.17</td>\n",
       "    </tr>\n",
       "    <tr>\n",
       "      <th>25274</th>\n",
       "      <td>2017-05-28</td>\n",
       "      <td>0.313846</td>\n",
       "      <td>0.281538</td>\n",
       "      <td>0.404615</td>\n",
       "      <td>0.404615</td>\n",
       "      <td>-0.212669</td>\n",
       "      <td>H</td>\n",
       "      <td>H</td>\n",
       "      <td>0.62</td>\n",
       "    </tr>\n",
       "  </tbody>\n",
       "</table>\n",
       "<p>2222 rows × 9 columns</p>\n",
       "</div>"
      ],
      "text/plain": [
       "       INFO_Date   probs_A   probs_D   probs_H     probs  prob_less_bet pred  \\\n",
       "23053 2016-11-01  0.310769  0.276923  0.412308  0.412308      -0.108526    H   \n",
       "23054 2016-11-01  0.361538  0.258462  0.380000  0.380000      -0.178659    H   \n",
       "23055 2016-11-04  0.336923  0.278462  0.384615  0.384615      -0.013791    H   \n",
       "23056 2016-11-04  0.381538  0.244615  0.373846  0.381538       0.055806    A   \n",
       "23057 2016-11-04  0.324615  0.295385  0.380000  0.380000       0.001212    H   \n",
       "23058 2016-11-04  0.333846  0.269231  0.396923  0.396923      -0.187872    H   \n",
       "23059 2016-11-04  0.364615  0.303077  0.332308  0.364615      -0.184835    A   \n",
       "23060 2016-11-05  0.335385  0.286154  0.378462  0.378462      -0.454872    H   \n",
       "23061 2016-11-05  0.289231  0.300000  0.410769  0.410769       0.027627    H   \n",
       "23062 2016-11-05  0.327692  0.316923  0.355385  0.355385      -0.023403    H   \n",
       "23063 2016-11-05  0.335385  0.329231  0.335385  0.335385      -0.349547    A   \n",
       "23064 2016-11-05  0.350769  0.298462  0.350769  0.350769       0.076044    A   \n",
       "23065 2016-11-05  0.338462  0.286154  0.375385  0.375385      -0.418266    H   \n",
       "23066 2016-11-05  0.323077  0.272308  0.404615  0.404615      -0.212669    H   \n",
       "23067 2016-11-05  0.346154  0.281538  0.372308  0.372308       0.071103    H   \n",
       "23068 2016-11-05  0.323077  0.303077  0.373846  0.373846      -0.267179    H   \n",
       "23069 2016-11-05  0.340000  0.267692  0.392308  0.392308      -0.427364    H   \n",
       "23070 2016-11-05  0.323077  0.300000  0.376923  0.376923      -0.123077    H   \n",
       "23071 2016-11-05  0.350769  0.261538  0.387692  0.387692      -0.229592    H   \n",
       "23072 2016-11-05  0.333846  0.296923  0.369231  0.369231       0.030248    H   \n",
       "23073 2016-11-05  0.329231  0.292308  0.378462  0.378462      -0.080254    H   \n",
       "23074 2016-11-05  0.321538  0.296923  0.381538  0.381538      -0.070950    H   \n",
       "23075 2016-11-05  0.340000  0.283077  0.376923  0.376923      -0.317521    H   \n",
       "23076 2016-11-05  0.364615  0.260000  0.375385  0.375385      -0.174066    H   \n",
       "23077 2016-11-05  0.355385  0.284615  0.360000  0.360000      -0.084444    H   \n",
       "23078 2016-11-05  0.338462  0.275385  0.386154  0.386154       0.059356    H   \n",
       "23079 2016-11-05  0.358462  0.280000  0.361538  0.361538      -0.219857    H   \n",
       "23080 2016-11-05  0.290769  0.333846  0.375385  0.375385      -0.027841    H   \n",
       "23081 2016-11-05  0.341538  0.304615  0.353846  0.353846      -0.030769    H   \n",
       "23082 2016-11-05  0.355385  0.286154  0.358462  0.358462      -0.058205    H   \n",
       "...          ...       ...       ...       ...       ...            ...  ...   \n",
       "25245 2017-05-21  0.281538  0.300000  0.418462  0.418462       0.015236    H   \n",
       "25246 2017-05-21  0.330769  0.281538  0.387692  0.387692      -0.177279    H   \n",
       "25247 2017-05-21  0.338462  0.264615  0.396923  0.396923      -0.088514    H   \n",
       "25248 2017-05-21  0.376923  0.270769  0.352308  0.376923      -0.404327    A   \n",
       "25249 2017-05-21  0.333846  0.286154  0.380000  0.380000      -0.051034    H   \n",
       "25250 2017-05-21  0.324615  0.318462  0.356923  0.356923      -0.140589    H   \n",
       "25251 2017-05-21  0.309231  0.286154  0.404615  0.404615      -0.442842    H   \n",
       "25252 2017-05-21  0.355385  0.283077  0.361538  0.361538      -0.135974    H   \n",
       "25253 2017-05-21  0.338462  0.276923  0.384615  0.384615      -0.345312    H   \n",
       "25254 2017-05-21  0.312308  0.295385  0.392308  0.392308      -0.163248    H   \n",
       "25255 2017-05-21  0.304615  0.296923  0.398462  0.398462      -0.082308    H   \n",
       "25256 2017-05-21  0.349231  0.270769  0.380000  0.380000      -0.120000    H   \n",
       "25257 2017-05-21  0.352308  0.261538  0.386154  0.386154      -0.566227    H   \n",
       "25258 2017-05-21  0.340000  0.310769  0.349231  0.349231       0.124512    H   \n",
       "25259 2017-05-21  0.327692  0.289231  0.383077  0.383077       0.289532    H   \n",
       "25260 2017-05-21  0.327692  0.272308  0.400000  0.400000       0.066667    H   \n",
       "25261 2017-05-21  0.332308  0.290769  0.376923  0.376923      -0.456410    H   \n",
       "25262 2017-05-21  0.420000  0.252308  0.327692  0.420000      -0.138659    A   \n",
       "25263 2017-05-21  0.361538  0.296923  0.341538  0.361538      -0.093007    A   \n",
       "25264 2017-05-22  0.315385  0.327692  0.356923  0.356923      -0.079758    H   \n",
       "25265 2017-05-27  0.352308  0.247692  0.400000  0.400000      -0.387402    H   \n",
       "25266 2017-05-27  0.355385  0.296923  0.347692  0.355385      -0.206413    A   \n",
       "25267 2017-05-28  0.332308  0.272308  0.395385  0.395385       0.113694    H   \n",
       "25268 2017-05-28  0.346154  0.280000  0.373846  0.373846      -0.102344    H   \n",
       "25269 2017-05-28  0.321538  0.284615  0.393846  0.393846      -0.475719    H   \n",
       "25270 2017-05-28  0.326154  0.281538  0.392308  0.392308      -0.342986    H   \n",
       "25271 2017-05-28  0.321538  0.295385  0.383077  0.383077       0.210365    H   \n",
       "25272 2017-05-28  0.375385  0.250769  0.373846  0.375385       0.346566    A   \n",
       "25273 2017-05-28  0.383077  0.284615  0.332308  0.383077      -0.471624    A   \n",
       "25274 2017-05-28  0.313846  0.281538  0.404615  0.404615      -0.212669    H   \n",
       "\n",
       "      INFO_FTR   WIN  \n",
       "23053        H  0.92  \n",
       "23054        H  0.79  \n",
       "23055        H  1.51  \n",
       "23056        A  2.07  \n",
       "23057        H  1.64  \n",
       "23058        H  0.71  \n",
       "23059        A  0.82  \n",
       "23060        D -1.00  \n",
       "23061        H  1.61  \n",
       "23062        A -1.00  \n",
       "23063        A  0.46  \n",
       "23064        A  2.64  \n",
       "23065        H  0.26  \n",
       "23066        A -1.00  \n",
       "23067        H  2.32  \n",
       "23068        H  0.56  \n",
       "23069        D -1.00  \n",
       "23070        D -1.00  \n",
       "23071        H  0.62  \n",
       "23072        A -1.00  \n",
       "23073        D -1.00  \n",
       "23074        D -1.00  \n",
       "23075        H  0.44  \n",
       "23076        A -1.00  \n",
       "23077        D -1.00  \n",
       "23078        A -1.00  \n",
       "23079        A -1.00  \n",
       "23080        A -1.00  \n",
       "23081        A -1.00  \n",
       "23082        H  1.40  \n",
       "...        ...   ...  \n",
       "25245        H  1.48  \n",
       "25246        A -1.00  \n",
       "25247        H  1.06  \n",
       "25248        A  0.28  \n",
       "25249        A -1.00  \n",
       "25250        H  1.01  \n",
       "25251        H  0.18  \n",
       "25252        A -1.00  \n",
       "25253        H  0.37  \n",
       "25254        H  0.80  \n",
       "25255        D -1.00  \n",
       "25256        H  1.00  \n",
       "25257        H  0.05  \n",
       "25258        D -1.00  \n",
       "25259        A -1.00  \n",
       "25260        A -1.00  \n",
       "25261        H  0.20  \n",
       "25262        A  0.79  \n",
       "25263        A  1.20  \n",
       "25264        H  1.29  \n",
       "25265        H  0.27  \n",
       "25266        A  0.78  \n",
       "25267        H  2.55  \n",
       "25268        H  1.10  \n",
       "25269        D -1.00  \n",
       "25270        H  0.36  \n",
       "25271        H  4.79  \n",
       "25272        H -1.00  \n",
       "25273        A  0.17  \n",
       "25274        H  0.62  \n",
       "\n",
       "[2222 rows x 9 columns]"
      ]
     },
     "execution_count": 78,
     "metadata": {},
     "output_type": "execute_result"
    }
   ],
   "source": [
    "df_bet_current_season[['INFO_Date', 'probs_A','probs_D','probs_H', 'probs', 'prob_less_bet', 'pred', 'INFO_FTR', 'WIN']]"
   ]
  },
  {
   "cell_type": "markdown",
   "metadata": {},
   "source": [
    "# Learning Curve"
   ]
  },
  {
   "cell_type": "code",
   "execution_count": 79,
   "metadata": {},
   "outputs": [
    {
     "data": {
      "text/plain": [
       "Index([u'H_MEANS_FIVE_HF', u'H_MEANS_FIVE_HR', u'H_MEANS_FIVE_HS',\n",
       "       u'H_MEANS_FIVE_HST', u'H_MEANS_FIVE_HTAG', u'H_MEANS_FIVE_HTHG',\n",
       "       u'H_MEANS_FIVE_HTR_A', u'H_MEANS_FIVE_HTR_D', u'H_MEANS_FIVE_HTR_H',\n",
       "       u'H_MEANS_FIVE_HY', u'H_MEANS_THREE_AC', u'H_MEANS_THREE_AF',\n",
       "       u'H_MEANS_THREE_AR', u'H_MEANS_THREE_AS', u'H_MEANS_THREE_AST',\n",
       "       u'H_MEANS_THREE_AY', u'H_MEANS_THREE_FTAG', u'H_MEANS_THREE_FTHG',\n",
       "       u'H_MEANS_THREE_FTR_A', u'H_MEANS_THREE_FTR_D', u'H_MEANS_THREE_FTR_H',\n",
       "       u'H_MEANS_THREE_HC', u'H_MEANS_THREE_HF', u'H_MEANS_THREE_HR',\n",
       "       u'H_MEANS_THREE_HS', u'H_MEANS_THREE_HST', u'H_MEANS_THREE_HTAG',\n",
       "       u'H_MEANS_THREE_HTHG', u'H_MEANS_THREE_HTR_A', u'H_MEANS_THREE_HTR_D',\n",
       "       u'H_MEANS_THREE_HTR_H', u'H_MEANS_THREE_HY', u'H_STD_FIVE_AC',\n",
       "       u'H_STD_FIVE_AF', u'H_STD_FIVE_AR', u'H_STD_FIVE_AS', u'H_STD_FIVE_AST',\n",
       "       u'H_STD_FIVE_AY', u'H_STD_FIVE_FTAG', u'H_STD_FIVE_FTHG',\n",
       "       u'H_STD_FIVE_FTR_A', u'H_STD_FIVE_FTR_D', u'H_STD_FIVE_FTR_H',\n",
       "       u'H_STD_FIVE_HC', u'H_STD_FIVE_HF', u'H_STD_FIVE_HR', u'H_STD_FIVE_HS',\n",
       "       u'H_STD_FIVE_HST', u'H_STD_FIVE_HTAG', u'H_STD_FIVE_HTHG',\n",
       "       u'H_STD_FIVE_HTR_A', u'H_STD_FIVE_HTR_D', u'H_STD_FIVE_HTR_H',\n",
       "       u'H_STD_FIVE_HY', u'H_STD_THREE_AC', u'H_STD_THREE_AF',\n",
       "       u'H_STD_THREE_AR', u'H_STD_THREE_AS', u'H_STD_THREE_AST',\n",
       "       u'H_STD_THREE_AY', u'H_STD_THREE_FTAG', u'H_STD_THREE_FTHG',\n",
       "       u'H_STD_THREE_FTR_A', u'H_STD_THREE_FTR_D', u'H_STD_THREE_FTR_H',\n",
       "       u'H_STD_THREE_HC', u'H_STD_THREE_HF', u'H_STD_THREE_HR',\n",
       "       u'H_STD_THREE_HS', u'H_STD_THREE_HST', u'H_STD_THREE_HTAG',\n",
       "       u'H_STD_THREE_HTHG', u'H_STD_THREE_HTR_A', u'H_STD_THREE_HTR_D',\n",
       "       u'H_STD_THREE_HTR_H', u'H_STD_THREE_HY', u'INFO_AwayTeam',\n",
       "       u'INFO_BbAvA', u'INFO_BbAvD', u'INFO_BbAvH', u'INFO_Date', u'INFO_Div',\n",
       "       u'INFO_FTAG', u'INFO_FTHG', u'INFO_FTR', u'INFO_HTR', u'INFO_HomeTeam',\n",
       "       u'INFO_PSA', u'INFO_PSD', u'INFO_PSH', u'INFO_WIN', u'INFO_WIN_P',\n",
       "       u'probs_A', u'probs_D', u'probs_H', u'probs', u'pred', u'WIN', u'WIN_P',\n",
       "       u'INFO_ODD'],\n",
       "      dtype='object')"
      ]
     },
     "execution_count": 79,
     "metadata": {},
     "output_type": "execute_result"
    }
   ],
   "source": [
    "df_current_season.columns[100:200]"
   ]
  },
  {
   "cell_type": "code",
   "execution_count": null,
   "metadata": {
    "collapsed": true
   },
   "outputs": [],
   "source": []
  }
 ],
 "metadata": {
  "kernelspec": {
   "display_name": "Python 2",
   "language": "python",
   "name": "python2"
  },
  "language_info": {
   "codemirror_mode": {
    "name": "ipython",
    "version": 2
   },
   "file_extension": ".py",
   "mimetype": "text/x-python",
   "name": "python",
   "nbconvert_exporter": "python",
   "pygments_lexer": "ipython2",
   "version": "2.7.13"
  }
 },
 "nbformat": 4,
 "nbformat_minor": 2
}
