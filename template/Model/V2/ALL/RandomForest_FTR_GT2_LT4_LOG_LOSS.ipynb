{
 "cells": [
  {
   "cell_type": "markdown",
   "metadata": {},
   "source": [
    "# Random Forest FTR HOME"
   ]
  },
  {
   "cell_type": "code",
   "execution_count": 1,
   "metadata": {
    "collapsed": true
   },
   "outputs": [],
   "source": [
    "# Importing the library\n",
    "import numpy as np # linear algebra\n",
    "import pandas as pd # data processing, CSV file I/O\n",
    "import matplotlib.pyplot as plt # plotting library\n",
    "import seaborn as sns # visualization library based on matplotlib\n",
    "from IPython.display import display # Manage multiple output per cell\n",
    "import datetime"
   ]
  },
  {
   "cell_type": "code",
   "execution_count": 2,
   "metadata": {
    "collapsed": true
   },
   "outputs": [],
   "source": [
    "all_features = [\"A_MEANS_FIVE_AC\",\"A_MEANS_FIVE_AF\",\"A_MEANS_FIVE_AR\",\"A_MEANS_FIVE_AS\",\"A_MEANS_FIVE_AST\",\"A_MEANS_FIVE_AY\",\"A_MEANS_FIVE_FTAG\",\"A_MEANS_FIVE_FTHG\",\"A_MEANS_FIVE_FTR_A\",\"A_MEANS_FIVE_FTR_D\",\"A_MEANS_FIVE_FTR_H\",\"A_MEANS_FIVE_HC\",\"A_MEANS_FIVE_HF\",\"A_MEANS_FIVE_HR\",\"A_MEANS_FIVE_HS\",\"A_MEANS_FIVE_HST\",\"A_MEANS_FIVE_HTAG\",\"A_MEANS_FIVE_HTHG\",\"A_MEANS_FIVE_HTR_A\",\"A_MEANS_FIVE_HTR_D\",\"A_MEANS_FIVE_HTR_H\",\"A_MEANS_FIVE_HY\",\"H_MEANS_FIVE_AC\",\"H_MEANS_FIVE_AF\",\"H_MEANS_FIVE_AR\",\"H_MEANS_FIVE_AS\",\"H_MEANS_FIVE_AST\",\"H_MEANS_FIVE_AY\",\"H_MEANS_FIVE_FTAG\",\"H_MEANS_FIVE_FTHG\",\"H_MEANS_FIVE_FTR_A\",\"H_MEANS_FIVE_FTR_D\",\"H_MEANS_FIVE_FTR_H\",\"H_MEANS_FIVE_HC\",\"H_MEANS_FIVE_HF\",\"H_MEANS_FIVE_HR\",\"H_MEANS_FIVE_HS\",\"H_MEANS_FIVE_HST\",\"H_MEANS_FIVE_HTAG\",\"H_MEANS_FIVE_HTHG\",\"H_MEANS_FIVE_HTR_A\",\"H_MEANS_FIVE_HTR_D\",\"H_MEANS_FIVE_HTR_H\",\"H_MEANS_FIVE_HY\",\"A_MEANS_THREE_AC\",\"A_MEANS_THREE_AF\",\"A_MEANS_THREE_AR\",\"A_MEANS_THREE_AS\",\"A_MEANS_THREE_AST\",\"A_MEANS_THREE_AY\",\"A_MEANS_THREE_FTAG\",\"A_MEANS_THREE_FTHG\",\"A_MEANS_THREE_FTR_A\",\"A_MEANS_THREE_FTR_D\",\"A_MEANS_THREE_FTR_H\",\"A_MEANS_THREE_HC\",\"A_MEANS_THREE_HF\",\"A_MEANS_THREE_HR\",\"A_MEANS_THREE_HS\",\"A_MEANS_THREE_HST\",\"A_MEANS_THREE_HTAG\",\"A_MEANS_THREE_HTHG\",\"A_MEANS_THREE_HTR_A\",\"A_MEANS_THREE_HTR_D\",\"A_MEANS_THREE_HTR_H\",\"A_MEANS_THREE_HY\",\"H_MEANS_THREE_AC\",\"H_MEANS_THREE_AF\",\"H_MEANS_THREE_AR\",\"H_MEANS_THREE_AS\",\"H_MEANS_THREE_AST\",\"H_MEANS_THREE_AY\",\"H_MEANS_THREE_FTAG\",\"H_MEANS_THREE_FTHG\",\"H_MEANS_THREE_FTR_A\",\"H_MEANS_THREE_FTR_D\",\"H_MEANS_THREE_FTR_H\",\"H_MEANS_THREE_HC\",\"H_MEANS_THREE_HF\",\"H_MEANS_THREE_HR\",\"H_MEANS_THREE_HS\",\"H_MEANS_THREE_HST\",\"H_MEANS_THREE_HTAG\",\"H_MEANS_THREE_HTHG\",\"H_MEANS_THREE_HTR_A\",\"H_MEANS_THREE_HTR_D\",\"H_MEANS_THREE_HTR_H\",\"H_MEANS_THREE_HY\",\"A_STD_FIVE_AC\",\"A_STD_FIVE_AF\",\"A_STD_FIVE_AR\",\"A_STD_FIVE_AS\",\"A_STD_FIVE_AST\",\"A_STD_FIVE_AY\",\"A_STD_FIVE_FTAG\",\"A_STD_FIVE_FTHG\",\"A_STD_FIVE_FTR_A\",\"A_STD_FIVE_FTR_D\",\"A_STD_FIVE_FTR_H\",\"A_STD_FIVE_HC\",\"A_STD_FIVE_HF\",\"A_STD_FIVE_HR\",\"A_STD_FIVE_HS\",\"A_STD_FIVE_HST\",\"A_STD_FIVE_HTAG\",\"A_STD_FIVE_HTHG\",\"A_STD_FIVE_HTR_A\",\"A_STD_FIVE_HTR_D\",\"A_STD_FIVE_HTR_H\",\"A_STD_FIVE_HY\",\"H_STD_FIVE_AC\",\"H_STD_FIVE_AF\",\"H_STD_FIVE_AR\",\"H_STD_FIVE_AS\",\"H_STD_FIVE_AST\",\"H_STD_FIVE_AY\",\"H_STD_FIVE_FTAG\",\"H_STD_FIVE_FTHG\",\"H_STD_FIVE_FTR_A\",\"H_STD_FIVE_FTR_D\",\"H_STD_FIVE_FTR_H\",\"H_STD_FIVE_HC\",\"H_STD_FIVE_HF\",\"H_STD_FIVE_HR\",\"H_STD_FIVE_HS\",\"H_STD_FIVE_HST\",\"H_STD_FIVE_HTAG\",\"H_STD_FIVE_HTHG\",\"H_STD_FIVE_HTR_A\",\"H_STD_FIVE_HTR_D\",\"H_STD_FIVE_HTR_H\",\"H_STD_FIVE_HY\",\"A_STD_THREE_AC\",\"A_STD_THREE_AF\",\"A_STD_THREE_AR\",\"A_STD_THREE_AS\",\"A_STD_THREE_AST\",\"A_STD_THREE_AY\",\"A_STD_THREE_FTAG\",\"A_STD_THREE_FTHG\",\"A_STD_THREE_FTR_A\",\"A_STD_THREE_FTR_D\",\"A_STD_THREE_FTR_H\",\"A_STD_THREE_HC\",\"A_STD_THREE_HF\",\"A_STD_THREE_HR\",\"A_STD_THREE_HS\",\"A_STD_THREE_HST\",\"A_STD_THREE_HTAG\",\"A_STD_THREE_HTHG\",\"A_STD_THREE_HTR_A\",\"A_STD_THREE_HTR_D\",\"A_STD_THREE_HTR_H\",\"A_STD_THREE_HY\",\"H_STD_THREE_AC\",\"H_STD_THREE_AF\",\"H_STD_THREE_AR\",\"H_STD_THREE_AS\",\"H_STD_THREE_AST\",\"H_STD_THREE_AY\",\"H_STD_THREE_FTAG\",\"H_STD_THREE_FTHG\",\"H_STD_THREE_FTR_A\",\"H_STD_THREE_FTR_D\",\"H_STD_THREE_FTR_H\",\"H_STD_THREE_HC\",\"H_STD_THREE_HF\",\"H_STD_THREE_HR\",\"H_STD_THREE_HS\",\"H_STD_THREE_HST\",\"H_STD_THREE_HTAG\",\"H_STD_THREE_HTHG\",\"H_STD_THREE_HTR_A\",\"H_STD_THREE_HTR_D\",\"H_STD_THREE_HTR_H\",\"H_STD_THREE_HY\",\"INFO_Div\"]\n",
    "best_features_RF = ['A_MEANS_FIVE_AC', 'A_MEANS_FIVE_AS', 'A_MEANS_FIVE_AST','A_MEANS_FIVE_FTAG', 'A_MEANS_FIVE_FTHG', 'A_MEANS_FIVE_FTR_A','A_MEANS_FIVE_FTR_H', 'A_MEANS_FIVE_HC', 'A_MEANS_FIVE_HF','A_MEANS_FIVE_HS', 'A_MEANS_FIVE_HST', 'A_MEANS_FIVE_HTHG','A_MEANS_FIVE_HTR_A', 'A_MEANS_FIVE_HY', 'H_MEANS_FIVE_AC','H_MEANS_FIVE_AS', 'H_MEANS_FIVE_AST', 'H_MEANS_FIVE_AY','H_MEANS_FIVE_FTAG', 'H_MEANS_FIVE_FTHG', 'H_MEANS_FIVE_FTR_A','H_MEANS_FIVE_FTR_H', 'H_MEANS_FIVE_HC', 'H_MEANS_FIVE_HF','H_MEANS_FIVE_HS', 'H_MEANS_FIVE_HST', 'H_MEANS_FIVE_HTAG','H_MEANS_FIVE_HTR_H', 'A_MEANS_THREE_AC', 'A_MEANS_THREE_AS','A_MEANS_THREE_FTHG', 'A_MEANS_THREE_HC', 'A_MEANS_THREE_HF','A_MEANS_THREE_HS', 'H_MEANS_THREE_AC', 'H_MEANS_THREE_AS','H_MEANS_THREE_FTHG', 'H_MEANS_THREE_HC', 'H_MEANS_THREE_HST','A_STD_FIVE_AF', 'A_STD_FIVE_AST', 'A_STD_FIVE_HC', 'A_STD_FIVE_HF','A_STD_FIVE_HS', 'H_STD_FIVE_AF', 'H_STD_FIVE_AS', 'H_STD_FIVE_AST','H_STD_FIVE_HC', 'H_STD_FIVE_HF', 'H_STD_FIVE_HST','H_STD_FIVE_HTHG', 'H_STD_THREE_AS', 'H_STD_THREE_HST']\n",
    "features_list = best_features_RF\n"
   ]
  },
  {
   "cell_type": "code",
   "execution_count": 3,
   "metadata": {
    "collapsed": true
   },
   "outputs": [],
   "source": [
    "model_name = 'RandomForest-All'\n",
    "odd_H = 'INFO_BbAvH'\n",
    "odd_A = 'INFO_BbAvA'\n",
    "odd_D = 'INFO_BbAvD'\n",
    "target = 'INFO_FTR'\n",
    "start_date = datetime.datetime.now().strftime(\"%Y-%m-%d-%H-%M\")\n",
    "min_odd = 2\n",
    "max_odd = 4"
   ]
  },
  {
   "cell_type": "markdown",
   "metadata": {},
   "source": [
    "## Importing Data"
   ]
  },
  {
   "cell_type": "code",
   "execution_count": 4,
   "metadata": {
    "collapsed": true
   },
   "outputs": [],
   "source": [
    "# DB Sqlite connection\n",
    "import sqlite3\n",
    "db = \"/Users/thibaultclement/Project/ligue1-predict/src/notebook/data/db/soccer_predict.sqlite\"\n",
    "conn = sqlite3.connect(db)\n",
    "cur = conn.cursor()"
   ]
  },
  {
   "cell_type": "code",
   "execution_count": 5,
   "metadata": {},
   "outputs": [
    {
     "data": {
      "text/plain": [
       "(25275, 190)"
      ]
     },
     "execution_count": 5,
     "metadata": {},
     "output_type": "execute_result"
    }
   ],
   "source": [
    "# Get all prematch data\n",
    "df = pd.read_sql_query(\"SELECT * FROM pre_matchs ORDER BY INFO_Date ASC;\", conn)\n",
    "df = (df[df.columns.drop(['index'])])\n",
    "df.shape"
   ]
  },
  {
   "cell_type": "code",
   "execution_count": 6,
   "metadata": {},
   "outputs": [
    {
     "data": {
      "text/plain": [
       "(18027, 190)"
      ]
     },
     "execution_count": 6,
     "metadata": {},
     "output_type": "execute_result"
    }
   ],
   "source": [
    "# Remove all game between June (include) and October (include)\n",
    "df['INFO_Date'] = pd.to_datetime(df['INFO_Date'])\n",
    "df['INFO_Date'].dt.month\n",
    "df = df[(df['INFO_Date'].dt.month < 6) | (df['INFO_Date'].dt.month > 10)]\n",
    "df.shape"
   ]
  },
  {
   "cell_type": "code",
   "execution_count": 7,
   "metadata": {},
   "outputs": [
    {
     "data": {
      "text/plain": [
       "(18027, 190)"
      ]
     },
     "execution_count": 7,
     "metadata": {},
     "output_type": "execute_result"
    }
   ],
   "source": [
    "# Remove too small odd\n",
    "#df = df[(df[odd_H] > min_odd) & (df[odd_A] > min_odd)]\n",
    "#df = df[(df[odd_H] < max_odd) & (df[odd_A] < max_odd)]\n",
    "df.shape"
   ]
  },
  {
   "cell_type": "code",
   "execution_count": 8,
   "metadata": {},
   "outputs": [
    {
     "data": {
      "text/plain": [
       "(18027, 190)"
      ]
     },
     "execution_count": 8,
     "metadata": {},
     "output_type": "execute_result"
    }
   ],
   "source": [
    "# Select a particular league\n",
    "#df = df[(df['INFO_Div'] == 'E0')]\n",
    "#df = df[(df['INFO_Div'] == 'E0')]\n",
    "df.shape"
   ]
  },
  {
   "cell_type": "code",
   "execution_count": 9,
   "metadata": {},
   "outputs": [
    {
     "data": {
      "text/plain": [
       "(18027, 190)"
      ]
     },
     "execution_count": 9,
     "metadata": {},
     "output_type": "execute_result"
    }
   ],
   "source": [
    "# Removing column where odd is too high or too low\n",
    "# df = df.drop(df[df['INFO_BbAvH'] < 2].index)\n",
    "# df = df.drop(df[df['INFO_BbAvA'] < 2].index)\n",
    "# df = df.drop(df[df['INFO_BbAvH'] > 10].index)\n",
    "# df = df.drop(df[df['INFO_BbAvA'] > 10].index)\n",
    "df.shape"
   ]
  },
  {
   "cell_type": "code",
   "execution_count": 10,
   "metadata": {},
   "outputs": [
    {
     "data": {
      "text/html": [
       "<div>\n",
       "<style>\n",
       "    .dataframe thead tr:only-child th {\n",
       "        text-align: right;\n",
       "    }\n",
       "\n",
       "    .dataframe thead th {\n",
       "        text-align: left;\n",
       "    }\n",
       "\n",
       "    .dataframe tbody tr th {\n",
       "        vertical-align: top;\n",
       "    }\n",
       "</style>\n",
       "<table border=\"1\" class=\"dataframe\">\n",
       "  <thead>\n",
       "    <tr style=\"text-align: right;\">\n",
       "      <th></th>\n",
       "      <th>INFO_BbAvH</th>\n",
       "      <th>INFO_BbAvD</th>\n",
       "      <th>INFO_BbAvA</th>\n",
       "      <th>INFO_FTR</th>\n",
       "      <th>INFO_WIN</th>\n",
       "    </tr>\n",
       "  </thead>\n",
       "  <tbody>\n",
       "    <tr>\n",
       "      <th>920</th>\n",
       "      <td>1.86</td>\n",
       "      <td>3.38</td>\n",
       "      <td>4.09</td>\n",
       "      <td>H</td>\n",
       "      <td>1.86</td>\n",
       "    </tr>\n",
       "    <tr>\n",
       "      <th>921</th>\n",
       "      <td>3.75</td>\n",
       "      <td>3.34</td>\n",
       "      <td>1.95</td>\n",
       "      <td>A</td>\n",
       "      <td>1.95</td>\n",
       "    </tr>\n",
       "    <tr>\n",
       "      <th>922</th>\n",
       "      <td>4.28</td>\n",
       "      <td>3.44</td>\n",
       "      <td>1.83</td>\n",
       "      <td>D</td>\n",
       "      <td>3.44</td>\n",
       "    </tr>\n",
       "    <tr>\n",
       "      <th>923</th>\n",
       "      <td>1.83</td>\n",
       "      <td>3.38</td>\n",
       "      <td>4.18</td>\n",
       "      <td>D</td>\n",
       "      <td>3.38</td>\n",
       "    </tr>\n",
       "    <tr>\n",
       "      <th>924</th>\n",
       "      <td>2.51</td>\n",
       "      <td>3.25</td>\n",
       "      <td>2.63</td>\n",
       "      <td>A</td>\n",
       "      <td>2.63</td>\n",
       "    </tr>\n",
       "    <tr>\n",
       "      <th>925</th>\n",
       "      <td>1.99</td>\n",
       "      <td>3.13</td>\n",
       "      <td>3.86</td>\n",
       "      <td>H</td>\n",
       "      <td>1.99</td>\n",
       "    </tr>\n",
       "    <tr>\n",
       "      <th>926</th>\n",
       "      <td>1.64</td>\n",
       "      <td>3.41</td>\n",
       "      <td>5.66</td>\n",
       "      <td>A</td>\n",
       "      <td>5.66</td>\n",
       "    </tr>\n",
       "    <tr>\n",
       "      <th>927</th>\n",
       "      <td>2.71</td>\n",
       "      <td>2.94</td>\n",
       "      <td>2.68</td>\n",
       "      <td>A</td>\n",
       "      <td>2.68</td>\n",
       "    </tr>\n",
       "    <tr>\n",
       "      <th>928</th>\n",
       "      <td>2.08</td>\n",
       "      <td>3.14</td>\n",
       "      <td>3.64</td>\n",
       "      <td>H</td>\n",
       "      <td>2.08</td>\n",
       "    </tr>\n",
       "    <tr>\n",
       "      <th>929</th>\n",
       "      <td>2.49</td>\n",
       "      <td>3.11</td>\n",
       "      <td>2.84</td>\n",
       "      <td>D</td>\n",
       "      <td>3.11</td>\n",
       "    </tr>\n",
       "  </tbody>\n",
       "</table>\n",
       "</div>"
      ],
      "text/plain": [
       "     INFO_BbAvH  INFO_BbAvD  INFO_BbAvA INFO_FTR  INFO_WIN\n",
       "920        1.86        3.38        4.09        H      1.86\n",
       "921        3.75        3.34        1.95        A      1.95\n",
       "922        4.28        3.44        1.83        D      3.44\n",
       "923        1.83        3.38        4.18        D      3.38\n",
       "924        2.51        3.25        2.63        A      2.63\n",
       "925        1.99        3.13        3.86        H      1.99\n",
       "926        1.64        3.41        5.66        A      5.66\n",
       "927        2.71        2.94        2.68        A      2.68\n",
       "928        2.08        3.14        3.64        H      2.08\n",
       "929        2.49        3.11        2.84        D      3.11"
      ]
     },
     "execution_count": 10,
     "metadata": {},
     "output_type": "execute_result"
    }
   ],
   "source": [
    "# Create a INFO_WIN column containing the gain if you bet the good result\n",
    "df['INFO_WIN'] = 0\n",
    "df.loc[df.INFO_FTR == 'H', 'INFO_WIN'] = df[odd_H]\n",
    "df.loc[df.INFO_FTR == 'A', 'INFO_WIN'] = df[odd_A]\n",
    "df.loc[df.INFO_FTR == 'D', 'INFO_WIN'] = df[odd_D]\n",
    "df['INFO_WIN_P'] = 0\n",
    "df.loc[df.INFO_FTR == 'H', 'INFO_WIN_P'] = df['INFO_PSH']\n",
    "df.loc[df.INFO_FTR == 'A', 'INFO_WIN_P'] = df['INFO_PSA']\n",
    "df.loc[df.INFO_FTR == 'D', 'INFO_WIN_P'] = df['INFO_PSD']\n",
    "df[[odd_H, odd_D, odd_A, 'INFO_FTR', 'INFO_WIN']].head(10)"
   ]
  },
  {
   "cell_type": "code",
   "execution_count": 11,
   "metadata": {},
   "outputs": [
    {
     "data": {
      "text/plain": [
       "None"
      ]
     },
     "metadata": {},
     "output_type": "display_data"
    },
    {
     "data": {
      "text/plain": [
       "H    45.515061\n",
       "A    28.856715\n",
       "D    25.628224\n",
       "Name: INFO_FTR, dtype: float64"
      ]
     },
     "metadata": {},
     "output_type": "display_data"
    }
   ],
   "source": [
    "# Statistic about winners\n",
    "display(plt.show(), 100. * df.INFO_FTR.value_counts() / len(df.INFO_FTR))"
   ]
  },
  {
   "cell_type": "code",
   "execution_count": 12,
   "metadata": {},
   "outputs": [
    {
     "data": {
      "text/plain": [
       "2.7576302213346655"
      ]
     },
     "execution_count": 12,
     "metadata": {},
     "output_type": "execute_result"
    }
   ],
   "source": [
    "# How much did you win/lost per match if bet on all\n",
    "df.INFO_WIN.mean()"
   ]
  },
  {
   "cell_type": "code",
   "execution_count": 13,
   "metadata": {
    "collapsed": true
   },
   "outputs": [],
   "source": [
    "# Keep season 2016/2017 for further test and don't use it for traning\n",
    "import datetime\n",
    "date_start_learn = datetime.date(2007, 8, 1)\n",
    "date_end_learn = datetime.date(2016, 8, 1)\n",
    "date_start_current_season = datetime.date(2016, 8, 1)\n",
    "date_end_current_season = datetime.date(2017, 8, 1)\n",
    "df_current_season = df[(df['INFO_Date'] > date_start_current_season)]\n",
    "df_current_season = df_current_season[(df_current_season['INFO_Date'] < date_end_current_season)]\n",
    "df = df[(df['INFO_Date'] > date_start_learn)]\n",
    "df = df[(df['INFO_Date'] < date_end_learn)]"
   ]
  },
  {
   "cell_type": "code",
   "execution_count": 14,
   "metadata": {},
   "outputs": [
    {
     "data": {
      "text/plain": [
       "None"
      ]
     },
     "metadata": {},
     "output_type": "display_data"
    },
    {
     "data": {
      "text/plain": [
       "H    37.494434\n",
       "A    33.457028\n",
       "D    29.048538\n",
       "Name: INFO_FTR, dtype: float64"
      ]
     },
     "metadata": {},
     "output_type": "display_data"
    }
   ],
   "source": [
    "# Remove too small odd\n",
    "df = df[(df[odd_H] > min_odd) & (df[odd_A] > min_odd)]\n",
    "df = df[(df[odd_H] < max_odd) & (df[odd_A] < max_odd)]\n",
    "display(plt.show(), 100. * df.INFO_FTR.value_counts() / len(df.INFO_FTR))"
   ]
  },
  {
   "cell_type": "code",
   "execution_count": 15,
   "metadata": {},
   "outputs": [
    {
     "data": {
      "text/plain": [
       "(6737, 192)"
      ]
     },
     "execution_count": 15,
     "metadata": {},
     "output_type": "execute_result"
    }
   ],
   "source": [
    "df.shape"
   ]
  },
  {
   "cell_type": "code",
   "execution_count": 16,
   "metadata": {},
   "outputs": [
    {
     "data": {
      "text/plain": [
       "(2204, 192)"
      ]
     },
     "execution_count": 16,
     "metadata": {},
     "output_type": "execute_result"
    }
   ],
   "source": [
    "# Number of matches in current season\n",
    "df_current_season.shape"
   ]
  },
  {
   "cell_type": "code",
   "execution_count": 17,
   "metadata": {},
   "outputs": [],
   "source": [
    "# Prepare the dataset\n",
    "X = pd.get_dummies(df[features_list])\n",
    "y = df[target]\n",
    "X_current_season = pd.get_dummies(df_current_season[features_list])\n",
    "y_current_season = df_current_season[target]"
   ]
  },
  {
   "cell_type": "markdown",
   "metadata": {},
   "source": [
    "## Preprocessing Data"
   ]
  },
  {
   "cell_type": "code",
   "execution_count": 18,
   "metadata": {
    "collapsed": true
   },
   "outputs": [],
   "source": [
    "# Standardize features\n",
    "from sklearn.preprocessing import StandardScaler\n",
    "#sc_X = StandardScaler().fit(X)\n",
    "#X = sc_X.transform(X)\n",
    "#X_current_season = sc_X.transform(X_current_season)"
   ]
  },
  {
   "cell_type": "code",
   "execution_count": 19,
   "metadata": {},
   "outputs": [],
   "source": [
    "# Impute of missing values (NaN) with the mean\n",
    "from sklearn.preprocessing import Imputer\n",
    "imp = Imputer(missing_values='NaN', strategy='mean', axis=0)\n",
    "imp = imp.fit(X)\n",
    "X = imp.transform(X)\n",
    "X_current_season = imp.transform(X_current_season)"
   ]
  },
  {
   "cell_type": "code",
   "execution_count": 20,
   "metadata": {
    "collapsed": true
   },
   "outputs": [],
   "source": [
    "# Split the dataset into the Training set and Test set\n",
    "from sklearn.model_selection import train_test_split\n",
    "X_train, X_test, y_train, y_test = train_test_split(X, y, test_size=0.3, random_state = 0)"
   ]
  },
  {
   "cell_type": "markdown",
   "metadata": {},
   "source": [
    "## Tuning Hyper-parameters"
   ]
  },
  {
   "cell_type": "code",
   "execution_count": 21,
   "metadata": {
    "collapsed": true
   },
   "outputs": [],
   "source": [
    "# Import model\n",
    "from sklearn.ensemble import RandomForestClassifier\n",
    "from sklearn.model_selection import cross_val_score\n",
    "classifier = RandomForestClassifier(random_state=0)"
   ]
  },
  {
   "cell_type": "code",
   "execution_count": 22,
   "metadata": {},
   "outputs": [
    {
     "name": "stdout",
     "output_type": "stream",
     "text": [
      "Fitting 8 folds for each of 1 candidates, totalling 8 fits\n"
     ]
    },
    {
     "name": "stderr",
     "output_type": "stream",
     "text": [
      "[Parallel(n_jobs=-1)]: Done   8 out of   8 | elapsed:   27.8s finished\n"
     ]
    },
    {
     "data": {
      "text/plain": [
       "35.97455406188965"
      ]
     },
     "execution_count": 22,
     "metadata": {},
     "output_type": "execute_result"
    }
   ],
   "source": [
    "# Applying Grid Search to find the best hyper-parameters for our Model\n",
    "from sklearn.model_selection import GridSearchCV\n",
    "from sklearn.metrics.classification import log_loss\n",
    "from sklearn.metrics import make_scorer\n",
    "import time\n",
    "\n",
    "start = time.time()\n",
    "\n",
    "parameters = [{\n",
    "    'n_estimators': [10, 100], # 100\n",
    "    'criterion': ['entropy'], # entropy\n",
    "    'max_features': ['sqrt', 'log2', None], # sqrt\n",
    "    'max_depth': [10, 30], # 10\n",
    "    'min_samples_split': [2, 10], # 10\n",
    "    'min_samples_leaf': [1, 3] # 3\n",
    "}]\n",
    "parameters = [{\n",
    "    'n_estimators': [50, 100, 300, 500], # 500\n",
    "    'criterion': ['entropy'], # entropy\n",
    "    'max_features': ['sqrt'], # sqrt\n",
    "    'max_depth': [5, 10, 15], # 5\n",
    "    'min_samples_split': [5, 10, 15], # 15\n",
    "    'min_samples_leaf': [2, 3, 5] # 3\n",
    "}]\n",
    "parameters = [{\n",
    "    'n_estimators': [50, 100, 300, 500], # 500\n",
    "    'criterion': ['entropy'], # entropy\n",
    "    'max_features': ['sqrt'], # sqrt\n",
    "    'max_depth': [5, 10, 15], # 5\n",
    "    'min_samples_split': [5, 10, 15], # 15\n",
    "    'min_samples_leaf': [2, 3, 5] # 3\n",
    "}]\n",
    "parameters = [{\n",
    "    'n_estimators': [400, 500, 700], # 700\n",
    "    'criterion': ['entropy'], # entropy\n",
    "    'max_features': ['sqrt'], # sqrt\n",
    "    'max_depth': [3, 5, 7], # 5\n",
    "    'min_samples_split': [12, 15, 20], # 20 \n",
    "    'min_samples_leaf': [3, 4] # 4\n",
    "}]\n",
    "parameters = [{\n",
    "    'n_estimators': [600, 700, 800], # 600\n",
    "    'criterion': ['entropy'], # entropy\n",
    "    'max_features': ['sqrt'], # sqrt\n",
    "    'max_depth': [4, 5, 6], # 5\n",
    "    'min_samples_split': [20, 30], # 20 \n",
    "    'min_samples_leaf': [3, 4, 5] # 4\n",
    "}]\n",
    "parameters = [{\n",
    "    'n_estimators': [600, 650], # 650\n",
    "    'criterion': ['entropy'], # entropy\n",
    "    'max_features': ['sqrt'], # sqrt\n",
    "    'max_depth': [5], # 5\n",
    "    'min_samples_split': [18, 20, 22], # 22\n",
    "    'min_samples_leaf': [4] # 4\n",
    "}]\n",
    "parameters = [{\n",
    "    'n_estimators': [630, 650, 670], # 630\n",
    "    'criterion': ['entropy'], # entropy\n",
    "    'max_features': ['sqrt'], # sqrt\n",
    "    'max_depth': [5], # 5\n",
    "    'min_samples_split': [22, 24], # 24\n",
    "    'min_samples_leaf': [4] # 4\n",
    "}]\n",
    "parameters = [{\n",
    "    'n_estimators': [620, 630, 640], # 620\n",
    "    'criterion': ['entropy'], # entropy\n",
    "    'max_features': ['sqrt'], # sqrt\n",
    "    'max_depth': [5], # 5\n",
    "    'min_samples_split': [23, 24, 25, 26], # 23\n",
    "    'min_samples_leaf': [4] # 4\n",
    "}]\n",
    "parameters = [{\n",
    "    'n_estimators': [620], # 620\n",
    "    'criterion': ['entropy'], # entropy\n",
    "    'max_features': ['sqrt'], # sqrt\n",
    "    'max_depth': [5], # 5\n",
    "    'min_samples_split': [23], # 23\n",
    "    'min_samples_leaf': [4] # 4\n",
    "}]\n",
    "grid_search = GridSearchCV(estimator=classifier,\n",
    "                           param_grid=parameters,\n",
    "                           scoring='neg_log_loss',\n",
    "                           cv=8,\n",
    "                           n_jobs=-1,\n",
    "                           verbose=1)\n",
    "grid_search.fit(X_train, y_train)\n",
    "\n",
    "time.time() - start"
   ]
  },
  {
   "cell_type": "code",
   "execution_count": 23,
   "metadata": {},
   "outputs": [
    {
     "data": {
      "text/plain": [
       "-1.0924323548695027"
      ]
     },
     "metadata": {},
     "output_type": "display_data"
    }
   ],
   "source": [
    "# Extract best score calculated with the GridSearchCV\n",
    "best_score = grid_search.best_score_\n",
    "display(best_score)"
   ]
  },
  {
   "cell_type": "code",
   "execution_count": 24,
   "metadata": {},
   "outputs": [
    {
     "data": {
      "text/plain": [
       "{'criterion': 'entropy',\n",
       " 'max_depth': 5,\n",
       " 'max_features': 'sqrt',\n",
       " 'min_samples_leaf': 4,\n",
       " 'min_samples_split': 23,\n",
       " 'n_estimators': 620}"
      ]
     },
     "execution_count": 24,
     "metadata": {},
     "output_type": "execute_result"
    }
   ],
   "source": [
    "# Extract best hyper-parameter calculated with the GridSearchCV\n",
    "best_params = grid_search.best_params_\n",
    "best_params"
   ]
  },
  {
   "cell_type": "code",
   "execution_count": 25,
   "metadata": {
    "scrolled": false
   },
   "outputs": [
    {
     "data": {
      "text/html": [
       "<div>\n",
       "<style>\n",
       "    .dataframe thead tr:only-child th {\n",
       "        text-align: right;\n",
       "    }\n",
       "\n",
       "    .dataframe thead th {\n",
       "        text-align: left;\n",
       "    }\n",
       "\n",
       "    .dataframe tbody tr th {\n",
       "        vertical-align: top;\n",
       "    }\n",
       "</style>\n",
       "<table border=\"1\" class=\"dataframe\">\n",
       "  <thead>\n",
       "    <tr style=\"text-align: right;\">\n",
       "      <th></th>\n",
       "      <th>mean_fit_time</th>\n",
       "      <th>mean_score_time</th>\n",
       "      <th>mean_test_score</th>\n",
       "      <th>mean_train_score</th>\n",
       "      <th>param_criterion</th>\n",
       "      <th>param_max_depth</th>\n",
       "      <th>param_max_features</th>\n",
       "      <th>param_min_samples_leaf</th>\n",
       "      <th>param_min_samples_split</th>\n",
       "      <th>param_n_estimators</th>\n",
       "      <th>...</th>\n",
       "      <th>split5_test_score</th>\n",
       "      <th>split5_train_score</th>\n",
       "      <th>split6_test_score</th>\n",
       "      <th>split6_train_score</th>\n",
       "      <th>split7_test_score</th>\n",
       "      <th>split7_train_score</th>\n",
       "      <th>std_fit_time</th>\n",
       "      <th>std_score_time</th>\n",
       "      <th>std_test_score</th>\n",
       "      <th>std_train_score</th>\n",
       "    </tr>\n",
       "  </thead>\n",
       "  <tbody>\n",
       "    <tr>\n",
       "      <th>0</th>\n",
       "      <td>10.855272</td>\n",
       "      <td>1.146885</td>\n",
       "      <td>-1.092432</td>\n",
       "      <td>-1.05479</td>\n",
       "      <td>entropy</td>\n",
       "      <td>5</td>\n",
       "      <td>sqrt</td>\n",
       "      <td>4</td>\n",
       "      <td>23</td>\n",
       "      <td>620</td>\n",
       "      <td>...</td>\n",
       "      <td>-1.092898</td>\n",
       "      <td>-1.054074</td>\n",
       "      <td>-1.088397</td>\n",
       "      <td>-1.05591</td>\n",
       "      <td>-1.09399</td>\n",
       "      <td>-1.052945</td>\n",
       "      <td>0.400427</td>\n",
       "      <td>0.082061</td>\n",
       "      <td>0.00206</td>\n",
       "      <td>0.001351</td>\n",
       "    </tr>\n",
       "  </tbody>\n",
       "</table>\n",
       "<p>1 rows × 32 columns</p>\n",
       "</div>"
      ],
      "text/plain": [
       "   mean_fit_time  mean_score_time  mean_test_score  mean_train_score  \\\n",
       "0      10.855272         1.146885        -1.092432          -1.05479   \n",
       "\n",
       "  param_criterion param_max_depth param_max_features param_min_samples_leaf  \\\n",
       "0         entropy               5               sqrt                      4   \n",
       "\n",
       "  param_min_samples_split param_n_estimators       ...         \\\n",
       "0                      23                620       ...          \n",
       "\n",
       "  split5_test_score  split5_train_score  split6_test_score  \\\n",
       "0         -1.092898           -1.054074          -1.088397   \n",
       "\n",
       "   split6_train_score  split7_test_score  split7_train_score  std_fit_time  \\\n",
       "0            -1.05591           -1.09399           -1.052945      0.400427   \n",
       "\n",
       "   std_score_time  std_test_score  std_train_score  \n",
       "0        0.082061         0.00206         0.001351  \n",
       "\n",
       "[1 rows x 32 columns]"
      ]
     },
     "execution_count": 25,
     "metadata": {},
     "output_type": "execute_result"
    }
   ],
   "source": [
    "# Get all results of Grid Search\n",
    "cv_results = pd.DataFrame(grid_search.cv_results_)\n",
    "cv_results.to_csv('./tuning/'+model_name+'-'+target+'_'+start_date+'.csv')\n",
    "cv_results"
   ]
  },
  {
   "cell_type": "markdown",
   "metadata": {},
   "source": [
    "## Evaluating Model"
   ]
  },
  {
   "cell_type": "code",
   "execution_count": 26,
   "metadata": {},
   "outputs": [
    {
     "data": {
      "text/plain": [
       "RandomForestClassifier(bootstrap=True, class_weight=None, criterion='entropy',\n",
       "            max_depth=5, max_features='sqrt', max_leaf_nodes=None,\n",
       "            min_impurity_split=1e-07, min_samples_leaf=4,\n",
       "            min_samples_split=23, min_weight_fraction_leaf=0.0,\n",
       "            n_estimators=620, n_jobs=-1, oob_score=False, random_state=0,\n",
       "            verbose=0, warm_start=False)"
      ]
     },
     "execution_count": 26,
     "metadata": {},
     "output_type": "execute_result"
    }
   ],
   "source": [
    "# Train a new classifier using the best parameters found by the grid search\n",
    "clf = RandomForestClassifier(random_state=0,\n",
    "                             n_jobs=-1,\n",
    "                             n_estimators=best_params['n_estimators'],\n",
    "                             max_features=best_params['max_features'],\n",
    "                             criterion=best_params['criterion'],\n",
    "                             max_depth=best_params['max_depth'],\n",
    "                             min_samples_split=best_params['min_samples_split'],\n",
    "                             min_samples_leaf=best_params['min_samples_leaf']\n",
    "                   )\n",
    "#clf = RandomForestClassifier()\n",
    "clf.fit(X_train, y_train)"
   ]
  },
  {
   "cell_type": "code",
   "execution_count": 27,
   "metadata": {
    "collapsed": true
   },
   "outputs": [],
   "source": [
    "# Predict target values\n",
    "y_pred = clf.predict(X_test)"
   ]
  },
  {
   "cell_type": "code",
   "execution_count": 28,
   "metadata": {
    "collapsed": true
   },
   "outputs": [],
   "source": [
    "# Predict probabilities\n",
    "y_probs = clf.predict_proba(X_test)"
   ]
  },
  {
   "cell_type": "code",
   "execution_count": 29,
   "metadata": {},
   "outputs": [
    {
     "data": {
      "text/plain": [
       "1.0909537439312074"
      ]
     },
     "execution_count": 29,
     "metadata": {},
     "output_type": "execute_result"
    }
   ],
   "source": [
    "# Compute cross-entropy score\n",
    "from sklearn.metrics import log_loss\n",
    "log_loss(y_test, y_probs)"
   ]
  },
  {
   "cell_type": "code",
   "execution_count": 30,
   "metadata": {},
   "outputs": [
    {
     "name": "stdout",
     "output_type": "stream",
     "text": [
      "             precision    recall  f1-score   support\n",
      "\n",
      "          A       0.38      0.18      0.24       666\n",
      "          D       1.00      0.00      0.00       591\n",
      "          H       0.40      0.88      0.55       765\n",
      "\n",
      "avg / total       0.57      0.39      0.29      2022\n",
      "\n"
     ]
    }
   ],
   "source": [
    "# Compute precision, recall, F-measure and support\n",
    "from sklearn.metrics import classification_report\n",
    "print(classification_report(y_test, y_pred, target_names=['A', 'D', 'H']))"
   ]
  },
  {
   "cell_type": "code",
   "execution_count": 31,
   "metadata": {},
   "outputs": [],
   "source": [
    "# Plot a ROC curve\n",
    "from sklearn.metrics import roc_auc_score\n",
    "#roc_auc_score(y_test, y_pred)"
   ]
  },
  {
   "cell_type": "code",
   "execution_count": 32,
   "metadata": {},
   "outputs": [
    {
     "data": {
      "text/plain": [
       "0.39317507418397624"
      ]
     },
     "execution_count": 32,
     "metadata": {},
     "output_type": "execute_result"
    }
   ],
   "source": [
    "from sklearn.metrics import accuracy_score\n",
    "accuracy_score(y_test, y_pred)"
   ]
  },
  {
   "cell_type": "markdown",
   "metadata": {},
   "source": [
    "# ALL DATASET TEST"
   ]
  },
  {
   "cell_type": "code",
   "execution_count": 33,
   "metadata": {},
   "outputs": [],
   "source": [
    "# Apply on all the dataset\n",
    "X_pred = clf.predict(X)\n",
    "X_probs = clf.predict_proba(X)\n",
    "\n",
    "df['pred'] = X_pred\n",
    "\n",
    "df['probs_A'] = X_probs[:,0]\n",
    "df['probs_D'] = X_probs[:,1]\n",
    "df['probs_H'] = X_probs[:,2]\n",
    "#df['probs_A'] = X_probs[:,0]\n",
    "#df['probs_D'] = X_probs[:,1]\n",
    "#df['probs_H'] = X_probs[:,2]\n",
    "df['probs'] = df[['probs_A','probs_D','probs_H']].max(axis=1)\n",
    "\n",
    "df['WIN'] = -1\n",
    "df.loc[df.INFO_FTR == df.pred, 'WIN'] = df['INFO_WIN']\n",
    "\n",
    "df_bet_all_seasons = df.drop(df[df.pred == 'X'].index)"
   ]
  },
  {
   "cell_type": "code",
   "execution_count": 34,
   "metadata": {},
   "outputs": [
    {
     "data": {
      "text/html": [
       "<div>\n",
       "<style>\n",
       "    .dataframe thead tr:only-child th {\n",
       "        text-align: right;\n",
       "    }\n",
       "\n",
       "    .dataframe thead th {\n",
       "        text-align: left;\n",
       "    }\n",
       "\n",
       "    .dataframe tbody tr th {\n",
       "        vertical-align: top;\n",
       "    }\n",
       "</style>\n",
       "<table border=\"1\" class=\"dataframe\">\n",
       "  <thead>\n",
       "    <tr style=\"text-align: right;\">\n",
       "      <th></th>\n",
       "      <th>probs_A</th>\n",
       "      <th>probs_D</th>\n",
       "      <th>probs_H</th>\n",
       "      <th>pred</th>\n",
       "      <th>INFO_FTR</th>\n",
       "      <th>WIN</th>\n",
       "    </tr>\n",
       "  </thead>\n",
       "  <tbody>\n",
       "    <tr>\n",
       "      <th>924</th>\n",
       "      <td>0.366543</td>\n",
       "      <td>0.278780</td>\n",
       "      <td>0.354677</td>\n",
       "      <td>A</td>\n",
       "      <td>A</td>\n",
       "      <td>2.63</td>\n",
       "    </tr>\n",
       "    <tr>\n",
       "      <th>927</th>\n",
       "      <td>0.322265</td>\n",
       "      <td>0.300422</td>\n",
       "      <td>0.377313</td>\n",
       "      <td>H</td>\n",
       "      <td>A</td>\n",
       "      <td>-1.00</td>\n",
       "    </tr>\n",
       "    <tr>\n",
       "      <th>928</th>\n",
       "      <td>0.310233</td>\n",
       "      <td>0.295792</td>\n",
       "      <td>0.393975</td>\n",
       "      <td>H</td>\n",
       "      <td>H</td>\n",
       "      <td>2.08</td>\n",
       "    </tr>\n",
       "    <tr>\n",
       "      <th>929</th>\n",
       "      <td>0.312927</td>\n",
       "      <td>0.302264</td>\n",
       "      <td>0.384808</td>\n",
       "      <td>H</td>\n",
       "      <td>D</td>\n",
       "      <td>-1.00</td>\n",
       "    </tr>\n",
       "    <tr>\n",
       "      <th>932</th>\n",
       "      <td>0.323919</td>\n",
       "      <td>0.260540</td>\n",
       "      <td>0.415541</td>\n",
       "      <td>H</td>\n",
       "      <td>D</td>\n",
       "      <td>-1.00</td>\n",
       "    </tr>\n",
       "    <tr>\n",
       "      <th>935</th>\n",
       "      <td>0.310105</td>\n",
       "      <td>0.308004</td>\n",
       "      <td>0.381891</td>\n",
       "      <td>H</td>\n",
       "      <td>D</td>\n",
       "      <td>-1.00</td>\n",
       "    </tr>\n",
       "    <tr>\n",
       "      <th>942</th>\n",
       "      <td>0.380808</td>\n",
       "      <td>0.255888</td>\n",
       "      <td>0.363305</td>\n",
       "      <td>A</td>\n",
       "      <td>A</td>\n",
       "      <td>2.47</td>\n",
       "    </tr>\n",
       "    <tr>\n",
       "      <th>944</th>\n",
       "      <td>0.347927</td>\n",
       "      <td>0.277293</td>\n",
       "      <td>0.374780</td>\n",
       "      <td>H</td>\n",
       "      <td>H</td>\n",
       "      <td>2.74</td>\n",
       "    </tr>\n",
       "    <tr>\n",
       "      <th>946</th>\n",
       "      <td>0.335222</td>\n",
       "      <td>0.282084</td>\n",
       "      <td>0.382694</td>\n",
       "      <td>H</td>\n",
       "      <td>H</td>\n",
       "      <td>2.18</td>\n",
       "    </tr>\n",
       "    <tr>\n",
       "      <th>948</th>\n",
       "      <td>0.357223</td>\n",
       "      <td>0.287912</td>\n",
       "      <td>0.354866</td>\n",
       "      <td>A</td>\n",
       "      <td>A</td>\n",
       "      <td>3.03</td>\n",
       "    </tr>\n",
       "    <tr>\n",
       "      <th>949</th>\n",
       "      <td>0.342488</td>\n",
       "      <td>0.293617</td>\n",
       "      <td>0.363896</td>\n",
       "      <td>H</td>\n",
       "      <td>A</td>\n",
       "      <td>-1.00</td>\n",
       "    </tr>\n",
       "    <tr>\n",
       "      <th>950</th>\n",
       "      <td>0.325609</td>\n",
       "      <td>0.281218</td>\n",
       "      <td>0.393173</td>\n",
       "      <td>H</td>\n",
       "      <td>H</td>\n",
       "      <td>2.07</td>\n",
       "    </tr>\n",
       "    <tr>\n",
       "      <th>951</th>\n",
       "      <td>0.336820</td>\n",
       "      <td>0.273476</td>\n",
       "      <td>0.389703</td>\n",
       "      <td>H</td>\n",
       "      <td>D</td>\n",
       "      <td>-1.00</td>\n",
       "    </tr>\n",
       "    <tr>\n",
       "      <th>953</th>\n",
       "      <td>0.308765</td>\n",
       "      <td>0.301262</td>\n",
       "      <td>0.389972</td>\n",
       "      <td>H</td>\n",
       "      <td>H</td>\n",
       "      <td>2.09</td>\n",
       "    </tr>\n",
       "    <tr>\n",
       "      <th>958</th>\n",
       "      <td>0.349963</td>\n",
       "      <td>0.302718</td>\n",
       "      <td>0.347319</td>\n",
       "      <td>A</td>\n",
       "      <td>H</td>\n",
       "      <td>-1.00</td>\n",
       "    </tr>\n",
       "    <tr>\n",
       "      <th>959</th>\n",
       "      <td>0.366968</td>\n",
       "      <td>0.288689</td>\n",
       "      <td>0.344343</td>\n",
       "      <td>A</td>\n",
       "      <td>A</td>\n",
       "      <td>2.68</td>\n",
       "    </tr>\n",
       "    <tr>\n",
       "      <th>961</th>\n",
       "      <td>0.320126</td>\n",
       "      <td>0.292911</td>\n",
       "      <td>0.386963</td>\n",
       "      <td>H</td>\n",
       "      <td>D</td>\n",
       "      <td>-1.00</td>\n",
       "    </tr>\n",
       "    <tr>\n",
       "      <th>962</th>\n",
       "      <td>0.327908</td>\n",
       "      <td>0.281611</td>\n",
       "      <td>0.390481</td>\n",
       "      <td>H</td>\n",
       "      <td>H</td>\n",
       "      <td>2.39</td>\n",
       "    </tr>\n",
       "    <tr>\n",
       "      <th>963</th>\n",
       "      <td>0.333882</td>\n",
       "      <td>0.279399</td>\n",
       "      <td>0.386719</td>\n",
       "      <td>H</td>\n",
       "      <td>D</td>\n",
       "      <td>-1.00</td>\n",
       "    </tr>\n",
       "    <tr>\n",
       "      <th>964</th>\n",
       "      <td>0.335470</td>\n",
       "      <td>0.280222</td>\n",
       "      <td>0.384308</td>\n",
       "      <td>H</td>\n",
       "      <td>A</td>\n",
       "      <td>-1.00</td>\n",
       "    </tr>\n",
       "    <tr>\n",
       "      <th>965</th>\n",
       "      <td>0.301335</td>\n",
       "      <td>0.300020</td>\n",
       "      <td>0.398645</td>\n",
       "      <td>H</td>\n",
       "      <td>H</td>\n",
       "      <td>2.42</td>\n",
       "    </tr>\n",
       "    <tr>\n",
       "      <th>966</th>\n",
       "      <td>0.329695</td>\n",
       "      <td>0.286546</td>\n",
       "      <td>0.383758</td>\n",
       "      <td>H</td>\n",
       "      <td>H</td>\n",
       "      <td>2.39</td>\n",
       "    </tr>\n",
       "    <tr>\n",
       "      <th>967</th>\n",
       "      <td>0.344619</td>\n",
       "      <td>0.295404</td>\n",
       "      <td>0.359977</td>\n",
       "      <td>H</td>\n",
       "      <td>A</td>\n",
       "      <td>-1.00</td>\n",
       "    </tr>\n",
       "    <tr>\n",
       "      <th>970</th>\n",
       "      <td>0.345661</td>\n",
       "      <td>0.286974</td>\n",
       "      <td>0.367365</td>\n",
       "      <td>H</td>\n",
       "      <td>A</td>\n",
       "      <td>-1.00</td>\n",
       "    </tr>\n",
       "    <tr>\n",
       "      <th>973</th>\n",
       "      <td>0.321394</td>\n",
       "      <td>0.288051</td>\n",
       "      <td>0.390555</td>\n",
       "      <td>H</td>\n",
       "      <td>D</td>\n",
       "      <td>-1.00</td>\n",
       "    </tr>\n",
       "    <tr>\n",
       "      <th>975</th>\n",
       "      <td>0.327000</td>\n",
       "      <td>0.313984</td>\n",
       "      <td>0.359016</td>\n",
       "      <td>H</td>\n",
       "      <td>D</td>\n",
       "      <td>-1.00</td>\n",
       "    </tr>\n",
       "    <tr>\n",
       "      <th>978</th>\n",
       "      <td>0.335075</td>\n",
       "      <td>0.281366</td>\n",
       "      <td>0.383559</td>\n",
       "      <td>H</td>\n",
       "      <td>A</td>\n",
       "      <td>-1.00</td>\n",
       "    </tr>\n",
       "    <tr>\n",
       "      <th>979</th>\n",
       "      <td>0.328245</td>\n",
       "      <td>0.316623</td>\n",
       "      <td>0.355132</td>\n",
       "      <td>H</td>\n",
       "      <td>D</td>\n",
       "      <td>-1.00</td>\n",
       "    </tr>\n",
       "    <tr>\n",
       "      <th>981</th>\n",
       "      <td>0.309847</td>\n",
       "      <td>0.316320</td>\n",
       "      <td>0.373832</td>\n",
       "      <td>H</td>\n",
       "      <td>D</td>\n",
       "      <td>-1.00</td>\n",
       "    </tr>\n",
       "    <tr>\n",
       "      <th>982</th>\n",
       "      <td>0.329982</td>\n",
       "      <td>0.303729</td>\n",
       "      <td>0.366289</td>\n",
       "      <td>H</td>\n",
       "      <td>D</td>\n",
       "      <td>-1.00</td>\n",
       "    </tr>\n",
       "    <tr>\n",
       "      <th>...</th>\n",
       "      <td>...</td>\n",
       "      <td>...</td>\n",
       "      <td>...</td>\n",
       "      <td>...</td>\n",
       "      <td>...</td>\n",
       "      <td>...</td>\n",
       "    </tr>\n",
       "    <tr>\n",
       "      <th>18879</th>\n",
       "      <td>0.321889</td>\n",
       "      <td>0.278412</td>\n",
       "      <td>0.399699</td>\n",
       "      <td>H</td>\n",
       "      <td>H</td>\n",
       "      <td>2.54</td>\n",
       "    </tr>\n",
       "    <tr>\n",
       "      <th>18882</th>\n",
       "      <td>0.333706</td>\n",
       "      <td>0.300922</td>\n",
       "      <td>0.365372</td>\n",
       "      <td>H</td>\n",
       "      <td>A</td>\n",
       "      <td>-1.00</td>\n",
       "    </tr>\n",
       "    <tr>\n",
       "      <th>18884</th>\n",
       "      <td>0.322924</td>\n",
       "      <td>0.292039</td>\n",
       "      <td>0.385037</td>\n",
       "      <td>H</td>\n",
       "      <td>D</td>\n",
       "      <td>-1.00</td>\n",
       "    </tr>\n",
       "    <tr>\n",
       "      <th>18887</th>\n",
       "      <td>0.347515</td>\n",
       "      <td>0.283514</td>\n",
       "      <td>0.368971</td>\n",
       "      <td>H</td>\n",
       "      <td>A</td>\n",
       "      <td>-1.00</td>\n",
       "    </tr>\n",
       "    <tr>\n",
       "      <th>18898</th>\n",
       "      <td>0.334485</td>\n",
       "      <td>0.277964</td>\n",
       "      <td>0.387551</td>\n",
       "      <td>H</td>\n",
       "      <td>H</td>\n",
       "      <td>2.33</td>\n",
       "    </tr>\n",
       "    <tr>\n",
       "      <th>18902</th>\n",
       "      <td>0.329269</td>\n",
       "      <td>0.288626</td>\n",
       "      <td>0.382105</td>\n",
       "      <td>H</td>\n",
       "      <td>A</td>\n",
       "      <td>-1.00</td>\n",
       "    </tr>\n",
       "    <tr>\n",
       "      <th>18905</th>\n",
       "      <td>0.358513</td>\n",
       "      <td>0.303612</td>\n",
       "      <td>0.337874</td>\n",
       "      <td>A</td>\n",
       "      <td>H</td>\n",
       "      <td>-1.00</td>\n",
       "    </tr>\n",
       "    <tr>\n",
       "      <th>18908</th>\n",
       "      <td>0.355938</td>\n",
       "      <td>0.275493</td>\n",
       "      <td>0.368569</td>\n",
       "      <td>H</td>\n",
       "      <td>A</td>\n",
       "      <td>-1.00</td>\n",
       "    </tr>\n",
       "    <tr>\n",
       "      <th>18910</th>\n",
       "      <td>0.357322</td>\n",
       "      <td>0.289293</td>\n",
       "      <td>0.353385</td>\n",
       "      <td>A</td>\n",
       "      <td>A</td>\n",
       "      <td>2.29</td>\n",
       "    </tr>\n",
       "    <tr>\n",
       "      <th>18913</th>\n",
       "      <td>0.331133</td>\n",
       "      <td>0.290092</td>\n",
       "      <td>0.378775</td>\n",
       "      <td>H</td>\n",
       "      <td>H</td>\n",
       "      <td>2.57</td>\n",
       "    </tr>\n",
       "    <tr>\n",
       "      <th>18914</th>\n",
       "      <td>0.369310</td>\n",
       "      <td>0.278625</td>\n",
       "      <td>0.352065</td>\n",
       "      <td>A</td>\n",
       "      <td>H</td>\n",
       "      <td>-1.00</td>\n",
       "    </tr>\n",
       "    <tr>\n",
       "      <th>18922</th>\n",
       "      <td>0.324595</td>\n",
       "      <td>0.310556</td>\n",
       "      <td>0.364849</td>\n",
       "      <td>H</td>\n",
       "      <td>A</td>\n",
       "      <td>-1.00</td>\n",
       "    </tr>\n",
       "    <tr>\n",
       "      <th>18926</th>\n",
       "      <td>0.386219</td>\n",
       "      <td>0.284468</td>\n",
       "      <td>0.329313</td>\n",
       "      <td>A</td>\n",
       "      <td>A</td>\n",
       "      <td>2.26</td>\n",
       "    </tr>\n",
       "    <tr>\n",
       "      <th>18927</th>\n",
       "      <td>0.349513</td>\n",
       "      <td>0.297953</td>\n",
       "      <td>0.352534</td>\n",
       "      <td>H</td>\n",
       "      <td>D</td>\n",
       "      <td>-1.00</td>\n",
       "    </tr>\n",
       "    <tr>\n",
       "      <th>18929</th>\n",
       "      <td>0.304616</td>\n",
       "      <td>0.284809</td>\n",
       "      <td>0.410575</td>\n",
       "      <td>H</td>\n",
       "      <td>A</td>\n",
       "      <td>-1.00</td>\n",
       "    </tr>\n",
       "    <tr>\n",
       "      <th>18931</th>\n",
       "      <td>0.336952</td>\n",
       "      <td>0.281160</td>\n",
       "      <td>0.381887</td>\n",
       "      <td>H</td>\n",
       "      <td>H</td>\n",
       "      <td>2.19</td>\n",
       "    </tr>\n",
       "    <tr>\n",
       "      <th>18932</th>\n",
       "      <td>0.335538</td>\n",
       "      <td>0.280503</td>\n",
       "      <td>0.383960</td>\n",
       "      <td>H</td>\n",
       "      <td>A</td>\n",
       "      <td>-1.00</td>\n",
       "    </tr>\n",
       "    <tr>\n",
       "      <th>18933</th>\n",
       "      <td>0.374739</td>\n",
       "      <td>0.287818</td>\n",
       "      <td>0.337442</td>\n",
       "      <td>A</td>\n",
       "      <td>D</td>\n",
       "      <td>-1.00</td>\n",
       "    </tr>\n",
       "    <tr>\n",
       "      <th>18937</th>\n",
       "      <td>0.356608</td>\n",
       "      <td>0.278110</td>\n",
       "      <td>0.365282</td>\n",
       "      <td>H</td>\n",
       "      <td>H</td>\n",
       "      <td>3.42</td>\n",
       "    </tr>\n",
       "    <tr>\n",
       "      <th>18938</th>\n",
       "      <td>0.336223</td>\n",
       "      <td>0.303605</td>\n",
       "      <td>0.360172</td>\n",
       "      <td>H</td>\n",
       "      <td>A</td>\n",
       "      <td>-1.00</td>\n",
       "    </tr>\n",
       "    <tr>\n",
       "      <th>18939</th>\n",
       "      <td>0.305070</td>\n",
       "      <td>0.299989</td>\n",
       "      <td>0.394941</td>\n",
       "      <td>H</td>\n",
       "      <td>D</td>\n",
       "      <td>-1.00</td>\n",
       "    </tr>\n",
       "    <tr>\n",
       "      <th>18940</th>\n",
       "      <td>0.323360</td>\n",
       "      <td>0.308277</td>\n",
       "      <td>0.368363</td>\n",
       "      <td>H</td>\n",
       "      <td>D</td>\n",
       "      <td>-1.00</td>\n",
       "    </tr>\n",
       "    <tr>\n",
       "      <th>18941</th>\n",
       "      <td>0.331217</td>\n",
       "      <td>0.285813</td>\n",
       "      <td>0.382970</td>\n",
       "      <td>H</td>\n",
       "      <td>H</td>\n",
       "      <td>2.46</td>\n",
       "    </tr>\n",
       "    <tr>\n",
       "      <th>18942</th>\n",
       "      <td>0.332427</td>\n",
       "      <td>0.281783</td>\n",
       "      <td>0.385790</td>\n",
       "      <td>H</td>\n",
       "      <td>A</td>\n",
       "      <td>-1.00</td>\n",
       "    </tr>\n",
       "    <tr>\n",
       "      <th>18943</th>\n",
       "      <td>0.324032</td>\n",
       "      <td>0.294781</td>\n",
       "      <td>0.381186</td>\n",
       "      <td>H</td>\n",
       "      <td>D</td>\n",
       "      <td>-1.00</td>\n",
       "    </tr>\n",
       "    <tr>\n",
       "      <th>18948</th>\n",
       "      <td>0.343021</td>\n",
       "      <td>0.292092</td>\n",
       "      <td>0.364887</td>\n",
       "      <td>H</td>\n",
       "      <td>A</td>\n",
       "      <td>-1.00</td>\n",
       "    </tr>\n",
       "    <tr>\n",
       "      <th>18949</th>\n",
       "      <td>0.321065</td>\n",
       "      <td>0.273736</td>\n",
       "      <td>0.405199</td>\n",
       "      <td>H</td>\n",
       "      <td>A</td>\n",
       "      <td>-1.00</td>\n",
       "    </tr>\n",
       "    <tr>\n",
       "      <th>18951</th>\n",
       "      <td>0.326753</td>\n",
       "      <td>0.291592</td>\n",
       "      <td>0.381656</td>\n",
       "      <td>H</td>\n",
       "      <td>H</td>\n",
       "      <td>2.25</td>\n",
       "    </tr>\n",
       "    <tr>\n",
       "      <th>18954</th>\n",
       "      <td>0.350604</td>\n",
       "      <td>0.293739</td>\n",
       "      <td>0.355657</td>\n",
       "      <td>H</td>\n",
       "      <td>A</td>\n",
       "      <td>-1.00</td>\n",
       "    </tr>\n",
       "    <tr>\n",
       "      <th>18957</th>\n",
       "      <td>0.337393</td>\n",
       "      <td>0.305763</td>\n",
       "      <td>0.356844</td>\n",
       "      <td>H</td>\n",
       "      <td>H</td>\n",
       "      <td>2.80</td>\n",
       "    </tr>\n",
       "  </tbody>\n",
       "</table>\n",
       "<p>6737 rows × 6 columns</p>\n",
       "</div>"
      ],
      "text/plain": [
       "        probs_A   probs_D   probs_H pred INFO_FTR   WIN\n",
       "924    0.366543  0.278780  0.354677    A        A  2.63\n",
       "927    0.322265  0.300422  0.377313    H        A -1.00\n",
       "928    0.310233  0.295792  0.393975    H        H  2.08\n",
       "929    0.312927  0.302264  0.384808    H        D -1.00\n",
       "932    0.323919  0.260540  0.415541    H        D -1.00\n",
       "935    0.310105  0.308004  0.381891    H        D -1.00\n",
       "942    0.380808  0.255888  0.363305    A        A  2.47\n",
       "944    0.347927  0.277293  0.374780    H        H  2.74\n",
       "946    0.335222  0.282084  0.382694    H        H  2.18\n",
       "948    0.357223  0.287912  0.354866    A        A  3.03\n",
       "949    0.342488  0.293617  0.363896    H        A -1.00\n",
       "950    0.325609  0.281218  0.393173    H        H  2.07\n",
       "951    0.336820  0.273476  0.389703    H        D -1.00\n",
       "953    0.308765  0.301262  0.389972    H        H  2.09\n",
       "958    0.349963  0.302718  0.347319    A        H -1.00\n",
       "959    0.366968  0.288689  0.344343    A        A  2.68\n",
       "961    0.320126  0.292911  0.386963    H        D -1.00\n",
       "962    0.327908  0.281611  0.390481    H        H  2.39\n",
       "963    0.333882  0.279399  0.386719    H        D -1.00\n",
       "964    0.335470  0.280222  0.384308    H        A -1.00\n",
       "965    0.301335  0.300020  0.398645    H        H  2.42\n",
       "966    0.329695  0.286546  0.383758    H        H  2.39\n",
       "967    0.344619  0.295404  0.359977    H        A -1.00\n",
       "970    0.345661  0.286974  0.367365    H        A -1.00\n",
       "973    0.321394  0.288051  0.390555    H        D -1.00\n",
       "975    0.327000  0.313984  0.359016    H        D -1.00\n",
       "978    0.335075  0.281366  0.383559    H        A -1.00\n",
       "979    0.328245  0.316623  0.355132    H        D -1.00\n",
       "981    0.309847  0.316320  0.373832    H        D -1.00\n",
       "982    0.329982  0.303729  0.366289    H        D -1.00\n",
       "...         ...       ...       ...  ...      ...   ...\n",
       "18879  0.321889  0.278412  0.399699    H        H  2.54\n",
       "18882  0.333706  0.300922  0.365372    H        A -1.00\n",
       "18884  0.322924  0.292039  0.385037    H        D -1.00\n",
       "18887  0.347515  0.283514  0.368971    H        A -1.00\n",
       "18898  0.334485  0.277964  0.387551    H        H  2.33\n",
       "18902  0.329269  0.288626  0.382105    H        A -1.00\n",
       "18905  0.358513  0.303612  0.337874    A        H -1.00\n",
       "18908  0.355938  0.275493  0.368569    H        A -1.00\n",
       "18910  0.357322  0.289293  0.353385    A        A  2.29\n",
       "18913  0.331133  0.290092  0.378775    H        H  2.57\n",
       "18914  0.369310  0.278625  0.352065    A        H -1.00\n",
       "18922  0.324595  0.310556  0.364849    H        A -1.00\n",
       "18926  0.386219  0.284468  0.329313    A        A  2.26\n",
       "18927  0.349513  0.297953  0.352534    H        D -1.00\n",
       "18929  0.304616  0.284809  0.410575    H        A -1.00\n",
       "18931  0.336952  0.281160  0.381887    H        H  2.19\n",
       "18932  0.335538  0.280503  0.383960    H        A -1.00\n",
       "18933  0.374739  0.287818  0.337442    A        D -1.00\n",
       "18937  0.356608  0.278110  0.365282    H        H  3.42\n",
       "18938  0.336223  0.303605  0.360172    H        A -1.00\n",
       "18939  0.305070  0.299989  0.394941    H        D -1.00\n",
       "18940  0.323360  0.308277  0.368363    H        D -1.00\n",
       "18941  0.331217  0.285813  0.382970    H        H  2.46\n",
       "18942  0.332427  0.281783  0.385790    H        A -1.00\n",
       "18943  0.324032  0.294781  0.381186    H        D -1.00\n",
       "18948  0.343021  0.292092  0.364887    H        A -1.00\n",
       "18949  0.321065  0.273736  0.405199    H        A -1.00\n",
       "18951  0.326753  0.291592  0.381656    H        H  2.25\n",
       "18954  0.350604  0.293739  0.355657    H        A -1.00\n",
       "18957  0.337393  0.305763  0.356844    H        H  2.80\n",
       "\n",
       "[6737 rows x 6 columns]"
      ]
     },
     "execution_count": 34,
     "metadata": {},
     "output_type": "execute_result"
    }
   ],
   "source": [
    "df[['probs_A','probs_D','probs_H','pred', 'INFO_FTR', 'WIN']]"
   ]
  },
  {
   "cell_type": "code",
   "execution_count": 35,
   "metadata": {},
   "outputs": [
    {
     "data": {
      "text/plain": [
       "1.0684070983686769"
      ]
     },
     "execution_count": 35,
     "metadata": {},
     "output_type": "execute_result"
    }
   ],
   "source": [
    "# Compute cross-entropy score\n",
    "log_loss(y, X_probs)"
   ]
  },
  {
   "cell_type": "code",
   "execution_count": 36,
   "metadata": {},
   "outputs": [
    {
     "name": "stdout",
     "output_type": "stream",
     "text": [
      "             precision    recall  f1-score   support\n",
      "\n",
      "          A       0.57      0.26      0.36      2254\n",
      "          D       1.00      0.00      0.01      1957\n",
      "          H       0.41      0.93      0.57      2526\n",
      "\n",
      "avg / total       0.64      0.44      0.34      6737\n",
      "\n"
     ]
    }
   ],
   "source": [
    "# Compute precision, recall, F-measure and support\n",
    "from sklearn.metrics import classification_report\n",
    "print(classification_report(y, X_pred, target_names=['A', 'D', 'H']))"
   ]
  },
  {
   "cell_type": "code",
   "execution_count": 37,
   "metadata": {},
   "outputs": [
    {
     "data": {
      "text/plain": [
       "(6737, 198)"
      ]
     },
     "execution_count": 37,
     "metadata": {},
     "output_type": "execute_result"
    }
   ],
   "source": [
    "df_bet_all_seasons.shape"
   ]
  },
  {
   "cell_type": "code",
   "execution_count": 38,
   "metadata": {},
   "outputs": [
    {
     "data": {
      "text/plain": [
       "None"
      ]
     },
     "metadata": {},
     "output_type": "display_data"
    },
    {
     "data": {
      "text/plain": [
       "H    37.494434\n",
       "A    33.457028\n",
       "D    29.048538\n",
       "Name: INFO_FTR, dtype: float64"
      ]
     },
     "metadata": {},
     "output_type": "display_data"
    }
   ],
   "source": [
    "# What will be the real result of games I bet on\n",
    "display(plt.show(), 100. * df_bet_all_seasons.INFO_FTR.value_counts() / len(df_bet_all_seasons.INFO_FTR))"
   ]
  },
  {
   "cell_type": "code",
   "execution_count": 39,
   "metadata": {},
   "outputs": [
    {
     "data": {
      "text/plain": [
       "0.5242778684874579"
      ]
     },
     "execution_count": 39,
     "metadata": {},
     "output_type": "execute_result"
    }
   ],
   "source": [
    "df_bet_all_seasons.WIN.mean()"
   ]
  },
  {
   "cell_type": "markdown",
   "metadata": {},
   "source": [
    "# SEASON 2016/2017 TEST"
   ]
  },
  {
   "cell_type": "code",
   "execution_count": 40,
   "metadata": {},
   "outputs": [],
   "source": [
    "# Apply on current season that is not use for train and test set\n",
    "X_pred_current_season = clf.predict(X_current_season)\n",
    "X_prob_current_season = clf.predict_proba(X_current_season)\n",
    "\n",
    "df_current_season['probs_A'] = X_prob_current_season[:,0]\n",
    "df_current_season['probs_D'] = X_prob_current_season[:,1]\n",
    "df_current_season['probs_H'] = X_prob_current_season[:,2]\n",
    "df_current_season['probs'] = df_current_season[['probs_A','probs_D','probs_H']].max(axis=1)\n",
    "\n",
    "df_current_season['pred'] = X_pred_current_season\n",
    "\n",
    "df_current_season['WIN'] = -1\n",
    "df_current_season.loc[df_current_season.INFO_FTR == df_current_season.pred, 'WIN'] = df_current_season['INFO_WIN']-1\n",
    "\n",
    "df_current_season['WIN_P'] = -1\n",
    "df_current_season.loc[df_current_season.INFO_FTR == df_current_season.pred, 'WIN_P'] = df_current_season['INFO_WIN_P']-1\n",
    "\n",
    "df_current_season['INFO_ODD'] = 0\n",
    "df_current_season.loc[df_current_season.pred == 'A', 'INFO_ODD_BET'] = df_current_season[odd_A]\n",
    "df_current_season.loc[df_current_season.pred == 'D', 'INFO_ODD_BET'] = df_current_season[odd_D]\n",
    "df_current_season.loc[df_current_season.pred == 'H', 'INFO_ODD_BET'] = df_current_season[odd_H]\n",
    "\n",
    "#TODO\n",
    "# test prob_less_bet <= 0.2 et si ceux que je predisais H je les mettais A en fait !\n",
    "\n",
    "df_current_season['prob_less_bet'] = 0\n",
    "df_current_season.loc[df_current_season.pred == 'A', 'prob_less_bet'] = df_current_season['probs'] - df_current_season[odd_A].apply(lambda x: 1/x)\n",
    "df_current_season.loc[df_current_season.pred == 'D', 'prob_less_bet'] = df_current_season['probs'] - df_current_season[odd_D].apply(lambda x: 1/x)\n",
    "df_current_season.loc[df_current_season.pred == 'H', 'prob_less_bet'] = df_current_season['probs'] - df_current_season[odd_H].apply(lambda x: 1/x)"
   ]
  },
  {
   "cell_type": "code",
   "execution_count": 41,
   "metadata": {},
   "outputs": [
    {
     "data": {
      "text/plain": [
       "(2204,)"
      ]
     },
     "execution_count": 41,
     "metadata": {},
     "output_type": "execute_result"
    }
   ],
   "source": [
    "# How many matches was play\n",
    "X_pred_current_season.shape"
   ]
  },
  {
   "cell_type": "code",
   "execution_count": 42,
   "metadata": {},
   "outputs": [
    {
     "name": "stdout",
     "output_type": "stream",
     "text": [
      "             precision    recall  f1-score   support\n",
      "\n",
      "          A       0.45      0.29      0.35       653\n",
      "          D       0.00      0.00      0.00       581\n",
      "          H       0.47      0.87      0.61       970\n",
      "\n",
      "avg / total       0.34      0.47      0.37      2204\n",
      "\n"
     ]
    },
    {
     "name": "stderr",
     "output_type": "stream",
     "text": [
      "/anaconda/lib/python2.7/site-packages/sklearn/metrics/classification.py:1113: UndefinedMetricWarning: Precision and F-score are ill-defined and being set to 0.0 in labels with no predicted samples.\n",
      "  'precision', 'predicted', average, warn_for)\n"
     ]
    }
   ],
   "source": [
    "# Score for this current season\n",
    "from sklearn.metrics import classification_report\n",
    "print(classification_report(y_current_season, X_pred_current_season, target_names=['A', 'D', 'H']))"
   ]
  },
  {
   "cell_type": "code",
   "execution_count": 55,
   "metadata": {
    "collapsed": true
   },
   "outputs": [],
   "source": [
    "# Remove games I didn't bet on\n",
    "df_bet_current_season = df_current_season\n",
    "#df_bet_current_season = df_bet_current_season.drop(df_bet_current_season[df_bet_current_season.A_MEANS_FIVE_FTHG < 1].index)\n",
    "#df_bet_current_season = df_bet_current_season.drop(df_bet_current_season[df_bet_current_season.A_MEANS_FIVE_FTHG > 3].index)\n",
    "#df_bet_current_season = df_bet_current_season.drop(df_bet_current_season[df_bet_current_season.A_MEANS_FIVE_FTAG < 1].index)\n",
    "#df_bet_current_season = df_bet_current_season.drop(df_bet_current_season[df_bet_current_season.A_MEANS_FIVE_FTAG > 3].index)\n",
    "#df_bet_current_season = df_bet_current_season.drop(df_bet_current_season[df_bet_current_season.probs <= 0.4].index)\n",
    "#df_bet_current_season = df_bet_current_season.drop(df_bet_current_season[df_bet_current_season.pred != 'A'].index)\n",
    "#df_bet_current_season = df_bet_current_season.drop(df_bet_current_season[df_bet_current_season.pred == 'D'].index)\n",
    "#df_bet_current_season = df_bet_current_season.drop(df_bet_current_season[df_bet_current_season.prob_less_bet <= 0].index)\n",
    "#df_bet_current_season = df_bet_current_season[df_bet_current_season.prob_less_bet > 0]\n",
    "#df_bet_current_season = df_bet_current_season[df_bet_current_season['INFO_ODD_BET'] > 2]\n",
    "#df_bet_current_season = df_bet_current_season[df_bet_current_season['INFO_ODD_BET'] < 4]"
   ]
  },
  {
   "cell_type": "code",
   "execution_count": 56,
   "metadata": {},
   "outputs": [
    {
     "data": {
      "text/plain": [
       "(2204, 202)"
      ]
     },
     "execution_count": 56,
     "metadata": {},
     "output_type": "execute_result"
    }
   ],
   "source": [
    "# How many bet I did\n",
    "df_bet_current_season.shape"
   ]
  },
  {
   "cell_type": "code",
   "execution_count": 57,
   "metadata": {},
   "outputs": [
    {
     "data": {
      "text/plain": [
       "None"
      ]
     },
     "metadata": {},
     "output_type": "display_data"
    },
    {
     "data": {
      "text/plain": [
       "H    44.010889\n",
       "A    29.627949\n",
       "D    26.361162\n",
       "Name: INFO_FTR, dtype: float64"
      ]
     },
     "metadata": {},
     "output_type": "display_data"
    }
   ],
   "source": [
    "# What will be the real result of games I bet on\n",
    "display(plt.show(), 100. * df_bet_current_season.INFO_FTR.value_counts() / len(df_bet_current_season.INFO_FTR))"
   ]
  },
  {
   "cell_type": "code",
   "execution_count": 58,
   "metadata": {},
   "outputs": [
    {
     "data": {
      "text/plain": [
       "None"
      ]
     },
     "metadata": {},
     "output_type": "display_data"
    },
    {
     "data": {
      "text/plain": [
       "H    80.852995\n",
       "A    19.147005\n",
       "Name: pred, dtype: float64"
      ]
     },
     "metadata": {},
     "output_type": "display_data"
    }
   ],
   "source": [
    "# What will I bet on\n",
    "display(plt.show(), 100. * df_bet_current_season.pred.value_counts() / len(df_bet_current_season.pred))"
   ]
  },
  {
   "cell_type": "code",
   "execution_count": 59,
   "metadata": {},
   "outputs": [
    {
     "data": {
      "text/plain": [
       "1.0738668275905947"
      ]
     },
     "execution_count": 59,
     "metadata": {},
     "output_type": "execute_result"
    }
   ],
   "source": [
    "# Compute cross-entropy score\n",
    "log_loss(y_current_season, X_prob_current_season)"
   ]
  },
  {
   "cell_type": "code",
   "execution_count": 60,
   "metadata": {},
   "outputs": [
    {
     "data": {
      "text/plain": [
       "0.3778977012317901"
      ]
     },
     "execution_count": 60,
     "metadata": {},
     "output_type": "execute_result"
    }
   ],
   "source": [
    "df_bet_current_season.probs.mean()"
   ]
  },
  {
   "cell_type": "code",
   "execution_count": 61,
   "metadata": {},
   "outputs": [
    {
     "data": {
      "text/plain": [
       "2.8020689655172384"
      ]
     },
     "execution_count": 61,
     "metadata": {},
     "output_type": "execute_result"
    }
   ],
   "source": [
    "df_bet_current_season.INFO_WIN.mean()"
   ]
  },
  {
   "cell_type": "code",
   "execution_count": 62,
   "metadata": {},
   "outputs": [
    {
     "data": {
      "text/plain": [
       "2.927529518619441"
      ]
     },
     "execution_count": 62,
     "metadata": {},
     "output_type": "execute_result"
    }
   ],
   "source": [
    "df_bet_current_season.INFO_WIN_P.mean()"
   ]
  },
  {
   "cell_type": "code",
   "execution_count": 63,
   "metadata": {},
   "outputs": [
    {
     "data": {
      "text/plain": [
       "-0.019065335753176055"
      ]
     },
     "execution_count": 63,
     "metadata": {},
     "output_type": "execute_result"
    }
   ],
   "source": [
    "# What I win/lost on each match\n",
    "df_bet_current_season.WIN.mean()"
   ]
  },
  {
   "cell_type": "code",
   "execution_count": 64,
   "metadata": {},
   "outputs": [
    {
     "data": {
      "text/plain": [
       "0.009014532243415078"
      ]
     },
     "execution_count": 64,
     "metadata": {},
     "output_type": "execute_result"
    }
   ],
   "source": [
    "df_bet_current_season.WIN_P.mean()"
   ]
  },
  {
   "cell_type": "code",
   "execution_count": 65,
   "metadata": {},
   "outputs": [
    {
     "data": {
      "text/html": [
       "<div>\n",
       "<style>\n",
       "    .dataframe thead tr:only-child th {\n",
       "        text-align: right;\n",
       "    }\n",
       "\n",
       "    .dataframe thead th {\n",
       "        text-align: left;\n",
       "    }\n",
       "\n",
       "    .dataframe tbody tr th {\n",
       "        vertical-align: top;\n",
       "    }\n",
       "</style>\n",
       "<table border=\"1\" class=\"dataframe\">\n",
       "  <thead>\n",
       "    <tr style=\"text-align: right;\">\n",
       "      <th></th>\n",
       "      <th>INFO_Date</th>\n",
       "      <th>probs_A</th>\n",
       "      <th>probs_D</th>\n",
       "      <th>probs_H</th>\n",
       "      <th>probs</th>\n",
       "      <th>prob_less_bet</th>\n",
       "      <th>pred</th>\n",
       "      <th>INFO_FTR</th>\n",
       "      <th>WIN</th>\n",
       "    </tr>\n",
       "  </thead>\n",
       "  <tbody>\n",
       "    <tr>\n",
       "      <th>19913</th>\n",
       "      <td>2015-11-01</td>\n",
       "      <td>0.308351</td>\n",
       "      <td>0.299308</td>\n",
       "      <td>0.392341</td>\n",
       "      <td>0.392341</td>\n",
       "      <td>-0.115273</td>\n",
       "      <td>H</td>\n",
       "      <td>A</td>\n",
       "      <td>-1.00</td>\n",
       "    </tr>\n",
       "    <tr>\n",
       "      <th>19914</th>\n",
       "      <td>2015-11-01</td>\n",
       "      <td>0.309569</td>\n",
       "      <td>0.290268</td>\n",
       "      <td>0.400163</td>\n",
       "      <td>0.400163</td>\n",
       "      <td>-0.205898</td>\n",
       "      <td>H</td>\n",
       "      <td>H</td>\n",
       "      <td>0.65</td>\n",
       "    </tr>\n",
       "    <tr>\n",
       "      <th>19915</th>\n",
       "      <td>2015-11-01</td>\n",
       "      <td>0.332525</td>\n",
       "      <td>0.297396</td>\n",
       "      <td>0.370080</td>\n",
       "      <td>0.370080</td>\n",
       "      <td>-0.301061</td>\n",
       "      <td>H</td>\n",
       "      <td>H</td>\n",
       "      <td>0.49</td>\n",
       "    </tr>\n",
       "    <tr>\n",
       "      <th>19916</th>\n",
       "      <td>2015-11-01</td>\n",
       "      <td>0.361281</td>\n",
       "      <td>0.260923</td>\n",
       "      <td>0.377796</td>\n",
       "      <td>0.377796</td>\n",
       "      <td>-0.271555</td>\n",
       "      <td>H</td>\n",
       "      <td>H</td>\n",
       "      <td>0.54</td>\n",
       "    </tr>\n",
       "    <tr>\n",
       "      <th>19917</th>\n",
       "      <td>2015-11-01</td>\n",
       "      <td>0.331895</td>\n",
       "      <td>0.299345</td>\n",
       "      <td>0.368761</td>\n",
       "      <td>0.368761</td>\n",
       "      <td>-0.256239</td>\n",
       "      <td>H</td>\n",
       "      <td>H</td>\n",
       "      <td>0.60</td>\n",
       "    </tr>\n",
       "    <tr>\n",
       "      <th>19918</th>\n",
       "      <td>2015-11-01</td>\n",
       "      <td>0.348489</td>\n",
       "      <td>0.296784</td>\n",
       "      <td>0.354727</td>\n",
       "      <td>0.354727</td>\n",
       "      <td>0.089475</td>\n",
       "      <td>H</td>\n",
       "      <td>A</td>\n",
       "      <td>-1.00</td>\n",
       "    </tr>\n",
       "    <tr>\n",
       "      <th>19919</th>\n",
       "      <td>2015-11-01</td>\n",
       "      <td>0.349436</td>\n",
       "      <td>0.294408</td>\n",
       "      <td>0.356156</td>\n",
       "      <td>0.356156</td>\n",
       "      <td>-0.074878</td>\n",
       "      <td>H</td>\n",
       "      <td>D</td>\n",
       "      <td>-1.00</td>\n",
       "    </tr>\n",
       "    <tr>\n",
       "      <th>19920</th>\n",
       "      <td>2015-11-01</td>\n",
       "      <td>0.312580</td>\n",
       "      <td>0.284211</td>\n",
       "      <td>0.403209</td>\n",
       "      <td>0.403209</td>\n",
       "      <td>0.051097</td>\n",
       "      <td>H</td>\n",
       "      <td>H</td>\n",
       "      <td>1.84</td>\n",
       "    </tr>\n",
       "    <tr>\n",
       "      <th>19921</th>\n",
       "      <td>2015-11-01</td>\n",
       "      <td>0.341244</td>\n",
       "      <td>0.298493</td>\n",
       "      <td>0.360264</td>\n",
       "      <td>0.360264</td>\n",
       "      <td>-0.082214</td>\n",
       "      <td>H</td>\n",
       "      <td>D</td>\n",
       "      <td>-1.00</td>\n",
       "    </tr>\n",
       "    <tr>\n",
       "      <th>19922</th>\n",
       "      <td>2015-11-01</td>\n",
       "      <td>0.281826</td>\n",
       "      <td>0.277338</td>\n",
       "      <td>0.440835</td>\n",
       "      <td>0.440835</td>\n",
       "      <td>-0.365616</td>\n",
       "      <td>H</td>\n",
       "      <td>H</td>\n",
       "      <td>0.24</td>\n",
       "    </tr>\n",
       "    <tr>\n",
       "      <th>19923</th>\n",
       "      <td>2015-11-01</td>\n",
       "      <td>0.357425</td>\n",
       "      <td>0.284647</td>\n",
       "      <td>0.357928</td>\n",
       "      <td>0.357928</td>\n",
       "      <td>0.129095</td>\n",
       "      <td>H</td>\n",
       "      <td>D</td>\n",
       "      <td>-1.00</td>\n",
       "    </tr>\n",
       "    <tr>\n",
       "      <th>19924</th>\n",
       "      <td>2015-11-01</td>\n",
       "      <td>0.322817</td>\n",
       "      <td>0.290927</td>\n",
       "      <td>0.386257</td>\n",
       "      <td>0.386257</td>\n",
       "      <td>-0.111256</td>\n",
       "      <td>H</td>\n",
       "      <td>A</td>\n",
       "      <td>-1.00</td>\n",
       "    </tr>\n",
       "    <tr>\n",
       "      <th>19925</th>\n",
       "      <td>2015-11-01</td>\n",
       "      <td>0.320655</td>\n",
       "      <td>0.287759</td>\n",
       "      <td>0.391586</td>\n",
       "      <td>0.391586</td>\n",
       "      <td>-0.043196</td>\n",
       "      <td>H</td>\n",
       "      <td>D</td>\n",
       "      <td>-1.00</td>\n",
       "    </tr>\n",
       "    <tr>\n",
       "      <th>19926</th>\n",
       "      <td>2015-11-01</td>\n",
       "      <td>0.327728</td>\n",
       "      <td>0.295908</td>\n",
       "      <td>0.376364</td>\n",
       "      <td>0.376364</td>\n",
       "      <td>0.058904</td>\n",
       "      <td>H</td>\n",
       "      <td>A</td>\n",
       "      <td>-1.00</td>\n",
       "    </tr>\n",
       "    <tr>\n",
       "      <th>19927</th>\n",
       "      <td>2015-11-01</td>\n",
       "      <td>0.364850</td>\n",
       "      <td>0.283768</td>\n",
       "      <td>0.351382</td>\n",
       "      <td>0.364850</td>\n",
       "      <td>0.073305</td>\n",
       "      <td>A</td>\n",
       "      <td>H</td>\n",
       "      <td>-1.00</td>\n",
       "    </tr>\n",
       "    <tr>\n",
       "      <th>19928</th>\n",
       "      <td>2015-11-01</td>\n",
       "      <td>0.319879</td>\n",
       "      <td>0.291682</td>\n",
       "      <td>0.388438</td>\n",
       "      <td>0.388438</td>\n",
       "      <td>-0.114075</td>\n",
       "      <td>H</td>\n",
       "      <td>D</td>\n",
       "      <td>-1.00</td>\n",
       "    </tr>\n",
       "    <tr>\n",
       "      <th>19929</th>\n",
       "      <td>2015-11-01</td>\n",
       "      <td>0.330802</td>\n",
       "      <td>0.282012</td>\n",
       "      <td>0.387186</td>\n",
       "      <td>0.387186</td>\n",
       "      <td>-0.034755</td>\n",
       "      <td>H</td>\n",
       "      <td>H</td>\n",
       "      <td>1.37</td>\n",
       "    </tr>\n",
       "    <tr>\n",
       "      <th>19930</th>\n",
       "      <td>2015-11-02</td>\n",
       "      <td>0.327207</td>\n",
       "      <td>0.284323</td>\n",
       "      <td>0.388470</td>\n",
       "      <td>0.388470</td>\n",
       "      <td>-0.315755</td>\n",
       "      <td>H</td>\n",
       "      <td>H</td>\n",
       "      <td>0.42</td>\n",
       "    </tr>\n",
       "    <tr>\n",
       "      <th>19931</th>\n",
       "      <td>2015-11-02</td>\n",
       "      <td>0.330592</td>\n",
       "      <td>0.293886</td>\n",
       "      <td>0.375522</td>\n",
       "      <td>0.375522</td>\n",
       "      <td>-0.107570</td>\n",
       "      <td>H</td>\n",
       "      <td>D</td>\n",
       "      <td>-1.00</td>\n",
       "    </tr>\n",
       "    <tr>\n",
       "      <th>19932</th>\n",
       "      <td>2015-11-02</td>\n",
       "      <td>0.343048</td>\n",
       "      <td>0.279132</td>\n",
       "      <td>0.377820</td>\n",
       "      <td>0.377820</td>\n",
       "      <td>-0.062709</td>\n",
       "      <td>H</td>\n",
       "      <td>A</td>\n",
       "      <td>-1.00</td>\n",
       "    </tr>\n",
       "    <tr>\n",
       "      <th>19933</th>\n",
       "      <td>2015-11-03</td>\n",
       "      <td>0.341852</td>\n",
       "      <td>0.303287</td>\n",
       "      <td>0.354861</td>\n",
       "      <td>0.354861</td>\n",
       "      <td>-0.021079</td>\n",
       "      <td>H</td>\n",
       "      <td>D</td>\n",
       "      <td>-1.00</td>\n",
       "    </tr>\n",
       "    <tr>\n",
       "      <th>19934</th>\n",
       "      <td>2015-11-03</td>\n",
       "      <td>0.320888</td>\n",
       "      <td>0.301163</td>\n",
       "      <td>0.377949</td>\n",
       "      <td>0.377949</td>\n",
       "      <td>0.045723</td>\n",
       "      <td>H</td>\n",
       "      <td>A</td>\n",
       "      <td>-1.00</td>\n",
       "    </tr>\n",
       "    <tr>\n",
       "      <th>19935</th>\n",
       "      <td>2015-11-03</td>\n",
       "      <td>0.355835</td>\n",
       "      <td>0.288881</td>\n",
       "      <td>0.355284</td>\n",
       "      <td>0.355835</td>\n",
       "      <td>0.004958</td>\n",
       "      <td>A</td>\n",
       "      <td>H</td>\n",
       "      <td>-1.00</td>\n",
       "    </tr>\n",
       "    <tr>\n",
       "      <th>19936</th>\n",
       "      <td>2015-11-03</td>\n",
       "      <td>0.324642</td>\n",
       "      <td>0.296041</td>\n",
       "      <td>0.379316</td>\n",
       "      <td>0.379316</td>\n",
       "      <td>-0.146999</td>\n",
       "      <td>H</td>\n",
       "      <td>H</td>\n",
       "      <td>0.90</td>\n",
       "    </tr>\n",
       "    <tr>\n",
       "      <th>19937</th>\n",
       "      <td>2015-11-03</td>\n",
       "      <td>0.317398</td>\n",
       "      <td>0.281437</td>\n",
       "      <td>0.401165</td>\n",
       "      <td>0.401165</td>\n",
       "      <td>-0.212332</td>\n",
       "      <td>H</td>\n",
       "      <td>H</td>\n",
       "      <td>0.63</td>\n",
       "    </tr>\n",
       "    <tr>\n",
       "      <th>19938</th>\n",
       "      <td>2015-11-03</td>\n",
       "      <td>0.329358</td>\n",
       "      <td>0.292580</td>\n",
       "      <td>0.378061</td>\n",
       "      <td>0.378061</td>\n",
       "      <td>-0.162479</td>\n",
       "      <td>H</td>\n",
       "      <td>H</td>\n",
       "      <td>0.85</td>\n",
       "    </tr>\n",
       "    <tr>\n",
       "      <th>19939</th>\n",
       "      <td>2015-11-03</td>\n",
       "      <td>0.339491</td>\n",
       "      <td>0.304172</td>\n",
       "      <td>0.356337</td>\n",
       "      <td>0.356337</td>\n",
       "      <td>-0.056886</td>\n",
       "      <td>H</td>\n",
       "      <td>H</td>\n",
       "      <td>1.42</td>\n",
       "    </tr>\n",
       "    <tr>\n",
       "      <th>19940</th>\n",
       "      <td>2015-11-03</td>\n",
       "      <td>0.317046</td>\n",
       "      <td>0.287004</td>\n",
       "      <td>0.395950</td>\n",
       "      <td>0.395950</td>\n",
       "      <td>-0.333977</td>\n",
       "      <td>H</td>\n",
       "      <td>H</td>\n",
       "      <td>0.37</td>\n",
       "    </tr>\n",
       "    <tr>\n",
       "      <th>19941</th>\n",
       "      <td>2015-11-03</td>\n",
       "      <td>0.327785</td>\n",
       "      <td>0.282271</td>\n",
       "      <td>0.389943</td>\n",
       "      <td>0.389943</td>\n",
       "      <td>-0.083990</td>\n",
       "      <td>H</td>\n",
       "      <td>H</td>\n",
       "      <td>1.11</td>\n",
       "    </tr>\n",
       "    <tr>\n",
       "      <th>19942</th>\n",
       "      <td>2015-11-03</td>\n",
       "      <td>0.335150</td>\n",
       "      <td>0.307269</td>\n",
       "      <td>0.357581</td>\n",
       "      <td>0.357581</td>\n",
       "      <td>-0.096964</td>\n",
       "      <td>H</td>\n",
       "      <td>H</td>\n",
       "      <td>1.20</td>\n",
       "    </tr>\n",
       "    <tr>\n",
       "      <th>...</th>\n",
       "      <td>...</td>\n",
       "      <td>...</td>\n",
       "      <td>...</td>\n",
       "      <td>...</td>\n",
       "      <td>...</td>\n",
       "      <td>...</td>\n",
       "      <td>...</td>\n",
       "      <td>...</td>\n",
       "      <td>...</td>\n",
       "    </tr>\n",
       "    <tr>\n",
       "      <th>22087</th>\n",
       "      <td>2016-05-14</td>\n",
       "      <td>0.334463</td>\n",
       "      <td>0.300326</td>\n",
       "      <td>0.365211</td>\n",
       "      <td>0.365211</td>\n",
       "      <td>-0.184240</td>\n",
       "      <td>H</td>\n",
       "      <td>H</td>\n",
       "      <td>0.82</td>\n",
       "    </tr>\n",
       "    <tr>\n",
       "      <th>22088</th>\n",
       "      <td>2016-05-14</td>\n",
       "      <td>0.387198</td>\n",
       "      <td>0.294164</td>\n",
       "      <td>0.318638</td>\n",
       "      <td>0.387198</td>\n",
       "      <td>-0.530233</td>\n",
       "      <td>A</td>\n",
       "      <td>A</td>\n",
       "      <td>0.09</td>\n",
       "    </tr>\n",
       "    <tr>\n",
       "      <th>22089</th>\n",
       "      <td>2016-05-14</td>\n",
       "      <td>0.353710</td>\n",
       "      <td>0.284104</td>\n",
       "      <td>0.362186</td>\n",
       "      <td>0.362186</td>\n",
       "      <td>0.281280</td>\n",
       "      <td>H</td>\n",
       "      <td>A</td>\n",
       "      <td>-1.00</td>\n",
       "    </tr>\n",
       "    <tr>\n",
       "      <th>22090</th>\n",
       "      <td>2016-05-14</td>\n",
       "      <td>0.345608</td>\n",
       "      <td>0.282742</td>\n",
       "      <td>0.371650</td>\n",
       "      <td>0.371650</td>\n",
       "      <td>-0.111442</td>\n",
       "      <td>H</td>\n",
       "      <td>H</td>\n",
       "      <td>1.07</td>\n",
       "    </tr>\n",
       "    <tr>\n",
       "      <th>22091</th>\n",
       "      <td>2016-05-14</td>\n",
       "      <td>0.363474</td>\n",
       "      <td>0.286687</td>\n",
       "      <td>0.349839</td>\n",
       "      <td>0.363474</td>\n",
       "      <td>-0.011058</td>\n",
       "      <td>A</td>\n",
       "      <td>A</td>\n",
       "      <td>1.67</td>\n",
       "    </tr>\n",
       "    <tr>\n",
       "      <th>22092</th>\n",
       "      <td>2016-05-14</td>\n",
       "      <td>0.325996</td>\n",
       "      <td>0.294334</td>\n",
       "      <td>0.379670</td>\n",
       "      <td>0.379670</td>\n",
       "      <td>-0.045862</td>\n",
       "      <td>H</td>\n",
       "      <td>D</td>\n",
       "      <td>-1.00</td>\n",
       "    </tr>\n",
       "    <tr>\n",
       "      <th>22093</th>\n",
       "      <td>2016-05-15</td>\n",
       "      <td>0.294966</td>\n",
       "      <td>0.285315</td>\n",
       "      <td>0.419719</td>\n",
       "      <td>0.419719</td>\n",
       "      <td>-0.449846</td>\n",
       "      <td>H</td>\n",
       "      <td>H</td>\n",
       "      <td>0.15</td>\n",
       "    </tr>\n",
       "    <tr>\n",
       "      <th>22094</th>\n",
       "      <td>2016-05-15</td>\n",
       "      <td>0.324834</td>\n",
       "      <td>0.294854</td>\n",
       "      <td>0.380312</td>\n",
       "      <td>0.380312</td>\n",
       "      <td>-0.058284</td>\n",
       "      <td>H</td>\n",
       "      <td>D</td>\n",
       "      <td>-1.00</td>\n",
       "    </tr>\n",
       "    <tr>\n",
       "      <th>22095</th>\n",
       "      <td>2016-05-15</td>\n",
       "      <td>0.346132</td>\n",
       "      <td>0.286353</td>\n",
       "      <td>0.367515</td>\n",
       "      <td>0.367515</td>\n",
       "      <td>-0.203914</td>\n",
       "      <td>H</td>\n",
       "      <td>H</td>\n",
       "      <td>0.75</td>\n",
       "    </tr>\n",
       "    <tr>\n",
       "      <th>22096</th>\n",
       "      <td>2016-05-15</td>\n",
       "      <td>0.342918</td>\n",
       "      <td>0.292960</td>\n",
       "      <td>0.364121</td>\n",
       "      <td>0.364121</td>\n",
       "      <td>0.135811</td>\n",
       "      <td>H</td>\n",
       "      <td>H</td>\n",
       "      <td>3.38</td>\n",
       "    </tr>\n",
       "    <tr>\n",
       "      <th>22097</th>\n",
       "      <td>2016-05-15</td>\n",
       "      <td>0.329192</td>\n",
       "      <td>0.289415</td>\n",
       "      <td>0.381393</td>\n",
       "      <td>0.381393</td>\n",
       "      <td>-0.370487</td>\n",
       "      <td>H</td>\n",
       "      <td>H</td>\n",
       "      <td>0.33</td>\n",
       "    </tr>\n",
       "    <tr>\n",
       "      <th>22098</th>\n",
       "      <td>2016-05-15</td>\n",
       "      <td>0.344595</td>\n",
       "      <td>0.302753</td>\n",
       "      <td>0.352652</td>\n",
       "      <td>0.352652</td>\n",
       "      <td>0.055916</td>\n",
       "      <td>H</td>\n",
       "      <td>H</td>\n",
       "      <td>2.37</td>\n",
       "    </tr>\n",
       "    <tr>\n",
       "      <th>22099</th>\n",
       "      <td>2016-05-15</td>\n",
       "      <td>0.334520</td>\n",
       "      <td>0.304002</td>\n",
       "      <td>0.361478</td>\n",
       "      <td>0.361478</td>\n",
       "      <td>0.195915</td>\n",
       "      <td>H</td>\n",
       "      <td>D</td>\n",
       "      <td>-1.00</td>\n",
       "    </tr>\n",
       "    <tr>\n",
       "      <th>22100</th>\n",
       "      <td>2016-05-15</td>\n",
       "      <td>0.323058</td>\n",
       "      <td>0.298565</td>\n",
       "      <td>0.378377</td>\n",
       "      <td>0.378377</td>\n",
       "      <td>-0.116673</td>\n",
       "      <td>H</td>\n",
       "      <td>D</td>\n",
       "      <td>-1.00</td>\n",
       "    </tr>\n",
       "    <tr>\n",
       "      <th>22101</th>\n",
       "      <td>2016-05-15</td>\n",
       "      <td>0.346106</td>\n",
       "      <td>0.291895</td>\n",
       "      <td>0.362000</td>\n",
       "      <td>0.362000</td>\n",
       "      <td>-0.058168</td>\n",
       "      <td>H</td>\n",
       "      <td>D</td>\n",
       "      <td>-1.00</td>\n",
       "    </tr>\n",
       "    <tr>\n",
       "      <th>22102</th>\n",
       "      <td>2016-05-15</td>\n",
       "      <td>0.332471</td>\n",
       "      <td>0.290332</td>\n",
       "      <td>0.377197</td>\n",
       "      <td>0.377197</td>\n",
       "      <td>-0.094501</td>\n",
       "      <td>H</td>\n",
       "      <td>D</td>\n",
       "      <td>-1.00</td>\n",
       "    </tr>\n",
       "    <tr>\n",
       "      <th>22103</th>\n",
       "      <td>2016-05-15</td>\n",
       "      <td>0.345192</td>\n",
       "      <td>0.296334</td>\n",
       "      <td>0.358473</td>\n",
       "      <td>0.358473</td>\n",
       "      <td>-0.036784</td>\n",
       "      <td>H</td>\n",
       "      <td>H</td>\n",
       "      <td>1.53</td>\n",
       "    </tr>\n",
       "    <tr>\n",
       "      <th>22104</th>\n",
       "      <td>2016-05-15</td>\n",
       "      <td>0.341141</td>\n",
       "      <td>0.273474</td>\n",
       "      <td>0.385385</td>\n",
       "      <td>0.385385</td>\n",
       "      <td>-0.143715</td>\n",
       "      <td>H</td>\n",
       "      <td>A</td>\n",
       "      <td>-1.00</td>\n",
       "    </tr>\n",
       "    <tr>\n",
       "      <th>22105</th>\n",
       "      <td>2016-05-15</td>\n",
       "      <td>0.378368</td>\n",
       "      <td>0.274140</td>\n",
       "      <td>0.347492</td>\n",
       "      <td>0.378368</td>\n",
       "      <td>0.068771</td>\n",
       "      <td>A</td>\n",
       "      <td>A</td>\n",
       "      <td>2.23</td>\n",
       "    </tr>\n",
       "    <tr>\n",
       "      <th>22106</th>\n",
       "      <td>2016-05-15</td>\n",
       "      <td>0.351488</td>\n",
       "      <td>0.305495</td>\n",
       "      <td>0.343017</td>\n",
       "      <td>0.351488</td>\n",
       "      <td>0.273909</td>\n",
       "      <td>A</td>\n",
       "      <td>H</td>\n",
       "      <td>-1.00</td>\n",
       "    </tr>\n",
       "    <tr>\n",
       "      <th>22107</th>\n",
       "      <td>2016-05-15</td>\n",
       "      <td>0.315213</td>\n",
       "      <td>0.299404</td>\n",
       "      <td>0.385382</td>\n",
       "      <td>0.385382</td>\n",
       "      <td>-0.055146</td>\n",
       "      <td>H</td>\n",
       "      <td>A</td>\n",
       "      <td>-1.00</td>\n",
       "    </tr>\n",
       "    <tr>\n",
       "      <th>22108</th>\n",
       "      <td>2016-05-15</td>\n",
       "      <td>0.321560</td>\n",
       "      <td>0.300313</td>\n",
       "      <td>0.378128</td>\n",
       "      <td>0.378128</td>\n",
       "      <td>0.169359</td>\n",
       "      <td>H</td>\n",
       "      <td>H</td>\n",
       "      <td>3.79</td>\n",
       "    </tr>\n",
       "    <tr>\n",
       "      <th>22109</th>\n",
       "      <td>2016-05-15</td>\n",
       "      <td>0.348865</td>\n",
       "      <td>0.295873</td>\n",
       "      <td>0.355262</td>\n",
       "      <td>0.355262</td>\n",
       "      <td>-0.144738</td>\n",
       "      <td>H</td>\n",
       "      <td>H</td>\n",
       "      <td>1.00</td>\n",
       "    </tr>\n",
       "    <tr>\n",
       "      <th>22110</th>\n",
       "      <td>2016-05-15</td>\n",
       "      <td>0.309372</td>\n",
       "      <td>0.297557</td>\n",
       "      <td>0.393071</td>\n",
       "      <td>0.393071</td>\n",
       "      <td>-0.156380</td>\n",
       "      <td>H</td>\n",
       "      <td>H</td>\n",
       "      <td>0.82</td>\n",
       "    </tr>\n",
       "    <tr>\n",
       "      <th>22111</th>\n",
       "      <td>2016-05-15</td>\n",
       "      <td>0.339018</td>\n",
       "      <td>0.297258</td>\n",
       "      <td>0.363725</td>\n",
       "      <td>0.363725</td>\n",
       "      <td>-0.325931</td>\n",
       "      <td>H</td>\n",
       "      <td>H</td>\n",
       "      <td>0.45</td>\n",
       "    </tr>\n",
       "    <tr>\n",
       "      <th>22112</th>\n",
       "      <td>2016-05-15</td>\n",
       "      <td>0.318664</td>\n",
       "      <td>0.290267</td>\n",
       "      <td>0.391069</td>\n",
       "      <td>0.391069</td>\n",
       "      <td>-0.360810</td>\n",
       "      <td>H</td>\n",
       "      <td>H</td>\n",
       "      <td>0.33</td>\n",
       "    </tr>\n",
       "    <tr>\n",
       "      <th>22113</th>\n",
       "      <td>2016-05-15</td>\n",
       "      <td>0.306005</td>\n",
       "      <td>0.299288</td>\n",
       "      <td>0.394707</td>\n",
       "      <td>0.394707</td>\n",
       "      <td>-0.226411</td>\n",
       "      <td>H</td>\n",
       "      <td>A</td>\n",
       "      <td>-1.00</td>\n",
       "    </tr>\n",
       "    <tr>\n",
       "      <th>22114</th>\n",
       "      <td>2016-05-15</td>\n",
       "      <td>0.356103</td>\n",
       "      <td>0.287353</td>\n",
       "      <td>0.356544</td>\n",
       "      <td>0.356544</td>\n",
       "      <td>-0.463128</td>\n",
       "      <td>H</td>\n",
       "      <td>H</td>\n",
       "      <td>0.22</td>\n",
       "    </tr>\n",
       "    <tr>\n",
       "      <th>22115</th>\n",
       "      <td>2016-05-15</td>\n",
       "      <td>0.345473</td>\n",
       "      <td>0.294265</td>\n",
       "      <td>0.360262</td>\n",
       "      <td>0.360262</td>\n",
       "      <td>-0.155202</td>\n",
       "      <td>H</td>\n",
       "      <td>D</td>\n",
       "      <td>-1.00</td>\n",
       "    </tr>\n",
       "    <tr>\n",
       "      <th>22116</th>\n",
       "      <td>2016-05-17</td>\n",
       "      <td>0.341626</td>\n",
       "      <td>0.285294</td>\n",
       "      <td>0.373080</td>\n",
       "      <td>0.373080</td>\n",
       "      <td>-0.229330</td>\n",
       "      <td>H</td>\n",
       "      <td>H</td>\n",
       "      <td>0.66</td>\n",
       "    </tr>\n",
       "  </tbody>\n",
       "</table>\n",
       "<p>2204 rows × 9 columns</p>\n",
       "</div>"
      ],
      "text/plain": [
       "       INFO_Date   probs_A   probs_D   probs_H     probs  prob_less_bet pred  \\\n",
       "19913 2015-11-01  0.308351  0.299308  0.392341  0.392341      -0.115273    H   \n",
       "19914 2015-11-01  0.309569  0.290268  0.400163  0.400163      -0.205898    H   \n",
       "19915 2015-11-01  0.332525  0.297396  0.370080  0.370080      -0.301061    H   \n",
       "19916 2015-11-01  0.361281  0.260923  0.377796  0.377796      -0.271555    H   \n",
       "19917 2015-11-01  0.331895  0.299345  0.368761  0.368761      -0.256239    H   \n",
       "19918 2015-11-01  0.348489  0.296784  0.354727  0.354727       0.089475    H   \n",
       "19919 2015-11-01  0.349436  0.294408  0.356156  0.356156      -0.074878    H   \n",
       "19920 2015-11-01  0.312580  0.284211  0.403209  0.403209       0.051097    H   \n",
       "19921 2015-11-01  0.341244  0.298493  0.360264  0.360264      -0.082214    H   \n",
       "19922 2015-11-01  0.281826  0.277338  0.440835  0.440835      -0.365616    H   \n",
       "19923 2015-11-01  0.357425  0.284647  0.357928  0.357928       0.129095    H   \n",
       "19924 2015-11-01  0.322817  0.290927  0.386257  0.386257      -0.111256    H   \n",
       "19925 2015-11-01  0.320655  0.287759  0.391586  0.391586      -0.043196    H   \n",
       "19926 2015-11-01  0.327728  0.295908  0.376364  0.376364       0.058904    H   \n",
       "19927 2015-11-01  0.364850  0.283768  0.351382  0.364850       0.073305    A   \n",
       "19928 2015-11-01  0.319879  0.291682  0.388438  0.388438      -0.114075    H   \n",
       "19929 2015-11-01  0.330802  0.282012  0.387186  0.387186      -0.034755    H   \n",
       "19930 2015-11-02  0.327207  0.284323  0.388470  0.388470      -0.315755    H   \n",
       "19931 2015-11-02  0.330592  0.293886  0.375522  0.375522      -0.107570    H   \n",
       "19932 2015-11-02  0.343048  0.279132  0.377820  0.377820      -0.062709    H   \n",
       "19933 2015-11-03  0.341852  0.303287  0.354861  0.354861      -0.021079    H   \n",
       "19934 2015-11-03  0.320888  0.301163  0.377949  0.377949       0.045723    H   \n",
       "19935 2015-11-03  0.355835  0.288881  0.355284  0.355835       0.004958    A   \n",
       "19936 2015-11-03  0.324642  0.296041  0.379316  0.379316      -0.146999    H   \n",
       "19937 2015-11-03  0.317398  0.281437  0.401165  0.401165      -0.212332    H   \n",
       "19938 2015-11-03  0.329358  0.292580  0.378061  0.378061      -0.162479    H   \n",
       "19939 2015-11-03  0.339491  0.304172  0.356337  0.356337      -0.056886    H   \n",
       "19940 2015-11-03  0.317046  0.287004  0.395950  0.395950      -0.333977    H   \n",
       "19941 2015-11-03  0.327785  0.282271  0.389943  0.389943      -0.083990    H   \n",
       "19942 2015-11-03  0.335150  0.307269  0.357581  0.357581      -0.096964    H   \n",
       "...          ...       ...       ...       ...       ...            ...  ...   \n",
       "22087 2016-05-14  0.334463  0.300326  0.365211  0.365211      -0.184240    H   \n",
       "22088 2016-05-14  0.387198  0.294164  0.318638  0.387198      -0.530233    A   \n",
       "22089 2016-05-14  0.353710  0.284104  0.362186  0.362186       0.281280    H   \n",
       "22090 2016-05-14  0.345608  0.282742  0.371650  0.371650      -0.111442    H   \n",
       "22091 2016-05-14  0.363474  0.286687  0.349839  0.363474      -0.011058    A   \n",
       "22092 2016-05-14  0.325996  0.294334  0.379670  0.379670      -0.045862    H   \n",
       "22093 2016-05-15  0.294966  0.285315  0.419719  0.419719      -0.449846    H   \n",
       "22094 2016-05-15  0.324834  0.294854  0.380312  0.380312      -0.058284    H   \n",
       "22095 2016-05-15  0.346132  0.286353  0.367515  0.367515      -0.203914    H   \n",
       "22096 2016-05-15  0.342918  0.292960  0.364121  0.364121       0.135811    H   \n",
       "22097 2016-05-15  0.329192  0.289415  0.381393  0.381393      -0.370487    H   \n",
       "22098 2016-05-15  0.344595  0.302753  0.352652  0.352652       0.055916    H   \n",
       "22099 2016-05-15  0.334520  0.304002  0.361478  0.361478       0.195915    H   \n",
       "22100 2016-05-15  0.323058  0.298565  0.378377  0.378377      -0.116673    H   \n",
       "22101 2016-05-15  0.346106  0.291895  0.362000  0.362000      -0.058168    H   \n",
       "22102 2016-05-15  0.332471  0.290332  0.377197  0.377197      -0.094501    H   \n",
       "22103 2016-05-15  0.345192  0.296334  0.358473  0.358473      -0.036784    H   \n",
       "22104 2016-05-15  0.341141  0.273474  0.385385  0.385385      -0.143715    H   \n",
       "22105 2016-05-15  0.378368  0.274140  0.347492  0.378368       0.068771    A   \n",
       "22106 2016-05-15  0.351488  0.305495  0.343017  0.351488       0.273909    A   \n",
       "22107 2016-05-15  0.315213  0.299404  0.385382  0.385382      -0.055146    H   \n",
       "22108 2016-05-15  0.321560  0.300313  0.378128  0.378128       0.169359    H   \n",
       "22109 2016-05-15  0.348865  0.295873  0.355262  0.355262      -0.144738    H   \n",
       "22110 2016-05-15  0.309372  0.297557  0.393071  0.393071      -0.156380    H   \n",
       "22111 2016-05-15  0.339018  0.297258  0.363725  0.363725      -0.325931    H   \n",
       "22112 2016-05-15  0.318664  0.290267  0.391069  0.391069      -0.360810    H   \n",
       "22113 2016-05-15  0.306005  0.299288  0.394707  0.394707      -0.226411    H   \n",
       "22114 2016-05-15  0.356103  0.287353  0.356544  0.356544      -0.463128    H   \n",
       "22115 2016-05-15  0.345473  0.294265  0.360262  0.360262      -0.155202    H   \n",
       "22116 2016-05-17  0.341626  0.285294  0.373080  0.373080      -0.229330    H   \n",
       "\n",
       "      INFO_FTR   WIN  \n",
       "19913        A -1.00  \n",
       "19914        H  0.65  \n",
       "19915        H  0.49  \n",
       "19916        H  0.54  \n",
       "19917        H  0.60  \n",
       "19918        A -1.00  \n",
       "19919        D -1.00  \n",
       "19920        H  1.84  \n",
       "19921        D -1.00  \n",
       "19922        H  0.24  \n",
       "19923        D -1.00  \n",
       "19924        A -1.00  \n",
       "19925        D -1.00  \n",
       "19926        A -1.00  \n",
       "19927        H -1.00  \n",
       "19928        D -1.00  \n",
       "19929        H  1.37  \n",
       "19930        H  0.42  \n",
       "19931        D -1.00  \n",
       "19932        A -1.00  \n",
       "19933        D -1.00  \n",
       "19934        A -1.00  \n",
       "19935        H -1.00  \n",
       "19936        H  0.90  \n",
       "19937        H  0.63  \n",
       "19938        H  0.85  \n",
       "19939        H  1.42  \n",
       "19940        H  0.37  \n",
       "19941        H  1.11  \n",
       "19942        H  1.20  \n",
       "...        ...   ...  \n",
       "22087        H  0.82  \n",
       "22088        A  0.09  \n",
       "22089        A -1.00  \n",
       "22090        H  1.07  \n",
       "22091        A  1.67  \n",
       "22092        D -1.00  \n",
       "22093        H  0.15  \n",
       "22094        D -1.00  \n",
       "22095        H  0.75  \n",
       "22096        H  3.38  \n",
       "22097        H  0.33  \n",
       "22098        H  2.37  \n",
       "22099        D -1.00  \n",
       "22100        D -1.00  \n",
       "22101        D -1.00  \n",
       "22102        D -1.00  \n",
       "22103        H  1.53  \n",
       "22104        A -1.00  \n",
       "22105        A  2.23  \n",
       "22106        H -1.00  \n",
       "22107        A -1.00  \n",
       "22108        H  3.79  \n",
       "22109        H  1.00  \n",
       "22110        H  0.82  \n",
       "22111        H  0.45  \n",
       "22112        H  0.33  \n",
       "22113        A -1.00  \n",
       "22114        H  0.22  \n",
       "22115        D -1.00  \n",
       "22116        H  0.66  \n",
       "\n",
       "[2204 rows x 9 columns]"
      ]
     },
     "execution_count": 65,
     "metadata": {},
     "output_type": "execute_result"
    }
   ],
   "source": [
    "df_bet_current_season[['INFO_Date', 'probs_A','probs_D','probs_H', 'probs', 'prob_less_bet', 'pred', 'INFO_FTR', 'WIN']]"
   ]
  },
  {
   "cell_type": "markdown",
   "metadata": {},
   "source": [
    "# Learning Curve"
   ]
  },
  {
   "cell_type": "code",
   "execution_count": 66,
   "metadata": {},
   "outputs": [
    {
     "data": {
      "text/plain": [
       "Index([u'H_MEANS_FIVE_HF', u'H_MEANS_FIVE_HR', u'H_MEANS_FIVE_HS',\n",
       "       u'H_MEANS_FIVE_HST', u'H_MEANS_FIVE_HTAG', u'H_MEANS_FIVE_HTHG',\n",
       "       u'H_MEANS_FIVE_HTR_A', u'H_MEANS_FIVE_HTR_D', u'H_MEANS_FIVE_HTR_H',\n",
       "       u'H_MEANS_FIVE_HY', u'H_MEANS_THREE_AC', u'H_MEANS_THREE_AF',\n",
       "       u'H_MEANS_THREE_AR', u'H_MEANS_THREE_AS', u'H_MEANS_THREE_AST',\n",
       "       u'H_MEANS_THREE_AY', u'H_MEANS_THREE_FTAG', u'H_MEANS_THREE_FTHG',\n",
       "       u'H_MEANS_THREE_FTR_A', u'H_MEANS_THREE_FTR_D', u'H_MEANS_THREE_FTR_H',\n",
       "       u'H_MEANS_THREE_HC', u'H_MEANS_THREE_HF', u'H_MEANS_THREE_HR',\n",
       "       u'H_MEANS_THREE_HS', u'H_MEANS_THREE_HST', u'H_MEANS_THREE_HTAG',\n",
       "       u'H_MEANS_THREE_HTHG', u'H_MEANS_THREE_HTR_A', u'H_MEANS_THREE_HTR_D',\n",
       "       u'H_MEANS_THREE_HTR_H', u'H_MEANS_THREE_HY', u'H_STD_FIVE_AC',\n",
       "       u'H_STD_FIVE_AF', u'H_STD_FIVE_AR', u'H_STD_FIVE_AS', u'H_STD_FIVE_AST',\n",
       "       u'H_STD_FIVE_AY', u'H_STD_FIVE_FTAG', u'H_STD_FIVE_FTHG',\n",
       "       u'H_STD_FIVE_FTR_A', u'H_STD_FIVE_FTR_D', u'H_STD_FIVE_FTR_H',\n",
       "       u'H_STD_FIVE_HC', u'H_STD_FIVE_HF', u'H_STD_FIVE_HR', u'H_STD_FIVE_HS',\n",
       "       u'H_STD_FIVE_HST', u'H_STD_FIVE_HTAG', u'H_STD_FIVE_HTHG',\n",
       "       u'H_STD_FIVE_HTR_A', u'H_STD_FIVE_HTR_D', u'H_STD_FIVE_HTR_H',\n",
       "       u'H_STD_FIVE_HY', u'H_STD_THREE_AC', u'H_STD_THREE_AF',\n",
       "       u'H_STD_THREE_AR', u'H_STD_THREE_AS', u'H_STD_THREE_AST',\n",
       "       u'H_STD_THREE_AY', u'H_STD_THREE_FTAG', u'H_STD_THREE_FTHG',\n",
       "       u'H_STD_THREE_FTR_A', u'H_STD_THREE_FTR_D', u'H_STD_THREE_FTR_H',\n",
       "       u'H_STD_THREE_HC', u'H_STD_THREE_HF', u'H_STD_THREE_HR',\n",
       "       u'H_STD_THREE_HS', u'H_STD_THREE_HST', u'H_STD_THREE_HTAG',\n",
       "       u'H_STD_THREE_HTHG', u'H_STD_THREE_HTR_A', u'H_STD_THREE_HTR_D',\n",
       "       u'H_STD_THREE_HTR_H', u'H_STD_THREE_HY', u'INFO_AwayTeam',\n",
       "       u'INFO_BbAvA', u'INFO_BbAvD', u'INFO_BbAvH', u'INFO_Date', u'INFO_Div',\n",
       "       u'INFO_FTAG', u'INFO_FTHG', u'INFO_FTR', u'INFO_HTR', u'INFO_HomeTeam',\n",
       "       u'INFO_PSA', u'INFO_PSD', u'INFO_PSH', u'INFO_WIN', u'INFO_WIN_P',\n",
       "       u'probs_A', u'probs_D', u'probs_H', u'probs', u'pred', u'WIN', u'WIN_P',\n",
       "       u'INFO_ODD'],\n",
       "      dtype='object')"
      ]
     },
     "execution_count": 66,
     "metadata": {},
     "output_type": "execute_result"
    }
   ],
   "source": [
    "df_current_season.columns[100:200]"
   ]
  },
  {
   "cell_type": "code",
   "execution_count": null,
   "metadata": {
    "collapsed": true
   },
   "outputs": [],
   "source": []
  }
 ],
 "metadata": {
  "kernelspec": {
   "display_name": "Python 2",
   "language": "python",
   "name": "python2"
  },
  "language_info": {
   "codemirror_mode": {
    "name": "ipython",
    "version": 2
   },
   "file_extension": ".py",
   "mimetype": "text/x-python",
   "name": "python",
   "nbconvert_exporter": "python",
   "pygments_lexer": "ipython2",
   "version": "2.7.13"
  }
 },
 "nbformat": 4,
 "nbformat_minor": 2
}
