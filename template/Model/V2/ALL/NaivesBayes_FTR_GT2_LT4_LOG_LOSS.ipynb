{
 "cells": [
  {
   "cell_type": "markdown",
   "metadata": {},
   "source": [
    "# Naives Bayes FTR HOME"
   ]
  },
  {
   "cell_type": "code",
   "execution_count": 1,
   "metadata": {
    "collapsed": true
   },
   "outputs": [],
   "source": [
    "# Importing the library\n",
    "import numpy as np # linear algebra\n",
    "import pandas as pd # data processing, CSV file I/O\n",
    "import matplotlib.pyplot as plt # plotting library\n",
    "import seaborn as sns # visualization library based on matplotlib\n",
    "from IPython.display import display # Manage multiple output per cell\n",
    "import datetime"
   ]
  },
  {
   "cell_type": "code",
   "execution_count": 2,
   "metadata": {
    "collapsed": true
   },
   "outputs": [],
   "source": [
    "all_features = [\"A_MEANS_FIVE_AC\",\"A_MEANS_FIVE_AF\",\"A_MEANS_FIVE_AR\",\"A_MEANS_FIVE_AS\",\"A_MEANS_FIVE_AST\",\"A_MEANS_FIVE_AY\",\"A_MEANS_FIVE_FTAG\",\"A_MEANS_FIVE_FTHG\",\"A_MEANS_FIVE_FTR_A\",\"A_MEANS_FIVE_FTR_D\",\"A_MEANS_FIVE_FTR_H\",\"A_MEANS_FIVE_HC\",\"A_MEANS_FIVE_HF\",\"A_MEANS_FIVE_HR\",\"A_MEANS_FIVE_HS\",\"A_MEANS_FIVE_HST\",\"A_MEANS_FIVE_HTAG\",\"A_MEANS_FIVE_HTHG\",\"A_MEANS_FIVE_HTR_A\",\"A_MEANS_FIVE_HTR_D\",\"A_MEANS_FIVE_HTR_H\",\"A_MEANS_FIVE_HY\",\"H_MEANS_FIVE_AC\",\"H_MEANS_FIVE_AF\",\"H_MEANS_FIVE_AR\",\"H_MEANS_FIVE_AS\",\"H_MEANS_FIVE_AST\",\"H_MEANS_FIVE_AY\",\"H_MEANS_FIVE_FTAG\",\"H_MEANS_FIVE_FTHG\",\"H_MEANS_FIVE_FTR_A\",\"H_MEANS_FIVE_FTR_D\",\"H_MEANS_FIVE_FTR_H\",\"H_MEANS_FIVE_HC\",\"H_MEANS_FIVE_HF\",\"H_MEANS_FIVE_HR\",\"H_MEANS_FIVE_HS\",\"H_MEANS_FIVE_HST\",\"H_MEANS_FIVE_HTAG\",\"H_MEANS_FIVE_HTHG\",\"H_MEANS_FIVE_HTR_A\",\"H_MEANS_FIVE_HTR_D\",\"H_MEANS_FIVE_HTR_H\",\"H_MEANS_FIVE_HY\",\"A_MEANS_THREE_AC\",\"A_MEANS_THREE_AF\",\"A_MEANS_THREE_AR\",\"A_MEANS_THREE_AS\",\"A_MEANS_THREE_AST\",\"A_MEANS_THREE_AY\",\"A_MEANS_THREE_FTAG\",\"A_MEANS_THREE_FTHG\",\"A_MEANS_THREE_FTR_A\",\"A_MEANS_THREE_FTR_D\",\"A_MEANS_THREE_FTR_H\",\"A_MEANS_THREE_HC\",\"A_MEANS_THREE_HF\",\"A_MEANS_THREE_HR\",\"A_MEANS_THREE_HS\",\"A_MEANS_THREE_HST\",\"A_MEANS_THREE_HTAG\",\"A_MEANS_THREE_HTHG\",\"A_MEANS_THREE_HTR_A\",\"A_MEANS_THREE_HTR_D\",\"A_MEANS_THREE_HTR_H\",\"A_MEANS_THREE_HY\",\"H_MEANS_THREE_AC\",\"H_MEANS_THREE_AF\",\"H_MEANS_THREE_AR\",\"H_MEANS_THREE_AS\",\"H_MEANS_THREE_AST\",\"H_MEANS_THREE_AY\",\"H_MEANS_THREE_FTAG\",\"H_MEANS_THREE_FTHG\",\"H_MEANS_THREE_FTR_A\",\"H_MEANS_THREE_FTR_D\",\"H_MEANS_THREE_FTR_H\",\"H_MEANS_THREE_HC\",\"H_MEANS_THREE_HF\",\"H_MEANS_THREE_HR\",\"H_MEANS_THREE_HS\",\"H_MEANS_THREE_HST\",\"H_MEANS_THREE_HTAG\",\"H_MEANS_THREE_HTHG\",\"H_MEANS_THREE_HTR_A\",\"H_MEANS_THREE_HTR_D\",\"H_MEANS_THREE_HTR_H\",\"H_MEANS_THREE_HY\",\"A_STD_FIVE_AC\",\"A_STD_FIVE_AF\",\"A_STD_FIVE_AR\",\"A_STD_FIVE_AS\",\"A_STD_FIVE_AST\",\"A_STD_FIVE_AY\",\"A_STD_FIVE_FTAG\",\"A_STD_FIVE_FTHG\",\"A_STD_FIVE_FTR_A\",\"A_STD_FIVE_FTR_D\",\"A_STD_FIVE_FTR_H\",\"A_STD_FIVE_HC\",\"A_STD_FIVE_HF\",\"A_STD_FIVE_HR\",\"A_STD_FIVE_HS\",\"A_STD_FIVE_HST\",\"A_STD_FIVE_HTAG\",\"A_STD_FIVE_HTHG\",\"A_STD_FIVE_HTR_A\",\"A_STD_FIVE_HTR_D\",\"A_STD_FIVE_HTR_H\",\"A_STD_FIVE_HY\",\"H_STD_FIVE_AC\",\"H_STD_FIVE_AF\",\"H_STD_FIVE_AR\",\"H_STD_FIVE_AS\",\"H_STD_FIVE_AST\",\"H_STD_FIVE_AY\",\"H_STD_FIVE_FTAG\",\"H_STD_FIVE_FTHG\",\"H_STD_FIVE_FTR_A\",\"H_STD_FIVE_FTR_D\",\"H_STD_FIVE_FTR_H\",\"H_STD_FIVE_HC\",\"H_STD_FIVE_HF\",\"H_STD_FIVE_HR\",\"H_STD_FIVE_HS\",\"H_STD_FIVE_HST\",\"H_STD_FIVE_HTAG\",\"H_STD_FIVE_HTHG\",\"H_STD_FIVE_HTR_A\",\"H_STD_FIVE_HTR_D\",\"H_STD_FIVE_HTR_H\",\"H_STD_FIVE_HY\",\"A_STD_THREE_AC\",\"A_STD_THREE_AF\",\"A_STD_THREE_AR\",\"A_STD_THREE_AS\",\"A_STD_THREE_AST\",\"A_STD_THREE_AY\",\"A_STD_THREE_FTAG\",\"A_STD_THREE_FTHG\",\"A_STD_THREE_FTR_A\",\"A_STD_THREE_FTR_D\",\"A_STD_THREE_FTR_H\",\"A_STD_THREE_HC\",\"A_STD_THREE_HF\",\"A_STD_THREE_HR\",\"A_STD_THREE_HS\",\"A_STD_THREE_HST\",\"A_STD_THREE_HTAG\",\"A_STD_THREE_HTHG\",\"A_STD_THREE_HTR_A\",\"A_STD_THREE_HTR_D\",\"A_STD_THREE_HTR_H\",\"A_STD_THREE_HY\",\"H_STD_THREE_AC\",\"H_STD_THREE_AF\",\"H_STD_THREE_AR\",\"H_STD_THREE_AS\",\"H_STD_THREE_AST\",\"H_STD_THREE_AY\",\"H_STD_THREE_FTAG\",\"H_STD_THREE_FTHG\",\"H_STD_THREE_FTR_A\",\"H_STD_THREE_FTR_D\",\"H_STD_THREE_FTR_H\",\"H_STD_THREE_HC\",\"H_STD_THREE_HF\",\"H_STD_THREE_HR\",\"H_STD_THREE_HS\",\"H_STD_THREE_HST\",\"H_STD_THREE_HTAG\",\"H_STD_THREE_HTHG\",\"H_STD_THREE_HTR_A\",\"H_STD_THREE_HTR_D\",\"H_STD_THREE_HTR_H\",\"H_STD_THREE_HY\",\"INFO_Div\"]\n",
    "all_five_features = [\"A_MEANS_FIVE_AC\",\"A_MEANS_FIVE_AF\",\"A_MEANS_FIVE_AR\",\"A_MEANS_FIVE_AS\",\"A_MEANS_FIVE_AST\",\"A_MEANS_FIVE_AY\",\"A_MEANS_FIVE_FTAG\",\"A_MEANS_FIVE_FTHG\",\"A_MEANS_FIVE_FTR_A\",\"A_MEANS_FIVE_FTR_D\",\"A_MEANS_FIVE_FTR_H\",\"A_MEANS_FIVE_HC\",\"A_MEANS_FIVE_HF\",\"A_MEANS_FIVE_HR\",\"A_MEANS_FIVE_HS\",\"A_MEANS_FIVE_HST\",\"A_MEANS_FIVE_HTAG\",\"A_MEANS_FIVE_HTHG\",\"A_MEANS_FIVE_HTR_A\",\"A_MEANS_FIVE_HTR_D\",\"A_MEANS_FIVE_HTR_H\",\"A_MEANS_FIVE_HY\",\"H_MEANS_FIVE_AC\",\"H_MEANS_FIVE_AF\",\"H_MEANS_FIVE_AR\",\"H_MEANS_FIVE_AS\",\"H_MEANS_FIVE_AST\",\"H_MEANS_FIVE_AY\",\"H_MEANS_FIVE_FTAG\",\"H_MEANS_FIVE_FTHG\",\"H_MEANS_FIVE_FTR_A\",\"H_MEANS_FIVE_FTR_D\",\"H_MEANS_FIVE_FTR_H\",\"H_MEANS_FIVE_HC\",\"H_MEANS_FIVE_HF\",\"H_MEANS_FIVE_HR\",\"H_MEANS_FIVE_HS\",\"H_MEANS_FIVE_HST\",\"H_MEANS_FIVE_HTAG\",\"H_MEANS_FIVE_HTHG\",\"H_MEANS_FIVE_HTR_A\",\"H_MEANS_FIVE_HTR_D\",\"H_MEANS_FIVE_HTR_H\",\"H_MEANS_FIVE_HY\",\"A_STD_FIVE_AC\",\"A_STD_FIVE_AF\",\"A_STD_FIVE_AR\",\"A_STD_FIVE_AS\",\"A_STD_FIVE_AST\",\"A_STD_FIVE_AY\",\"A_STD_FIVE_FTAG\",\"A_STD_FIVE_FTHG\",\"A_STD_FIVE_FTR_A\",\"A_STD_FIVE_FTR_D\",\"A_STD_FIVE_FTR_H\",\"A_STD_FIVE_HC\",\"A_STD_FIVE_HF\",\"A_STD_FIVE_HR\",\"A_STD_FIVE_HS\",\"A_STD_FIVE_HST\",\"A_STD_FIVE_HTAG\",\"A_STD_FIVE_HTHG\",\"A_STD_FIVE_HTR_A\",\"A_STD_FIVE_HTR_D\",\"A_STD_FIVE_HTR_H\",\"A_STD_FIVE_HY\",\"H_STD_FIVE_AC\",\"H_STD_FIVE_AF\",\"H_STD_FIVE_AR\",\"H_STD_FIVE_AS\",\"H_STD_FIVE_AST\",\"H_STD_FIVE_AY\",\"H_STD_FIVE_FTAG\",\"H_STD_FIVE_FTHG\",\"H_STD_FIVE_FTR_A\",\"H_STD_FIVE_FTR_D\",\"H_STD_FIVE_FTR_H\",\"H_STD_FIVE_HC\",\"H_STD_FIVE_HF\",\"H_STD_FIVE_HR\",\"H_STD_FIVE_HS\",\"H_STD_FIVE_HST\",\"H_STD_FIVE_HTAG\",\"H_STD_FIVE_HTHG\",\"H_STD_FIVE_HTR_A\",\"H_STD_FIVE_HTR_D\",\"H_STD_FIVE_HTR_H\",\"H_STD_FIVE_HY\",\"INFO_Div\"]\n",
    "best_features_NB = ['A_MEANS_FIVE_AC', 'A_MEANS_FIVE_AS', 'A_MEANS_FIVE_AST','A_MEANS_FIVE_FTAG', 'A_MEANS_FIVE_FTHG', 'A_MEANS_FIVE_FTR_H','A_MEANS_FIVE_HC', 'A_MEANS_FIVE_HS', 'A_MEANS_FIVE_HST','A_MEANS_FIVE_HTR_A', 'H_MEANS_FIVE_AC', 'H_MEANS_FIVE_AS','H_MEANS_FIVE_AST', 'H_MEANS_FIVE_AY', 'H_MEANS_FIVE_FTAG','H_MEANS_FIVE_FTHG', 'H_MEANS_FIVE_FTR_A', 'H_MEANS_FIVE_FTR_H','H_MEANS_FIVE_HC', 'H_MEANS_FIVE_HS', 'H_MEANS_FIVE_HST','H_MEANS_FIVE_HTR_H', 'A_MEANS_THREE_AC', 'A_MEANS_THREE_AS','A_MEANS_THREE_FTHG', 'A_MEANS_THREE_HS', 'H_MEANS_THREE_AS','A_STD_FIVE_HF', 'H_STD_FIVE_HC', 'H_STD_FIVE_HST']\n",
    "features_list = all_five_features\n"
   ]
  },
  {
   "cell_type": "code",
   "execution_count": 3,
   "metadata": {
    "collapsed": true
   },
   "outputs": [],
   "source": [
    "model_name = 'NaivesBayes-All'\n",
    "odd_H = 'INFO_BbAvH'\n",
    "odd_A = 'INFO_BbAvA'\n",
    "odd_D = 'INFO_BbAvD'\n",
    "target = 'INFO_FTR'\n",
    "start_date = datetime.datetime.now().strftime(\"%Y-%m-%d-%H-%M\")\n",
    "min_odd = 2\n",
    "max_odd = 4"
   ]
  },
  {
   "cell_type": "markdown",
   "metadata": {},
   "source": [
    "## Importing Data"
   ]
  },
  {
   "cell_type": "code",
   "execution_count": 4,
   "metadata": {
    "collapsed": true
   },
   "outputs": [],
   "source": [
    "# DB Sqlite connection\n",
    "import sqlite3\n",
    "db = \"/Users/thibaultclement/Project/ligue1-predict/src/notebook/data/db/soccer_predict.sqlite\"\n",
    "conn = sqlite3.connect(db)\n",
    "cur = conn.cursor()"
   ]
  },
  {
   "cell_type": "code",
   "execution_count": 5,
   "metadata": {},
   "outputs": [
    {
     "data": {
      "text/plain": [
       "(37907, 190)"
      ]
     },
     "execution_count": 5,
     "metadata": {},
     "output_type": "execute_result"
    }
   ],
   "source": [
    "# Get all prematch data\n",
    "df = pd.read_sql_query(\"SELECT * FROM pre_matchs ORDER BY INFO_Date ASC;\", conn)\n",
    "df = (df[df.columns.drop(['index'])])\n",
    "df.shape"
   ]
  },
  {
   "cell_type": "code",
   "execution_count": 6,
   "metadata": {},
   "outputs": [
    {
     "data": {
      "text/plain": [
       "(26988, 190)"
      ]
     },
     "execution_count": 6,
     "metadata": {},
     "output_type": "execute_result"
    }
   ],
   "source": [
    "# Remove all game between June (include) and October (include)\n",
    "df['INFO_Date'] = pd.to_datetime(df['INFO_Date'])\n",
    "df['INFO_Date'].dt.month\n",
    "df = df[(df['INFO_Date'].dt.month < 6) | (df['INFO_Date'].dt.month > 10)]\n",
    "df.shape"
   ]
  },
  {
   "cell_type": "code",
   "execution_count": 7,
   "metadata": {},
   "outputs": [
    {
     "data": {
      "text/plain": [
       "(26988, 190)"
      ]
     },
     "execution_count": 7,
     "metadata": {},
     "output_type": "execute_result"
    }
   ],
   "source": [
    "# Remove too small odd\n",
    "#df = df[(df[odd_H] > min_odd) & (df[odd_A] > min_odd)]\n",
    "#df = df[(df[odd_H] < max_odd) & (df[odd_A] < max_odd)]\n",
    "df.shape"
   ]
  },
  {
   "cell_type": "code",
   "execution_count": 8,
   "metadata": {},
   "outputs": [
    {
     "data": {
      "text/plain": [
       "(3370, 190)"
      ]
     },
     "execution_count": 8,
     "metadata": {},
     "output_type": "execute_result"
    }
   ],
   "source": [
    "# Select a particular league\n",
    "df = df[(df['INFO_Div'] == 'E0')]\n",
    "#df = df[(df['INFO_Div'] == 'E0')]\n",
    "df.shape"
   ]
  },
  {
   "cell_type": "code",
   "execution_count": 9,
   "metadata": {},
   "outputs": [
    {
     "data": {
      "text/plain": [
       "(3370, 190)"
      ]
     },
     "execution_count": 9,
     "metadata": {},
     "output_type": "execute_result"
    }
   ],
   "source": [
    "# Removing column where odd is too high or too low\n",
    "# df = df.drop(df[df['INFO_BbAvH'] < 2].index)\n",
    "# df = df.drop(df[df['INFO_BbAvA'] < 2].index)\n",
    "# df = df.drop(df[df['INFO_BbAvH'] > 10].index)\n",
    "# df = df.drop(df[df['INFO_BbAvA'] > 10].index)\n",
    "df.shape"
   ]
  },
  {
   "cell_type": "code",
   "execution_count": 10,
   "metadata": {},
   "outputs": [
    {
     "data": {
      "text/html": [
       "<div>\n",
       "<style>\n",
       "    .dataframe thead tr:only-child th {\n",
       "        text-align: right;\n",
       "    }\n",
       "\n",
       "    .dataframe thead th {\n",
       "        text-align: left;\n",
       "    }\n",
       "\n",
       "    .dataframe tbody tr th {\n",
       "        vertical-align: top;\n",
       "    }\n",
       "</style>\n",
       "<table border=\"1\" class=\"dataframe\">\n",
       "  <thead>\n",
       "    <tr style=\"text-align: right;\">\n",
       "      <th></th>\n",
       "      <th>INFO_BbAvH</th>\n",
       "      <th>INFO_BbAvD</th>\n",
       "      <th>INFO_BbAvA</th>\n",
       "      <th>INFO_FTR</th>\n",
       "      <th>INFO_WIN</th>\n",
       "    </tr>\n",
       "  </thead>\n",
       "  <tbody>\n",
       "    <tr>\n",
       "      <th>1022</th>\n",
       "      <td>1.20</td>\n",
       "      <td>5.52</td>\n",
       "      <td>12.10</td>\n",
       "      <td>H</td>\n",
       "      <td>1.20</td>\n",
       "    </tr>\n",
       "    <tr>\n",
       "      <th>1023</th>\n",
       "      <td>3.07</td>\n",
       "      <td>3.13</td>\n",
       "      <td>2.20</td>\n",
       "      <td>A</td>\n",
       "      <td>2.20</td>\n",
       "    </tr>\n",
       "    <tr>\n",
       "      <th>1024</th>\n",
       "      <td>2.31</td>\n",
       "      <td>3.15</td>\n",
       "      <td>2.87</td>\n",
       "      <td>H</td>\n",
       "      <td>2.31</td>\n",
       "    </tr>\n",
       "    <tr>\n",
       "      <th>1025</th>\n",
       "      <td>2.43</td>\n",
       "      <td>3.14</td>\n",
       "      <td>2.70</td>\n",
       "      <td>H</td>\n",
       "      <td>2.43</td>\n",
       "    </tr>\n",
       "    <tr>\n",
       "      <th>1026</th>\n",
       "      <td>1.57</td>\n",
       "      <td>3.46</td>\n",
       "      <td>5.76</td>\n",
       "      <td>H</td>\n",
       "      <td>1.57</td>\n",
       "    </tr>\n",
       "    <tr>\n",
       "      <th>1027</th>\n",
       "      <td>2.31</td>\n",
       "      <td>3.14</td>\n",
       "      <td>2.89</td>\n",
       "      <td>A</td>\n",
       "      <td>2.89</td>\n",
       "    </tr>\n",
       "    <tr>\n",
       "      <th>1028</th>\n",
       "      <td>1.81</td>\n",
       "      <td>3.24</td>\n",
       "      <td>4.15</td>\n",
       "      <td>H</td>\n",
       "      <td>1.81</td>\n",
       "    </tr>\n",
       "    <tr>\n",
       "      <th>1058</th>\n",
       "      <td>2.41</td>\n",
       "      <td>3.14</td>\n",
       "      <td>2.75</td>\n",
       "      <td>H</td>\n",
       "      <td>2.41</td>\n",
       "    </tr>\n",
       "    <tr>\n",
       "      <th>1059</th>\n",
       "      <td>3.04</td>\n",
       "      <td>3.09</td>\n",
       "      <td>2.25</td>\n",
       "      <td>H</td>\n",
       "      <td>3.04</td>\n",
       "    </tr>\n",
       "    <tr>\n",
       "      <th>1081</th>\n",
       "      <td>2.43</td>\n",
       "      <td>3.11</td>\n",
       "      <td>2.76</td>\n",
       "      <td>H</td>\n",
       "      <td>2.43</td>\n",
       "    </tr>\n",
       "  </tbody>\n",
       "</table>\n",
       "</div>"
      ],
      "text/plain": [
       "      INFO_BbAvH  INFO_BbAvD  INFO_BbAvA INFO_FTR  INFO_WIN\n",
       "1022        1.20        5.52       12.10        H      1.20\n",
       "1023        3.07        3.13        2.20        A      2.20\n",
       "1024        2.31        3.15        2.87        H      2.31\n",
       "1025        2.43        3.14        2.70        H      2.43\n",
       "1026        1.57        3.46        5.76        H      1.57\n",
       "1027        2.31        3.14        2.89        A      2.89\n",
       "1028        1.81        3.24        4.15        H      1.81\n",
       "1058        2.41        3.14        2.75        H      2.41\n",
       "1059        3.04        3.09        2.25        H      3.04\n",
       "1081        2.43        3.11        2.76        H      2.43"
      ]
     },
     "execution_count": 10,
     "metadata": {},
     "output_type": "execute_result"
    }
   ],
   "source": [
    "# Create a INFO_WIN column containing the gain if you bet the good result\n",
    "df['INFO_WIN'] = 0\n",
    "df.loc[df.INFO_FTR == 'H', 'INFO_WIN'] = df[odd_H]\n",
    "df.loc[df.INFO_FTR == 'A', 'INFO_WIN'] = df[odd_A]\n",
    "df.loc[df.INFO_FTR == 'D', 'INFO_WIN'] = df[odd_D]\n",
    "df['INFO_WIN_P'] = 0\n",
    "df.loc[df.INFO_FTR == 'H', 'INFO_WIN_P'] = df['INFO_PSH']\n",
    "df.loc[df.INFO_FTR == 'A', 'INFO_WIN_P'] = df['INFO_PSA']\n",
    "df.loc[df.INFO_FTR == 'D', 'INFO_WIN_P'] = df['INFO_PSD']\n",
    "df[[odd_H, odd_D, odd_A, 'INFO_FTR', 'INFO_WIN']].head(10)"
   ]
  },
  {
   "cell_type": "code",
   "execution_count": 11,
   "metadata": {},
   "outputs": [
    {
     "data": {
      "text/plain": [
       "None"
      ]
     },
     "metadata": {},
     "output_type": "display_data"
    },
    {
     "data": {
      "text/plain": [
       "H    47.448071\n",
       "A    27.774481\n",
       "D    24.777448\n",
       "Name: INFO_FTR, dtype: float64"
      ]
     },
     "metadata": {},
     "output_type": "display_data"
    }
   ],
   "source": [
    "# Statistic about winners\n",
    "display(plt.show(), 100. * df.INFO_FTR.value_counts() / len(df.INFO_FTR))"
   ]
  },
  {
   "cell_type": "code",
   "execution_count": 12,
   "metadata": {},
   "outputs": [
    {
     "data": {
      "text/plain": [
       "2.7345905044510412"
      ]
     },
     "execution_count": 12,
     "metadata": {},
     "output_type": "execute_result"
    }
   ],
   "source": [
    "# How much did you win/lost per match if bet on all\n",
    "df.INFO_WIN.mean()"
   ]
  },
  {
   "cell_type": "code",
   "execution_count": 13,
   "metadata": {
    "collapsed": true
   },
   "outputs": [],
   "source": [
    "# Keep season 2016/2017 for further test and don't use it for traning\n",
    "import datetime\n",
    "date_start_learn = datetime.date(2010, 8, 1)\n",
    "date_end_learn = datetime.date(2015, 8, 1)\n",
    "date_start_current_season = datetime.date(2015, 8, 1)\n",
    "date_end_current_season = datetime.date(2016, 8, 1)\n",
    "df_current_season = df[(df['INFO_Date'] > date_start_current_season)]\n",
    "df_current_season = df_current_season[(df_current_season['INFO_Date'] < date_end_current_season)]\n",
    "df = df[(df['INFO_Date'] > date_start_learn)]\n",
    "df = df[(df['INFO_Date'] < date_end_learn)]"
   ]
  },
  {
   "cell_type": "code",
   "execution_count": 14,
   "metadata": {},
   "outputs": [
    {
     "data": {
      "text/plain": [
       "None"
      ]
     },
     "metadata": {},
     "output_type": "display_data"
    },
    {
     "data": {
      "text/plain": [
       "H    46.545708\n",
       "A    29.099791\n",
       "D    24.354501\n",
       "Name: INFO_FTR, dtype: float64"
      ]
     },
     "metadata": {},
     "output_type": "display_data"
    }
   ],
   "source": [
    "# Remove too small odd\n",
    "#df = df[(df[odd_H] > min_odd) & (df[odd_A] > min_odd)]\n",
    "#df = df[(df[odd_H] < max_odd) & (df[odd_A] < max_odd)]\n",
    "display(plt.show(), 100. * df.INFO_FTR.value_counts() / len(df.INFO_FTR))"
   ]
  },
  {
   "cell_type": "code",
   "execution_count": 15,
   "metadata": {},
   "outputs": [
    {
     "data": {
      "text/plain": [
       "(1433, 192)"
      ]
     },
     "execution_count": 15,
     "metadata": {},
     "output_type": "execute_result"
    }
   ],
   "source": [
    "df.shape"
   ]
  },
  {
   "cell_type": "code",
   "execution_count": 16,
   "metadata": {},
   "outputs": [
    {
     "data": {
      "text/plain": [
       "(273, 192)"
      ]
     },
     "execution_count": 16,
     "metadata": {},
     "output_type": "execute_result"
    }
   ],
   "source": [
    "# Number of matches in current season\n",
    "df_current_season.shape"
   ]
  },
  {
   "cell_type": "code",
   "execution_count": 17,
   "metadata": {
    "collapsed": true
   },
   "outputs": [],
   "source": [
    "# Prepare the dataset\n",
    "X = pd.get_dummies(df[features_list])\n",
    "y = df[target]\n",
    "X_current_season = pd.get_dummies(df_current_season[features_list])\n",
    "y_current_season = df_current_season[target]"
   ]
  },
  {
   "cell_type": "markdown",
   "metadata": {},
   "source": [
    "## Preprocessing Data"
   ]
  },
  {
   "cell_type": "code",
   "execution_count": 18,
   "metadata": {
    "collapsed": true
   },
   "outputs": [],
   "source": [
    "# Standardize features\n",
    "from sklearn.preprocessing import StandardScaler\n",
    "sc_X = StandardScaler().fit(X)\n",
    "X = sc_X.transform(X)\n",
    "X_current_season = sc_X.transform(X_current_season)"
   ]
  },
  {
   "cell_type": "code",
   "execution_count": 19,
   "metadata": {
    "collapsed": true
   },
   "outputs": [],
   "source": [
    "# Impute of missing values (NaN) with the mean\n",
    "from sklearn.preprocessing import Imputer\n",
    "imp = Imputer(missing_values='NaN', strategy='mean', axis=0)\n",
    "imp = imp.fit(X)\n",
    "X = imp.transform(X)\n",
    "X_current_season = imp.transform(X_current_season)"
   ]
  },
  {
   "cell_type": "code",
   "execution_count": 20,
   "metadata": {
    "collapsed": true
   },
   "outputs": [],
   "source": [
    "# Split the dataset into the Training set and Test set\n",
    "from sklearn.model_selection import train_test_split\n",
    "X_train, X_test, y_train, y_test = train_test_split(X, y, test_size=0.3, random_state = 0)"
   ]
  },
  {
   "cell_type": "markdown",
   "metadata": {},
   "source": [
    "## Evaluating Model"
   ]
  },
  {
   "cell_type": "code",
   "execution_count": 21,
   "metadata": {},
   "outputs": [
    {
     "data": {
      "text/plain": [
       "GaussianNB(priors=None)"
      ]
     },
     "execution_count": 21,
     "metadata": {},
     "output_type": "execute_result"
    }
   ],
   "source": [
    "# Train a new classifier using the best parameters found by the grid search\n",
    "from sklearn.naive_bayes import GaussianNB\n",
    "from sklearn.naive_bayes import BernoulliNB\n",
    "clf = GaussianNB()\n",
    "clf.fit(X_train, y_train)"
   ]
  },
  {
   "cell_type": "code",
   "execution_count": 22,
   "metadata": {
    "collapsed": true
   },
   "outputs": [],
   "source": [
    "# Predict target values\n",
    "y_pred = clf.predict(X_test)"
   ]
  },
  {
   "cell_type": "code",
   "execution_count": 23,
   "metadata": {
    "collapsed": true
   },
   "outputs": [],
   "source": [
    "# Predict probabilities\n",
    "y_probs = clf.predict_proba(X_test)"
   ]
  },
  {
   "cell_type": "code",
   "execution_count": 24,
   "metadata": {},
   "outputs": [
    {
     "data": {
      "text/plain": [
       "2.0530925549803163"
      ]
     },
     "execution_count": 24,
     "metadata": {},
     "output_type": "execute_result"
    }
   ],
   "source": [
    "# Compute cross-entropy score\n",
    "from sklearn.metrics import log_loss\n",
    "log_loss(y_test, y_probs)"
   ]
  },
  {
   "cell_type": "code",
   "execution_count": 25,
   "metadata": {},
   "outputs": [
    {
     "name": "stdout",
     "output_type": "stream",
     "text": [
      "             precision    recall  f1-score   support\n",
      "\n",
      "          A       0.42      0.53      0.47       130\n",
      "          D       0.22      0.19      0.21       103\n",
      "          H       0.61      0.54      0.57       197\n",
      "\n",
      "avg / total       0.46      0.46      0.45       430\n",
      "\n"
     ]
    }
   ],
   "source": [
    "# Compute precision, recall, F-measure and support\n",
    "from sklearn.metrics import classification_report\n",
    "print(classification_report(y_test, y_pred, target_names=['A', 'D', 'H']))"
   ]
  },
  {
   "cell_type": "code",
   "execution_count": 26,
   "metadata": {},
   "outputs": [
    {
     "data": {
      "text/plain": [
       "0.45581395348837211"
      ]
     },
     "execution_count": 26,
     "metadata": {},
     "output_type": "execute_result"
    }
   ],
   "source": [
    "from sklearn.metrics import accuracy_score\n",
    "accuracy_score(y_test, y_pred)"
   ]
  },
  {
   "cell_type": "markdown",
   "metadata": {},
   "source": [
    "# ALL DATASET TEST"
   ]
  },
  {
   "cell_type": "code",
   "execution_count": 27,
   "metadata": {
    "collapsed": true
   },
   "outputs": [],
   "source": [
    "# Apply on all the dataset\n",
    "X_pred = clf.predict(X)\n",
    "X_probs = clf.predict_proba(X)\n",
    "\n",
    "df['pred'] = X_pred\n",
    "\n",
    "df['probs_A'] = X_probs[:,0]\n",
    "df['probs_D'] = X_probs[:,1]\n",
    "df['probs_H'] = X_probs[:,2]\n",
    "#df['probs_A'] = X_probs[:,0]\n",
    "#df['probs_D'] = X_probs[:,1]\n",
    "#df['probs_H'] = X_probs[:,2]\n",
    "df['probs'] = df[['probs_A','probs_D','probs_H']].max(axis=1)\n",
    "\n",
    "df['WIN'] = -1\n",
    "df.loc[df.INFO_FTR == df.pred, 'WIN'] = df['INFO_WIN']\n",
    "\n",
    "df_bet_all_seasons = df.drop(df[df.pred == 'X'].index)"
   ]
  },
  {
   "cell_type": "code",
   "execution_count": 28,
   "metadata": {},
   "outputs": [
    {
     "data": {
      "text/html": [
       "<div>\n",
       "<style>\n",
       "    .dataframe thead tr:only-child th {\n",
       "        text-align: right;\n",
       "    }\n",
       "\n",
       "    .dataframe thead th {\n",
       "        text-align: left;\n",
       "    }\n",
       "\n",
       "    .dataframe tbody tr th {\n",
       "        vertical-align: top;\n",
       "    }\n",
       "</style>\n",
       "<table border=\"1\" class=\"dataframe\">\n",
       "  <thead>\n",
       "    <tr style=\"text-align: right;\">\n",
       "      <th></th>\n",
       "      <th>probs_A</th>\n",
       "      <th>probs_D</th>\n",
       "      <th>probs_H</th>\n",
       "      <th>pred</th>\n",
       "      <th>INFO_FTR</th>\n",
       "      <th>WIN</th>\n",
       "    </tr>\n",
       "  </thead>\n",
       "  <tbody>\n",
       "    <tr>\n",
       "      <th>16673</th>\n",
       "      <td>3.099558e-01</td>\n",
       "      <td>4.526361e-01</td>\n",
       "      <td>0.237408</td>\n",
       "      <td>D</td>\n",
       "      <td>H</td>\n",
       "      <td>-1.00</td>\n",
       "    </tr>\n",
       "    <tr>\n",
       "      <th>16692</th>\n",
       "      <td>4.509924e-02</td>\n",
       "      <td>2.382715e-01</td>\n",
       "      <td>0.716629</td>\n",
       "      <td>H</td>\n",
       "      <td>D</td>\n",
       "      <td>-1.00</td>\n",
       "    </tr>\n",
       "    <tr>\n",
       "      <th>16693</th>\n",
       "      <td>8.202780e-01</td>\n",
       "      <td>6.346258e-02</td>\n",
       "      <td>0.116259</td>\n",
       "      <td>A</td>\n",
       "      <td>H</td>\n",
       "      <td>-1.00</td>\n",
       "    </tr>\n",
       "    <tr>\n",
       "      <th>16694</th>\n",
       "      <td>9.521203e-01</td>\n",
       "      <td>4.688306e-02</td>\n",
       "      <td>0.000997</td>\n",
       "      <td>A</td>\n",
       "      <td>D</td>\n",
       "      <td>-1.00</td>\n",
       "    </tr>\n",
       "    <tr>\n",
       "      <th>16695</th>\n",
       "      <td>6.006381e-01</td>\n",
       "      <td>3.761826e-01</td>\n",
       "      <td>0.023179</td>\n",
       "      <td>A</td>\n",
       "      <td>H</td>\n",
       "      <td>-1.00</td>\n",
       "    </tr>\n",
       "    <tr>\n",
       "      <th>16696</th>\n",
       "      <td>3.945726e-01</td>\n",
       "      <td>2.896905e-01</td>\n",
       "      <td>0.315737</td>\n",
       "      <td>A</td>\n",
       "      <td>D</td>\n",
       "      <td>-1.00</td>\n",
       "    </tr>\n",
       "    <tr>\n",
       "      <th>16697</th>\n",
       "      <td>3.223634e-08</td>\n",
       "      <td>6.019397e-06</td>\n",
       "      <td>0.999994</td>\n",
       "      <td>H</td>\n",
       "      <td>H</td>\n",
       "      <td>1.22</td>\n",
       "    </tr>\n",
       "    <tr>\n",
       "      <th>16698</th>\n",
       "      <td>6.642365e-02</td>\n",
       "      <td>1.359139e-01</td>\n",
       "      <td>0.797662</td>\n",
       "      <td>H</td>\n",
       "      <td>H</td>\n",
       "      <td>2.07</td>\n",
       "    </tr>\n",
       "    <tr>\n",
       "      <th>16726</th>\n",
       "      <td>1.672998e-05</td>\n",
       "      <td>3.449282e-04</td>\n",
       "      <td>0.999638</td>\n",
       "      <td>H</td>\n",
       "      <td>A</td>\n",
       "      <td>-1.00</td>\n",
       "    </tr>\n",
       "    <tr>\n",
       "      <th>16727</th>\n",
       "      <td>9.918845e-01</td>\n",
       "      <td>7.990043e-03</td>\n",
       "      <td>0.000125</td>\n",
       "      <td>A</td>\n",
       "      <td>H</td>\n",
       "      <td>-1.00</td>\n",
       "    </tr>\n",
       "    <tr>\n",
       "      <th>16728</th>\n",
       "      <td>2.218295e-01</td>\n",
       "      <td>6.093426e-01</td>\n",
       "      <td>0.168828</td>\n",
       "      <td>D</td>\n",
       "      <td>A</td>\n",
       "      <td>-1.00</td>\n",
       "    </tr>\n",
       "    <tr>\n",
       "      <th>16753</th>\n",
       "      <td>1.964903e-01</td>\n",
       "      <td>6.393602e-02</td>\n",
       "      <td>0.739574</td>\n",
       "      <td>H</td>\n",
       "      <td>H</td>\n",
       "      <td>2.08</td>\n",
       "    </tr>\n",
       "    <tr>\n",
       "      <th>16754</th>\n",
       "      <td>1.198085e-02</td>\n",
       "      <td>2.194599e-02</td>\n",
       "      <td>0.966073</td>\n",
       "      <td>H</td>\n",
       "      <td>D</td>\n",
       "      <td>-1.00</td>\n",
       "    </tr>\n",
       "    <tr>\n",
       "      <th>16765</th>\n",
       "      <td>5.771038e-02</td>\n",
       "      <td>1.126212e-01</td>\n",
       "      <td>0.829668</td>\n",
       "      <td>H</td>\n",
       "      <td>H</td>\n",
       "      <td>1.62</td>\n",
       "    </tr>\n",
       "    <tr>\n",
       "      <th>16766</th>\n",
       "      <td>3.761454e-10</td>\n",
       "      <td>1.295146e-06</td>\n",
       "      <td>0.999999</td>\n",
       "      <td>H</td>\n",
       "      <td>H</td>\n",
       "      <td>1.20</td>\n",
       "    </tr>\n",
       "    <tr>\n",
       "      <th>16767</th>\n",
       "      <td>2.194185e-01</td>\n",
       "      <td>7.105737e-01</td>\n",
       "      <td>0.070008</td>\n",
       "      <td>D</td>\n",
       "      <td>D</td>\n",
       "      <td>3.63</td>\n",
       "    </tr>\n",
       "    <tr>\n",
       "      <th>16768</th>\n",
       "      <td>2.413707e-01</td>\n",
       "      <td>7.521379e-01</td>\n",
       "      <td>0.006491</td>\n",
       "      <td>D</td>\n",
       "      <td>D</td>\n",
       "      <td>3.22</td>\n",
       "    </tr>\n",
       "    <tr>\n",
       "      <th>16769</th>\n",
       "      <td>3.124851e-04</td>\n",
       "      <td>5.988340e-03</td>\n",
       "      <td>0.993699</td>\n",
       "      <td>H</td>\n",
       "      <td>A</td>\n",
       "      <td>-1.00</td>\n",
       "    </tr>\n",
       "    <tr>\n",
       "      <th>16770</th>\n",
       "      <td>4.934105e-01</td>\n",
       "      <td>2.094372e-02</td>\n",
       "      <td>0.485646</td>\n",
       "      <td>A</td>\n",
       "      <td>D</td>\n",
       "      <td>-1.00</td>\n",
       "    </tr>\n",
       "    <tr>\n",
       "      <th>16771</th>\n",
       "      <td>1.066955e-01</td>\n",
       "      <td>8.052729e-01</td>\n",
       "      <td>0.088032</td>\n",
       "      <td>D</td>\n",
       "      <td>D</td>\n",
       "      <td>3.58</td>\n",
       "    </tr>\n",
       "    <tr>\n",
       "      <th>16772</th>\n",
       "      <td>5.723253e-01</td>\n",
       "      <td>5.288086e-02</td>\n",
       "      <td>0.374794</td>\n",
       "      <td>A</td>\n",
       "      <td>A</td>\n",
       "      <td>1.63</td>\n",
       "    </tr>\n",
       "    <tr>\n",
       "      <th>16799</th>\n",
       "      <td>3.716743e-01</td>\n",
       "      <td>6.113829e-01</td>\n",
       "      <td>0.016943</td>\n",
       "      <td>D</td>\n",
       "      <td>D</td>\n",
       "      <td>3.49</td>\n",
       "    </tr>\n",
       "    <tr>\n",
       "      <th>16800</th>\n",
       "      <td>1.082621e-01</td>\n",
       "      <td>1.291287e-01</td>\n",
       "      <td>0.762609</td>\n",
       "      <td>H</td>\n",
       "      <td>D</td>\n",
       "      <td>-1.00</td>\n",
       "    </tr>\n",
       "    <tr>\n",
       "      <th>16801</th>\n",
       "      <td>7.225093e-02</td>\n",
       "      <td>5.610753e-01</td>\n",
       "      <td>0.366674</td>\n",
       "      <td>D</td>\n",
       "      <td>D</td>\n",
       "      <td>3.33</td>\n",
       "    </tr>\n",
       "    <tr>\n",
       "      <th>16802</th>\n",
       "      <td>1.657997e-01</td>\n",
       "      <td>5.339763e-01</td>\n",
       "      <td>0.300224</td>\n",
       "      <td>D</td>\n",
       "      <td>H</td>\n",
       "      <td>-1.00</td>\n",
       "    </tr>\n",
       "    <tr>\n",
       "      <th>16803</th>\n",
       "      <td>3.909600e-02</td>\n",
       "      <td>8.106365e-02</td>\n",
       "      <td>0.879840</td>\n",
       "      <td>H</td>\n",
       "      <td>H</td>\n",
       "      <td>1.61</td>\n",
       "    </tr>\n",
       "    <tr>\n",
       "      <th>16804</th>\n",
       "      <td>3.909461e-01</td>\n",
       "      <td>5.469777e-01</td>\n",
       "      <td>0.062076</td>\n",
       "      <td>D</td>\n",
       "      <td>D</td>\n",
       "      <td>3.54</td>\n",
       "    </tr>\n",
       "    <tr>\n",
       "      <th>16805</th>\n",
       "      <td>2.186883e-01</td>\n",
       "      <td>1.593633e-02</td>\n",
       "      <td>0.765375</td>\n",
       "      <td>H</td>\n",
       "      <td>H</td>\n",
       "      <td>2.46</td>\n",
       "    </tr>\n",
       "    <tr>\n",
       "      <th>16806</th>\n",
       "      <td>1.135314e-01</td>\n",
       "      <td>8.586829e-01</td>\n",
       "      <td>0.027786</td>\n",
       "      <td>D</td>\n",
       "      <td>A</td>\n",
       "      <td>-1.00</td>\n",
       "    </tr>\n",
       "    <tr>\n",
       "      <th>16847</th>\n",
       "      <td>1.478629e-09</td>\n",
       "      <td>8.517587e-07</td>\n",
       "      <td>0.999999</td>\n",
       "      <td>H</td>\n",
       "      <td>A</td>\n",
       "      <td>-1.00</td>\n",
       "    </tr>\n",
       "    <tr>\n",
       "      <th>...</th>\n",
       "      <td>...</td>\n",
       "      <td>...</td>\n",
       "      <td>...</td>\n",
       "      <td>...</td>\n",
       "      <td>...</td>\n",
       "      <td>...</td>\n",
       "    </tr>\n",
       "    <tr>\n",
       "      <th>31426</th>\n",
       "      <td>9.820152e-01</td>\n",
       "      <td>1.612218e-02</td>\n",
       "      <td>0.001863</td>\n",
       "      <td>A</td>\n",
       "      <td>A</td>\n",
       "      <td>1.85</td>\n",
       "    </tr>\n",
       "    <tr>\n",
       "      <th>31427</th>\n",
       "      <td>6.014928e-05</td>\n",
       "      <td>1.603564e-03</td>\n",
       "      <td>0.998336</td>\n",
       "      <td>H</td>\n",
       "      <td>A</td>\n",
       "      <td>-1.00</td>\n",
       "    </tr>\n",
       "    <tr>\n",
       "      <th>31428</th>\n",
       "      <td>6.582171e-01</td>\n",
       "      <td>2.659177e-01</td>\n",
       "      <td>0.075865</td>\n",
       "      <td>A</td>\n",
       "      <td>A</td>\n",
       "      <td>4.27</td>\n",
       "    </tr>\n",
       "    <tr>\n",
       "      <th>31429</th>\n",
       "      <td>4.692843e-03</td>\n",
       "      <td>9.987427e-04</td>\n",
       "      <td>0.994308</td>\n",
       "      <td>H</td>\n",
       "      <td>H</td>\n",
       "      <td>2.55</td>\n",
       "    </tr>\n",
       "    <tr>\n",
       "      <th>31430</th>\n",
       "      <td>4.150782e-01</td>\n",
       "      <td>4.198778e-01</td>\n",
       "      <td>0.165044</td>\n",
       "      <td>D</td>\n",
       "      <td>D</td>\n",
       "      <td>3.24</td>\n",
       "    </tr>\n",
       "    <tr>\n",
       "      <th>31431</th>\n",
       "      <td>6.274115e-01</td>\n",
       "      <td>2.295866e-01</td>\n",
       "      <td>0.143002</td>\n",
       "      <td>A</td>\n",
       "      <td>H</td>\n",
       "      <td>-1.00</td>\n",
       "    </tr>\n",
       "    <tr>\n",
       "      <th>31450</th>\n",
       "      <td>2.030970e-03</td>\n",
       "      <td>2.959450e-02</td>\n",
       "      <td>0.968375</td>\n",
       "      <td>H</td>\n",
       "      <td>D</td>\n",
       "      <td>-1.00</td>\n",
       "    </tr>\n",
       "    <tr>\n",
       "      <th>31451</th>\n",
       "      <td>7.998900e-13</td>\n",
       "      <td>7.349341e-09</td>\n",
       "      <td>1.000000</td>\n",
       "      <td>H</td>\n",
       "      <td>H</td>\n",
       "      <td>1.21</td>\n",
       "    </tr>\n",
       "    <tr>\n",
       "      <th>31467</th>\n",
       "      <td>5.782133e-05</td>\n",
       "      <td>4.488106e-03</td>\n",
       "      <td>0.995454</td>\n",
       "      <td>H</td>\n",
       "      <td>A</td>\n",
       "      <td>-1.00</td>\n",
       "    </tr>\n",
       "    <tr>\n",
       "      <th>31480</th>\n",
       "      <td>2.687226e-01</td>\n",
       "      <td>5.520344e-01</td>\n",
       "      <td>0.179243</td>\n",
       "      <td>D</td>\n",
       "      <td>D</td>\n",
       "      <td>3.23</td>\n",
       "    </tr>\n",
       "    <tr>\n",
       "      <th>31481</th>\n",
       "      <td>4.176033e-02</td>\n",
       "      <td>3.619426e-02</td>\n",
       "      <td>0.922045</td>\n",
       "      <td>H</td>\n",
       "      <td>A</td>\n",
       "      <td>-1.00</td>\n",
       "    </tr>\n",
       "    <tr>\n",
       "      <th>31482</th>\n",
       "      <td>7.665216e-01</td>\n",
       "      <td>8.729594e-03</td>\n",
       "      <td>0.224749</td>\n",
       "      <td>A</td>\n",
       "      <td>H</td>\n",
       "      <td>-1.00</td>\n",
       "    </tr>\n",
       "    <tr>\n",
       "      <th>31483</th>\n",
       "      <td>5.933074e-01</td>\n",
       "      <td>1.284363e-01</td>\n",
       "      <td>0.278256</td>\n",
       "      <td>A</td>\n",
       "      <td>H</td>\n",
       "      <td>-1.00</td>\n",
       "    </tr>\n",
       "    <tr>\n",
       "      <th>31484</th>\n",
       "      <td>1.050457e-01</td>\n",
       "      <td>8.790492e-01</td>\n",
       "      <td>0.015905</td>\n",
       "      <td>D</td>\n",
       "      <td>D</td>\n",
       "      <td>3.22</td>\n",
       "    </tr>\n",
       "    <tr>\n",
       "      <th>31485</th>\n",
       "      <td>6.451118e-01</td>\n",
       "      <td>1.786314e-01</td>\n",
       "      <td>0.176257</td>\n",
       "      <td>A</td>\n",
       "      <td>H</td>\n",
       "      <td>-1.00</td>\n",
       "    </tr>\n",
       "    <tr>\n",
       "      <th>31486</th>\n",
       "      <td>5.504440e-01</td>\n",
       "      <td>9.219347e-02</td>\n",
       "      <td>0.357362</td>\n",
       "      <td>A</td>\n",
       "      <td>A</td>\n",
       "      <td>2.49</td>\n",
       "    </tr>\n",
       "    <tr>\n",
       "      <th>31504</th>\n",
       "      <td>7.755598e-01</td>\n",
       "      <td>1.422544e-01</td>\n",
       "      <td>0.082186</td>\n",
       "      <td>A</td>\n",
       "      <td>D</td>\n",
       "      <td>-1.00</td>\n",
       "    </tr>\n",
       "    <tr>\n",
       "      <th>31505</th>\n",
       "      <td>8.900628e-01</td>\n",
       "      <td>5.962740e-02</td>\n",
       "      <td>0.050310</td>\n",
       "      <td>A</td>\n",
       "      <td>A</td>\n",
       "      <td>1.71</td>\n",
       "    </tr>\n",
       "    <tr>\n",
       "      <th>31522</th>\n",
       "      <td>7.116585e-01</td>\n",
       "      <td>2.870427e-01</td>\n",
       "      <td>0.001299</td>\n",
       "      <td>A</td>\n",
       "      <td>H</td>\n",
       "      <td>-1.00</td>\n",
       "    </tr>\n",
       "    <tr>\n",
       "      <th>31525</th>\n",
       "      <td>1.519745e-04</td>\n",
       "      <td>6.767101e-03</td>\n",
       "      <td>0.993081</td>\n",
       "      <td>H</td>\n",
       "      <td>D</td>\n",
       "      <td>-1.00</td>\n",
       "    </tr>\n",
       "    <tr>\n",
       "      <th>31560</th>\n",
       "      <td>3.410518e-04</td>\n",
       "      <td>6.359051e-03</td>\n",
       "      <td>0.993300</td>\n",
       "      <td>H</td>\n",
       "      <td>H</td>\n",
       "      <td>1.39</td>\n",
       "    </tr>\n",
       "    <tr>\n",
       "      <th>31561</th>\n",
       "      <td>3.647463e-04</td>\n",
       "      <td>1.555933e-03</td>\n",
       "      <td>0.998079</td>\n",
       "      <td>H</td>\n",
       "      <td>A</td>\n",
       "      <td>-1.00</td>\n",
       "    </tr>\n",
       "    <tr>\n",
       "      <th>31562</th>\n",
       "      <td>3.174371e-04</td>\n",
       "      <td>1.241107e-01</td>\n",
       "      <td>0.875572</td>\n",
       "      <td>H</td>\n",
       "      <td>H</td>\n",
       "      <td>1.34</td>\n",
       "    </tr>\n",
       "    <tr>\n",
       "      <th>31563</th>\n",
       "      <td>4.848636e-01</td>\n",
       "      <td>5.032283e-01</td>\n",
       "      <td>0.011908</td>\n",
       "      <td>D</td>\n",
       "      <td>H</td>\n",
       "      <td>-1.00</td>\n",
       "    </tr>\n",
       "    <tr>\n",
       "      <th>31564</th>\n",
       "      <td>7.602077e-04</td>\n",
       "      <td>2.660653e-03</td>\n",
       "      <td>0.996579</td>\n",
       "      <td>H</td>\n",
       "      <td>A</td>\n",
       "      <td>-1.00</td>\n",
       "    </tr>\n",
       "    <tr>\n",
       "      <th>31565</th>\n",
       "      <td>9.593356e-01</td>\n",
       "      <td>3.880982e-02</td>\n",
       "      <td>0.001855</td>\n",
       "      <td>A</td>\n",
       "      <td>D</td>\n",
       "      <td>-1.00</td>\n",
       "    </tr>\n",
       "    <tr>\n",
       "      <th>31566</th>\n",
       "      <td>6.412662e-04</td>\n",
       "      <td>1.931304e-03</td>\n",
       "      <td>0.997427</td>\n",
       "      <td>H</td>\n",
       "      <td>H</td>\n",
       "      <td>1.56</td>\n",
       "    </tr>\n",
       "    <tr>\n",
       "      <th>31567</th>\n",
       "      <td>7.325434e-13</td>\n",
       "      <td>2.170563e-08</td>\n",
       "      <td>1.000000</td>\n",
       "      <td>H</td>\n",
       "      <td>H</td>\n",
       "      <td>1.56</td>\n",
       "    </tr>\n",
       "    <tr>\n",
       "      <th>31568</th>\n",
       "      <td>4.237472e-02</td>\n",
       "      <td>5.020340e-01</td>\n",
       "      <td>0.455591</td>\n",
       "      <td>D</td>\n",
       "      <td>H</td>\n",
       "      <td>-1.00</td>\n",
       "    </tr>\n",
       "    <tr>\n",
       "      <th>31569</th>\n",
       "      <td>5.552533e-01</td>\n",
       "      <td>1.902727e-01</td>\n",
       "      <td>0.254474</td>\n",
       "      <td>A</td>\n",
       "      <td>H</td>\n",
       "      <td>-1.00</td>\n",
       "    </tr>\n",
       "  </tbody>\n",
       "</table>\n",
       "<p>1433 rows × 6 columns</p>\n",
       "</div>"
      ],
      "text/plain": [
       "            probs_A       probs_D   probs_H pred INFO_FTR   WIN\n",
       "16673  3.099558e-01  4.526361e-01  0.237408    D        H -1.00\n",
       "16692  4.509924e-02  2.382715e-01  0.716629    H        D -1.00\n",
       "16693  8.202780e-01  6.346258e-02  0.116259    A        H -1.00\n",
       "16694  9.521203e-01  4.688306e-02  0.000997    A        D -1.00\n",
       "16695  6.006381e-01  3.761826e-01  0.023179    A        H -1.00\n",
       "16696  3.945726e-01  2.896905e-01  0.315737    A        D -1.00\n",
       "16697  3.223634e-08  6.019397e-06  0.999994    H        H  1.22\n",
       "16698  6.642365e-02  1.359139e-01  0.797662    H        H  2.07\n",
       "16726  1.672998e-05  3.449282e-04  0.999638    H        A -1.00\n",
       "16727  9.918845e-01  7.990043e-03  0.000125    A        H -1.00\n",
       "16728  2.218295e-01  6.093426e-01  0.168828    D        A -1.00\n",
       "16753  1.964903e-01  6.393602e-02  0.739574    H        H  2.08\n",
       "16754  1.198085e-02  2.194599e-02  0.966073    H        D -1.00\n",
       "16765  5.771038e-02  1.126212e-01  0.829668    H        H  1.62\n",
       "16766  3.761454e-10  1.295146e-06  0.999999    H        H  1.20\n",
       "16767  2.194185e-01  7.105737e-01  0.070008    D        D  3.63\n",
       "16768  2.413707e-01  7.521379e-01  0.006491    D        D  3.22\n",
       "16769  3.124851e-04  5.988340e-03  0.993699    H        A -1.00\n",
       "16770  4.934105e-01  2.094372e-02  0.485646    A        D -1.00\n",
       "16771  1.066955e-01  8.052729e-01  0.088032    D        D  3.58\n",
       "16772  5.723253e-01  5.288086e-02  0.374794    A        A  1.63\n",
       "16799  3.716743e-01  6.113829e-01  0.016943    D        D  3.49\n",
       "16800  1.082621e-01  1.291287e-01  0.762609    H        D -1.00\n",
       "16801  7.225093e-02  5.610753e-01  0.366674    D        D  3.33\n",
       "16802  1.657997e-01  5.339763e-01  0.300224    D        H -1.00\n",
       "16803  3.909600e-02  8.106365e-02  0.879840    H        H  1.61\n",
       "16804  3.909461e-01  5.469777e-01  0.062076    D        D  3.54\n",
       "16805  2.186883e-01  1.593633e-02  0.765375    H        H  2.46\n",
       "16806  1.135314e-01  8.586829e-01  0.027786    D        A -1.00\n",
       "16847  1.478629e-09  8.517587e-07  0.999999    H        A -1.00\n",
       "...             ...           ...       ...  ...      ...   ...\n",
       "31426  9.820152e-01  1.612218e-02  0.001863    A        A  1.85\n",
       "31427  6.014928e-05  1.603564e-03  0.998336    H        A -1.00\n",
       "31428  6.582171e-01  2.659177e-01  0.075865    A        A  4.27\n",
       "31429  4.692843e-03  9.987427e-04  0.994308    H        H  2.55\n",
       "31430  4.150782e-01  4.198778e-01  0.165044    D        D  3.24\n",
       "31431  6.274115e-01  2.295866e-01  0.143002    A        H -1.00\n",
       "31450  2.030970e-03  2.959450e-02  0.968375    H        D -1.00\n",
       "31451  7.998900e-13  7.349341e-09  1.000000    H        H  1.21\n",
       "31467  5.782133e-05  4.488106e-03  0.995454    H        A -1.00\n",
       "31480  2.687226e-01  5.520344e-01  0.179243    D        D  3.23\n",
       "31481  4.176033e-02  3.619426e-02  0.922045    H        A -1.00\n",
       "31482  7.665216e-01  8.729594e-03  0.224749    A        H -1.00\n",
       "31483  5.933074e-01  1.284363e-01  0.278256    A        H -1.00\n",
       "31484  1.050457e-01  8.790492e-01  0.015905    D        D  3.22\n",
       "31485  6.451118e-01  1.786314e-01  0.176257    A        H -1.00\n",
       "31486  5.504440e-01  9.219347e-02  0.357362    A        A  2.49\n",
       "31504  7.755598e-01  1.422544e-01  0.082186    A        D -1.00\n",
       "31505  8.900628e-01  5.962740e-02  0.050310    A        A  1.71\n",
       "31522  7.116585e-01  2.870427e-01  0.001299    A        H -1.00\n",
       "31525  1.519745e-04  6.767101e-03  0.993081    H        D -1.00\n",
       "31560  3.410518e-04  6.359051e-03  0.993300    H        H  1.39\n",
       "31561  3.647463e-04  1.555933e-03  0.998079    H        A -1.00\n",
       "31562  3.174371e-04  1.241107e-01  0.875572    H        H  1.34\n",
       "31563  4.848636e-01  5.032283e-01  0.011908    D        H -1.00\n",
       "31564  7.602077e-04  2.660653e-03  0.996579    H        A -1.00\n",
       "31565  9.593356e-01  3.880982e-02  0.001855    A        D -1.00\n",
       "31566  6.412662e-04  1.931304e-03  0.997427    H        H  1.56\n",
       "31567  7.325434e-13  2.170563e-08  1.000000    H        H  1.56\n",
       "31568  4.237472e-02  5.020340e-01  0.455591    D        H -1.00\n",
       "31569  5.552533e-01  1.902727e-01  0.254474    A        H -1.00\n",
       "\n",
       "[1433 rows x 6 columns]"
      ]
     },
     "execution_count": 28,
     "metadata": {},
     "output_type": "execute_result"
    }
   ],
   "source": [
    "df[['probs_A','probs_D','probs_H','pred', 'INFO_FTR', 'WIN']]"
   ]
  },
  {
   "cell_type": "code",
   "execution_count": 29,
   "metadata": {},
   "outputs": [
    {
     "data": {
      "text/plain": [
       "1.8277134388006113"
      ]
     },
     "execution_count": 29,
     "metadata": {},
     "output_type": "execute_result"
    }
   ],
   "source": [
    "# Compute cross-entropy score\n",
    "log_loss(y, X_probs)"
   ]
  },
  {
   "cell_type": "code",
   "execution_count": 30,
   "metadata": {},
   "outputs": [
    {
     "name": "stdout",
     "output_type": "stream",
     "text": [
      "             precision    recall  f1-score   support\n",
      "\n",
      "          A       0.44      0.56      0.49       417\n",
      "          D       0.36      0.30      0.32       349\n",
      "          H       0.62      0.58      0.60       667\n",
      "\n",
      "avg / total       0.51      0.50      0.50      1433\n",
      "\n"
     ]
    }
   ],
   "source": [
    "# Compute precision, recall, F-measure and support\n",
    "from sklearn.metrics import classification_report\n",
    "print(classification_report(y, X_pred, target_names=['A', 'D', 'H']))"
   ]
  },
  {
   "cell_type": "code",
   "execution_count": 31,
   "metadata": {},
   "outputs": [
    {
     "data": {
      "text/plain": [
       "(1433, 198)"
      ]
     },
     "execution_count": 31,
     "metadata": {},
     "output_type": "execute_result"
    }
   ],
   "source": [
    "df_bet_all_seasons.shape"
   ]
  },
  {
   "cell_type": "code",
   "execution_count": 32,
   "metadata": {},
   "outputs": [
    {
     "data": {
      "text/plain": [
       "None"
      ]
     },
     "metadata": {},
     "output_type": "display_data"
    },
    {
     "data": {
      "text/plain": [
       "H    46.545708\n",
       "A    29.099791\n",
       "D    24.354501\n",
       "Name: INFO_FTR, dtype: float64"
      ]
     },
     "metadata": {},
     "output_type": "display_data"
    }
   ],
   "source": [
    "# What will be the real result of games I bet on\n",
    "display(plt.show(), 100. * df_bet_all_seasons.INFO_FTR.value_counts() / len(df_bet_all_seasons.INFO_FTR))"
   ]
  },
  {
   "cell_type": "code",
   "execution_count": 33,
   "metadata": {},
   "outputs": [
    {
     "data": {
      "text/plain": [
       "0.5623168178646196"
      ]
     },
     "execution_count": 33,
     "metadata": {},
     "output_type": "execute_result"
    }
   ],
   "source": [
    "df_bet_all_seasons.WIN.mean()"
   ]
  },
  {
   "cell_type": "markdown",
   "metadata": {},
   "source": [
    "# SEASON 2016/2017 TEST"
   ]
  },
  {
   "cell_type": "code",
   "execution_count": 34,
   "metadata": {
    "collapsed": true
   },
   "outputs": [],
   "source": [
    "# Apply on current season that is not use for train and test set\n",
    "X_pred_current_season = clf.predict(X_current_season)\n",
    "X_prob_current_season = clf.predict_proba(X_current_season)\n",
    "\n",
    "df_current_season['probs_A'] = X_prob_current_season[:,0]\n",
    "df_current_season['probs_D'] = X_prob_current_season[:,1]\n",
    "df_current_season['probs_H'] = X_prob_current_season[:,2]\n",
    "df_current_season['probs'] = df_current_season[['probs_A','probs_D','probs_H']].max(axis=1)\n",
    "\n",
    "df_current_season['pred'] = X_pred_current_season\n",
    "\n",
    "df_current_season['WIN'] = -1\n",
    "df_current_season.loc[df_current_season.INFO_FTR == df_current_season.pred, 'WIN'] = df_current_season['INFO_WIN']-1\n",
    "\n",
    "df_current_season['WIN_P'] = -1\n",
    "df_current_season.loc[df_current_season.INFO_FTR == df_current_season.pred, 'WIN_P'] = df_current_season['INFO_WIN_P']-1\n",
    "\n",
    "df_current_season['INFO_ODD'] = 0\n",
    "df_current_season.loc[df_current_season.pred == 'A', 'INFO_ODD_BET'] = df_current_season[odd_A]\n",
    "df_current_season.loc[df_current_season.pred == 'D', 'INFO_ODD_BET'] = df_current_season[odd_D]\n",
    "df_current_season.loc[df_current_season.pred == 'H', 'INFO_ODD_BET'] = df_current_season[odd_H]\n",
    "\n",
    "#TODO\n",
    "# test prob_less_bet <= 0.2 et si ceux que je predisais H je les mettais A en fait !\n",
    "\n",
    "df_current_season['prob_less_bet'] = 0\n",
    "df_current_season.loc[df_current_season.pred == 'A', 'prob_less_bet'] = df_current_season['probs'] - df_current_season[odd_A].apply(lambda x: 1/x)\n",
    "df_current_season.loc[df_current_season.pred == 'D', 'prob_less_bet'] = df_current_season['probs'] - df_current_season[odd_D].apply(lambda x: 1/x)\n",
    "df_current_season.loc[df_current_season.pred == 'H', 'prob_less_bet'] = df_current_season['probs'] - df_current_season[odd_H].apply(lambda x: 1/x)"
   ]
  },
  {
   "cell_type": "code",
   "execution_count": 35,
   "metadata": {},
   "outputs": [
    {
     "data": {
      "text/plain": [
       "(273,)"
      ]
     },
     "execution_count": 35,
     "metadata": {},
     "output_type": "execute_result"
    }
   ],
   "source": [
    "# How many matches was play\n",
    "X_pred_current_season.shape"
   ]
  },
  {
   "cell_type": "code",
   "execution_count": 36,
   "metadata": {},
   "outputs": [
    {
     "name": "stdout",
     "output_type": "stream",
     "text": [
      "             precision    recall  f1-score   support\n",
      "\n",
      "          A       0.33      0.45      0.38        76\n",
      "          D       0.23      0.13      0.17        77\n",
      "          H       0.47      0.49      0.48       120\n",
      "\n",
      "avg / total       0.36      0.38      0.36       273\n",
      "\n"
     ]
    }
   ],
   "source": [
    "# Score for this current season\n",
    "from sklearn.metrics import classification_report\n",
    "print(classification_report(y_current_season, X_pred_current_season, target_names=['A', 'D', 'H']))"
   ]
  },
  {
   "cell_type": "code",
   "execution_count": 87,
   "metadata": {
    "collapsed": true
   },
   "outputs": [],
   "source": [
    "# Remove games I didn't bet on\n",
    "df_bet_current_season = df_current_season\n",
    "#df_bet_current_season = df_bet_current_season.drop(df_bet_current_season[df_bet_current_season.probs <= 0.7].index)\n",
    "#df_bet_current_season = df_bet_current_season.drop(df_bet_current_season[df_bet_current_season.pred != 'H'].index)\n",
    "#df_bet_current_season = df_bet_current_season.drop(df_bet_current_season[df_bet_current_season.pred == 'D'].index)\n",
    "#df_bet_current_season = df_bet_current_season.drop(df_bet_current_season[df_bet_current_season.prob_less_bet <= 0].index)\n",
    "#df_bet_current_season = df_bet_current_season[df_bet_current_season.prob_less_bet > 0]\n",
    "#df_bet_current_season = df_bet_current_season[df_bet_current_season['INFO_ODD_BET'] > 2]\n",
    "#df_bet_current_season = df_bet_current_season[df_bet_current_season['INFO_ODD_BET'] < 5]"
   ]
  },
  {
   "cell_type": "code",
   "execution_count": 88,
   "metadata": {},
   "outputs": [
    {
     "data": {
      "text/plain": [
       "(164, 202)"
      ]
     },
     "execution_count": 88,
     "metadata": {},
     "output_type": "execute_result"
    }
   ],
   "source": [
    "# How many bet I did\n",
    "df_bet_current_season.shape"
   ]
  },
  {
   "cell_type": "code",
   "execution_count": 89,
   "metadata": {},
   "outputs": [
    {
     "data": {
      "text/plain": [
       "None"
      ]
     },
     "metadata": {},
     "output_type": "display_data"
    },
    {
     "data": {
      "text/plain": [
       "H    45.731707\n",
       "D    28.048780\n",
       "A    26.219512\n",
       "Name: INFO_FTR, dtype: float64"
      ]
     },
     "metadata": {},
     "output_type": "display_data"
    }
   ],
   "source": [
    "# What will be the real result of games I bet on\n",
    "display(plt.show(), 100. * df_bet_current_season.INFO_FTR.value_counts() / len(df_bet_current_season.INFO_FTR))"
   ]
  },
  {
   "cell_type": "code",
   "execution_count": 90,
   "metadata": {},
   "outputs": [
    {
     "data": {
      "text/plain": [
       "None"
      ]
     },
     "metadata": {},
     "output_type": "display_data"
    },
    {
     "data": {
      "text/plain": [
       "H    54.878049\n",
       "A    39.634146\n",
       "D     5.487805\n",
       "Name: pred, dtype: float64"
      ]
     },
     "metadata": {},
     "output_type": "display_data"
    }
   ],
   "source": [
    "# What will I bet on\n",
    "display(plt.show(), 100. * df_bet_current_season.pred.value_counts() / len(df_bet_current_season.pred))"
   ]
  },
  {
   "cell_type": "code",
   "execution_count": 91,
   "metadata": {},
   "outputs": [
    {
     "data": {
      "text/plain": [
       "2.0174404772516108"
      ]
     },
     "execution_count": 91,
     "metadata": {},
     "output_type": "execute_result"
    }
   ],
   "source": [
    "# Compute cross-entropy score\n",
    "log_loss(y_current_season, X_prob_current_season)"
   ]
  },
  {
   "cell_type": "code",
   "execution_count": 92,
   "metadata": {},
   "outputs": [
    {
     "data": {
      "text/plain": [
       "array([ 0.44736842,  0.12987013,  0.49166667])"
      ]
     },
     "execution_count": 92,
     "metadata": {},
     "output_type": "execute_result"
    }
   ],
   "source": [
    "from sklearn.metrics import recall_score\n",
    "recall_score(y_current_season, X_pred_current_season, average=None)"
   ]
  },
  {
   "cell_type": "code",
   "execution_count": 93,
   "metadata": {},
   "outputs": [
    {
     "data": {
      "text/plain": [
       "0.37728937728937728"
      ]
     },
     "execution_count": 93,
     "metadata": {},
     "output_type": "execute_result"
    }
   ],
   "source": [
    "from sklearn.metrics import accuracy_score\n",
    "accuracy_score(y_current_season, X_pred_current_season)"
   ]
  },
  {
   "cell_type": "code",
   "execution_count": 94,
   "metadata": {},
   "outputs": [
    {
     "data": {
      "text/plain": [
       "0.900495483938831"
      ]
     },
     "execution_count": 94,
     "metadata": {},
     "output_type": "execute_result"
    }
   ],
   "source": [
    "df_bet_current_season.probs.mean()"
   ]
  },
  {
   "cell_type": "code",
   "execution_count": 95,
   "metadata": {},
   "outputs": [
    {
     "data": {
      "text/plain": [
       "2.8631097560975616"
      ]
     },
     "execution_count": 95,
     "metadata": {},
     "output_type": "execute_result"
    }
   ],
   "source": [
    "df_bet_current_season.INFO_WIN.mean()"
   ]
  },
  {
   "cell_type": "code",
   "execution_count": 96,
   "metadata": {},
   "outputs": [
    {
     "data": {
      "text/plain": [
       "2.9720121951219505"
      ]
     },
     "execution_count": 96,
     "metadata": {},
     "output_type": "execute_result"
    }
   ],
   "source": [
    "df_bet_current_season.INFO_WIN_P.mean()"
   ]
  },
  {
   "cell_type": "code",
   "execution_count": 97,
   "metadata": {},
   "outputs": [
    {
     "data": {
      "text/plain": [
       "-0.09999999999999996"
      ]
     },
     "execution_count": 97,
     "metadata": {},
     "output_type": "execute_result"
    }
   ],
   "source": [
    "# What I win/lost on each match\n",
    "df_bet_current_season.WIN.mean()"
   ]
  },
  {
   "cell_type": "code",
   "execution_count": 98,
   "metadata": {},
   "outputs": [
    {
     "data": {
      "text/plain": [
       "-0.08280487804878048"
      ]
     },
     "execution_count": 98,
     "metadata": {},
     "output_type": "execute_result"
    }
   ],
   "source": [
    "df_bet_current_season.WIN_P.mean()"
   ]
  },
  {
   "cell_type": "code",
   "execution_count": 99,
   "metadata": {},
   "outputs": [
    {
     "data": {
      "text/html": [
       "<div>\n",
       "<style>\n",
       "    .dataframe thead tr:only-child th {\n",
       "        text-align: right;\n",
       "    }\n",
       "\n",
       "    .dataframe thead th {\n",
       "        text-align: left;\n",
       "    }\n",
       "\n",
       "    .dataframe tbody tr th {\n",
       "        vertical-align: top;\n",
       "    }\n",
       "</style>\n",
       "<table border=\"1\" class=\"dataframe\">\n",
       "  <thead>\n",
       "    <tr style=\"text-align: right;\">\n",
       "      <th></th>\n",
       "      <th>INFO_Date</th>\n",
       "      <th>probs_A</th>\n",
       "      <th>probs_D</th>\n",
       "      <th>probs_H</th>\n",
       "      <th>probs</th>\n",
       "      <th>prob_less_bet</th>\n",
       "      <th>pred</th>\n",
       "      <th>INFO_FTR</th>\n",
       "      <th>WIN</th>\n",
       "    </tr>\n",
       "  </thead>\n",
       "  <tbody>\n",
       "    <tr>\n",
       "      <th>32562</th>\n",
       "      <td>2015-11-02</td>\n",
       "      <td>1.455122e-02</td>\n",
       "      <td>0.073232</td>\n",
       "      <td>9.122168e-01</td>\n",
       "      <td>0.912217</td>\n",
       "      <td>0.207991</td>\n",
       "      <td>H</td>\n",
       "      <td>H</td>\n",
       "      <td>0.42</td>\n",
       "    </tr>\n",
       "    <tr>\n",
       "      <th>32591</th>\n",
       "      <td>2015-11-07</td>\n",
       "      <td>7.247992e-01</td>\n",
       "      <td>0.259472</td>\n",
       "      <td>1.572830e-02</td>\n",
       "      <td>0.724799</td>\n",
       "      <td>0.492241</td>\n",
       "      <td>A</td>\n",
       "      <td>H</td>\n",
       "      <td>-1.00</td>\n",
       "    </tr>\n",
       "    <tr>\n",
       "      <th>32592</th>\n",
       "      <td>2015-11-07</td>\n",
       "      <td>3.154053e-02</td>\n",
       "      <td>0.043773</td>\n",
       "      <td>9.246869e-01</td>\n",
       "      <td>0.924687</td>\n",
       "      <td>0.172807</td>\n",
       "      <td>H</td>\n",
       "      <td>H</td>\n",
       "      <td>0.33</td>\n",
       "    </tr>\n",
       "    <tr>\n",
       "      <th>32594</th>\n",
       "      <td>2015-11-07</td>\n",
       "      <td>7.405937e-01</td>\n",
       "      <td>0.249943</td>\n",
       "      <td>9.463682e-03</td>\n",
       "      <td>0.740594</td>\n",
       "      <td>0.255157</td>\n",
       "      <td>A</td>\n",
       "      <td>H</td>\n",
       "      <td>-1.00</td>\n",
       "    </tr>\n",
       "    <tr>\n",
       "      <th>32595</th>\n",
       "      <td>2015-11-07</td>\n",
       "      <td>8.532808e-01</td>\n",
       "      <td>0.146706</td>\n",
       "      <td>1.296337e-05</td>\n",
       "      <td>0.853281</td>\n",
       "      <td>0.291483</td>\n",
       "      <td>A</td>\n",
       "      <td>A</td>\n",
       "      <td>0.78</td>\n",
       "    </tr>\n",
       "    <tr>\n",
       "      <th>32596</th>\n",
       "      <td>2015-11-07</td>\n",
       "      <td>9.191955e-01</td>\n",
       "      <td>0.065114</td>\n",
       "      <td>1.569074e-02</td>\n",
       "      <td>0.919195</td>\n",
       "      <td>0.559483</td>\n",
       "      <td>A</td>\n",
       "      <td>D</td>\n",
       "      <td>-1.00</td>\n",
       "    </tr>\n",
       "    <tr>\n",
       "      <th>32629</th>\n",
       "      <td>2015-11-08</td>\n",
       "      <td>9.438950e-01</td>\n",
       "      <td>0.055437</td>\n",
       "      <td>6.682733e-04</td>\n",
       "      <td>0.943895</td>\n",
       "      <td>0.249451</td>\n",
       "      <td>A</td>\n",
       "      <td>D</td>\n",
       "      <td>-1.00</td>\n",
       "    </tr>\n",
       "    <tr>\n",
       "      <th>32666</th>\n",
       "      <td>2015-11-21</td>\n",
       "      <td>5.765278e-02</td>\n",
       "      <td>0.028558</td>\n",
       "      <td>9.137889e-01</td>\n",
       "      <td>0.913789</td>\n",
       "      <td>0.209564</td>\n",
       "      <td>H</td>\n",
       "      <td>H</td>\n",
       "      <td>0.42</td>\n",
       "    </tr>\n",
       "    <tr>\n",
       "      <th>32668</th>\n",
       "      <td>2015-11-21</td>\n",
       "      <td>4.131835e-03</td>\n",
       "      <td>0.041592</td>\n",
       "      <td>9.542761e-01</td>\n",
       "      <td>0.954276</td>\n",
       "      <td>0.351866</td>\n",
       "      <td>H</td>\n",
       "      <td>A</td>\n",
       "      <td>-1.00</td>\n",
       "    </tr>\n",
       "    <tr>\n",
       "      <th>32669</th>\n",
       "      <td>2015-11-21</td>\n",
       "      <td>9.168554e-01</td>\n",
       "      <td>0.081315</td>\n",
       "      <td>1.829476e-03</td>\n",
       "      <td>0.916855</td>\n",
       "      <td>0.518449</td>\n",
       "      <td>A</td>\n",
       "      <td>A</td>\n",
       "      <td>1.51</td>\n",
       "    </tr>\n",
       "    <tr>\n",
       "      <th>32670</th>\n",
       "      <td>2015-11-21</td>\n",
       "      <td>1.794094e-02</td>\n",
       "      <td>0.063507</td>\n",
       "      <td>9.185520e-01</td>\n",
       "      <td>0.918552</td>\n",
       "      <td>0.289621</td>\n",
       "      <td>H</td>\n",
       "      <td>A</td>\n",
       "      <td>-1.00</td>\n",
       "    </tr>\n",
       "    <tr>\n",
       "      <th>32671</th>\n",
       "      <td>2015-11-21</td>\n",
       "      <td>8.987257e-01</td>\n",
       "      <td>0.070939</td>\n",
       "      <td>3.033564e-02</td>\n",
       "      <td>0.898726</td>\n",
       "      <td>0.668311</td>\n",
       "      <td>A</td>\n",
       "      <td>D</td>\n",
       "      <td>-1.00</td>\n",
       "    </tr>\n",
       "    <tr>\n",
       "      <th>32673</th>\n",
       "      <td>2015-11-21</td>\n",
       "      <td>9.991464e-01</td>\n",
       "      <td>0.000853</td>\n",
       "      <td>7.040417e-07</td>\n",
       "      <td>0.999146</td>\n",
       "      <td>0.349796</td>\n",
       "      <td>A</td>\n",
       "      <td>H</td>\n",
       "      <td>-1.00</td>\n",
       "    </tr>\n",
       "    <tr>\n",
       "      <th>32760</th>\n",
       "      <td>2015-11-28</td>\n",
       "      <td>9.032604e-02</td>\n",
       "      <td>0.167498</td>\n",
       "      <td>7.421757e-01</td>\n",
       "      <td>0.742176</td>\n",
       "      <td>0.150460</td>\n",
       "      <td>H</td>\n",
       "      <td>H</td>\n",
       "      <td>0.69</td>\n",
       "    </tr>\n",
       "    <tr>\n",
       "      <th>32761</th>\n",
       "      <td>2015-11-28</td>\n",
       "      <td>8.191961e-01</td>\n",
       "      <td>0.176556</td>\n",
       "      <td>4.248128e-03</td>\n",
       "      <td>0.819196</td>\n",
       "      <td>0.391846</td>\n",
       "      <td>A</td>\n",
       "      <td>D</td>\n",
       "      <td>-1.00</td>\n",
       "    </tr>\n",
       "    <tr>\n",
       "      <th>32763</th>\n",
       "      <td>2015-11-28</td>\n",
       "      <td>8.588771e-01</td>\n",
       "      <td>0.127435</td>\n",
       "      <td>1.368810e-02</td>\n",
       "      <td>0.858877</td>\n",
       "      <td>0.443939</td>\n",
       "      <td>A</td>\n",
       "      <td>H</td>\n",
       "      <td>-1.00</td>\n",
       "    </tr>\n",
       "    <tr>\n",
       "      <th>32807</th>\n",
       "      <td>2015-11-29</td>\n",
       "      <td>9.841443e-01</td>\n",
       "      <td>0.004347</td>\n",
       "      <td>1.150849e-02</td>\n",
       "      <td>0.984144</td>\n",
       "      <td>0.359144</td>\n",
       "      <td>A</td>\n",
       "      <td>D</td>\n",
       "      <td>-1.00</td>\n",
       "    </tr>\n",
       "    <tr>\n",
       "      <th>32808</th>\n",
       "      <td>2015-11-29</td>\n",
       "      <td>7.007899e-03</td>\n",
       "      <td>0.003668</td>\n",
       "      <td>9.893237e-01</td>\n",
       "      <td>0.989324</td>\n",
       "      <td>0.595623</td>\n",
       "      <td>H</td>\n",
       "      <td>D</td>\n",
       "      <td>-1.00</td>\n",
       "    </tr>\n",
       "    <tr>\n",
       "      <th>32809</th>\n",
       "      <td>2015-11-29</td>\n",
       "      <td>7.720292e-01</td>\n",
       "      <td>0.121060</td>\n",
       "      <td>1.069107e-01</td>\n",
       "      <td>0.772029</td>\n",
       "      <td>0.510933</td>\n",
       "      <td>A</td>\n",
       "      <td>D</td>\n",
       "      <td>-1.00</td>\n",
       "    </tr>\n",
       "    <tr>\n",
       "      <th>32850</th>\n",
       "      <td>2015-12-05</td>\n",
       "      <td>7.423479e-04</td>\n",
       "      <td>0.003256</td>\n",
       "      <td>9.960014e-01</td>\n",
       "      <td>0.996001</td>\n",
       "      <td>0.208600</td>\n",
       "      <td>H</td>\n",
       "      <td>H</td>\n",
       "      <td>0.27</td>\n",
       "    </tr>\n",
       "    <tr>\n",
       "      <th>32852</th>\n",
       "      <td>2015-12-05</td>\n",
       "      <td>6.052814e-03</td>\n",
       "      <td>0.001394</td>\n",
       "      <td>9.925532e-01</td>\n",
       "      <td>0.992553</td>\n",
       "      <td>0.293252</td>\n",
       "      <td>H</td>\n",
       "      <td>D</td>\n",
       "      <td>-1.00</td>\n",
       "    </tr>\n",
       "    <tr>\n",
       "      <th>32854</th>\n",
       "      <td>2015-12-05</td>\n",
       "      <td>8.381217e-01</td>\n",
       "      <td>0.161857</td>\n",
       "      <td>2.092227e-05</td>\n",
       "      <td>0.838122</td>\n",
       "      <td>0.246406</td>\n",
       "      <td>A</td>\n",
       "      <td>H</td>\n",
       "      <td>-1.00</td>\n",
       "    </tr>\n",
       "    <tr>\n",
       "      <th>32855</th>\n",
       "      <td>2015-12-05</td>\n",
       "      <td>9.710500e-01</td>\n",
       "      <td>0.028721</td>\n",
       "      <td>2.287331e-04</td>\n",
       "      <td>0.971050</td>\n",
       "      <td>0.597916</td>\n",
       "      <td>A</td>\n",
       "      <td>A</td>\n",
       "      <td>1.68</td>\n",
       "    </tr>\n",
       "    <tr>\n",
       "      <th>32857</th>\n",
       "      <td>2015-12-05</td>\n",
       "      <td>9.150776e-01</td>\n",
       "      <td>0.082656</td>\n",
       "      <td>2.266217e-03</td>\n",
       "      <td>0.915078</td>\n",
       "      <td>0.377443</td>\n",
       "      <td>A</td>\n",
       "      <td>D</td>\n",
       "      <td>-1.00</td>\n",
       "    </tr>\n",
       "    <tr>\n",
       "      <th>32885</th>\n",
       "      <td>2015-12-06</td>\n",
       "      <td>9.029079e-01</td>\n",
       "      <td>0.095931</td>\n",
       "      <td>1.160945e-03</td>\n",
       "      <td>0.902908</td>\n",
       "      <td>0.277908</td>\n",
       "      <td>A</td>\n",
       "      <td>H</td>\n",
       "      <td>-1.00</td>\n",
       "    </tr>\n",
       "    <tr>\n",
       "      <th>32916</th>\n",
       "      <td>2015-12-12</td>\n",
       "      <td>6.102044e-04</td>\n",
       "      <td>0.004374</td>\n",
       "      <td>9.950155e-01</td>\n",
       "      <td>0.995016</td>\n",
       "      <td>0.225785</td>\n",
       "      <td>H</td>\n",
       "      <td>H</td>\n",
       "      <td>0.30</td>\n",
       "    </tr>\n",
       "    <tr>\n",
       "      <th>32918</th>\n",
       "      <td>2015-12-12</td>\n",
       "      <td>9.651702e-01</td>\n",
       "      <td>0.033215</td>\n",
       "      <td>1.615230e-03</td>\n",
       "      <td>0.965170</td>\n",
       "      <td>0.586382</td>\n",
       "      <td>A</td>\n",
       "      <td>A</td>\n",
       "      <td>1.64</td>\n",
       "    </tr>\n",
       "    <tr>\n",
       "      <th>32919</th>\n",
       "      <td>2015-12-12</td>\n",
       "      <td>7.089983e-02</td>\n",
       "      <td>0.147231</td>\n",
       "      <td>7.818691e-01</td>\n",
       "      <td>0.781869</td>\n",
       "      <td>0.389712</td>\n",
       "      <td>H</td>\n",
       "      <td>D</td>\n",
       "      <td>-1.00</td>\n",
       "    </tr>\n",
       "    <tr>\n",
       "      <th>32958</th>\n",
       "      <td>2015-12-13</td>\n",
       "      <td>9.160822e-01</td>\n",
       "      <td>0.083615</td>\n",
       "      <td>3.025332e-04</td>\n",
       "      <td>0.916082</td>\n",
       "      <td>0.279140</td>\n",
       "      <td>A</td>\n",
       "      <td>A</td>\n",
       "      <td>0.57</td>\n",
       "    </tr>\n",
       "    <tr>\n",
       "      <th>32959</th>\n",
       "      <td>2015-12-13</td>\n",
       "      <td>4.674686e-03</td>\n",
       "      <td>0.024215</td>\n",
       "      <td>9.711099e-01</td>\n",
       "      <td>0.971110</td>\n",
       "      <td>0.261890</td>\n",
       "      <td>H</td>\n",
       "      <td>D</td>\n",
       "      <td>-1.00</td>\n",
       "    </tr>\n",
       "    <tr>\n",
       "      <th>...</th>\n",
       "      <td>...</td>\n",
       "      <td>...</td>\n",
       "      <td>...</td>\n",
       "      <td>...</td>\n",
       "      <td>...</td>\n",
       "      <td>...</td>\n",
       "      <td>...</td>\n",
       "      <td>...</td>\n",
       "      <td>...</td>\n",
       "    </tr>\n",
       "    <tr>\n",
       "      <th>34496</th>\n",
       "      <td>2016-04-24</td>\n",
       "      <td>1.154578e-03</td>\n",
       "      <td>0.006399</td>\n",
       "      <td>9.924463e-01</td>\n",
       "      <td>0.992446</td>\n",
       "      <td>0.414412</td>\n",
       "      <td>H</td>\n",
       "      <td>H</td>\n",
       "      <td>0.73</td>\n",
       "    </tr>\n",
       "    <tr>\n",
       "      <th>34497</th>\n",
       "      <td>2016-04-24</td>\n",
       "      <td>9.811291e-01</td>\n",
       "      <td>0.012883</td>\n",
       "      <td>5.988224e-03</td>\n",
       "      <td>0.981129</td>\n",
       "      <td>0.412947</td>\n",
       "      <td>A</td>\n",
       "      <td>D</td>\n",
       "      <td>-1.00</td>\n",
       "    </tr>\n",
       "    <tr>\n",
       "      <th>34517</th>\n",
       "      <td>2016-04-25</td>\n",
       "      <td>3.388047e-06</td>\n",
       "      <td>0.000190</td>\n",
       "      <td>9.998064e-01</td>\n",
       "      <td>0.999806</td>\n",
       "      <td>0.180134</td>\n",
       "      <td>H</td>\n",
       "      <td>D</td>\n",
       "      <td>-1.00</td>\n",
       "    </tr>\n",
       "    <tr>\n",
       "      <th>34536</th>\n",
       "      <td>2016-04-30</td>\n",
       "      <td>2.570935e-03</td>\n",
       "      <td>0.034854</td>\n",
       "      <td>9.625747e-01</td>\n",
       "      <td>0.962575</td>\n",
       "      <td>0.168924</td>\n",
       "      <td>H</td>\n",
       "      <td>H</td>\n",
       "      <td>0.26</td>\n",
       "    </tr>\n",
       "    <tr>\n",
       "      <th>34537</th>\n",
       "      <td>2016-04-30</td>\n",
       "      <td>8.601059e-01</td>\n",
       "      <td>0.092607</td>\n",
       "      <td>4.728660e-02</td>\n",
       "      <td>0.860106</td>\n",
       "      <td>0.589103</td>\n",
       "      <td>A</td>\n",
       "      <td>H</td>\n",
       "      <td>-1.00</td>\n",
       "    </tr>\n",
       "    <tr>\n",
       "      <th>34538</th>\n",
       "      <td>2016-04-30</td>\n",
       "      <td>6.279729e-02</td>\n",
       "      <td>0.834887</td>\n",
       "      <td>1.023157e-01</td>\n",
       "      <td>0.834887</td>\n",
       "      <td>0.546703</td>\n",
       "      <td>D</td>\n",
       "      <td>H</td>\n",
       "      <td>-1.00</td>\n",
       "    </tr>\n",
       "    <tr>\n",
       "      <th>34539</th>\n",
       "      <td>2016-04-30</td>\n",
       "      <td>7.035496e-01</td>\n",
       "      <td>0.196909</td>\n",
       "      <td>9.954138e-02</td>\n",
       "      <td>0.703550</td>\n",
       "      <td>0.338586</td>\n",
       "      <td>A</td>\n",
       "      <td>D</td>\n",
       "      <td>-1.00</td>\n",
       "    </tr>\n",
       "    <tr>\n",
       "      <th>34581</th>\n",
       "      <td>2016-05-01</td>\n",
       "      <td>4.386178e-03</td>\n",
       "      <td>0.018498</td>\n",
       "      <td>9.771162e-01</td>\n",
       "      <td>0.977116</td>\n",
       "      <td>0.489311</td>\n",
       "      <td>H</td>\n",
       "      <td>D</td>\n",
       "      <td>-1.00</td>\n",
       "    </tr>\n",
       "    <tr>\n",
       "      <th>34582</th>\n",
       "      <td>2016-05-01</td>\n",
       "      <td>8.709991e-01</td>\n",
       "      <td>0.091871</td>\n",
       "      <td>3.712980e-02</td>\n",
       "      <td>0.870999</td>\n",
       "      <td>0.493641</td>\n",
       "      <td>A</td>\n",
       "      <td>H</td>\n",
       "      <td>-1.00</td>\n",
       "    </tr>\n",
       "    <tr>\n",
       "      <th>34583</th>\n",
       "      <td>2016-05-01</td>\n",
       "      <td>9.613476e-01</td>\n",
       "      <td>0.036502</td>\n",
       "      <td>2.150779e-03</td>\n",
       "      <td>0.961348</td>\n",
       "      <td>0.533997</td>\n",
       "      <td>A</td>\n",
       "      <td>H</td>\n",
       "      <td>-1.00</td>\n",
       "    </tr>\n",
       "    <tr>\n",
       "      <th>34596</th>\n",
       "      <td>2016-05-02</td>\n",
       "      <td>8.778415e-01</td>\n",
       "      <td>0.106192</td>\n",
       "      <td>1.596659e-02</td>\n",
       "      <td>0.877841</td>\n",
       "      <td>0.491741</td>\n",
       "      <td>A</td>\n",
       "      <td>D</td>\n",
       "      <td>-1.00</td>\n",
       "    </tr>\n",
       "    <tr>\n",
       "      <th>34614</th>\n",
       "      <td>2016-05-07</td>\n",
       "      <td>1.050836e-03</td>\n",
       "      <td>0.954284</td>\n",
       "      <td>4.466540e-02</td>\n",
       "      <td>0.954284</td>\n",
       "      <td>0.703027</td>\n",
       "      <td>D</td>\n",
       "      <td>D</td>\n",
       "      <td>2.98</td>\n",
       "    </tr>\n",
       "    <tr>\n",
       "      <th>34615</th>\n",
       "      <td>2016-05-07</td>\n",
       "      <td>2.430224e-02</td>\n",
       "      <td>0.955370</td>\n",
       "      <td>2.032733e-02</td>\n",
       "      <td>0.955370</td>\n",
       "      <td>0.667186</td>\n",
       "      <td>D</td>\n",
       "      <td>D</td>\n",
       "      <td>2.47</td>\n",
       "    </tr>\n",
       "    <tr>\n",
       "      <th>34616</th>\n",
       "      <td>2016-05-07</td>\n",
       "      <td>7.903769e-01</td>\n",
       "      <td>0.133263</td>\n",
       "      <td>7.635961e-02</td>\n",
       "      <td>0.790377</td>\n",
       "      <td>0.525827</td>\n",
       "      <td>A</td>\n",
       "      <td>H</td>\n",
       "      <td>-1.00</td>\n",
       "    </tr>\n",
       "    <tr>\n",
       "      <th>34617</th>\n",
       "      <td>2016-05-07</td>\n",
       "      <td>4.166683e-05</td>\n",
       "      <td>0.000437</td>\n",
       "      <td>9.995214e-01</td>\n",
       "      <td>0.999521</td>\n",
       "      <td>0.464762</td>\n",
       "      <td>H</td>\n",
       "      <td>H</td>\n",
       "      <td>0.87</td>\n",
       "    </tr>\n",
       "    <tr>\n",
       "      <th>34618</th>\n",
       "      <td>2016-05-07</td>\n",
       "      <td>7.821035e-01</td>\n",
       "      <td>0.197505</td>\n",
       "      <td>2.039176e-02</td>\n",
       "      <td>0.782104</td>\n",
       "      <td>0.247344</td>\n",
       "      <td>A</td>\n",
       "      <td>A</td>\n",
       "      <td>0.87</td>\n",
       "    </tr>\n",
       "    <tr>\n",
       "      <th>34619</th>\n",
       "      <td>2016-05-07</td>\n",
       "      <td>9.971655e-01</td>\n",
       "      <td>0.002759</td>\n",
       "      <td>7.578073e-05</td>\n",
       "      <td>0.997165</td>\n",
       "      <td>0.585643</td>\n",
       "      <td>A</td>\n",
       "      <td>H</td>\n",
       "      <td>-1.00</td>\n",
       "    </tr>\n",
       "    <tr>\n",
       "      <th>34620</th>\n",
       "      <td>2016-05-07</td>\n",
       "      <td>1.810429e-04</td>\n",
       "      <td>0.008132</td>\n",
       "      <td>9.916871e-01</td>\n",
       "      <td>0.991687</td>\n",
       "      <td>0.292386</td>\n",
       "      <td>H</td>\n",
       "      <td>A</td>\n",
       "      <td>-1.00</td>\n",
       "    </tr>\n",
       "    <tr>\n",
       "      <th>34649</th>\n",
       "      <td>2016-05-08</td>\n",
       "      <td>4.976830e-07</td>\n",
       "      <td>0.000015</td>\n",
       "      <td>9.999847e-01</td>\n",
       "      <td>0.999985</td>\n",
       "      <td>0.328844</td>\n",
       "      <td>H</td>\n",
       "      <td>H</td>\n",
       "      <td>0.49</td>\n",
       "    </tr>\n",
       "    <tr>\n",
       "      <th>34650</th>\n",
       "      <td>2016-05-08</td>\n",
       "      <td>1.801019e-01</td>\n",
       "      <td>0.083174</td>\n",
       "      <td>7.367238e-01</td>\n",
       "      <td>0.736724</td>\n",
       "      <td>0.333498</td>\n",
       "      <td>H</td>\n",
       "      <td>D</td>\n",
       "      <td>-1.00</td>\n",
       "    </tr>\n",
       "    <tr>\n",
       "      <th>34651</th>\n",
       "      <td>2016-05-08</td>\n",
       "      <td>1.218679e-02</td>\n",
       "      <td>0.029235</td>\n",
       "      <td>9.585784e-01</td>\n",
       "      <td>0.958578</td>\n",
       "      <td>0.453528</td>\n",
       "      <td>H</td>\n",
       "      <td>A</td>\n",
       "      <td>-1.00</td>\n",
       "    </tr>\n",
       "    <tr>\n",
       "      <th>34687</th>\n",
       "      <td>2016-05-11</td>\n",
       "      <td>1.457451e-01</td>\n",
       "      <td>0.147982</td>\n",
       "      <td>7.062731e-01</td>\n",
       "      <td>0.706273</td>\n",
       "      <td>0.128238</td>\n",
       "      <td>H</td>\n",
       "      <td>H</td>\n",
       "      <td>0.73</td>\n",
       "    </tr>\n",
       "    <tr>\n",
       "      <th>34725</th>\n",
       "      <td>2016-05-15</td>\n",
       "      <td>2.644773e-04</td>\n",
       "      <td>0.007672</td>\n",
       "      <td>9.920636e-01</td>\n",
       "      <td>0.992064</td>\n",
       "      <td>0.122498</td>\n",
       "      <td>H</td>\n",
       "      <td>H</td>\n",
       "      <td>0.15</td>\n",
       "    </tr>\n",
       "    <tr>\n",
       "      <th>34726</th>\n",
       "      <td>2016-05-15</td>\n",
       "      <td>9.315306e-01</td>\n",
       "      <td>0.057898</td>\n",
       "      <td>1.057141e-02</td>\n",
       "      <td>0.931531</td>\n",
       "      <td>0.600405</td>\n",
       "      <td>A</td>\n",
       "      <td>D</td>\n",
       "      <td>-1.00</td>\n",
       "    </tr>\n",
       "    <tr>\n",
       "      <th>34728</th>\n",
       "      <td>2016-05-15</td>\n",
       "      <td>2.023052e-01</td>\n",
       "      <td>0.797612</td>\n",
       "      <td>8.326399e-05</td>\n",
       "      <td>0.797612</td>\n",
       "      <td>0.537195</td>\n",
       "      <td>D</td>\n",
       "      <td>H</td>\n",
       "      <td>-1.00</td>\n",
       "    </tr>\n",
       "    <tr>\n",
       "      <th>34729</th>\n",
       "      <td>2016-05-15</td>\n",
       "      <td>4.404400e-03</td>\n",
       "      <td>0.041723</td>\n",
       "      <td>9.538725e-01</td>\n",
       "      <td>0.953872</td>\n",
       "      <td>0.201993</td>\n",
       "      <td>H</td>\n",
       "      <td>H</td>\n",
       "      <td>0.33</td>\n",
       "    </tr>\n",
       "    <tr>\n",
       "      <th>34730</th>\n",
       "      <td>2016-05-15</td>\n",
       "      <td>9.844661e-01</td>\n",
       "      <td>0.014637</td>\n",
       "      <td>8.973565e-04</td>\n",
       "      <td>0.984466</td>\n",
       "      <td>0.508276</td>\n",
       "      <td>A</td>\n",
       "      <td>H</td>\n",
       "      <td>-1.00</td>\n",
       "    </tr>\n",
       "    <tr>\n",
       "      <th>34732</th>\n",
       "      <td>2016-05-15</td>\n",
       "      <td>7.063442e-01</td>\n",
       "      <td>0.193636</td>\n",
       "      <td>1.000196e-01</td>\n",
       "      <td>0.706344</td>\n",
       "      <td>0.427015</td>\n",
       "      <td>A</td>\n",
       "      <td>D</td>\n",
       "      <td>-1.00</td>\n",
       "    </tr>\n",
       "    <tr>\n",
       "      <th>34733</th>\n",
       "      <td>2016-05-15</td>\n",
       "      <td>9.958855e-01</td>\n",
       "      <td>0.003918</td>\n",
       "      <td>1.962078e-04</td>\n",
       "      <td>0.995885</td>\n",
       "      <td>0.652243</td>\n",
       "      <td>A</td>\n",
       "      <td>D</td>\n",
       "      <td>-1.00</td>\n",
       "    </tr>\n",
       "    <tr>\n",
       "      <th>34748</th>\n",
       "      <td>2016-05-17</td>\n",
       "      <td>1.756574e-02</td>\n",
       "      <td>0.025187</td>\n",
       "      <td>9.572474e-01</td>\n",
       "      <td>0.957247</td>\n",
       "      <td>0.354838</td>\n",
       "      <td>H</td>\n",
       "      <td>H</td>\n",
       "      <td>0.66</td>\n",
       "    </tr>\n",
       "  </tbody>\n",
       "</table>\n",
       "<p>164 rows × 9 columns</p>\n",
       "</div>"
      ],
      "text/plain": [
       "       INFO_Date       probs_A   probs_D       probs_H     probs  \\\n",
       "32562 2015-11-02  1.455122e-02  0.073232  9.122168e-01  0.912217   \n",
       "32591 2015-11-07  7.247992e-01  0.259472  1.572830e-02  0.724799   \n",
       "32592 2015-11-07  3.154053e-02  0.043773  9.246869e-01  0.924687   \n",
       "32594 2015-11-07  7.405937e-01  0.249943  9.463682e-03  0.740594   \n",
       "32595 2015-11-07  8.532808e-01  0.146706  1.296337e-05  0.853281   \n",
       "32596 2015-11-07  9.191955e-01  0.065114  1.569074e-02  0.919195   \n",
       "32629 2015-11-08  9.438950e-01  0.055437  6.682733e-04  0.943895   \n",
       "32666 2015-11-21  5.765278e-02  0.028558  9.137889e-01  0.913789   \n",
       "32668 2015-11-21  4.131835e-03  0.041592  9.542761e-01  0.954276   \n",
       "32669 2015-11-21  9.168554e-01  0.081315  1.829476e-03  0.916855   \n",
       "32670 2015-11-21  1.794094e-02  0.063507  9.185520e-01  0.918552   \n",
       "32671 2015-11-21  8.987257e-01  0.070939  3.033564e-02  0.898726   \n",
       "32673 2015-11-21  9.991464e-01  0.000853  7.040417e-07  0.999146   \n",
       "32760 2015-11-28  9.032604e-02  0.167498  7.421757e-01  0.742176   \n",
       "32761 2015-11-28  8.191961e-01  0.176556  4.248128e-03  0.819196   \n",
       "32763 2015-11-28  8.588771e-01  0.127435  1.368810e-02  0.858877   \n",
       "32807 2015-11-29  9.841443e-01  0.004347  1.150849e-02  0.984144   \n",
       "32808 2015-11-29  7.007899e-03  0.003668  9.893237e-01  0.989324   \n",
       "32809 2015-11-29  7.720292e-01  0.121060  1.069107e-01  0.772029   \n",
       "32850 2015-12-05  7.423479e-04  0.003256  9.960014e-01  0.996001   \n",
       "32852 2015-12-05  6.052814e-03  0.001394  9.925532e-01  0.992553   \n",
       "32854 2015-12-05  8.381217e-01  0.161857  2.092227e-05  0.838122   \n",
       "32855 2015-12-05  9.710500e-01  0.028721  2.287331e-04  0.971050   \n",
       "32857 2015-12-05  9.150776e-01  0.082656  2.266217e-03  0.915078   \n",
       "32885 2015-12-06  9.029079e-01  0.095931  1.160945e-03  0.902908   \n",
       "32916 2015-12-12  6.102044e-04  0.004374  9.950155e-01  0.995016   \n",
       "32918 2015-12-12  9.651702e-01  0.033215  1.615230e-03  0.965170   \n",
       "32919 2015-12-12  7.089983e-02  0.147231  7.818691e-01  0.781869   \n",
       "32958 2015-12-13  9.160822e-01  0.083615  3.025332e-04  0.916082   \n",
       "32959 2015-12-13  4.674686e-03  0.024215  9.711099e-01  0.971110   \n",
       "...          ...           ...       ...           ...       ...   \n",
       "34496 2016-04-24  1.154578e-03  0.006399  9.924463e-01  0.992446   \n",
       "34497 2016-04-24  9.811291e-01  0.012883  5.988224e-03  0.981129   \n",
       "34517 2016-04-25  3.388047e-06  0.000190  9.998064e-01  0.999806   \n",
       "34536 2016-04-30  2.570935e-03  0.034854  9.625747e-01  0.962575   \n",
       "34537 2016-04-30  8.601059e-01  0.092607  4.728660e-02  0.860106   \n",
       "34538 2016-04-30  6.279729e-02  0.834887  1.023157e-01  0.834887   \n",
       "34539 2016-04-30  7.035496e-01  0.196909  9.954138e-02  0.703550   \n",
       "34581 2016-05-01  4.386178e-03  0.018498  9.771162e-01  0.977116   \n",
       "34582 2016-05-01  8.709991e-01  0.091871  3.712980e-02  0.870999   \n",
       "34583 2016-05-01  9.613476e-01  0.036502  2.150779e-03  0.961348   \n",
       "34596 2016-05-02  8.778415e-01  0.106192  1.596659e-02  0.877841   \n",
       "34614 2016-05-07  1.050836e-03  0.954284  4.466540e-02  0.954284   \n",
       "34615 2016-05-07  2.430224e-02  0.955370  2.032733e-02  0.955370   \n",
       "34616 2016-05-07  7.903769e-01  0.133263  7.635961e-02  0.790377   \n",
       "34617 2016-05-07  4.166683e-05  0.000437  9.995214e-01  0.999521   \n",
       "34618 2016-05-07  7.821035e-01  0.197505  2.039176e-02  0.782104   \n",
       "34619 2016-05-07  9.971655e-01  0.002759  7.578073e-05  0.997165   \n",
       "34620 2016-05-07  1.810429e-04  0.008132  9.916871e-01  0.991687   \n",
       "34649 2016-05-08  4.976830e-07  0.000015  9.999847e-01  0.999985   \n",
       "34650 2016-05-08  1.801019e-01  0.083174  7.367238e-01  0.736724   \n",
       "34651 2016-05-08  1.218679e-02  0.029235  9.585784e-01  0.958578   \n",
       "34687 2016-05-11  1.457451e-01  0.147982  7.062731e-01  0.706273   \n",
       "34725 2016-05-15  2.644773e-04  0.007672  9.920636e-01  0.992064   \n",
       "34726 2016-05-15  9.315306e-01  0.057898  1.057141e-02  0.931531   \n",
       "34728 2016-05-15  2.023052e-01  0.797612  8.326399e-05  0.797612   \n",
       "34729 2016-05-15  4.404400e-03  0.041723  9.538725e-01  0.953872   \n",
       "34730 2016-05-15  9.844661e-01  0.014637  8.973565e-04  0.984466   \n",
       "34732 2016-05-15  7.063442e-01  0.193636  1.000196e-01  0.706344   \n",
       "34733 2016-05-15  9.958855e-01  0.003918  1.962078e-04  0.995885   \n",
       "34748 2016-05-17  1.756574e-02  0.025187  9.572474e-01  0.957247   \n",
       "\n",
       "       prob_less_bet pred INFO_FTR   WIN  \n",
       "32562       0.207991    H        H  0.42  \n",
       "32591       0.492241    A        H -1.00  \n",
       "32592       0.172807    H        H  0.33  \n",
       "32594       0.255157    A        H -1.00  \n",
       "32595       0.291483    A        A  0.78  \n",
       "32596       0.559483    A        D -1.00  \n",
       "32629       0.249451    A        D -1.00  \n",
       "32666       0.209564    H        H  0.42  \n",
       "32668       0.351866    H        A -1.00  \n",
       "32669       0.518449    A        A  1.51  \n",
       "32670       0.289621    H        A -1.00  \n",
       "32671       0.668311    A        D -1.00  \n",
       "32673       0.349796    A        H -1.00  \n",
       "32760       0.150460    H        H  0.69  \n",
       "32761       0.391846    A        D -1.00  \n",
       "32763       0.443939    A        H -1.00  \n",
       "32807       0.359144    A        D -1.00  \n",
       "32808       0.595623    H        D -1.00  \n",
       "32809       0.510933    A        D -1.00  \n",
       "32850       0.208600    H        H  0.27  \n",
       "32852       0.293252    H        D -1.00  \n",
       "32854       0.246406    A        H -1.00  \n",
       "32855       0.597916    A        A  1.68  \n",
       "32857       0.377443    A        D -1.00  \n",
       "32885       0.277908    A        H -1.00  \n",
       "32916       0.225785    H        H  0.30  \n",
       "32918       0.586382    A        A  1.64  \n",
       "32919       0.389712    H        D -1.00  \n",
       "32958       0.279140    A        A  0.57  \n",
       "32959       0.261890    H        D -1.00  \n",
       "...              ...  ...      ...   ...  \n",
       "34496       0.414412    H        H  0.73  \n",
       "34497       0.412947    A        D -1.00  \n",
       "34517       0.180134    H        D -1.00  \n",
       "34536       0.168924    H        H  0.26  \n",
       "34537       0.589103    A        H -1.00  \n",
       "34538       0.546703    D        H -1.00  \n",
       "34539       0.338586    A        D -1.00  \n",
       "34581       0.489311    H        D -1.00  \n",
       "34582       0.493641    A        H -1.00  \n",
       "34583       0.533997    A        H -1.00  \n",
       "34596       0.491741    A        D -1.00  \n",
       "34614       0.703027    D        D  2.98  \n",
       "34615       0.667186    D        D  2.47  \n",
       "34616       0.525827    A        H -1.00  \n",
       "34617       0.464762    H        H  0.87  \n",
       "34618       0.247344    A        A  0.87  \n",
       "34619       0.585643    A        H -1.00  \n",
       "34620       0.292386    H        A -1.00  \n",
       "34649       0.328844    H        H  0.49  \n",
       "34650       0.333498    H        D -1.00  \n",
       "34651       0.453528    H        A -1.00  \n",
       "34687       0.128238    H        H  0.73  \n",
       "34725       0.122498    H        H  0.15  \n",
       "34726       0.600405    A        D -1.00  \n",
       "34728       0.537195    D        H -1.00  \n",
       "34729       0.201993    H        H  0.33  \n",
       "34730       0.508276    A        H -1.00  \n",
       "34732       0.427015    A        D -1.00  \n",
       "34733       0.652243    A        D -1.00  \n",
       "34748       0.354838    H        H  0.66  \n",
       "\n",
       "[164 rows x 9 columns]"
      ]
     },
     "execution_count": 99,
     "metadata": {},
     "output_type": "execute_result"
    }
   ],
   "source": [
    "df_bet_current_season[['INFO_Date', 'probs_A','probs_D','probs_H', 'probs', 'prob_less_bet', 'pred', 'INFO_FTR', 'WIN']]"
   ]
  },
  {
   "cell_type": "markdown",
   "metadata": {},
   "source": [
    "# Learning Curve"
   ]
  },
  {
   "cell_type": "code",
   "execution_count": 100,
   "metadata": {},
   "outputs": [
    {
     "data": {
      "text/plain": [
       "Index([u'H_MEANS_FIVE_HF', u'H_MEANS_FIVE_HR', u'H_MEANS_FIVE_HS',\n",
       "       u'H_MEANS_FIVE_HST', u'H_MEANS_FIVE_HTAG', u'H_MEANS_FIVE_HTHG',\n",
       "       u'H_MEANS_FIVE_HTR_A', u'H_MEANS_FIVE_HTR_D', u'H_MEANS_FIVE_HTR_H',\n",
       "       u'H_MEANS_FIVE_HY', u'H_MEANS_THREE_AC', u'H_MEANS_THREE_AF',\n",
       "       u'H_MEANS_THREE_AR', u'H_MEANS_THREE_AS', u'H_MEANS_THREE_AST',\n",
       "       u'H_MEANS_THREE_AY', u'H_MEANS_THREE_FTAG', u'H_MEANS_THREE_FTHG',\n",
       "       u'H_MEANS_THREE_FTR_A', u'H_MEANS_THREE_FTR_D', u'H_MEANS_THREE_FTR_H',\n",
       "       u'H_MEANS_THREE_HC', u'H_MEANS_THREE_HF', u'H_MEANS_THREE_HR',\n",
       "       u'H_MEANS_THREE_HS', u'H_MEANS_THREE_HST', u'H_MEANS_THREE_HTAG',\n",
       "       u'H_MEANS_THREE_HTHG', u'H_MEANS_THREE_HTR_A', u'H_MEANS_THREE_HTR_D',\n",
       "       u'H_MEANS_THREE_HTR_H', u'H_MEANS_THREE_HY', u'H_STD_FIVE_AC',\n",
       "       u'H_STD_FIVE_AF', u'H_STD_FIVE_AR', u'H_STD_FIVE_AS', u'H_STD_FIVE_AST',\n",
       "       u'H_STD_FIVE_AY', u'H_STD_FIVE_FTAG', u'H_STD_FIVE_FTHG',\n",
       "       u'H_STD_FIVE_FTR_A', u'H_STD_FIVE_FTR_D', u'H_STD_FIVE_FTR_H',\n",
       "       u'H_STD_FIVE_HC', u'H_STD_FIVE_HF', u'H_STD_FIVE_HR', u'H_STD_FIVE_HS',\n",
       "       u'H_STD_FIVE_HST', u'H_STD_FIVE_HTAG', u'H_STD_FIVE_HTHG',\n",
       "       u'H_STD_FIVE_HTR_A', u'H_STD_FIVE_HTR_D', u'H_STD_FIVE_HTR_H',\n",
       "       u'H_STD_FIVE_HY', u'H_STD_THREE_AC', u'H_STD_THREE_AF',\n",
       "       u'H_STD_THREE_AR', u'H_STD_THREE_AS', u'H_STD_THREE_AST',\n",
       "       u'H_STD_THREE_AY', u'H_STD_THREE_FTAG', u'H_STD_THREE_FTHG',\n",
       "       u'H_STD_THREE_FTR_A', u'H_STD_THREE_FTR_D', u'H_STD_THREE_FTR_H',\n",
       "       u'H_STD_THREE_HC', u'H_STD_THREE_HF', u'H_STD_THREE_HR',\n",
       "       u'H_STD_THREE_HS', u'H_STD_THREE_HST', u'H_STD_THREE_HTAG',\n",
       "       u'H_STD_THREE_HTHG', u'H_STD_THREE_HTR_A', u'H_STD_THREE_HTR_D',\n",
       "       u'H_STD_THREE_HTR_H', u'H_STD_THREE_HY', u'INFO_AwayTeam',\n",
       "       u'INFO_BbAvA', u'INFO_BbAvD', u'INFO_BbAvH', u'INFO_Date', u'INFO_Div',\n",
       "       u'INFO_FTAG', u'INFO_FTHG', u'INFO_FTR', u'INFO_HTR', u'INFO_HomeTeam',\n",
       "       u'INFO_PSA', u'INFO_PSD', u'INFO_PSH', u'INFO_WIN', u'INFO_WIN_P',\n",
       "       u'probs_A', u'probs_D', u'probs_H', u'probs', u'pred', u'WIN', u'WIN_P',\n",
       "       u'INFO_ODD'],\n",
       "      dtype='object')"
      ]
     },
     "execution_count": 100,
     "metadata": {},
     "output_type": "execute_result"
    }
   ],
   "source": [
    "df_current_season.columns[100:200]"
   ]
  },
  {
   "cell_type": "code",
   "execution_count": null,
   "metadata": {
    "collapsed": true
   },
   "outputs": [],
   "source": []
  }
 ],
 "metadata": {
  "kernelspec": {
   "display_name": "Python 2",
   "language": "python",
   "name": "python2"
  },
  "language_info": {
   "codemirror_mode": {
    "name": "ipython",
    "version": 2
   },
   "file_extension": ".py",
   "mimetype": "text/x-python",
   "name": "python",
   "nbconvert_exporter": "python",
   "pygments_lexer": "ipython2",
   "version": "2.7.13"
  }
 },
 "nbformat": 4,
 "nbformat_minor": 2
}
