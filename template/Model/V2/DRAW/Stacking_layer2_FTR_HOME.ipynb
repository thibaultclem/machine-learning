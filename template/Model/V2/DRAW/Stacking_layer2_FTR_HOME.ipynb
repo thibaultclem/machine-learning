{
 "cells": [
  {
   "cell_type": "code",
   "execution_count": 1,
   "metadata": {
    "collapsed": true
   },
   "outputs": [],
   "source": [
    "# Import library\n",
    "import numpy as np # linear algebra\n",
    "import pandas as pd # data processing, CSV file I/O\n",
    "import matplotlib.pyplot as plt # plotting library\n",
    "from IPython.display import display # Manage multiple output per cell\n",
    "import datetime"
   ]
  },
  {
   "cell_type": "code",
   "execution_count": 2,
   "metadata": {
    "collapsed": true
   },
   "outputs": [],
   "source": [
    "# Import sickit methods"
   ]
  },
  {
   "cell_type": "code",
   "execution_count": 11,
   "metadata": {},
   "outputs": [],
   "source": [
    "# Import model\n",
    "from sklearn.calibration import CalibratedClassifierCV\n",
    "from sklearn.linear_model import LogisticRegression\n",
    "from sklearn.naive_bayes import GaussianNB\n",
    "from sklearn.neural_network import MLPClassifier\n",
    "from sklearn.ensemble import ExtraTreesClassifier\n",
    "from sklearn.svm import SVC\n",
    "from xgboost import XGBClassifier\n",
    "from sklearn.linear_model import SGDClassifier"
   ]
  },
  {
   "cell_type": "code",
   "execution_count": 4,
   "metadata": {
    "collapsed": true
   },
   "outputs": [],
   "source": [
    "# Define target\n",
    "target = 'INFO_FTR_H'"
   ]
  },
  {
   "cell_type": "code",
   "execution_count": 5,
   "metadata": {},
   "outputs": [],
   "source": [
    "# Define all different features dataset\n",
    "all_feature_L2 = ['A_MEANS_FIVE_AC','A_MEANS_FIVE_AF','A_MEANS_FIVE_AR','A_MEANS_FIVE_AS','A_MEANS_FIVE_AST','A_MEANS_FIVE_AY','A_MEANS_FIVE_FTAG','A_MEANS_FIVE_FTHG','A_MEANS_FIVE_FTR_A','A_MEANS_FIVE_FTR_D','A_MEANS_FIVE_FTR_H','A_MEANS_FIVE_HC','A_MEANS_FIVE_HF','A_MEANS_FIVE_HR','A_MEANS_FIVE_HS','A_MEANS_FIVE_HST','A_MEANS_FIVE_HTAG','A_MEANS_FIVE_HTHG','A_MEANS_FIVE_HTR_A','A_MEANS_FIVE_HTR_D','A_MEANS_FIVE_HTR_H','A_MEANS_FIVE_HY','H_MEANS_FIVE_AC','H_MEANS_FIVE_AF','H_MEANS_FIVE_AR','H_MEANS_FIVE_AS','H_MEANS_FIVE_AST','H_MEANS_FIVE_AY','H_MEANS_FIVE_FTAG','H_MEANS_FIVE_FTHG','H_MEANS_FIVE_FTR_A','H_MEANS_FIVE_FTR_D','H_MEANS_FIVE_FTR_H','H_MEANS_FIVE_HC','H_MEANS_FIVE_HF','H_MEANS_FIVE_HR','H_MEANS_FIVE_HS','H_MEANS_FIVE_HST','H_MEANS_FIVE_HTAG','H_MEANS_FIVE_HTHG','H_MEANS_FIVE_HTR_A','H_MEANS_FIVE_HTR_D','H_MEANS_FIVE_HTR_H','H_MEANS_FIVE_HY','A_MEANS_THREE_AC','A_MEANS_THREE_AF','A_MEANS_THREE_AR','A_MEANS_THREE_AS','A_MEANS_THREE_AST','A_MEANS_THREE_AY','A_MEANS_THREE_FTAG','A_MEANS_THREE_FTHG','A_MEANS_THREE_FTR_A','A_MEANS_THREE_FTR_D','A_MEANS_THREE_FTR_H','A_MEANS_THREE_HC','A_MEANS_THREE_HF','A_MEANS_THREE_HR','A_MEANS_THREE_HS','A_MEANS_THREE_HST','A_MEANS_THREE_HTAG','A_MEANS_THREE_HTHG','A_MEANS_THREE_HTR_A','A_MEANS_THREE_HTR_D','A_MEANS_THREE_HTR_H','A_MEANS_THREE_HY','H_MEANS_THREE_AC','H_MEANS_THREE_AF','H_MEANS_THREE_AR','H_MEANS_THREE_AS','H_MEANS_THREE_AST','H_MEANS_THREE_AY','H_MEANS_THREE_FTAG','H_MEANS_THREE_FTHG','H_MEANS_THREE_FTR_A','H_MEANS_THREE_FTR_D','H_MEANS_THREE_FTR_H','H_MEANS_THREE_HC','H_MEANS_THREE_HF','H_MEANS_THREE_HR','H_MEANS_THREE_HS','H_MEANS_THREE_HST','H_MEANS_THREE_HTAG','H_MEANS_THREE_HTHG','H_MEANS_THREE_HTR_A','H_MEANS_THREE_HTR_D','H_MEANS_THREE_HTR_H','H_MEANS_THREE_HY','A_STD_FIVE_AC','A_STD_FIVE_AF','A_STD_FIVE_AR','A_STD_FIVE_AS','A_STD_FIVE_AST','A_STD_FIVE_AY','A_STD_FIVE_FTAG','A_STD_FIVE_FTHG','A_STD_FIVE_FTR_A','A_STD_FIVE_FTR_D','A_STD_FIVE_FTR_H','A_STD_FIVE_HC','A_STD_FIVE_HF','A_STD_FIVE_HR','A_STD_FIVE_HS','A_STD_FIVE_HST','A_STD_FIVE_HTAG','A_STD_FIVE_HTHG','A_STD_FIVE_HTR_A','A_STD_FIVE_HTR_D','A_STD_FIVE_HTR_H','A_STD_FIVE_HY','H_STD_FIVE_AC','H_STD_FIVE_AF','H_STD_FIVE_AR','H_STD_FIVE_AS','H_STD_FIVE_AST','H_STD_FIVE_AY','H_STD_FIVE_FTAG','H_STD_FIVE_FTHG','H_STD_FIVE_FTR_A','H_STD_FIVE_FTR_D','H_STD_FIVE_FTR_H','H_STD_FIVE_HC','H_STD_FIVE_HF','H_STD_FIVE_HR','H_STD_FIVE_HS','H_STD_FIVE_HST','H_STD_FIVE_HTAG','H_STD_FIVE_HTHG','H_STD_FIVE_HTR_A','H_STD_FIVE_HTR_D','H_STD_FIVE_HTR_H','H_STD_FIVE_HY','A_STD_THREE_AC','A_STD_THREE_AF','A_STD_THREE_AR','A_STD_THREE_AS','A_STD_THREE_AST','A_STD_THREE_AY','A_STD_THREE_FTAG','A_STD_THREE_FTHG','A_STD_THREE_FTR_A','A_STD_THREE_FTR_D','A_STD_THREE_FTR_H','A_STD_THREE_HC','A_STD_THREE_HF','A_STD_THREE_HR','A_STD_THREE_HS','A_STD_THREE_HST','A_STD_THREE_HTAG','A_STD_THREE_HTHG','A_STD_THREE_HTR_A','A_STD_THREE_HTR_D','A_STD_THREE_HTR_H','A_STD_THREE_HY','H_STD_THREE_AC','H_STD_THREE_AF','H_STD_THREE_AR','H_STD_THREE_AS','H_STD_THREE_AST','H_STD_THREE_AY','H_STD_THREE_FTAG','H_STD_THREE_FTHG','H_STD_THREE_FTR_A','H_STD_THREE_FTR_D','H_STD_THREE_FTR_H','H_STD_THREE_HC','H_STD_THREE_HF','H_STD_THREE_HR','H_STD_THREE_HS','H_STD_THREE_HST','H_STD_THREE_HTAG','H_STD_THREE_HTHG','H_STD_THREE_HTR_A','H_STD_THREE_HTR_D','H_STD_THREE_HTR_H','H_STD_THREE_HY','INFO_Div_D1','INFO_Div_E0','INFO_Div_E1','INFO_Div_E2','INFO_Div_F1','INFO_Div_I1','INFO_Div_SC0','INFO_Div_SP1','DNN_adam_all','DNN_adam_bf','DNN_sgd_all','DNN_sgd_bf','XGBoost_all','XGBoost_bf','SVM','RF_all','RF_bf','NB','MLP','LDA','KNN','ExraTree','ElasticNEt','Bagging_max_sample','Bagging_min_sample_all','Bagging_min_sample_bf','AdaBoost','GB','LR']\n",
    "best_features_L2_NB = ['A_MEANS_FIVE_FTAG', 'A_MEANS_FIVE_HF', 'A_MEANS_FIVE_HS','A_MEANS_FIVE_HTR_D', 'H_MEANS_FIVE_AF', 'H_MEANS_FIVE_AY','H_MEANS_FIVE_HF', 'A_MEANS_THREE_AF', 'A_MEANS_THREE_HF','H_MEANS_THREE_AF', 'A_STD_FIVE_HF', 'H_STD_FIVE_AS','H_STD_FIVE_AST', 'H_STD_FIVE_FTHG', 'H_STD_FIVE_HTAG','H_STD_FIVE_HY', 'DNN_adam_all', 'DNN_adam_bf', 'DNN_sgd_all','DNN_sgd_bf', 'XGBoost_all', 'XGBoost_bf', 'SVM', 'RF_all','RF_bf', 'NB', 'MLP', 'LDA', 'KNN', 'ExraTree', 'ElasticNEt','Bagging_max_sample', 'Bagging_min_sample_all','Bagging_min_sample_bf', 'AdaBoost', 'GB']\n",
    "best_features_L2_MLP = ['DNN_sgd_bf', 'RF_all', 'RF_bf', 'NB', 'MLP', 'LDA', 'KNN','Bagging_min_sample_bf']\n",
    "best_feature_L2_ET = ['A_MEANS_FIVE_FTAG', 'A_MEANS_FIVE_HS', 'H_MEANS_FIVE_AF','H_MEANS_FIVE_HF', 'A_MEANS_THREE_AF', 'A_MEANS_THREE_HF','H_MEANS_THREE_AF', 'A_STD_FIVE_HF', 'H_STD_FIVE_AS','H_STD_FIVE_AST', 'H_STD_FIVE_HY', 'DNN_adam_all', 'DNN_adam_bf','DNN_sgd_bf', 'XGBoost_all', 'XGBoost_bf', 'SVM', 'RF_all','RF_bf', 'NB', 'MLP', 'LDA', 'KNN', 'ElasticNEt','Bagging_max_sample', 'Bagging_min_sample_bf', 'AdaBoost', 'GB']\n",
    "best_features_L2_LR = ['A_MEANS_FIVE_AC','A_MEANS_FIVE_AF','A_MEANS_FIVE_AS','A_MEANS_FIVE_AST','A_MEANS_FIVE_AY','A_MEANS_FIVE_FTAG','A_MEANS_FIVE_FTR_H','A_MEANS_FIVE_HC','A_MEANS_FIVE_HF','A_MEANS_FIVE_HS','A_MEANS_FIVE_HTR_D','A_MEANS_FIVE_HTR_H','A_MEANS_FIVE_HY','H_MEANS_FIVE_AC','H_MEANS_FIVE_AF','H_MEANS_FIVE_AS','H_MEANS_FIVE_AST','H_MEANS_FIVE_AY','H_MEANS_FIVE_FTAG','H_MEANS_FIVE_FTHG','H_MEANS_FIVE_FTR_A','H_MEANS_FIVE_HC','H_MEANS_FIVE_HF','H_MEANS_FIVE_HR','H_MEANS_FIVE_HST','H_MEANS_FIVE_HTAG','H_MEANS_FIVE_HTR_H','H_MEANS_FIVE_HY','A_MEANS_THREE_AC','A_MEANS_THREE_AF','A_MEANS_THREE_AS','A_MEANS_THREE_FTHG','A_MEANS_THREE_HC','A_MEANS_THREE_HF','A_MEANS_THREE_HS','A_MEANS_THREE_HST','A_MEANS_THREE_HTR_D','A_MEANS_THREE_HY','H_MEANS_THREE_AC','H_MEANS_THREE_AF','H_MEANS_THREE_FTHG','H_MEANS_THREE_HF','H_MEANS_THREE_HS','H_MEANS_THREE_HST','H_MEANS_THREE_HY','A_STD_FIVE_AC','A_STD_FIVE_AF','A_STD_FIVE_AST','A_STD_FIVE_AY','A_STD_FIVE_FTAG','A_STD_FIVE_FTHG','A_STD_FIVE_FTR_D','A_STD_FIVE_FTR_H','A_STD_FIVE_HC','A_STD_FIVE_HF','A_STD_FIVE_HS','A_STD_FIVE_HST','A_STD_FIVE_HY','H_STD_FIVE_AC','H_STD_FIVE_AF','H_STD_FIVE_AS','H_STD_FIVE_AST','H_STD_FIVE_AY','H_STD_FIVE_FTAG','H_STD_FIVE_FTHG','H_STD_FIVE_HF','H_STD_FIVE_HS','H_STD_FIVE_HST','H_STD_FIVE_HTAG','H_STD_FIVE_HTHG','H_STD_FIVE_HY','A_STD_THREE_AF','A_STD_THREE_AS','A_STD_THREE_AST','A_STD_THREE_FTHG','A_STD_THREE_HC','A_STD_THREE_HF','A_STD_THREE_HS','A_STD_THREE_HST','H_STD_THREE_AF','H_STD_THREE_AS','H_STD_THREE_AST','H_STD_THREE_FTAG','H_STD_THREE_FTHG','H_STD_THREE_HF','H_STD_THREE_HS','H_STD_THREE_HST','H_STD_THREE_HTHG','H_STD_THREE_HY','INFO_Div_E1','DNN_adam_all','DNN_adam_bf','DNN_sgd_all','DNN_sgd_bf','XGBoost_all','XGBoost_bf','SVM','RF_all','RF_bf','NB','MLP','LDA','KNN','ExraTree','ElasticNEt','Bagging_max_sample','Bagging_min_sample_all','Bagging_min_sample_bf','AdaBoost','GB','LR']"
   ]
  },
  {
   "cell_type": "code",
   "execution_count": 6,
   "metadata": {},
   "outputs": [],
   "source": [
    "# Construct layer 2\n",
    "layer_2 = [\n",
    "    ['NB', False, 'isotonic', GaussianNB(), best_features_L2_NB],\n",
    "    ['XGBoost_all', False, 'sigmoid', XGBClassifier(learning_rate =0.01,n_estimators=572,max_depth=3,min_child_weight=5,gamma=0,subsample=0.9,colsample_bytree=0.9,objective= 'binary:logistic',nthread=4,scale_pos_weight=1,seed=15), all_feature_L2],\n",
    "    ['ExraTree', False, 'isotonic', ExtraTreesClassifier(random_state=0,n_jobs=-1,criterion='entropy',max_depth=30,max_features=None,min_samples_leaf=1,min_samples_split=16,n_estimators=350), best_feature_L2_ET],\n",
    "    ['MLP', False, 'no', MLPClassifier(random_state=0,activation='identity', alpha=3, hidden_layer_sizes=(10,), max_iter=200, solver= 'adam'), best_features_L2_MLP],\n",
    "    ['LR', False, 'no', LogisticRegression(random_state=0,n_jobs=-1,solver='liblinear',C=0.008,penalty='l1'), best_features_L2_LR]\n",
    "]"
   ]
  },
  {
   "cell_type": "code",
   "execution_count": 7,
   "metadata": {
    "collapsed": true
   },
   "outputs": [],
   "source": [
    "# Import dataset\n",
    "train_df = pd.DataFrame.from_csv('./report/layer2-train-INFO_FTR_H-2017-07-10-15-56.csv')\n",
    "test_df = pd.DataFrame.from_csv('./report/layer2-test-INFO_FTR_H-2017-07-10-15-56.csv')\n",
    "X_train_df =  train_df.drop(target, 1)\n",
    "X_test_df = test_df.drop(target, 1)\n",
    "y_train_df = train_df[target].astype('bool_')\n",
    "y_test_df= test_df[target].astype('bool_')"
   ]
  },
  {
   "cell_type": "code",
   "execution_count": 8,
   "metadata": {},
   "outputs": [],
   "source": [
    "from sklearn.cross_validation import KFold\n",
    "ntrain = X_train_df.shape[0]\n",
    "ntest = X_test_df.shape[0]\n",
    "NFOLDS = 4\n",
    "kf = KFold(ntrain, n_folds=NFOLDS, shuffle=True, random_state=0)"
   ]
  },
  {
   "cell_type": "code",
   "execution_count": 9,
   "metadata": {
    "collapsed": true
   },
   "outputs": [],
   "source": [
    "def get_oof(clf, x_train, x_test):\n",
    "    oof_train = np.zeros((x_train.shape[0],))\n",
    "    oof_test = np.zeros((x_test.shape[0],))\n",
    "    oof_test_skf = np.empty((NFOLDS, x_test.shape[0]))\n",
    "\n",
    "    for i, (train_index, test_index) in enumerate(kf):\n",
    "        x_tr = x_train[train_index]\n",
    "        y_tr = y_train_df[train_index]\n",
    "        x_te = x_train[test_index]\n",
    "        # fit the model\n",
    "        clf.fit(x_tr, y_tr)\n",
    "        # Predict the K-th fold and the test set\n",
    "        oof_train[test_index] = clf.predict_proba(x_te)[:,1]\n",
    "        oof_test_skf[i, :] = clf.predict_proba(x_test)[:,1]\n",
    "\n",
    "    oof_test[:] = oof_test_skf.mean(axis=0)\n",
    "    return oof_train.reshape(-1, 1), oof_test.reshape(-1, 1)"
   ]
  },
  {
   "cell_type": "code",
   "execution_count": 10,
   "metadata": {
    "scrolled": false
   },
   "outputs": [
    {
     "name": "stdout",
     "output_type": "stream",
     "text": [
      "Processing model: NB\n",
      "Processing model: XGBoost_all\n",
      "Processing model: ExraTree\n",
      "Processing model: MLP\n",
      "Processing model: LR\n",
      "Finish after 291 seconds\n"
     ]
    }
   ],
   "source": [
    "# Compute out-of-fold predictions for layer 2\n",
    "start = datetime.datetime.now()\n",
    "\n",
    "# Keep prediction of test in array\n",
    "X_train_layer3 = np.zeros((X_train_df.shape[0], len(layer_2)))\n",
    "X_train_layer3 = pd.DataFrame(X_train_layer3, columns=[clf_name for clf_name, preprocessing, calibration, clf, features in layer_2])\n",
    "\n",
    "X_test_layer3 = np.zeros((X_test_df.shape[0], len(layer_2)))\n",
    "X_test_layer3 = pd.DataFrame(X_test_layer3, columns=[clf_name for clf_name, preprocessing, calibration, clf, features in layer_2])\n",
    "\n",
    "for clf_name, preprocessing, calibration, classifier, features in layer_2:\n",
    "    print \"Processing model:\",clf_name\n",
    "    # Check if we need to standardize X for this model\n",
    "    if preprocessing:\n",
    "        sc_X = StandardScaler().fit(X_train_df[features])\n",
    "        X_train_model = sc_X.transform(X_train_df[features])\n",
    "        X_test_model = sc_X.transform(X_test_df[features])\n",
    "    else:\n",
    "        X_train_model = X_train_df[features].as_matrix()\n",
    "        X_test_model = X_test_df[features].as_matrix()\n",
    "    # Check if we need to recalibrate the prediction\n",
    "    if calibration == 'sigmoid':\n",
    "        clf = CalibratedClassifierCV(classifier, cv=4, method='sigmoid')\n",
    "    elif calibration == 'isotonic':\n",
    "        clf = CalibratedClassifierCV(classifier, cv=4, method='isotonic')\n",
    "    elif calibration == 'no':\n",
    "        clf = classifier\n",
    "    # obtain out-of-fold predictions for this model\n",
    "    oof_train, oof_test = get_oof(clf, X_train_model, X_test_model)\n",
    "    X_train_layer3.loc[:, clf_name] = oof_train\n",
    "    X_test_layer3.loc[:, clf_name] = oof_test\n",
    "X_train_layer3.to_csv('./report/'+start.strftime(\"%Y-%m-%d-%H-%M\")+'-layer2-train-pred.csv')\n",
    "X_test_layer3.to_csv('./report/'+start.strftime(\"%Y-%m-%d-%H-%M\")+'-layer2-test-pred.csv')\n",
    "\n",
    "print(\"Finish after %d seconds\" % (datetime.datetime.now() - start).total_seconds())\n"
   ]
  },
  {
   "cell_type": "code",
   "execution_count": null,
   "metadata": {
    "collapsed": true
   },
   "outputs": [],
   "source": [
    "# Concat prediction with initial features\n",
    "X_train_layer3_df = pd.concat([X_train_df, X_train_layer3, y_train_df], axis=1)\n",
    "X_test_layer3_df = pd.concat([X_test_df, X_test_layer3, y_test_df], axis=1)\n",
    "X_train_layer3_df.to_csv('./report/layer3-train-'+target+'-'+start.strftime(\"%Y-%m-%d-%H-%M\")+'.csv')\n",
    "X_test_layer3_df.to_csv('./report/layer3-test-'+target+'-'+start.strftime(\"%Y-%m-%d-%H-%M\")+'.csv')"
   ]
  },
  {
   "cell_type": "code",
   "execution_count": 14,
   "metadata": {},
   "outputs": [
    {
     "name": "stdout",
     "output_type": "stream",
     "text": [
      "0.653418416725\n",
      "0.549233151809\n",
      "0.585312172683\n",
      "0.517677775706\n"
     ]
    }
   ],
   "source": [
    "from sklearn.metrics import make_scorer\n",
    "from sklearn.metrics import log_loss\n",
    "from sklearn.model_selection import cross_val_score\n",
    "print cross_val_score(GaussianNB(), X_train_layer3, y_train_df, cv=8, scoring='roc_auc', n_jobs=-1).mean()\n",
    "print cross_val_score(GaussianNB(), X_train_layer3, y_train_df, cv=8, scoring='f1', n_jobs=-1).mean()\n",
    "print cross_val_score(GaussianNB(), X_train_layer3, y_train_df, cv=8, scoring='precision', n_jobs=-1).mean()\n",
    "print cross_val_score(GaussianNB(), X_train_layer3, y_train_df, cv=8, scoring='recall', n_jobs=-1).mean()"
   ]
  },
  {
   "cell_type": "code",
   "execution_count": 16,
   "metadata": {},
   "outputs": [
    {
     "name": "stdout",
     "output_type": "stream",
     "text": [
      "0.65328057223\n",
      "0.52954941174\n",
      "0.596861526648\n",
      "0.476413930685\n"
     ]
    }
   ],
   "source": [
    "from sklearn.metrics import make_scorer\n",
    "from sklearn.metrics import log_loss\n",
    "from sklearn.model_selection import cross_val_score\n",
    "print cross_val_score(CalibratedClassifierCV(GaussianNB(), cv=8, method='isotonic'), X_train_layer3, y_train_df, cv=8, scoring='roc_auc', n_jobs=-1).mean()\n",
    "print cross_val_score(CalibratedClassifierCV(GaussianNB(), cv=8, method='isotonic'), X_train_layer3, y_train_df, cv=8, scoring='f1', n_jobs=-1).mean()\n",
    "print cross_val_score(CalibratedClassifierCV(GaussianNB(), cv=8, method='isotonic'), X_train_layer3, y_train_df, cv=8, scoring='precision', n_jobs=-1).mean()\n",
    "print cross_val_score(CalibratedClassifierCV(GaussianNB(), cv=8, method='isotonic'), X_train_layer3, y_train_df, cv=8, scoring='recall', n_jobs=-1).mean()"
   ]
  },
  {
   "cell_type": "code",
   "execution_count": 15,
   "metadata": {},
   "outputs": [
    {
     "name": "stdout",
     "output_type": "stream",
     "text": [
      "0.651937693156\n",
      "0.407118128443\n",
      "0.643071204041\n",
      "0.298108656465\n"
     ]
    }
   ],
   "source": [
    "from sklearn.metrics import make_scorer\n",
    "from sklearn.metrics import log_loss\n",
    "from sklearn.model_selection import cross_val_score\n",
    "print cross_val_score(SVC(), X_train_layer3, y_train_df, cv=8, scoring='roc_auc', n_jobs=-1).mean()\n",
    "print cross_val_score(SVC(), X_train_layer3, y_train_df, cv=8, scoring='f1', n_jobs=-1).mean()\n",
    "print cross_val_score(SVC(), X_train_layer3, y_train_df, cv=8, scoring='precision', n_jobs=-1).mean()\n",
    "print cross_val_score(SVC(), X_train_layer3, y_train_df, cv=8, scoring='recall', n_jobs=-1).mean()"
   ]
  },
  {
   "cell_type": "code",
   "execution_count": 17,
   "metadata": {},
   "outputs": [
    {
     "name": "stdout",
     "output_type": "stream",
     "text": [
      "0.654294887209\n",
      "0.518045887857\n",
      "0.604133858895\n",
      "0.453775062839\n"
     ]
    }
   ],
   "source": [
    "from sklearn.metrics import make_scorer\n",
    "from sklearn.metrics import log_loss\n",
    "from sklearn.model_selection import cross_val_score\n",
    "print cross_val_score(LogisticRegression(), X_train_layer3, y_train_df, cv=8, scoring='roc_auc', n_jobs=-1).mean()\n",
    "print cross_val_score(LogisticRegression(), X_train_layer3, y_train_df, cv=8, scoring='f1', n_jobs=-1).mean()\n",
    "print cross_val_score(LogisticRegression(), X_train_layer3, y_train_df, cv=8, scoring='precision', n_jobs=-1).mean()\n",
    "print cross_val_score(LogisticRegression(), X_train_layer3, y_train_df, cv=8, scoring='recall', n_jobs=-1).mean()"
   ]
  },
  {
   "cell_type": "code",
   "execution_count": 18,
   "metadata": {},
   "outputs": [
    {
     "name": "stdout",
     "output_type": "stream",
     "text": [
      "0.652503077371\n",
      "0.193334210824\n",
      "0.736787502851\n",
      "0.111788955451\n"
     ]
    }
   ],
   "source": [
    "from sklearn.metrics import make_scorer\n",
    "from sklearn.metrics import log_loss\n",
    "from sklearn.model_selection import cross_val_score\n",
    "print cross_val_score(LogisticRegression(random_state=0,n_jobs=-1,solver='liblinear',C=0.008,penalty='l1'), X_train_layer3, y_train_df, cv=8, scoring='roc_auc', n_jobs=-1).mean()\n",
    "print cross_val_score(LogisticRegression(random_state=0,n_jobs=-1,solver='liblinear',C=0.008,penalty='l1'), X_train_layer3, y_train_df, cv=8, scoring='f1', n_jobs=-1).mean()\n",
    "print cross_val_score(LogisticRegression(random_state=0,n_jobs=-1,solver='liblinear',C=0.008,penalty='l1'), X_train_layer3, y_train_df, cv=8, scoring='precision', n_jobs=-1).mean()\n",
    "print cross_val_score(LogisticRegression(random_state=0,n_jobs=-1,solver='liblinear',C=0.008,penalty='l1'), X_train_layer3, y_train_df, cv=8, scoring='recall', n_jobs=-1).mean()"
   ]
  },
  {
   "cell_type": "code",
   "execution_count": 19,
   "metadata": {},
   "outputs": [
    {
     "name": "stdout",
     "output_type": "stream",
     "text": [
      "0.653256474931\n",
      "0.503531244165\n",
      "0.60731766898\n",
      "0.431318302428\n"
     ]
    }
   ],
   "source": [
    "from sklearn.metrics import make_scorer\n",
    "from sklearn.metrics import log_loss\n",
    "from sklearn.model_selection import cross_val_score\n",
    "print cross_val_score(MLPClassifier(random_state=0,activation='identity', alpha=1, hidden_layer_sizes=(50,), max_iter=200, solver= 'adam'), X_train_layer3, y_train_df, cv=8, scoring='roc_auc', n_jobs=-1).mean()\n",
    "print cross_val_score(MLPClassifier(random_state=0,activation='identity', alpha=1, hidden_layer_sizes=(50,), max_iter=200, solver= 'adam'), X_train_layer3, y_train_df, cv=8, scoring='f1', n_jobs=-1).mean()\n",
    "print cross_val_score(MLPClassifier(random_state=0,activation='identity', alpha=1, hidden_layer_sizes=(50,), max_iter=200, solver= 'adam'), X_train_layer3, y_train_df, cv=8, scoring='precision', n_jobs=-1).mean()\n",
    "print cross_val_score(MLPClassifier(random_state=0,activation='identity', alpha=1, hidden_layer_sizes=(50,), max_iter=200, solver= 'adam'), X_train_layer3, y_train_df, cv=8, scoring='recall', n_jobs=-1).mean()\n",
    "\n"
   ]
  },
  {
   "cell_type": "code",
   "execution_count": 13,
   "metadata": {},
   "outputs": [
    {
     "name": "stdout",
     "output_type": "stream",
     "text": [
      "0.65336467758\n",
      "0.511957338765\n",
      "0.603005278506\n",
      "0.449072077637\n"
     ]
    }
   ],
   "source": [
    "from sklearn.metrics import make_scorer\n",
    "from sklearn.metrics import log_loss\n",
    "from sklearn.model_selection import cross_val_score\n",
    "print cross_val_score(MLPClassifier(random_state=0), X_train_layer3, y_train_df, cv=8, scoring='roc_auc', n_jobs=-1).mean()\n",
    "print cross_val_score(MLPClassifier(random_state=0), X_train_layer3, y_train_df, cv=8, scoring='f1', n_jobs=-1).mean()\n",
    "print cross_val_score(MLPClassifier(random_state=0), X_train_layer3, y_train_df, cv=8, scoring='precision', n_jobs=-1).mean()\n",
    "print cross_val_score(MLPClassifier(random_state=0), X_train_layer3, y_train_df, cv=8, scoring='recall', n_jobs=-1).mean()"
   ]
  },
  {
   "cell_type": "code",
   "execution_count": 23,
   "metadata": {},
   "outputs": [
    {
     "name": "stdout",
     "output_type": "stream",
     "text": [
      "0.653702983787\n",
      "0.515867766543\n",
      "0.606613097232\n",
      "0.456896627079\n"
     ]
    }
   ],
   "source": [
    "from sklearn.metrics import make_scorer\n",
    "from sklearn.metrics import log_loss\n",
    "from sklearn.model_selection import cross_val_score\n",
    "print cross_val_score(SGDClassifier(random_state=0,penalty='elasticnet',loss='log',alpha=0.0005,l1_ratio=0.4), X_train_layer3, y_train_df, cv=8, scoring='roc_auc', n_jobs=-1).mean()\n",
    "print cross_val_score(SGDClassifier(random_state=0,penalty='elasticnet',loss='log',alpha=0.0005,l1_ratio=0.4), X_train_layer3, y_train_df, cv=8, scoring='f1', n_jobs=-1).mean()\n",
    "print cross_val_score(SGDClassifier(random_state=0,penalty='elasticnet',loss='log',alpha=0.0005,l1_ratio=0.4), X_train_layer3, y_train_df, cv=8, scoring='precision', n_jobs=-1).mean()\n",
    "print cross_val_score(SGDClassifier(random_state=0,penalty='elasticnet',loss='log',alpha=0.0005,l1_ratio=0.4), X_train_layer3, y_train_df, cv=8, scoring='recall', n_jobs=-1).mean()"
   ]
  },
  {
   "cell_type": "code",
   "execution_count": 24,
   "metadata": {},
   "outputs": [
    {
     "name": "stdout",
     "output_type": "stream",
     "text": [
      "0.653335205099\n",
      "0.516535397684\n",
      "0.608402041969\n",
      "0.455159807772\n"
     ]
    }
   ],
   "source": [
    "from sklearn.metrics import make_scorer\n",
    "from sklearn.metrics import log_loss\n",
    "from sklearn.model_selection import cross_val_score\n",
    "print cross_val_score(SGDClassifier(random_state=0,penalty='elasticnet',loss='log',alpha=0.0005,l1_ratio=0.4), X_train_layer3[['NB', 'ExraTree', 'LR']], y_train_df, cv=8, scoring='roc_auc', n_jobs=-1).mean()\n",
    "print cross_val_score(SGDClassifier(random_state=0,penalty='elasticnet',loss='log',alpha=0.0005,l1_ratio=0.4), X_train_layer3[['NB', 'ExraTree', 'LR']], y_train_df, cv=8, scoring='f1', n_jobs=-1).mean()\n",
    "print cross_val_score(SGDClassifier(random_state=0,penalty='elasticnet',loss='log',alpha=0.0005,l1_ratio=0.4), X_train_layer3[['NB', 'ExraTree', 'LR']], y_train_df, cv=8, scoring='precision', n_jobs=-1).mean()\n",
    "print cross_val_score(SGDClassifier(random_state=0,penalty='elasticnet',loss='log',alpha=0.0005,l1_ratio=0.4), X_train_layer3[['NB', 'ExraTree', 'LR']], y_train_df, cv=8, scoring='recall', n_jobs=-1).mean()"
   ]
  },
  {
   "cell_type": "code",
   "execution_count": 30,
   "metadata": {},
   "outputs": [
    {
     "name": "stdout",
     "output_type": "stream",
     "text": [
      "0.653335205099\n",
      "0.516535397684\n",
      "0.608402041969\n",
      "0.455159807772\n"
     ]
    }
   ],
   "source": [
    "from sklearn.metrics import make_scorer\n",
    "from sklearn.metrics import log_loss\n",
    "from sklearn.model_selection import cross_val_score\n",
    "print cross_val_score(SGDClassifier(random_state=0,penalty='elasticnet',loss='log',alpha=0.0005,l1_ratio=0.4), X_train_layer3[['NB', 'ExraTree', 'LR']], y_train_df, cv=8, scoring='roc_auc', n_jobs=-1).mean()\n",
    "print cross_val_score(SGDClassifier(random_state=0,penalty='elasticnet',loss='log',alpha=0.0005,l1_ratio=0.4), X_train_layer3[['NB', 'ExraTree', 'LR']], y_train_df, cv=8, scoring='f1', n_jobs=-1).mean()\n",
    "print cross_val_score(SGDClassifier(random_state=0,penalty='elasticnet',loss='log',alpha=0.0005,l1_ratio=0.4), X_train_layer3[['NB', 'ExraTree', 'LR']], y_train_df, cv=8, scoring='precision', n_jobs=-1).mean()\n",
    "print cross_val_score(SGDClassifier(random_state=0,penalty='elasticnet',loss='log',alpha=0.0005,l1_ratio=0.4), X_train_layer3[['NB', 'ExraTree', 'LR']], y_train_df, cv=8, scoring='recall', n_jobs=-1).mean()"
   ]
  },
  {
   "cell_type": "code",
   "execution_count": 29,
   "metadata": {},
   "outputs": [
    {
     "name": "stdout",
     "output_type": "stream",
     "text": [
      "0.653029340108\n",
      "0.51713449198\n",
      "0.607562649256\n",
      "0.454813318027\n"
     ]
    }
   ],
   "source": [
    "from sklearn.metrics import make_scorer\n",
    "from sklearn.metrics import log_loss\n",
    "from sklearn.model_selection import cross_val_score\n",
    "print cross_val_score(SGDClassifier(random_state=0,penalty='elasticnet',loss='log',alpha=0.0005,l1_ratio=0.4), X_train_layer3[['MLP', 'ExraTree', 'XGBoost_all']], y_train_df, cv=8, scoring='roc_auc', n_jobs=-1).mean()\n",
    "print cross_val_score(SGDClassifier(random_state=0,penalty='elasticnet',loss='log',alpha=0.0005,l1_ratio=0.4), X_train_layer3[['MLP', 'ExraTree', 'XGBoost_all']], y_train_df, cv=8, scoring='f1', n_jobs=-1).mean()\n",
    "print cross_val_score(SGDClassifier(random_state=0,penalty='elasticnet',loss='log',alpha=0.0005,l1_ratio=0.4), X_train_layer3[['MLP', 'ExraTree', 'XGBoost_all']], y_train_df, cv=8, scoring='precision', n_jobs=-1).mean()\n",
    "print cross_val_score(SGDClassifier(random_state=0,penalty='elasticnet',loss='log',alpha=0.0005,l1_ratio=0.4), X_train_layer3[['MLP', 'ExraTree', 'XGBoost_all']], y_train_df, cv=8, scoring='recall', n_jobs=-1).mean()"
   ]
  },
  {
   "cell_type": "code",
   "execution_count": 25,
   "metadata": {},
   "outputs": [
    {
     "name": "stdout",
     "output_type": "stream",
     "text": [
      "0.651400296719\n",
      "0.515670751695\n",
      "0.601057068052\n",
      "0.455857157842\n"
     ]
    }
   ],
   "source": [
    "from sklearn.metrics import make_scorer\n",
    "from sklearn.metrics import log_loss\n",
    "from sklearn.model_selection import cross_val_score\n",
    "print cross_val_score(SGDClassifier(random_state=0,penalty='elasticnet',loss='log',alpha=0.0005,l1_ratio=0.4), X_train_layer3[['XGBoost_all', 'ExraTree', 'LR']], y_train_df, cv=8, scoring='roc_auc', n_jobs=-1).mean()\n",
    "print cross_val_score(SGDClassifier(random_state=0,penalty='elasticnet',loss='log',alpha=0.0005,l1_ratio=0.4), X_train_layer3[['XGBoost_all', 'ExraTree', 'LR']], y_train_df, cv=8, scoring='f1', n_jobs=-1).mean()\n",
    "print cross_val_score(SGDClassifier(random_state=0,penalty='elasticnet',loss='log',alpha=0.0005,l1_ratio=0.4), X_train_layer3[['XGBoost_all', 'ExraTree', 'LR']], y_train_df, cv=8, scoring='precision', n_jobs=-1).mean()\n",
    "print cross_val_score(SGDClassifier(random_state=0,penalty='elasticnet',loss='log',alpha=0.0005,l1_ratio=0.4), X_train_layer3[['XGBoost_all', 'ExraTree', 'LR']], y_train_df, cv=8, scoring='recall', n_jobs=-1).mean()"
   ]
  },
  {
   "cell_type": "code",
   "execution_count": 26,
   "metadata": {},
   "outputs": [
    {
     "name": "stdout",
     "output_type": "stream",
     "text": [
      "0.652111710658\n",
      "0.513081893268\n",
      "0.606562513816\n",
      "0.450634316616\n"
     ]
    }
   ],
   "source": [
    "from sklearn.metrics import make_scorer\n",
    "from sklearn.metrics import log_loss\n",
    "from sklearn.model_selection import cross_val_score\n",
    "print cross_val_score(SGDClassifier(random_state=0,penalty='elasticnet',loss='log',alpha=0.0005,l1_ratio=0.4), X_train_layer3[['NB', 'XGBoost_all', 'LR']], y_train_df, cv=8, scoring='roc_auc', n_jobs=-1).mean()\n",
    "print cross_val_score(SGDClassifier(random_state=0,penalty='elasticnet',loss='log',alpha=0.0005,l1_ratio=0.4), X_train_layer3[['NB', 'XGBoost_all', 'LR']], y_train_df, cv=8, scoring='f1', n_jobs=-1).mean()\n",
    "print cross_val_score(SGDClassifier(random_state=0,penalty='elasticnet',loss='log',alpha=0.0005,l1_ratio=0.4), X_train_layer3[['NB', 'XGBoost_all', 'LR']], y_train_df, cv=8, scoring='precision', n_jobs=-1).mean()\n",
    "print cross_val_score(SGDClassifier(random_state=0,penalty='elasticnet',loss='log',alpha=0.0005,l1_ratio=0.4), X_train_layer3[['NB', 'XGBoost_all', 'LR']], y_train_df, cv=8, scoring='recall', n_jobs=-1).mean()"
   ]
  },
  {
   "cell_type": "code",
   "execution_count": 27,
   "metadata": {},
   "outputs": [
    {
     "name": "stdout",
     "output_type": "stream",
     "text": [
      "0.651400296719\n",
      "0.515670751695\n",
      "0.601057068052\n",
      "0.455857157842\n"
     ]
    }
   ],
   "source": [
    "from sklearn.metrics import make_scorer\n",
    "from sklearn.metrics import log_loss\n",
    "from sklearn.model_selection import cross_val_score\n",
    "print cross_val_score(SGDClassifier(random_state=0,penalty='elasticnet',loss='log',alpha=0.0005,l1_ratio=0.4), X_train_layer3[['ExraTree', 'XGBoost_all', 'LR']], y_train_df, cv=8, scoring='roc_auc', n_jobs=-1).mean()\n",
    "print cross_val_score(SGDClassifier(random_state=0,penalty='elasticnet',loss='log',alpha=0.0005,l1_ratio=0.4), X_train_layer3[['ExraTree', 'XGBoost_all', 'LR']], y_train_df, cv=8, scoring='f1', n_jobs=-1).mean()\n",
    "print cross_val_score(SGDClassifier(random_state=0,penalty='elasticnet',loss='log',alpha=0.0005,l1_ratio=0.4), X_train_layer3[['ExraTree', 'XGBoost_all', 'LR']], y_train_df, cv=8, scoring='precision', n_jobs=-1).mean()\n",
    "print cross_val_score(SGDClassifier(random_state=0,penalty='elasticnet',loss='log',alpha=0.0005,l1_ratio=0.4), X_train_layer3[['ExraTree', 'XGBoost_all', 'LR']], y_train_df, cv=8, scoring='recall', n_jobs=-1).mean()"
   ]
  },
  {
   "cell_type": "code",
   "execution_count": null,
   "metadata": {
    "collapsed": true
   },
   "outputs": [],
   "source": [
    "from sklearn.metrics import make_scorer\n",
    "from sklearn.metrics import log_loss\n",
    "from sklearn.model_selection import cross_val_score\n",
    "print cross_val_score(SGDClassifier(random_state=0,penalty='elasticnet',loss='log',alpha=0.0005,l1_ratio=0.4), X_train_layer3[['NB', 'ExraTree', 'MLP', 'LR', 'XGBoost_all']], y_train_df, cv=8, scoring='roc_auc', n_jobs=-1).mean()\n",
    "print cross_val_score(SGDClassifier(random_state=0,penalty='elasticnet',loss='log',alpha=0.0005,l1_ratio=0.4), X_train_layer3[['NB', 'ExraTree', 'MLP', 'LR', 'XGBoost_all']], y_train_df, cv=8, scoring='f1', n_jobs=-1).mean()\n",
    "print cross_val_score(SGDClassifier(random_state=0,penalty='elasticnet',loss='log',alpha=0.0005,l1_ratio=0.4), X_train_layer3[['NB', 'ExraTree', 'MLP', 'LR', 'XGBoost_all']], y_train_df, cv=8, scoring='precision', n_jobs=-1).mean()\n",
    "print cross_val_score(SGDClassifier(random_state=0,penalty='elasticnet',loss='log',alpha=0.0005,l1_ratio=0.4), X_train_layer3[['NB', 'ExraTree', 'MLP', 'LR', 'XGBoost_all']], y_train_df, cv=8, scoring='recall', n_jobs=-1).mean()"
   ]
  },
  {
   "cell_type": "code",
   "execution_count": null,
   "metadata": {},
   "outputs": [],
   "source": [
    "join_df = X_train_layer3"
   ]
  },
  {
   "cell_type": "code",
   "execution_count": null,
   "metadata": {},
   "outputs": [],
   "source": [
    "join_df['join'] = (join_df['NB'] + join_df['MLP'] + join_df['LR']) / 3\n",
    "join_df['join_probs'] = 0\n",
    "join_df.loc[join_df['join'] >= 0.5, 'join_probs'] = 1\n",
    "join_df['nb_probs'] = 0\n",
    "join_df.loc[join_df['NB'] >= 0.5, 'nb_probs'] = 1"
   ]
  },
  {
   "cell_type": "code",
   "execution_count": null,
   "metadata": {},
   "outputs": [],
   "source": [
    "from sklearn.metrics import precision_recall_fscore_support\n",
    "precision_recall_fscore_support(y_train_df, join_df['nb_probs'], average='binary')"
   ]
  },
  {
   "cell_type": "code",
   "execution_count": null,
   "metadata": {},
   "outputs": [],
   "source": [
    "from sklearn.metrics import precision_score, recall_score, f1_score, log_loss, accuracy_score, roc_auc_score\n",
    "for col_pred in join_df:\n",
    "    logloss = log_loss(y_train_df, join_df[col_pred].as_matrix())\n",
    "    auc = roc_auc_score(y_train_df, join_df[col_pred].as_matrix())\n",
    "    print(\"%5s -> log_loss: %.4f, auc: %.4f\" % (col_pred, logloss, auc))"
   ]
  },
  {
   "cell_type": "code",
   "execution_count": null,
   "metadata": {},
   "outputs": [],
   "source": [
    "join_df"
   ]
  },
  {
   "cell_type": "code",
   "execution_count": 35,
   "metadata": {},
   "outputs": [
    {
     "name": "stdout",
     "output_type": "stream",
     "text": [
      "     0-0-1 -> log_loss: 0.6567, precision: 0.5917, recall: 0.4409, f1: 0.5053, acc: 0.6071, auc: 0.6427\n",
      " 0-0.1-0.9 -> log_loss: 0.6562, precision: 0.5928, recall: 0.4388, f1: 0.5043, acc: 0.6074, auc: 0.6444\n",
      " 0-0.2-0.8 -> log_loss: 0.6558, precision: 0.5952, recall: 0.4358, f1: 0.5032, acc: 0.6083, auc: 0.6460\n",
      " 0-0.3-0.7 -> log_loss: 0.6555, precision: 0.5986, recall: 0.4320, f1: 0.5018, acc: 0.6096, auc: 0.6476\n",
      " 0-0.4-0.6 -> log_loss: 0.6553, precision: 0.6007, recall: 0.4301, f1: 0.5013, acc: 0.6105, auc: 0.6491\n",
      " 0-0.5-0.5 -> log_loss: 0.6551, precision: 0.6045, recall: 0.4277, f1: 0.5009, acc: 0.6121, auc: 0.6505\n",
      " 0-0.6-0.4 -> log_loss: 0.6551, precision: 0.6066, recall: 0.4235, f1: 0.4988, acc: 0.6126, auc: 0.6518\n",
      " 0-0.7-0.3 -> log_loss: 0.6551, precision: 0.6107, recall: 0.4202, f1: 0.4978, acc: 0.6142, auc: 0.6528\n",
      " 0-0.8-0.2 -> log_loss: 0.6551, precision: 0.6147, recall: 0.4172, f1: 0.4970, acc: 0.6157, auc: 0.6537\n",
      " 0-0.9-0.1 -> log_loss: 0.6553, precision: 0.6178, recall: 0.4129, f1: 0.4949, acc: 0.6165, auc: 0.6544\n",
      "     0-1-0 -> log_loss: 0.6555, precision: 0.6169, recall: 0.4090, f1: 0.4919, acc: 0.6154, auc: 0.6548\n",
      " 0.1-0-0.9 -> log_loss: 0.6555, precision: 0.5913, recall: 0.4419, f1: 0.5058, acc: 0.6070, auc: 0.6452\n",
      "0.1-0.1-0.8 -> log_loss: 0.6551, precision: 0.5947, recall: 0.4390, f1: 0.5051, acc: 0.6085, auc: 0.6467\n",
      "0.1-0.2-0.7 -> log_loss: 0.6547, precision: 0.5972, recall: 0.4360, f1: 0.5040, acc: 0.6094, auc: 0.6481\n",
      "0.1-0.3-0.6 -> log_loss: 0.6544, precision: 0.6018, recall: 0.4353, f1: 0.5052, acc: 0.6119, auc: 0.6495\n",
      "0.1-0.4-0.5 -> log_loss: 0.6542, precision: 0.6026, recall: 0.4310, f1: 0.5025, acc: 0.6117, auc: 0.6508\n",
      "0.1-0.5-0.4 -> log_loss: 0.6541, precision: 0.6049, recall: 0.4266, f1: 0.5004, acc: 0.6122, auc: 0.6519\n",
      "0.1-0.6-0.3 -> log_loss: 0.6541, precision: 0.6086, recall: 0.4245, f1: 0.5002, acc: 0.6138, auc: 0.6529\n",
      "0.1-0.7-0.2 -> log_loss: 0.6542, precision: 0.6135, recall: 0.4210, f1: 0.4994, acc: 0.6158, auc: 0.6537\n",
      "0.1-0.8-0.1 -> log_loss: 0.6543, precision: 0.6156, recall: 0.4174, f1: 0.4975, acc: 0.6162, auc: 0.6543\n",
      " 0.1-0.9-0 -> log_loss: 0.6545, precision: 0.6149, recall: 0.4118, f1: 0.4933, acc: 0.6149, auc: 0.6546\n",
      " 0.2-0-0.8 -> log_loss: 0.6545, precision: 0.5949, recall: 0.4442, f1: 0.5086, acc: 0.6094, auc: 0.6472\n",
      "0.2-0.1-0.7 -> log_loss: 0.6541, precision: 0.5974, recall: 0.4416, f1: 0.5078, acc: 0.6104, auc: 0.6486\n",
      "0.2-0.2-0.6 -> log_loss: 0.6537, precision: 0.6009, recall: 0.4386, f1: 0.5071, acc: 0.6119, auc: 0.6498\n",
      "0.2-0.3-0.5 -> log_loss: 0.6535, precision: 0.6015, recall: 0.4348, f1: 0.5048, acc: 0.6117, auc: 0.6510\n",
      "0.2-0.4-0.4 -> log_loss: 0.6534, precision: 0.6028, recall: 0.4303, f1: 0.5021, acc: 0.6117, auc: 0.6520\n",
      "0.2-0.5-0.3 -> log_loss: 0.6533, precision: 0.6086, recall: 0.4297, f1: 0.5038, acc: 0.6147, auc: 0.6529\n",
      "0.2-0.6-0.2 -> log_loss: 0.6533, precision: 0.6119, recall: 0.4250, f1: 0.5016, acc: 0.6156, auc: 0.6536\n",
      "0.2-0.7-0.1 -> log_loss: 0.6534, precision: 0.6133, recall: 0.4205, f1: 0.4989, acc: 0.6155, auc: 0.6541\n",
      " 0.2-0.8-0 -> log_loss: 0.6536, precision: 0.6140, recall: 0.4155, f1: 0.4956, acc: 0.6151, auc: 0.6544\n",
      " 0.3-0-0.7 -> log_loss: 0.6536, precision: 0.5981, recall: 0.4459, f1: 0.5109, acc: 0.6114, auc: 0.6488\n",
      "0.3-0.1-0.6 -> log_loss: 0.6532, precision: 0.5992, recall: 0.4412, f1: 0.5082, acc: 0.6113, auc: 0.6500\n",
      "0.3-0.2-0.5 -> log_loss: 0.6530, precision: 0.5996, recall: 0.4388, f1: 0.5067, acc: 0.6112, auc: 0.6511\n",
      "0.3-0.3-0.4 -> log_loss: 0.6528, precision: 0.6018, recall: 0.4350, f1: 0.5050, acc: 0.6118, auc: 0.6520\n",
      "0.3-0.4-0.3 -> log_loss: 0.6527, precision: 0.6065, recall: 0.4324, f1: 0.5048, acc: 0.6140, auc: 0.6528\n",
      "0.3-0.5-0.2 -> log_loss: 0.6527, precision: 0.6092, recall: 0.4283, f1: 0.5030, acc: 0.6148, auc: 0.6535\n",
      "0.3-0.6-0.1 -> log_loss: 0.6527, precision: 0.6117, recall: 0.4235, f1: 0.5005, acc: 0.6152, auc: 0.6539\n",
      " 0.3-0.7-0 -> log_loss: 0.6529, precision: 0.6138, recall: 0.4203, f1: 0.4990, acc: 0.6158, auc: 0.6541\n",
      " 0.4-0-0.6 -> log_loss: 0.6529, precision: 0.5965, recall: 0.4451, f1: 0.5098, acc: 0.6104, auc: 0.6502\n",
      "0.4-0.1-0.5 -> log_loss: 0.6526, precision: 0.5987, recall: 0.4425, f1: 0.5089, acc: 0.6113, auc: 0.6511\n",
      "0.4-0.2-0.4 -> log_loss: 0.6524, precision: 0.6025, recall: 0.4400, f1: 0.5086, acc: 0.6130, auc: 0.6520\n",
      "0.4-0.3-0.3 -> log_loss: 0.6522, precision: 0.6045, recall: 0.4357, f1: 0.5064, acc: 0.6134, auc: 0.6527\n",
      "0.4-0.4-0.2 -> log_loss: 0.6522, precision: 0.6078, recall: 0.4320, f1: 0.5050, acc: 0.6146, auc: 0.6533\n",
      "0.4-0.5-0.1 -> log_loss: 0.6522, precision: 0.6106, recall: 0.4270, f1: 0.5025, acc: 0.6152, auc: 0.6537\n",
      " 0.4-0.6-0 -> log_loss: 0.6523, precision: 0.6131, recall: 0.4229, f1: 0.5006, acc: 0.6159, auc: 0.6539\n",
      " 0.5-0-0.5 -> log_loss: 0.6524, precision: 0.5975, recall: 0.4466, f1: 0.5112, acc: 0.6112, auc: 0.6511\n",
      "0.5-0.1-0.4 -> log_loss: 0.6521, precision: 0.6006, recall: 0.4440, f1: 0.5106, acc: 0.6125, auc: 0.6519\n",
      "0.5-0.2-0.3 -> log_loss: 0.6519, precision: 0.6026, recall: 0.4397, f1: 0.5084, acc: 0.6130, auc: 0.6525\n",
      "0.5-0.3-0.2 -> log_loss: 0.6518, precision: 0.6064, recall: 0.4353, f1: 0.5068, acc: 0.6144, auc: 0.6531\n",
      "0.5-0.4-0.1 -> log_loss: 0.6518, precision: 0.6085, recall: 0.4301, f1: 0.5040, acc: 0.6147, auc: 0.6534\n",
      " 0.5-0.5-0 -> log_loss: 0.6519, precision: 0.6122, recall: 0.4264, f1: 0.5027, acc: 0.6160, auc: 0.6536\n",
      " 0.6-0-0.4 -> log_loss: 0.6521, precision: 0.5995, recall: 0.4485, f1: 0.5131, acc: 0.6126, auc: 0.6518\n",
      "0.6-0.1-0.3 -> log_loss: 0.6519, precision: 0.6008, recall: 0.4435, f1: 0.5103, acc: 0.6126, auc: 0.6524\n",
      "0.6-0.2-0.2 -> log_loss: 0.6517, precision: 0.6036, recall: 0.4388, f1: 0.5082, acc: 0.6134, auc: 0.6529\n",
      "0.6-0.3-0.1 -> log_loss: 0.6517, precision: 0.6075, recall: 0.4348, f1: 0.5069, acc: 0.6149, auc: 0.6532\n",
      " 0.6-0.4-0 -> log_loss: 0.6517, precision: 0.6101, recall: 0.4290, f1: 0.5038, acc: 0.6153, auc: 0.6534\n",
      " 0.7-0-0.3 -> log_loss: 0.6520, precision: 0.5983, recall: 0.4468, f1: 0.5116, acc: 0.6117, auc: 0.6523\n",
      "0.7-0.1-0.2 -> log_loss: 0.6518, precision: 0.6025, recall: 0.4437, f1: 0.5110, acc: 0.6136, auc: 0.6527\n",
      "0.7-0.2-0.1 -> log_loss: 0.6517, precision: 0.6065, recall: 0.4391, f1: 0.5094, acc: 0.6151, auc: 0.6529\n",
      " 0.7-0.3-0 -> log_loss: 0.6517, precision: 0.6064, recall: 0.4336, f1: 0.5056, acc: 0.6141, auc: 0.6531\n",
      " 0.8-0-0.2 -> log_loss: 0.6522, precision: 0.6015, recall: 0.4475, f1: 0.5132, acc: 0.6136, auc: 0.6524\n",
      "0.8-0.1-0.1 -> log_loss: 0.6520, precision: 0.6048, recall: 0.4440, f1: 0.5121, acc: 0.6149, auc: 0.6527\n",
      " 0.8-0.2-0 -> log_loss: 0.6520, precision: 0.6037, recall: 0.4405, f1: 0.5094, acc: 0.6137, auc: 0.6528\n",
      " 0.9-0-0.1 -> log_loss: 0.6528, precision: 0.6020, recall: 0.4520, f1: 0.5164, acc: 0.6146, auc: 0.6524\n",
      " 0.9-0.1-0 -> log_loss: 0.6526, precision: 0.6002, recall: 0.4531, f1: 0.5164, acc: 0.6137, auc: 0.6526\n",
      "     1-0-0 -> log_loss: 0.6631, precision: 0.5983, recall: 0.4614, f1: 0.5210, acc: 0.6139, auc: 0.6522\n"
     ]
    }
   ],
   "source": [
    "# Test different combination for layer 3\n",
    "model_percent = [0, 0.1, 0.2, 0.3, 0.4, 0.5, 0.6, 0.7, 0.8, 0.9, 1]\n",
    "for m1_per in model_percent:\n",
    "    if m1_per < 1:\n",
    "        for m2_per in model_percent:\n",
    "            if (m1_per + m2_per) < 1:\n",
    "                m3_per = 1 - (m1_per + m2_per)\n",
    "                # Merge prediction in one column and check roc_auc\n",
    "                merge_probs = X_train_layer3['ExraTree']*m1_per + X_train_layer3['MLP']*m2_per + X_train_layer3['LR']*m3_per\n",
    "                merge_preds = np.where(merge_probs > 0.5, 1, 0)\n",
    "                logloss = log_loss(y_train_df, merge_probs)\n",
    "                precision = precision_score(y_train_df, merge_preds)\n",
    "                recall = recall_score(y_train_df, merge_preds)\n",
    "                f1 = f1_score(y_train_df, merge_preds)\n",
    "                acc = accuracy_score(y_train_df, merge_preds)\n",
    "                auc = roc_auc_score(y_train_df, merge_probs)\n",
    "                print(\"%10s -> log_loss: %.4f, precision: %.4f, recall: %.4f, f1: %.4f, acc: %.4f, auc: %.4f\" % (str(m1_per)+'-'+str(m2_per)+'-'+str(m3_per), logloss, precision, recall, f1, acc, auc))\n",
    "            # M3 not taken into account\n",
    "            elif (m1_per + m2_per) == 1:\n",
    "                # Merge prediction in one column and check roc_auc\n",
    "                merge_probs = X_train_layer3['ExraTree']*m1_per + X_train_layer3['MLP']*m2_per\n",
    "                merge_preds = np.where(merge_probs > 0.5, 1, 0)\n",
    "                logloss = log_loss(y_train_df, merge_probs)\n",
    "                precision = precision_score(y_train_df, merge_preds)\n",
    "                recall = recall_score(y_train_df, merge_preds)\n",
    "                f1 = f1_score(y_train_df, merge_preds)\n",
    "                acc = accuracy_score(y_train_df, merge_preds)\n",
    "                auc = roc_auc_score(y_train_df, merge_probs)\n",
    "                print(\"%10s -> log_loss: %.4f, precision: %.4f, recall: %.4f, f1: %.4f, acc: %.4f, auc: %.4f\" % (str(m1_per)+'-'+str(m2_per)+'-0', logloss, precision, recall, f1, acc, auc))\n",
    "    # Only M1\n",
    "    else:\n",
    "        # Merge prediction in one column and check roc_auc\n",
    "        merge_probs = X_train_layer3['ExraTree']*m1_per\n",
    "        merge_preds = np.where(merge_probs > 0.5, 1, 0)\n",
    "        logloss = log_loss(y_train_df, merge_probs)\n",
    "        precision = precision_score(y_train_df, merge_preds)\n",
    "        recall = recall_score(y_train_df, merge_preds)\n",
    "        f1 = f1_score(y_train_df, merge_preds)\n",
    "        acc = accuracy_score(y_train_df, merge_preds)\n",
    "        auc = roc_auc_score(y_train_df, merge_probs)\n",
    "        print(\"%10s -> log_loss: %.4f, precision: %.4f, recall: %.4f, f1: %.4f, acc: %.4f, auc: %.4f\" % (str(m1_per)+'-0-0', logloss, precision, recall, f1, acc, auc))\n",
    "        "
   ]
  },
  {
   "cell_type": "code",
   "execution_count": 34,
   "metadata": {},
   "outputs": [
    {
     "name": "stdout",
     "output_type": "stream",
     "text": [
      "     0-0-1 -> log_loss: 0.6586, precision: 0.5866, recall: 0.4415, f1: 0.5038, acc: 0.6042, auc: 0.6364\n",
      " 0-0.1-0.9 -> log_loss: 0.6582, precision: 0.5895, recall: 0.4403, f1: 0.5041, acc: 0.6057, auc: 0.6375\n",
      " 0-0.2-0.8 -> log_loss: 0.6579, precision: 0.5902, recall: 0.4370, f1: 0.5022, acc: 0.6057, auc: 0.6386\n",
      " 0-0.3-0.7 -> log_loss: 0.6577, precision: 0.5887, recall: 0.4314, f1: 0.4979, acc: 0.6040, auc: 0.6395\n",
      " 0-0.4-0.6 -> log_loss: 0.6576, precision: 0.5952, recall: 0.4305, f1: 0.4996, acc: 0.6075, auc: 0.6404\n",
      " 0-0.5-0.5 -> log_loss: 0.6575, precision: 0.5999, recall: 0.4293, f1: 0.5005, acc: 0.6099, auc: 0.6411\n",
      " 0-0.6-0.4 -> log_loss: 0.6575, precision: 0.6032, recall: 0.4261, f1: 0.4994, acc: 0.6112, auc: 0.6419\n",
      " 0-0.7-0.3 -> log_loss: 0.6576, precision: 0.6063, recall: 0.4240, f1: 0.4990, acc: 0.6125, auc: 0.6425\n",
      " 0-0.8-0.2 -> log_loss: 0.6578, precision: 0.6082, recall: 0.4200, f1: 0.4969, acc: 0.6129, auc: 0.6428\n",
      " 0-0.9-0.1 -> log_loss: 0.6581, precision: 0.6053, recall: 0.4143, f1: 0.4919, acc: 0.6105, auc: 0.6430\n",
      "     0-1-0 -> log_loss: 0.6584, precision: 0.6037, recall: 0.4090, f1: 0.4877, acc: 0.6088, auc: 0.6430\n",
      " 0.1-0-0.9 -> log_loss: 0.6578, precision: 0.5883, recall: 0.4439, f1: 0.5060, acc: 0.6055, auc: 0.6378\n",
      "0.1-0.1-0.8 -> log_loss: 0.6575, precision: 0.5892, recall: 0.4399, f1: 0.5037, acc: 0.6055, auc: 0.6388\n",
      "0.1-0.2-0.7 -> log_loss: 0.6573, precision: 0.5921, recall: 0.4362, f1: 0.5023, acc: 0.6066, auc: 0.6397\n",
      "0.1-0.3-0.6 -> log_loss: 0.6571, precision: 0.5973, recall: 0.4374, f1: 0.5050, acc: 0.6097, auc: 0.6405\n",
      "0.1-0.4-0.5 -> log_loss: 0.6570, precision: 0.6017, recall: 0.4326, f1: 0.5033, acc: 0.6114, auc: 0.6413\n",
      "0.1-0.5-0.4 -> log_loss: 0.6570, precision: 0.6018, recall: 0.4273, f1: 0.4998, acc: 0.6106, auc: 0.6419\n",
      "0.1-0.6-0.3 -> log_loss: 0.6571, precision: 0.6037, recall: 0.4220, f1: 0.4968, acc: 0.6108, auc: 0.6424\n",
      "0.1-0.7-0.2 -> log_loss: 0.6573, precision: 0.6049, recall: 0.4192, f1: 0.4952, acc: 0.6110, auc: 0.6428\n",
      "0.1-0.8-0.1 -> log_loss: 0.6575, precision: 0.6033, recall: 0.4139, f1: 0.4910, acc: 0.6094, auc: 0.6430\n",
      " 0.1-0.9-0 -> log_loss: 0.6578, precision: 0.6007, recall: 0.4106, f1: 0.4878, acc: 0.6075, auc: 0.6429\n",
      " 0.2-0-0.8 -> log_loss: 0.6572, precision: 0.5916, recall: 0.4431, f1: 0.5067, acc: 0.6073, auc: 0.6389\n",
      "0.2-0.1-0.7 -> log_loss: 0.6569, precision: 0.5932, recall: 0.4383, f1: 0.5041, acc: 0.6075, auc: 0.6397\n",
      "0.2-0.2-0.6 -> log_loss: 0.6567, precision: 0.5981, recall: 0.4358, f1: 0.5042, acc: 0.6099, auc: 0.6405\n",
      "0.2-0.3-0.5 -> log_loss: 0.6567, precision: 0.6025, recall: 0.4334, f1: 0.5041, acc: 0.6119, auc: 0.6412\n",
      "0.2-0.4-0.4 -> log_loss: 0.6566, precision: 0.6016, recall: 0.4257, f1: 0.4986, acc: 0.6103, auc: 0.6417\n",
      "0.2-0.5-0.3 -> log_loss: 0.6567, precision: 0.6000, recall: 0.4228, f1: 0.4961, acc: 0.6090, auc: 0.6422\n",
      "0.2-0.6-0.2 -> log_loss: 0.6568, precision: 0.6020, recall: 0.4184, f1: 0.4936, acc: 0.6094, auc: 0.6425\n",
      "0.2-0.7-0.1 -> log_loss: 0.6570, precision: 0.6040, recall: 0.4188, f1: 0.4946, acc: 0.6105, auc: 0.6426\n",
      " 0.2-0.8-0 -> log_loss: 0.6573, precision: 0.6006, recall: 0.4135, f1: 0.4898, acc: 0.6079, auc: 0.6426\n",
      " 0.3-0-0.7 -> log_loss: 0.6567, precision: 0.5942, recall: 0.4407, f1: 0.5061, acc: 0.6084, auc: 0.6395\n",
      "0.3-0.1-0.6 -> log_loss: 0.6565, precision: 0.5974, recall: 0.4358, f1: 0.5040, acc: 0.6095, auc: 0.6403\n",
      "0.3-0.2-0.5 -> log_loss: 0.6564, precision: 0.6007, recall: 0.4350, f1: 0.5046, acc: 0.6112, auc: 0.6409\n",
      "0.3-0.3-0.4 -> log_loss: 0.6564, precision: 0.6023, recall: 0.4305, f1: 0.5021, acc: 0.6114, auc: 0.6414\n",
      "0.3-0.4-0.3 -> log_loss: 0.6564, precision: 0.5994, recall: 0.4261, f1: 0.4981, acc: 0.6092, auc: 0.6418\n",
      "0.3-0.5-0.2 -> log_loss: 0.6565, precision: 0.6021, recall: 0.4240, f1: 0.4976, acc: 0.6103, auc: 0.6421\n",
      "0.3-0.6-0.1 -> log_loss: 0.6567, precision: 0.6000, recall: 0.4204, f1: 0.4944, acc: 0.6086, auc: 0.6421\n",
      " 0.3-0.7-0 -> log_loss: 0.6570, precision: 0.5992, recall: 0.4184, f1: 0.4927, acc: 0.6079, auc: 0.6420\n",
      " 0.4-0-0.6 -> log_loss: 0.6564, precision: 0.5977, recall: 0.4399, f1: 0.5068, acc: 0.6103, auc: 0.6400\n",
      "0.4-0.1-0.5 -> log_loss: 0.6563, precision: 0.5999, recall: 0.4366, f1: 0.5054, acc: 0.6110, auc: 0.6405\n",
      "0.4-0.2-0.4 -> log_loss: 0.6562, precision: 0.5982, recall: 0.4318, f1: 0.5015, acc: 0.6094, auc: 0.6410\n",
      "0.4-0.3-0.3 -> log_loss: 0.6562, precision: 0.5983, recall: 0.4289, f1: 0.4996, acc: 0.6090, auc: 0.6414\n",
      "0.4-0.4-0.2 -> log_loss: 0.6563, precision: 0.6003, recall: 0.4277, f1: 0.4995, acc: 0.6099, auc: 0.6416\n",
      "0.4-0.5-0.1 -> log_loss: 0.6565, precision: 0.5967, recall: 0.4224, f1: 0.4946, acc: 0.6071, auc: 0.6415\n",
      " 0.4-0.6-0 -> log_loss: 0.6568, precision: 0.5974, recall: 0.4224, f1: 0.4949, acc: 0.6075, auc: 0.6414\n",
      " 0.5-0-0.5 -> log_loss: 0.6563, precision: 0.5953, recall: 0.4415, f1: 0.5070, acc: 0.6092, auc: 0.6401\n",
      "0.5-0.1-0.4 -> log_loss: 0.6562, precision: 0.5967, recall: 0.4362, f1: 0.5040, acc: 0.6092, auc: 0.6405\n",
      "0.5-0.2-0.3 -> log_loss: 0.6562, precision: 0.5971, recall: 0.4346, f1: 0.5031, acc: 0.6092, auc: 0.6408\n",
      "0.5-0.3-0.2 -> log_loss: 0.6563, precision: 0.5995, recall: 0.4318, f1: 0.5020, acc: 0.6101, auc: 0.6409\n",
      "0.5-0.4-0.1 -> log_loss: 0.6564, precision: 0.5976, recall: 0.4289, f1: 0.4994, acc: 0.6086, auc: 0.6408\n",
      " 0.5-0.5-0 -> log_loss: 0.6567, precision: 0.5949, recall: 0.4265, f1: 0.4968, acc: 0.6068, auc: 0.6406\n",
      " 0.6-0-0.4 -> log_loss: 0.6563, precision: 0.5926, recall: 0.4419, f1: 0.5063, acc: 0.6077, auc: 0.6399\n",
      "0.6-0.1-0.3 -> log_loss: 0.6563, precision: 0.5932, recall: 0.4383, f1: 0.5041, acc: 0.6075, auc: 0.6401\n",
      "0.6-0.2-0.2 -> log_loss: 0.6563, precision: 0.5949, recall: 0.4354, f1: 0.5028, acc: 0.6081, auc: 0.6401\n",
      "0.6-0.3-0.1 -> log_loss: 0.6565, precision: 0.5953, recall: 0.4338, f1: 0.5019, acc: 0.6081, auc: 0.6400\n",
      " 0.6-0.4-0 -> log_loss: 0.6567, precision: 0.5954, recall: 0.4310, f1: 0.5000, acc: 0.6077, auc: 0.6397\n",
      " 0.7-0-0.3 -> log_loss: 0.6565, precision: 0.5950, recall: 0.4452, f1: 0.5093, acc: 0.6095, auc: 0.6393\n",
      "0.7-0.1-0.2 -> log_loss: 0.6565, precision: 0.5918, recall: 0.4399, f1: 0.5047, acc: 0.6070, auc: 0.6393\n",
      "0.7-0.2-0.1 -> log_loss: 0.6567, precision: 0.5910, recall: 0.4354, f1: 0.5014, acc: 0.6058, auc: 0.6391\n",
      " 0.7-0.3-0 -> log_loss: 0.6569, precision: 0.5910, recall: 0.4326, f1: 0.4995, acc: 0.6055, auc: 0.6389\n",
      " 0.8-0-0.2 -> log_loss: 0.6569, precision: 0.5903, recall: 0.4435, f1: 0.5065, acc: 0.6066, auc: 0.6384\n",
      "0.8-0.1-0.1 -> log_loss: 0.6570, precision: 0.5899, recall: 0.4399, f1: 0.5040, acc: 0.6058, auc: 0.6382\n",
      " 0.8-0.2-0 -> log_loss: 0.6572, precision: 0.5873, recall: 0.4358, f1: 0.5003, acc: 0.6038, auc: 0.6380\n",
      " 0.9-0-0.1 -> log_loss: 0.6575, precision: 0.5870, recall: 0.4427, f1: 0.5047, acc: 0.6045, auc: 0.6373\n",
      " 0.9-0.1-0 -> log_loss: 0.6576, precision: 0.5885, recall: 0.4415, f1: 0.5045, acc: 0.6053, auc: 0.6370\n",
      "     1-0-0 -> log_loss: 0.6582, precision: 0.5877, recall: 0.4452, f1: 0.5066, acc: 0.6053, auc: 0.6361\n"
     ]
    }
   ],
   "source": [
    "from sklearn.metrics import precision_score, recall_score, f1_score, log_loss, accuracy_score, roc_auc_score\n",
    "# Test different combination for layer 3\n",
    "model_percent = [0, 0.1, 0.2, 0.3, 0.4, 0.5, 0.6, 0.7, 0.8, 0.9, 1]\n",
    "for m1_per in model_percent:\n",
    "    if m1_per < 1:\n",
    "        for m2_per in model_percent:\n",
    "            if (m1_per + m2_per) < 1:\n",
    "                m3_per = 1 - (m1_per + m2_per)\n",
    "                # Merge prediction in one column and check roc_auc\n",
    "                merge_probs = X_test_layer3['ExraTree']*m1_per + X_test_layer3['MLP']*m2_per + X_test_layer3['LR']*m3_per\n",
    "                merge_preds = np.where(merge_probs > 0.5, 1, 0)\n",
    "                logloss = log_loss(y_test_df, merge_probs)\n",
    "                precision = precision_score(y_test_df, merge_preds)\n",
    "                recall = recall_score(y_test_df, merge_preds)\n",
    "                f1 = f1_score(y_test_df, merge_preds)\n",
    "                acc = accuracy_score(y_test_df, merge_preds)\n",
    "                auc = roc_auc_score(y_test_df, merge_probs)\n",
    "                print(\"%10s -> log_loss: %.4f, precision: %.4f, recall: %.4f, f1: %.4f, acc: %.4f, auc: %.4f\" % (str(m1_per)+'-'+str(m2_per)+'-'+str(m3_per), logloss, precision, recall, f1, acc, auc))\n",
    "            # M3 not taken into account\n",
    "            elif (m1_per + m2_per) == 1:\n",
    "                # Merge prediction in one column and check roc_auc\n",
    "                merge_probs = X_test_layer3['ExraTree']*m1_per + X_test_layer3['MLP']*m2_per\n",
    "                merge_preds = np.where(merge_probs > 0.5, 1, 0)\n",
    "                logloss = log_loss(y_test_df, merge_probs)\n",
    "                precision = precision_score(y_test_df, merge_preds)\n",
    "                recall = recall_score(y_test_df, merge_preds)\n",
    "                f1 = f1_score(y_test_df, merge_preds)\n",
    "                acc = accuracy_score(y_test_df, merge_preds)\n",
    "                auc = roc_auc_score(y_test_df, merge_probs)\n",
    "                print(\"%10s -> log_loss: %.4f, precision: %.4f, recall: %.4f, f1: %.4f, acc: %.4f, auc: %.4f\" % (str(m1_per)+'-'+str(m2_per)+'-0', logloss, precision, recall, f1, acc, auc))\n",
    "    # Only M1\n",
    "    else:\n",
    "        # Merge prediction in one column and check roc_auc\n",
    "        merge_probs = X_test_layer3['ExraTree']*m1_per\n",
    "        merge_preds = np.where(merge_probs > 0.5, 1, 0)\n",
    "        logloss = log_loss(y_test_df, merge_probs)\n",
    "        precision = precision_score(y_test_df, merge_preds)\n",
    "        recall = recall_score(y_test_df, merge_preds)\n",
    "        f1 = f1_score(y_test_df, merge_preds)\n",
    "        acc = accuracy_score(y_test_df, merge_preds)\n",
    "        auc = roc_auc_score(y_test_df, merge_probs)\n",
    "        print(\"%10s -> log_loss: %.4f, precision: %.4f, recall: %.4f, f1: %.4f, acc: %.4f, auc: %.4f\" % (str(m1_per)+'-0-0', logloss, precision, recall, f1, acc, auc))\n",
    "        "
   ]
  },
  {
   "cell_type": "code",
   "execution_count": null,
   "metadata": {
    "collapsed": true
   },
   "outputs": [],
   "source": [
    "# 0.3-0.3-0.4 -> log_loss: 0.6555, precision: 0.6051, recall: 0.4431, f1: 0.5116, acc: 0.6149, auc: 0.6008\n",
    "# 0.4-0.6-0 -> log_loss: 0.6523, precision: 0.6131, recall: 0.4229, f1: 0.5006, acc: 0.6159, auc: 0.6539\n",
    "\n",
    "y_probs = X_test_layer3['NB']*0.3 + X_test_layer3['MLP']*0.3 + X_test_layer3['LR']*0.4\n",
    "y_preds = np.where(merge_probs > 0.5, 1, 0)"
   ]
  },
  {
   "cell_type": "code",
   "execution_count": null,
   "metadata": {
    "collapsed": true
   },
   "outputs": [],
   "source": [
    "# ET, MLP, LR\n",
    "#0.2-0.3-0.5 -> log_loss: 0.6539, precision: 0.6044, recall: 0.4369, f1: 0.5072, acc: 0.6136, auc: 0.6512"
   ]
  },
  {
   "cell_type": "code",
   "execution_count": null,
   "metadata": {},
   "outputs": [],
   "source": [
    "# Plot a ROC curve\n",
    "from sklearn.metrics import roc_curve, auc\n",
    "false_positive_rate, true_positive_rate, thresholds = roc_curve(y_test_df, y_probs.ravel())\n",
    "roc_auc = auc(false_positive_rate, true_positive_rate)\n",
    "plt.title('ROC')\n",
    "plt.plot(false_positive_rate, true_positive_rate, 'b',\n",
    "label='AUC = %0.4f'% roc_auc)\n",
    "plt.legend(loc='lower right')\n",
    "plt.plot([0,1],[0,1],'r--')\n",
    "plt.xlim([-0.1,1.2])\n",
    "plt.ylim([-0.1,1.2])\n",
    "plt.ylabel('True Positive Rate')\n",
    "plt.xlabel('False Positive Rate')\n",
    "plt.show()"
   ]
  },
  {
   "cell_type": "code",
   "execution_count": 20,
   "metadata": {
    "scrolled": false
   },
   "outputs": [
    {
     "data": {
      "image/png": "[encoded data removed]",
      "text/plain": [
       "<matplotlib.figure.Figure at 0x10f34ad90>"
      ]
     },
     "metadata": {},
     "output_type": "display_data"
    }
   ],
   "source": [
    "# Compute and display the correlation matrix of predictions\n",
    "import seaborn as sns # visualization library based on matplotlib\n",
    "f, ax = plt.subplots(figsize=(16,16))\n",
    "sns.heatmap(X_test_layer3.corr(), square=True, annot=True)\n",
    "plt.title(\"Prediction correlation matrix\", fontsize=15)\n",
    "plt.show()"
   ]
  },
  {
   "cell_type": "code",
   "execution_count": null,
   "metadata": {
    "collapsed": true
   },
   "outputs": [],
   "source": []
  },
  {
   "cell_type": "code",
   "execution_count": null,
   "metadata": {},
   "outputs": [],
   "source": [
    "y_train_df.to_csv('./TEST_LAYER3_y.csv')"
   ]
  },
  {
   "cell_type": "code",
   "execution_count": null,
   "metadata": {
    "collapsed": true
   },
   "outputs": [],
   "source": [
    "# All 5\n",
    "0.653702983787\n",
    "0.515867766543\n",
    "0.606613097232\n",
    "0.456896627079"
   ]
  }
 ],
 "metadata": {
  "kernelspec": {
   "display_name": "Python 2",
   "language": "python",
   "name": "python2"
  },
  "language_info": {
   "codemirror_mode": {
    "name": "ipython",
    "version": 2
   },
   "file_extension": ".py",
   "mimetype": "text/x-python",
   "name": "python",
   "nbconvert_exporter": "python",
   "pygments_lexer": "ipython2",
   "version": "2.7.13"
  }
 },
 "nbformat": 4,
 "nbformat_minor": 2
}
