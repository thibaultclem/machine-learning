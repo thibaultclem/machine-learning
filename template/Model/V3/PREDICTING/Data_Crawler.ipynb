{
 "cells": [
  {
   "cell_type": "markdown",
   "metadata": {},
   "source": [
    "Extract the data of the current season from http://www.football-data.co.uk/, Transform them and Load them in a Database."
   ]
  },
  {
   "cell_type": "code",
   "execution_count": 1,
   "metadata": {
    "collapsed": true
   },
   "outputs": [],
   "source": [
    "# Import library\n",
    "import json\n",
    "import sqlite3\n",
    "import requests\n",
    "import io\n",
    "import pandas as pd # data processing, CSV file I/O\n",
    "from IPython.display import display # Manage multiple output per cell"
   ]
  },
  {
   "cell_type": "code",
   "execution_count": 2,
   "metadata": {
    "collapsed": true
   },
   "outputs": [],
   "source": [
    "# DB Sqlite connection\n",
    "db = \"/Users/thibaultclement/Project/ligue1-predict/src/notebook/data/db/soccer_predict.sqlite\"\n",
    "conn = sqlite3.connect(db)\n",
    "cur = conn.cursor()"
   ]
  },
  {
   "cell_type": "code",
   "execution_count": 3,
   "metadata": {
    "collapsed": true
   },
   "outputs": [],
   "source": [
    "# Clean Database\n",
    "cur.execute('DROP TABLE IF EXISTS cur_season_matchs_raw')\n",
    "cur.execute('DROP TABLE IF EXISTS cur_season_pre_matchs')\n",
    "conn.commit()"
   ]
  },
  {
   "cell_type": "code",
   "execution_count": 4,
   "metadata": {
    "collapsed": true
   },
   "outputs": [],
   "source": [
    "# Configuration\n",
    "leagues = ['D1', 'E0', 'E1', 'E2', 'F1', 'I1', 'SP1', 'SC0']\n",
    "seasons = ['1718']\n",
    "website = \"http://www.football-data.co.uk/mmz4281\""
   ]
  },
  {
   "cell_type": "code",
   "execution_count": 5,
   "metadata": {
    "collapsed": true
   },
   "outputs": [],
   "source": [
    "# Crawl Data from internet to get result on a league for a specific season\n",
    "def crawlLeagueBySeason( season, league ):\n",
    "    url = website+\"/\"+season+\"/\"+league+\".csv\"\n",
    "    req = requests.get(url).content\n",
    "    df = pd.read_csv(io.StringIO(req.decode('utf-8')))\n",
    "    # Remove not use columns only for premier league\n",
    "    if 'Attendance' in df.columns:\n",
    "        df = df[df.columns.drop(['Attendance'])]\n",
    "    if 'Referee' in df.columns:\n",
    "        df = df[df.columns.drop(['Referee'])]\n",
    "    if 'SBH' in df.columns:\n",
    "        df = df[df.columns.drop(['SBH'])]\n",
    "    if 'SBD' in df.columns:\n",
    "        df = df[df.columns.drop(['SBD'])]\n",
    "    if 'SBA' in df.columns:\n",
    "        df = df[df.columns.drop(['SBA'])]\n",
    "    if 'GBH' in df.columns:\n",
    "        df = df[df.columns.drop(['GBH'])]\n",
    "    if 'GBA' in df.columns:\n",
    "        df = df[df.columns.drop(['GBA'])]\n",
    "    if 'GBD' in df.columns:\n",
    "        df = df[df.columns.drop(['GBD'])]\n",
    "    if 'BSH' in df.columns:\n",
    "        df = df[df.columns.drop(['BSH'])]\n",
    "    if 'BSD' in df.columns:\n",
    "        df = df[df.columns.drop(['BSD'])]\n",
    "    if 'BSA' in df.columns:\n",
    "        df = df[df.columns.drop(['BSA'])]\n",
    "    if 'Unnamed: 70' in df.columns:\n",
    "        df = df[df.columns.drop(['Unnamed: 70'])]\n",
    "    if 'Unnamed: 71' in df.columns:\n",
    "        df = df[df.columns.drop(['Unnamed: 71'])]\n",
    "    if 'Unnamed: 72' in df.columns:\n",
    "        df = df[df.columns.drop(['Unnamed: 72'])]\n",
    "    # Transform Date column to Date Type\n",
    "    if len(df['Date'][0]) == 8:\n",
    "        df['Date'] = pd.to_datetime(df['Date'], format='%d/%m/%y')\n",
    "    else:\n",
    "        df['Date'] = pd.to_datetime(df['Date'], format='%d/%m/%Y')\n",
    "    # Insert to DB\n",
    "    df.to_sql(\"cur_season_matchs_raw\", conn, if_exists=\"append\")\n",
    "    display(league, season,100. * df.FTR.value_counts() / len(df.FTR))"
   ]
  },
  {
   "cell_type": "code",
   "execution_count": 6,
   "metadata": {
    "scrolled": false
   },
   "outputs": [
    {
     "data": {
      "text/plain": [
       "'D1'"
      ]
     },
     "metadata": {},
     "output_type": "display_data"
    },
    {
     "data": {
      "text/plain": [
       "'1718'"
      ]
     },
     "metadata": {},
     "output_type": "display_data"
    },
    {
     "data": {
      "text/plain": [
       "H    46.031746\n",
       "D    28.571429\n",
       "A    25.396825\n",
       "Name: FTR, dtype: float64"
      ]
     },
     "metadata": {},
     "output_type": "display_data"
    },
    {
     "data": {
      "text/plain": [
       "'E0'"
      ]
     },
     "metadata": {},
     "output_type": "display_data"
    },
    {
     "data": {
      "text/plain": [
       "'1718'"
      ]
     },
     "metadata": {},
     "output_type": "display_data"
    },
    {
     "data": {
      "text/plain": [
       "H    46.0\n",
       "A    30.0\n",
       "D    24.0\n",
       "Name: FTR, dtype: float64"
      ]
     },
     "metadata": {},
     "output_type": "display_data"
    },
    {
     "data": {
      "text/plain": [
       "'E1'"
      ]
     },
     "metadata": {},
     "output_type": "display_data"
    },
    {
     "data": {
      "text/plain": [
       "'1718'"
      ]
     },
     "metadata": {},
     "output_type": "display_data"
    },
    {
     "data": {
      "text/plain": [
       "H    42.916667\n",
       "A    30.000000\n",
       "D    27.083333\n",
       "Name: FTR, dtype: float64"
      ]
     },
     "metadata": {},
     "output_type": "display_data"
    },
    {
     "data": {
      "text/plain": [
       "'E2'"
      ]
     },
     "metadata": {},
     "output_type": "display_data"
    },
    {
     "data": {
      "text/plain": [
       "'1718'"
      ]
     },
     "metadata": {},
     "output_type": "display_data"
    },
    {
     "data": {
      "text/plain": [
       "H    43.881857\n",
       "A    31.645570\n",
       "D    24.472574\n",
       "Name: FTR, dtype: float64"
      ]
     },
     "metadata": {},
     "output_type": "display_data"
    },
    {
     "data": {
      "text/plain": [
       "'F1'"
      ]
     },
     "metadata": {},
     "output_type": "display_data"
    },
    {
     "data": {
      "text/plain": [
       "'1718'"
      ]
     },
     "metadata": {},
     "output_type": "display_data"
    },
    {
     "data": {
      "text/plain": [
       "H    46.25\n",
       "A    30.00\n",
       "D    23.75\n",
       "Name: FTR, dtype: float64"
      ]
     },
     "metadata": {},
     "output_type": "display_data"
    },
    {
     "data": {
      "text/plain": [
       "'I1'"
      ]
     },
     "metadata": {},
     "output_type": "display_data"
    },
    {
     "data": {
      "text/plain": [
       "'1718'"
      ]
     },
     "metadata": {},
     "output_type": "display_data"
    },
    {
     "data": {
      "text/plain": [
       "H    43.243243\n",
       "A    37.837838\n",
       "D    18.918919\n",
       "Name: FTR, dtype: float64"
      ]
     },
     "metadata": {},
     "output_type": "display_data"
    },
    {
     "data": {
      "text/plain": [
       "'SP1'"
      ]
     },
     "metadata": {},
     "output_type": "display_data"
    },
    {
     "data": {
      "text/plain": [
       "'1718'"
      ]
     },
     "metadata": {},
     "output_type": "display_data"
    },
    {
     "data": {
      "text/plain": [
       "H    45.714286\n",
       "A    30.714286\n",
       "D    23.571429\n",
       "Name: FTR, dtype: float64"
      ]
     },
     "metadata": {},
     "output_type": "display_data"
    },
    {
     "data": {
      "text/plain": [
       "'SC0'"
      ]
     },
     "metadata": {},
     "output_type": "display_data"
    },
    {
     "data": {
      "text/plain": [
       "'1718'"
      ]
     },
     "metadata": {},
     "output_type": "display_data"
    },
    {
     "data": {
      "text/plain": [
       "A    42.553191\n",
       "H    31.914894\n",
       "D    25.531915\n",
       "Name: FTR, dtype: float64"
      ]
     },
     "metadata": {},
     "output_type": "display_data"
    }
   ],
   "source": [
    "# Crawl all seasons for all leagues\n",
    "for league in leagues:\n",
    "    for season in seasons:\n",
    "        crawlLeagueBySeason(season, league)"
   ]
  },
  {
   "cell_type": "code",
   "execution_count": 7,
   "metadata": {
    "collapsed": true,
    "scrolled": false
   },
   "outputs": [],
   "source": [
    "# Get all data for pre match on away team\n",
    "def homeData( date, team, div, nb_matches, nb_matches_string ):\n",
    "    # Dataframe to return with all info\n",
    "    dic = {}\n",
    "    # Home team query\n",
    "    #TODO Recuperer aussi combien de buts ils se sont pris dans la tronche et tout et tout\n",
    "    queryHome = '''\n",
    "            SELECT Date, FTHG, FTR, HTHG, HTR, HS, HST, HF, HC, HY, HR, FTAG, HTAG, `AS`, AST, AF, AC, AY, AR\n",
    "            FROM cur_season_matchs_raw\n",
    "            WHERE Date < ? AND HomeTeam = ? AND Div = ? ORDER BY Date DESC LIMIT ?'''\n",
    "    # Get the previous home game of the Home Team\n",
    "    df_home = pd.read_sql(queryHome, conn, params=[date, team, div, nb_matches])\n",
    "    # Hot-encode Category Full Time Result and Half Time Result\n",
    "    df_home = pd.get_dummies(df_home, columns=['FTR', 'HTR'])\n",
    "    # Calculate the mean of all columns\n",
    "    #display(df_home.head())\n",
    "    dic['H_MEANS_'+nb_matches_string+'_FTHG'] = round(df_home.FTHG.mean(), 2)\n",
    "    dic['H_MEANS_'+nb_matches_string+'_FTR_H'] = 0 if 'FTR_H'not in df_home.columns else round(df_home.FTR_H.mean(), 2)\n",
    "    dic['H_MEANS_'+nb_matches_string+'_FTR_D'] = 0 if 'FTR_D' not in df_home.columns else round(df_home.FTR_D.mean(), 2)\n",
    "    dic['H_MEANS_'+nb_matches_string+'_FTR_A'] = 0 if 'FTR_A' not in df_home.columns else round(df_home.FTR_A.mean(), 2)\n",
    "    dic['H_MEANS_'+nb_matches_string+'_HTHG'] = round(df_home.HTHG.mean(), 2)\n",
    "    dic['H_MEANS_'+nb_matches_string+'_HTR_H'] = 0 if 'HTR_H' not in df_home.columns else round(df_home.HTR_H.mean(), 2)\n",
    "    dic['H_MEANS_'+nb_matches_string+'_HTR_D'] = 0 if 'HTR_D' not in df_home.columns else round(df_home.HTR_D.mean(), 2)\n",
    "    dic['H_MEANS_'+nb_matches_string+'_HTR_A'] = 0 if 'HTR_A' not in df_home.columns else round(df_home.HTR_A.mean(), 2)\n",
    "    dic['H_MEANS_'+nb_matches_string+'_HS'] = round(df_home.HS.mean(), 2)\n",
    "    dic['H_MEANS_'+nb_matches_string+'_HST'] = round(df_home.HST.mean(), 2)\n",
    "    dic['H_MEANS_'+nb_matches_string+'_HF'] = round( df_home.HF.mean(), 2)\n",
    "    dic['H_MEANS_'+nb_matches_string+'_HC'] = round(df_home.HC.mean(), 2)\n",
    "    dic['H_MEANS_'+nb_matches_string+'_HY'] = round(df_home.HY.mean(), 2)\n",
    "    dic['H_MEANS_'+nb_matches_string+'_HR'] = round(df_home.HR.mean(), 2)\n",
    "    dic['H_MEANS_'+nb_matches_string+'_FTAG'] = round(df_home.FTAG.mean(), 2)\n",
    "    dic['H_MEANS_'+nb_matches_string+'_HTAG'] = round(df_home.HTAG.mean(), 2)\n",
    "    dic['H_MEANS_'+nb_matches_string+'_AS'] = round(df_home.AS.mean(), 2)\n",
    "    dic['H_MEANS_'+nb_matches_string+'_AST'] = round(df_home.AST.mean(), 2)\n",
    "    dic['H_MEANS_'+nb_matches_string+'_AF'] = round(df_home.AF.mean(), 2)\n",
    "    dic['H_MEANS_'+nb_matches_string+'_AC'] = round(df_home.AC.mean(), 2)\n",
    "    dic['H_MEANS_'+nb_matches_string+'_AY'] = round(df_home.AY.mean(), 2)\n",
    "    dic['H_MEANS_'+nb_matches_string+'_AR'] = round(df_home.AR.mean(), 2)\n",
    "    dic['H_STD_'+nb_matches_string+'_FTHG'] = round(df_home.FTHG.std(), 3)\n",
    "    dic['H_STD_'+nb_matches_string+'_FTR_H'] = 0 if 'FTR_H'not in df_home.columns else round(df_home.FTR_H.std(), 3)\n",
    "    dic['H_STD_'+nb_matches_string+'_FTR_D'] = 0 if 'FTR_D' not in df_home.columns else round(df_home.FTR_D.std(), 3)\n",
    "    dic['H_STD_'+nb_matches_string+'_FTR_A'] = 0 if 'FTR_A' not in df_home.columns else round(df_home.FTR_A.std(), 3)\n",
    "    dic['H_STD_'+nb_matches_string+'_HTHG'] = round(df_home.HTHG.std(), 3)\n",
    "    dic['H_STD_'+nb_matches_string+'_HTR_H'] = 0 if 'HTR_H' not in df_home.columns else round(df_home.HTR_H.std(), 3)\n",
    "    dic['H_STD_'+nb_matches_string+'_HTR_D'] = 0 if 'HTR_D' not in df_home.columns else round(df_home.HTR_D.std(), 3)\n",
    "    dic['H_STD_'+nb_matches_string+'_HTR_A'] = 0 if 'HTR_A' not in df_home.columns else round(df_home.HTR_A.std(), 3)\n",
    "    dic['H_STD_'+nb_matches_string+'_HS'] = round(df_home.HS.std(), 3)\n",
    "    dic['H_STD_'+nb_matches_string+'_HST'] = round(df_home.HST.std(), 3)\n",
    "    dic['H_STD_'+nb_matches_string+'_HF'] = round( df_home.HF.std(), 3)\n",
    "    dic['H_STD_'+nb_matches_string+'_HC'] = round(df_home.HC.std(), 3)\n",
    "    dic['H_STD_'+nb_matches_string+'_HY'] = round(df_home.HY.std(), 3)\n",
    "    dic['H_STD_'+nb_matches_string+'_HR'] = round(df_home.HR.std(), 3)\n",
    "    dic['H_STD_'+nb_matches_string+'_FTAG'] = round(df_home.FTAG.std(), 3)\n",
    "    dic['H_STD_'+nb_matches_string+'_HTAG'] = round(df_home.HTAG.std(), 3)\n",
    "    dic['H_STD_'+nb_matches_string+'_AS'] = round(df_home.AS.std(), 3)\n",
    "    dic['H_STD_'+nb_matches_string+'_AST'] = round(df_home.AST.std(), 3)\n",
    "    dic['H_STD_'+nb_matches_string+'_AF'] = round(df_home.AF.std(), 3)\n",
    "    dic['H_STD_'+nb_matches_string+'_AC'] = round(df_home.AC.std(), 3)\n",
    "    dic['H_STD_'+nb_matches_string+'_AY'] = round(df_home.AY.std(), 3)\n",
    "    dic['H_STD_'+nb_matches_string+'_AR'] = round(df_home.AR.std(), 3)\n",
    "    return dic"
   ]
  },
  {
   "cell_type": "code",
   "execution_count": 8,
   "metadata": {
    "collapsed": true
   },
   "outputs": [],
   "source": [
    "# Get all data for pre match on away team\n",
    "def awayData( date, team, div, nb_matches, nb_matches_string ):\n",
    "    # Dataframe to return with all info\n",
    "    dic = {}\n",
    "    # away team query\n",
    "    #TODO Recuperer aussi combien de buts ils se sont pris dans la tronche et tout et tout\n",
    "    queryAway = '''\n",
    "            SELECT Date, FTAG, FTR, HTAG, HTR, `AS`, AST, AF, AC, AY, AR, FTHG, HTHG, HS, HST, HF, HC, HY, HR\n",
    "            FROM cur_season_matchs_raw\n",
    "            WHERE Date < ? AND AwayTeam = ? AND Div = ? ORDER BY Date DESC LIMIT ?'''\n",
    "    # Get the previous away game of the away Team\n",
    "    df_away = pd.read_sql(queryAway, conn, params=[date, team, div, nb_matches])\n",
    "    # Hot-encode Category Full Time Result and Half Time Result\n",
    "    df_away = pd.get_dummies(df_away, columns=['FTR', 'HTR'])\n",
    "    # Calculate the mean of all columns\n",
    "    #display(df_away.head())\n",
    "    dic['A_MEANS_'+nb_matches_string+'_FTAG'] = round(df_away.FTAG.mean(), 2)\n",
    "    dic['A_MEANS_'+nb_matches_string+'_FTR_H'] = 0 if 'FTR_H'not in df_away.columns else round(df_away.FTR_H.mean(), 2)\n",
    "    dic['A_MEANS_'+nb_matches_string+'_FTR_D'] = 0 if 'FTR_D' not in df_away.columns else round(df_away.FTR_D.mean(), 2)\n",
    "    dic['A_MEANS_'+nb_matches_string+'_FTR_A'] = 0 if 'FTR_A' not in df_away.columns else round(df_away.FTR_A.mean(), 2)\n",
    "    dic['A_MEANS_'+nb_matches_string+'_HTAG'] = round(df_away.HTAG.mean(), 2)\n",
    "    dic['A_MEANS_'+nb_matches_string+'_HTR_H'] = 0 if 'HTR_H' not in df_away.columns else round(df_away.HTR_H.mean(), 2)\n",
    "    dic['A_MEANS_'+nb_matches_string+'_HTR_D'] = 0 if 'HTR_D' not in df_away.columns else round(df_away.HTR_D.mean(), 2)\n",
    "    dic['A_MEANS_'+nb_matches_string+'_HTR_A'] = 0 if 'HTR_A' not in df_away.columns else round(df_away.HTR_A.mean(), 2)\n",
    "    dic['A_MEANS_'+nb_matches_string+'_AS'] = round(df_away.AS.mean(), 2)\n",
    "    dic['A_MEANS_'+nb_matches_string+'_AST'] = round(df_away.AST.mean(), 2)\n",
    "    dic['A_MEANS_'+nb_matches_string+'_AF'] = round(df_away.AF.mean(), 2)\n",
    "    dic['A_MEANS_'+nb_matches_string+'_AC'] = round(df_away.AC.mean(), 2)\n",
    "    dic['A_MEANS_'+nb_matches_string+'_AY'] = round(df_away.AY.mean(), 2)\n",
    "    dic['A_MEANS_'+nb_matches_string+'_AR'] = round(df_away.AR.mean(), 2)\n",
    "    dic['A_MEANS_'+nb_matches_string+'_FTHG'] = round(df_away.FTHG.mean(), 2)\n",
    "    dic['A_MEANS_'+nb_matches_string+'_HTHG'] = round(df_away.HTHG.mean(), 2)\n",
    "    dic['A_MEANS_'+nb_matches_string+'_HS'] = round(df_away.HS.mean(), 2)\n",
    "    dic['A_MEANS_'+nb_matches_string+'_HST'] = round(df_away.HST.mean(), 2)\n",
    "    dic['A_MEANS_'+nb_matches_string+'_HF'] = round( df_away.HF.mean(), 2)\n",
    "    dic['A_MEANS_'+nb_matches_string+'_HC'] = round(df_away.HC.mean(), 2)\n",
    "    dic['A_MEANS_'+nb_matches_string+'_HY'] = round(df_away.HY.mean(), 2)\n",
    "    dic['A_MEANS_'+nb_matches_string+'_HR'] = round(df_away.HR.mean(), 2)\n",
    "    dic['A_STD_'+nb_matches_string+'_FTAG'] = round(df_away.FTAG.std(), 3)\n",
    "    dic['A_STD_'+nb_matches_string+'_FTR_H'] = 0 if 'FTR_H'not in df_away.columns else round(df_away.FTR_H.std(), 3)\n",
    "    dic['A_STD_'+nb_matches_string+'_FTR_D'] = 0 if 'FTR_D' not in df_away.columns else round(df_away.FTR_D.std(), 3)\n",
    "    dic['A_STD_'+nb_matches_string+'_FTR_A'] = 0 if 'FTR_A' not in df_away.columns else round(df_away.FTR_A.std(), 3)\n",
    "    dic['A_STD_'+nb_matches_string+'_HTAG'] = round(df_away.HTAG.std(), 3)\n",
    "    dic['A_STD_'+nb_matches_string+'_HTR_H'] = 0 if 'HTR_H' not in df_away.columns else round(df_away.HTR_H.std(), 3)\n",
    "    dic['A_STD_'+nb_matches_string+'_HTR_D'] = 0 if 'HTR_D' not in df_away.columns else round(df_away.HTR_D.std(), 3)\n",
    "    dic['A_STD_'+nb_matches_string+'_HTR_A'] = 0 if 'HTR_A' not in df_away.columns else round(df_away.HTR_A.std(), 3)\n",
    "    dic['A_STD_'+nb_matches_string+'_AS'] = round(df_away.AS.std(), 3)\n",
    "    dic['A_STD_'+nb_matches_string+'_AST'] = round(df_away.AST.std(), 3)\n",
    "    dic['A_STD_'+nb_matches_string+'_AF'] = round(df_away.AF.std(), 3)\n",
    "    dic['A_STD_'+nb_matches_string+'_AC'] = round(df_away.AC.std(), 3)\n",
    "    dic['A_STD_'+nb_matches_string+'_AY'] = round(df_away.AY.std(), 3)\n",
    "    dic['A_STD_'+nb_matches_string+'_AR'] = round(df_away.AR.std(), 3)\n",
    "    dic['A_STD_'+nb_matches_string+'_FTHG'] = round(df_away.FTHG.std(), 3)\n",
    "    dic['A_STD_'+nb_matches_string+'_HTHG'] = round(df_away.HTHG.std(), 3)\n",
    "    dic['A_STD_'+nb_matches_string+'_HS'] = round(df_away.HS.std(), 3)\n",
    "    dic['A_STD_'+nb_matches_string+'_HST'] = round(df_away.HST.std(), 3)\n",
    "    dic['A_STD_'+nb_matches_string+'_HF'] = round( df_away.HF.std(), 3)\n",
    "    dic['A_STD_'+nb_matches_string+'_HC'] = round(df_away.HC.std(), 3)\n",
    "    dic['A_STD_'+nb_matches_string+'_HY'] = round(df_away.HY.std(), 3)\n",
    "    dic['A_STD_'+nb_matches_string+'_HR'] = round(df_away.HR.std(), 3)\n",
    "    return dic"
   ]
  },
  {
   "cell_type": "code",
   "execution_count": 9,
   "metadata": {},
   "outputs": [
    {
     "data": {
      "text/plain": [
       "(1295, 28)"
      ]
     },
     "execution_count": 9,
     "metadata": {},
     "output_type": "execute_result"
    }
   ],
   "source": [
    "# Compute all pre matchs and insert them in pre_match table\n",
    "df_macths_raw = pd.read_sql_query(\"SELECT Div, Date, HomeTeam, AwayTeam, FTHG, FTAG, FTR, HTHG, HTAG, HTR, HS, `AS`, HST, AST, HF, AF, HC, AC, HY, AY, HR, AR, PSH, PSD, PSA, BbAvH, BbAvD, BbAvA FROM cur_season_matchs_raw ORDER BY Date ASC;\", conn)\n",
    "for index, row in df_macths_raw.iterrows():\n",
    "    #display(row)\n",
    "    \n",
    "    # HOME TEAM\n",
    "    # Get the 5 previous home game of the Home Team\n",
    "    dic_home_five = homeData(row.Date, row.HomeTeam, row.Div, 5, 'FIVE')\n",
    "    #display(df_home_five)\n",
    "    # Get the 3 previous home game of the Home Team\n",
    "    dic_home_three = homeData(row.Date, row.HomeTeam, row.Div, 3, 'THREE')\n",
    "    #display(df_home_three)\n",
    "    \n",
    "    # AWAY TEAM\n",
    "    # Get the 5 previous away game of the Away Team\n",
    "    dic_away_five = awayData(row.Date, row.AwayTeam, row.Div, 5, 'FIVE')\n",
    "    #display(df_away_five)\n",
    "    # Get the 3 previous away game of the Away Team\n",
    "    dic_away_three = awayData(row.Date, row.AwayTeam, row.Div, 3, 'THREE')\n",
    "    #display(df_away_three)\n",
    "    \n",
    "    # Merge different dataset together\n",
    "    #dic_all = dic_home_five.copy().update(dic_home_three)\n",
    "    dic_all = dict(dic_home_five.items() + dic_home_three.items() + dic_away_five.items() + dic_away_three.items())\n",
    "    # Add division and date\n",
    "    dic_all['INFO_Div'] = row['Div']\n",
    "    dic_all['INFO_Date'] = row['Date']\n",
    "    # Add info on result\n",
    "    dic_all['INFO_HomeTeam'] = row['HomeTeam']\n",
    "    dic_all['INFO_AwayTeam'] = row['AwayTeam']\n",
    "    dic_all['INFO_FTR'] = row['FTR']\n",
    "    dic_all['INFO_HTR'] = row['HTR']\n",
    "    dic_all['INFO_FTHG'] = row['FTHG']\n",
    "    dic_all['INFO_FTAG'] = row['FTAG']\n",
    "    # Add all Bet\n",
    "    dic_all['INFO_PSH'] = row['PSH']\n",
    "    dic_all['INFO_PSD'] = row['PSD']\n",
    "    dic_all['INFO_PSA'] = row['PSA']\n",
    "    dic_all['INFO_BbAvH'] = row['BbAvH']\n",
    "    dic_all['INFO_BbAvD'] = row['BbAvD']\n",
    "    dic_all['INFO_BbAvA'] = row['BbAvA']\n",
    "    df_pre_matches = pd.DataFrame.from_dict([dic_all], orient='columns')\n",
    "    df_pre_matches.to_sql(\"cur_season_pre_matchs\", conn, if_exists=\"append\")\n",
    "\n",
    "df_macths_raw.shape"
   ]
  },
  {
   "cell_type": "code",
   "execution_count": null,
   "metadata": {
    "collapsed": true
   },
   "outputs": [],
   "source": []
  }
 ],
 "metadata": {
  "kernelspec": {
   "display_name": "Python 2",
   "language": "python",
   "name": "python2"
  },
  "language_info": {
   "codemirror_mode": {
    "name": "ipython",
    "version": 2
   },
   "file_extension": ".py",
   "mimetype": "text/x-python",
   "name": "python",
   "nbconvert_exporter": "python",
   "pygments_lexer": "ipython2",
   "version": "2.7.13"
  }
 },
 "nbformat": 4,
 "nbformat_minor": 2
}
