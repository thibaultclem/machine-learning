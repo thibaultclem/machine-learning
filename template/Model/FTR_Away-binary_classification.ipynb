{
 "cells": [
  {
   "cell_type": "markdown",
   "metadata": {},
   "source": [
    "# Naive Bayes Binary Classification"
   ]
  },
  {
   "cell_type": "code",
   "execution_count": 233,
   "metadata": {
    "collapsed": true
   },
   "outputs": [],
   "source": [
    "# Importing the library\n",
    "import numpy as np # linear algebra\n",
    "import pandas as pd # data processing, CSV file I/O\n",
    "import matplotlib.pyplot as plt # plotting library\n",
    "import seaborn as sns # visualization library based on matplotlib\n",
    "from IPython.display import display # Manage multiple output per cell"
   ]
  },
  {
   "cell_type": "code",
   "execution_count": 234,
   "metadata": {
    "collapsed": true
   },
   "outputs": [],
   "source": [
    "# Manage UTF-8 issue\n",
    "import sys  \n",
    "reload(sys)  \n",
    "sys.setdefaultencoding('utf8')\n",
    "\n",
    "import datetime"
   ]
  },
  {
   "cell_type": "code",
   "execution_count": 235,
   "metadata": {
    "collapsed": true
   },
   "outputs": [],
   "source": [
    "# DB Sqlite connection\n",
    "import sqlite3\n",
    "db = \"/Users/thibaultclement/Project/ligue1-predict/src/notebook/data/db/soccer_predict.sqlite\"\n",
    "conn = sqlite3.connect(db)\n",
    "cur = conn.cursor()"
   ]
  },
  {
   "cell_type": "markdown",
   "metadata": {},
   "source": [
    "# Features List"
   ]
  },
  {
   "cell_type": "code",
   "execution_count": 236,
   "metadata": {
    "collapsed": true
   },
   "outputs": [],
   "source": [
    "all_features = [\"A_FIVE_AC\",\"A_FIVE_AF\",\"A_FIVE_AR\",\"A_FIVE_AS\",\"A_FIVE_AST\",\"A_FIVE_AY\",\"A_FIVE_FTAG\",\"A_FIVE_FTHG\",\"A_FIVE_FTR_A\",\"A_FIVE_FTR_D\",\"A_FIVE_FTR_H\",\"A_FIVE_HC\",\"A_FIVE_HF\",\"A_FIVE_HR\",\"A_FIVE_HS\",\"A_FIVE_HST\",\"A_FIVE_HTAG\",\"A_FIVE_HTHG\",\"A_FIVE_HTR_A\",\"A_FIVE_HTR_D\",\"A_FIVE_HTR_H\",\"A_FIVE_HY\",\"H_FIVE_AC\",\"H_FIVE_AF\",\"H_FIVE_AR\",\"H_FIVE_AS\",\"H_FIVE_AST\",\"H_FIVE_AY\",\"H_FIVE_FTAG\",\"H_FIVE_FTHG\",\"H_FIVE_FTR_A\",\"H_FIVE_FTR_D\",\"H_FIVE_FTR_H\",\"H_FIVE_HC\",\"H_FIVE_HF\",\"H_FIVE_HR\",\"H_FIVE_HS\",\"H_FIVE_HST\",\"H_FIVE_HTAG\",\"H_FIVE_HTHG\",\"H_FIVE_HTR_A\",\"H_FIVE_HTR_D\",\"H_FIVE_HTR_H\",\"H_FIVE_HY\",\"A_THREE_AC\",\"A_THREE_AF\",\"A_THREE_AR\",\"A_THREE_AS\",\"A_THREE_AST\",\"A_THREE_AY\",\"A_THREE_FTAG\",\"A_THREE_FTHG\",\"A_THREE_FTR_A\",\"A_THREE_FTR_D\",\"A_THREE_FTR_H\",\"A_THREE_HC\",\"A_THREE_HF\",\"A_THREE_HR\",\"A_THREE_HS\",\"A_THREE_HST\",\"A_THREE_HTAG\",\"A_THREE_HTHG\",\"A_THREE_HTR_A\",\"A_THREE_HTR_D\",\"A_THREE_HTR_H\",\"A_THREE_HY\",\"H_THREE_AC\",\"H_THREE_AF\",\"H_THREE_AR\",\"H_THREE_AS\",\"H_THREE_AST\",\"H_THREE_AY\",\"H_THREE_FTAG\",\"H_THREE_FTHG\",\"H_THREE_FTR_A\",\"H_THREE_FTR_D\",\"H_THREE_FTR_H\",\"H_THREE_HC\",\"H_THREE_HF\",\"H_THREE_HR\",\"H_THREE_HS\",\"H_THREE_HST\",\"H_THREE_HTAG\",\"H_THREE_HTHG\",\"H_THREE_HTR_A\",\"H_THREE_HTR_D\",\"H_THREE_HTR_H\",\"H_THREE_HY\",\"INFO_Div\"] \n",
    "three_matches_features = [\"A_THREE_AC\",\"A_THREE_AF\",\"A_THREE_AR\",\"A_THREE_AS\",\"A_THREE_AST\",\"A_THREE_AY\",\"A_THREE_FTAG\",\"A_THREE_FTHG\",\"A_THREE_FTR_A\",\"A_THREE_FTR_D\",\"A_THREE_FTR_H\",\"A_THREE_HC\",\"A_THREE_HF\",\"A_THREE_HR\",\"A_THREE_HS\",\"A_THREE_HST\",\"A_THREE_HTAG\",\"A_THREE_HTHG\",\"A_THREE_HTR_A\",\"A_THREE_HTR_D\",\"A_THREE_HTR_H\",\"A_THREE_HY\",\"H_THREE_AC\",\"H_THREE_AF\",\"H_THREE_AR\",\"H_THREE_AS\",\"H_THREE_AST\",\"H_THREE_AY\",\"H_THREE_FTAG\",\"H_THREE_FTHG\",\"H_THREE_FTR_A\",\"H_THREE_FTR_D\",\"H_THREE_FTR_H\",\"H_THREE_HC\",\"H_THREE_HF\",\"H_THREE_HR\",\"H_THREE_HS\",\"H_THREE_HST\",\"H_THREE_HTAG\",\"H_THREE_HTHG\",\"H_THREE_HTR_A\",\"H_THREE_HTR_D\",\"H_THREE_HTR_H\",\"H_THREE_HY\",\"INFO_Div\"]\n",
    "five_matches_features = [\"A_FIVE_AC\",\"A_FIVE_AF\",\"A_FIVE_AR\",\"A_FIVE_AS\",\"A_FIVE_AST\",\"A_FIVE_AY\",\"A_FIVE_FTAG\",\"A_FIVE_FTHG\",\"A_FIVE_FTR_A\",\"A_FIVE_FTR_D\",\"A_FIVE_FTR_H\",\"A_FIVE_HC\",\"A_FIVE_HF\",\"A_FIVE_HR\",\"A_FIVE_HS\",\"A_FIVE_HST\",\"A_FIVE_HTAG\",\"A_FIVE_HTHG\",\"A_FIVE_HTR_A\",\"A_FIVE_HTR_D\",\"A_FIVE_HTR_H\",\"A_FIVE_HY\",\"H_FIVE_AC\",\"H_FIVE_AF\",\"H_FIVE_AR\",\"H_FIVE_AS\",\"H_FIVE_AST\",\"H_FIVE_AY\",\"H_FIVE_FTAG\",\"H_FIVE_FTHG\",\"H_FIVE_FTR_A\",\"H_FIVE_FTR_D\",\"H_FIVE_FTR_H\",\"H_FIVE_HC\",\"H_FIVE_HF\",\"H_FIVE_HR\",\"H_FIVE_HS\",\"H_FIVE_HST\",\"H_FIVE_HTAG\",\"H_FIVE_HTHG\",\"H_FIVE_HTR_A\",\"H_FIVE_HTR_D\",\"H_FIVE_HTR_H\",\"H_FIVE_HY\",\"INFO_Div\"]\n",
    "all_features_no_div = [\"A_FIVE_AC\",\"A_FIVE_AF\",\"A_FIVE_AR\",\"A_FIVE_AS\",\"A_FIVE_AST\",\"A_FIVE_AY\",\"A_FIVE_FTAG\",\"A_FIVE_FTHG\",\"A_FIVE_FTR_A\",\"A_FIVE_FTR_D\",\"A_FIVE_FTR_H\",\"A_FIVE_HC\",\"A_FIVE_HF\",\"A_FIVE_HR\",\"A_FIVE_HS\",\"A_FIVE_HST\",\"A_FIVE_HTAG\",\"A_FIVE_HTHG\",\"A_FIVE_HTR_A\",\"A_FIVE_HTR_D\",\"A_FIVE_HTR_H\",\"A_FIVE_HY\",\"H_FIVE_AC\",\"H_FIVE_AF\",\"H_FIVE_AR\",\"H_FIVE_AS\",\"H_FIVE_AST\",\"H_FIVE_AY\",\"H_FIVE_FTAG\",\"H_FIVE_FTHG\",\"H_FIVE_FTR_A\",\"H_FIVE_FTR_D\",\"H_FIVE_FTR_H\",\"H_FIVE_HC\",\"H_FIVE_HF\",\"H_FIVE_HR\",\"H_FIVE_HS\",\"H_FIVE_HST\",\"H_FIVE_HTAG\",\"H_FIVE_HTHG\",\"H_FIVE_HTR_A\",\"H_FIVE_HTR_D\",\"H_FIVE_HTR_H\",\"H_FIVE_HY\",\"A_THREE_AC\",\"A_THREE_AF\",\"A_THREE_AR\",\"A_THREE_AS\",\"A_THREE_AST\",\"A_THREE_AY\",\"A_THREE_FTAG\",\"A_THREE_FTHG\",\"A_THREE_FTR_A\",\"A_THREE_FTR_D\",\"A_THREE_FTR_H\",\"A_THREE_HC\",\"A_THREE_HF\",\"A_THREE_HR\",\"A_THREE_HS\",\"A_THREE_HST\",\"A_THREE_HTAG\",\"A_THREE_HTHG\",\"A_THREE_HTR_A\",\"A_THREE_HTR_D\",\"A_THREE_HTR_H\",\"A_THREE_HY\",\"H_THREE_AC\",\"H_THREE_AF\",\"H_THREE_AR\",\"H_THREE_AS\",\"H_THREE_AST\",\"H_THREE_AY\",\"H_THREE_FTAG\",\"H_THREE_FTHG\",\"H_THREE_FTR_A\",\"H_THREE_FTR_D\",\"H_THREE_FTR_H\",\"H_THREE_HC\",\"H_THREE_HF\",\"H_THREE_HR\",\"H_THREE_HS\",\"H_THREE_HST\",\"H_THREE_HTAG\",\"H_THREE_HTHG\",\"H_THREE_HTR_A\",\"H_THREE_HTR_D\",\"H_THREE_HTR_H\",\"H_THREE_HY\"] \n",
    "three_matches_features_no_div = [\"A_THREE_AC\",\"A_THREE_AF\",\"A_THREE_AR\",\"A_THREE_AS\",\"A_THREE_AST\",\"A_THREE_AY\",\"A_THREE_FTAG\",\"A_THREE_FTHG\",\"A_THREE_FTR_A\",\"A_THREE_FTR_D\",\"A_THREE_FTR_H\",\"A_THREE_HC\",\"A_THREE_HF\",\"A_THREE_HR\",\"A_THREE_HS\",\"A_THREE_HST\",\"A_THREE_HTAG\",\"A_THREE_HTHG\",\"A_THREE_HTR_A\",\"A_THREE_HTR_D\",\"A_THREE_HTR_H\",\"A_THREE_HY\",\"H_THREE_AC\",\"H_THREE_AF\",\"H_THREE_AR\",\"H_THREE_AS\",\"H_THREE_AST\",\"H_THREE_AY\",\"H_THREE_FTAG\",\"H_THREE_FTHG\",\"H_THREE_FTR_A\",\"H_THREE_FTR_D\",\"H_THREE_FTR_H\",\"H_THREE_HC\",\"H_THREE_HF\",\"H_THREE_HR\",\"H_THREE_HS\",\"H_THREE_HST\",\"H_THREE_HTAG\",\"H_THREE_HTHG\",\"H_THREE_HTR_A\",\"H_THREE_HTR_D\",\"H_THREE_HTR_H\",\"H_THREE_HY\"]\n",
    "five_matches_features_no_div = [\"A_FIVE_AC\",\"A_FIVE_AF\",\"A_FIVE_AR\",\"A_FIVE_AS\",\"A_FIVE_AST\",\"A_FIVE_AY\",\"A_FIVE_FTAG\",\"A_FIVE_FTHG\",\"A_FIVE_FTR_A\",\"A_FIVE_FTR_D\",\"A_FIVE_FTR_H\",\"A_FIVE_HC\",\"A_FIVE_HF\",\"A_FIVE_HR\",\"A_FIVE_HS\",\"A_FIVE_HST\",\"A_FIVE_HTAG\",\"A_FIVE_HTHG\",\"A_FIVE_HTR_A\",\"A_FIVE_HTR_D\",\"A_FIVE_HTR_H\",\"A_FIVE_HY\",\"H_FIVE_AC\",\"H_FIVE_AF\",\"H_FIVE_AR\",\"H_FIVE_AS\",\"H_FIVE_AST\",\"H_FIVE_AY\",\"H_FIVE_FTAG\",\"H_FIVE_FTHG\",\"H_FIVE_FTR_A\",\"H_FIVE_FTR_D\",\"H_FIVE_FTR_H\",\"H_FIVE_HC\",\"H_FIVE_HF\",\"H_FIVE_HR\",\"H_FIVE_HS\",\"H_FIVE_HST\",\"H_FIVE_HTAG\",\"H_FIVE_HTHG\",\"H_FIVE_HTR_A\",\"H_FIVE_HTR_D\",\"H_FIVE_HTR_H\",\"H_FIVE_HY\"]\n",
    "less_features = [\"A_FIVE_AC\",\"A_FIVE_AS\",\"A_FIVE_AST\",\"A_FIVE_FTAG\",\"A_FIVE_FTHG\",\"A_FIVE_FTR_A\",\"A_FIVE_FTR_D\",\"A_FIVE_FTR_H\",\"A_FIVE_HC\",\"A_FIVE_HS\",\"A_FIVE_HST\",\"A_FIVE_HTAG\",\"A_FIVE_HTHG\",\"A_FIVE_HTR_A\",\"A_FIVE_HTR_D\",\"A_FIVE_HTR_H\",\"H_FIVE_AC\",\"H_FIVE_AS\",\"H_FIVE_AST\",\"H_FIVE_FTAG\",\"H_FIVE_FTHG\",\"H_FIVE_FTR_A\",\"H_FIVE_FTR_D\",\"H_FIVE_FTR_H\",\"H_FIVE_HC\",\"H_FIVE_HS\",\"H_FIVE_HST\",\"H_FIVE_HTAG\",\"H_FIVE_HTHG\",\"H_FIVE_HTR_A\",\"H_FIVE_HTR_D\",\"H_FIVE_HTR_H\",\"A_THREE_AC\",\"A_THREE_AS\",\"A_THREE_AST\",\"A_THREE_FTAG\",\"A_THREE_FTHG\",\"A_THREE_FTR_A\",\"A_THREE_FTR_D\",\"A_THREE_FTR_H\",\"A_THREE_HC\",\"A_THREE_HS\",\"A_THREE_HST\",\"A_THREE_HTAG\",\"A_THREE_HTHG\",\"A_THREE_HTR_A\",\"A_THREE_HTR_D\",\"A_THREE_HTR_H\",\"H_THREE_AC\",\"H_THREE_AS\",\"H_THREE_AST\",\"H_THREE_FTAG\",\"H_THREE_FTHG\",\"H_THREE_FTR_A\",\"H_THREE_FTR_D\",\"H_THREE_FTR_H\",\"H_THREE_HC\",\"H_THREE_HS\",\"H_THREE_HST\",\"H_THREE_HTAG\",\"H_THREE_HTHG\",\"H_THREE_HTR_A\",\"H_THREE_HTR_D\",\"H_THREE_HTR_H\",\"INFO_Div\"]\n",
    "less_features_no_div = [\"A_FIVE_AC\",\"A_FIVE_AS\",\"A_FIVE_AST\",\"A_FIVE_FTAG\",\"A_FIVE_FTHG\",\"A_FIVE_FTR_A\",\"A_FIVE_FTR_D\",\"A_FIVE_FTR_H\",\"A_FIVE_HC\",\"A_FIVE_HS\",\"A_FIVE_HST\",\"A_FIVE_HTAG\",\"A_FIVE_HTHG\",\"A_FIVE_HTR_A\",\"A_FIVE_HTR_D\",\"A_FIVE_HTR_H\",\"H_FIVE_AC\",\"H_FIVE_AS\",\"H_FIVE_AST\",\"H_FIVE_FTAG\",\"H_FIVE_FTHG\",\"H_FIVE_FTR_A\",\"H_FIVE_FTR_D\",\"H_FIVE_FTR_H\",\"H_FIVE_HC\",\"H_FIVE_HS\",\"H_FIVE_HST\",\"H_FIVE_HTAG\",\"H_FIVE_HTHG\",\"H_FIVE_HTR_A\",\"H_FIVE_HTR_D\",\"H_FIVE_HTR_H\",\"A_THREE_AC\",\"A_THREE_AS\",\"A_THREE_AST\",\"A_THREE_FTAG\",\"A_THREE_FTHG\",\"A_THREE_FTR_A\",\"A_THREE_FTR_D\",\"A_THREE_FTR_H\",\"A_THREE_HC\",\"A_THREE_HS\",\"A_THREE_HST\",\"A_THREE_HTAG\",\"A_THREE_HTHG\",\"A_THREE_HTR_A\",\"A_THREE_HTR_D\",\"A_THREE_HTR_H\",\"H_THREE_AC\",\"H_THREE_AS\",\"H_THREE_AST\",\"H_THREE_FTAG\",\"H_THREE_FTHG\",\"H_THREE_FTR_A\",\"H_THREE_FTR_D\",\"H_THREE_FTR_H\",\"H_THREE_HC\",\"H_THREE_HS\",\"H_THREE_HST\",\"H_THREE_HTAG\",\"H_THREE_HTHG\",\"H_THREE_HTR_A\",\"H_THREE_HTR_D\",\"H_THREE_HTR_H\"] \n",
    "home_away_features = [\"A_FIVE_AC\",\"A_FIVE_AS\",\"A_FIVE_AST\",\"A_FIVE_FTAG\",\"A_FIVE_FTR_A\",\"A_FIVE_FTR_D\",\"A_FIVE_FTR_H\",\"A_FIVE_HTAG\",\"A_FIVE_HTR_A\",\"A_FIVE_HTR_D\",\"A_FIVE_HTR_H\",\"H_FIVE_FTHG\",\"H_FIVE_FTR_A\",\"H_FIVE_FTR_D\",\"H_FIVE_FTR_H\",\"H_FIVE_HC\",\"H_FIVE_HS\",\"H_FIVE_HST\",\"H_FIVE_HTHG\",\"H_FIVE_HTR_A\",\"H_FIVE_HTR_D\",\"H_FIVE_HTR_H\",\"A_THREE_AC\",\"A_THREE_AS\",\"A_THREE_AST\",\"A_THREE_FTAG\",\"A_THREE_FTR_A\",\"A_THREE_FTR_D\",\"A_THREE_FTR_H\",\"A_THREE_HTAG\",\"A_THREE_HTR_A\",\"A_THREE_HTR_D\",\"A_THREE_HTR_H\",\"H_THREE_FTHG\",\"H_THREE_FTR_A\",\"H_THREE_FTR_D\",\"H_THREE_FTR_H\",\"H_THREE_HC\",\"H_THREE_HS\",\"H_THREE_HST\",\"H_THREE_HTHG\",\"H_THREE_HTR_A\",\"H_THREE_HTR_D\",\"H_THREE_HTR_H\",\"INFO_Div\"]\n",
    "home_away_features_no_div = [\"A_FIVE_AC\",\"A_FIVE_AS\",\"A_FIVE_AST\",\"A_FIVE_FTAG\",\"A_FIVE_FTR_A\",\"A_FIVE_FTR_D\",\"A_FIVE_FTR_H\",\"A_FIVE_HTAG\",\"A_FIVE_HTR_A\",\"A_FIVE_HTR_D\",\"A_FIVE_HTR_H\",\"H_FIVE_FTHG\",\"H_FIVE_FTR_A\",\"H_FIVE_FTR_D\",\"H_FIVE_FTR_H\",\"H_FIVE_HC\",\"H_FIVE_HS\",\"H_FIVE_HST\",\"H_FIVE_HTHG\",\"H_FIVE_HTR_A\",\"H_FIVE_HTR_D\",\"H_FIVE_HTR_H\",\"A_THREE_AC\",\"A_THREE_AS\",\"A_THREE_AST\",\"A_THREE_FTAG\",\"A_THREE_FTR_A\",\"A_THREE_FTR_D\",\"A_THREE_FTR_H\",\"A_THREE_HTAG\",\"A_THREE_HTR_A\",\"A_THREE_HTR_D\",\"A_THREE_HTR_H\",\"H_THREE_FTHG\",\"H_THREE_FTR_A\",\"H_THREE_FTR_D\",\"H_THREE_FTR_H\",\"H_THREE_HC\",\"H_THREE_HS\",\"H_THREE_HST\",\"H_THREE_HTHG\",\"H_THREE_HTR_A\",\"H_THREE_HTR_D\",\"H_THREE_HTR_H\"]"
   ]
  },
  {
   "cell_type": "markdown",
   "metadata": {},
   "source": [
    "## Importing Data"
   ]
  },
  {
   "cell_type": "code",
   "execution_count": 237,
   "metadata": {},
   "outputs": [
    {
     "data": {
      "text/plain": [
       "(5702, 102)"
      ]
     },
     "execution_count": 237,
     "metadata": {},
     "output_type": "execute_result"
    }
   ],
   "source": [
    "# Get all prematch\n",
    "df = pd.read_sql_query(\"SELECT * FROM pre_matchs WHERE INFO_Date > '2015-10-01' AND INFO_Date < '2017-06-01' ORDER BY INFO_Date ASC;\", conn)\n",
    "df = (df[df.columns.drop(['index'])])\n",
    "df.shape"
   ]
  },
  {
   "cell_type": "code",
   "execution_count": 238,
   "metadata": {},
   "outputs": [
    {
     "data": {
      "text/plain": [
       "(4426, 102)"
      ]
     },
     "execution_count": 238,
     "metadata": {},
     "output_type": "execute_result"
    }
   ],
   "source": [
    "# Remove all game between June (include) and October (include)\n",
    "df['INFO_Date'] = pd.to_datetime(df['INFO_Date'])\n",
    "df['INFO_Date'].dt.month\n",
    "df = df[(df['INFO_Date'].dt.month < 6) | (df['INFO_Date'].dt.month > 10)]\n",
    "df.shape"
   ]
  },
  {
   "cell_type": "code",
   "execution_count": 239,
   "metadata": {},
   "outputs": [
    {
     "data": {
      "text/plain": [
       "(4426, 102)"
      ]
     },
     "execution_count": 239,
     "metadata": {},
     "output_type": "execute_result"
    }
   ],
   "source": [
    "# Remove league I don't want\n",
    "#df = df[(df['INFO_Div'] != 'E1') & (df['INFO_Div'] != 'E2') & (df['INFO_Div'] != 'SC0')]\n",
    "#df = df[(df['INFO_Div'] == 'D1')]\n",
    "#df = df[(df['INFO_Div'] == 'D1')]\n",
    "df.shape"
   ]
  },
  {
   "cell_type": "code",
   "execution_count": 240,
   "metadata": {},
   "outputs": [
    {
     "data": {
      "text/plain": [
       "2.6693176683235555"
      ]
     },
     "execution_count": 240,
     "metadata": {},
     "output_type": "execute_result"
    }
   ],
   "source": [
    "# Check the average odd\n",
    "df.INFO_BbAvH.mean()"
   ]
  },
  {
   "cell_type": "code",
   "execution_count": 241,
   "metadata": {},
   "outputs": [
    {
     "data": {
      "text/plain": [
       "(2952, 102)"
      ]
     },
     "execution_count": 241,
     "metadata": {},
     "output_type": "execute_result"
    }
   ],
   "source": [
    "# Removing column where bet for Home Victory is too high or too low\n",
    "df = df.drop(df[df.INFO_BbAvA < 1.8].index)\n",
    "df = df.drop(df[df.INFO_BbAvA > 5].index)\n",
    "df.shape"
   ]
  },
  {
   "cell_type": "code",
   "execution_count": 242,
   "metadata": {},
   "outputs": [
    {
     "data": {
      "text/plain": [
       "2.601544715447158"
      ]
     },
     "execution_count": 242,
     "metadata": {},
     "output_type": "execute_result"
    }
   ],
   "source": [
    "df.INFO_BbAvA.mean()"
   ]
  },
  {
   "cell_type": "code",
   "execution_count": 243,
   "metadata": {
    "collapsed": true
   },
   "outputs": [],
   "source": [
    "# Create a INFO_WIN column containing the gain. If bet success it's equal to odd -1, else -1 (lose you bet)\n",
    "df['INFO_WIN'] = df['INFO_BbAvA']-1\n",
    "df.loc[df.INFO_FTR != 'A', 'INFO_WIN'] = -1"
   ]
  },
  {
   "cell_type": "code",
   "execution_count": 244,
   "metadata": {},
   "outputs": [
    {
     "data": {
      "text/plain": [
       "None"
      ]
     },
     "metadata": {},
     "output_type": "display_data"
    },
    {
     "data": {
      "text/plain": [
       "H    40.311653\n",
       "A    32.249322\n",
       "D    27.439024\n",
       "Name: INFO_FTR, dtype: float64"
      ]
     },
     "metadata": {},
     "output_type": "display_data"
    }
   ],
   "source": [
    "# Statistic for Home victory odd after removing low and high odds\n",
    "display(plt.show(), 100. * df.INFO_FTR.value_counts() / len(df.INFO_FTR))"
   ]
  },
  {
   "cell_type": "code",
   "execution_count": 245,
   "metadata": {
    "collapsed": true
   },
   "outputs": [],
   "source": [
    "# Keep season 2016/2017 for further test and don't use it for traning\n",
    "import datetime\n",
    "date_start_current_season = datetime.date(2016, 10, 1)\n",
    "df_current_season = df[(df['INFO_Date'] > date_start_current_season)]\n",
    "df = df[(df['INFO_Date'] < date_start_current_season)]"
   ]
  },
  {
   "cell_type": "code",
   "execution_count": 246,
   "metadata": {},
   "outputs": [
    {
     "data": {
      "text/plain": [
       "(1417, 103)"
      ]
     },
     "execution_count": 246,
     "metadata": {},
     "output_type": "execute_result"
    }
   ],
   "source": [
    "df_current_season.shape"
   ]
  },
  {
   "cell_type": "code",
   "execution_count": 247,
   "metadata": {},
   "outputs": [
    {
     "data": {
      "text/plain": [
       "0.03110797459421308"
      ]
     },
     "execution_count": 247,
     "metadata": {},
     "output_type": "execute_result"
    }
   ],
   "source": [
    "# How much did you win per match if bet on all\n",
    "df_current_season.INFO_WIN.mean()"
   ]
  },
  {
   "cell_type": "code",
   "execution_count": 248,
   "metadata": {
    "collapsed": true
   },
   "outputs": [],
   "source": [
    "# Prepare the dataset\n",
    "features_list = all_features_no_div\n",
    "X = pd.get_dummies(df[features_list])\n",
    "y = pd.get_dummies(df)['INFO_FTR_A'].astype('bool_')\n",
    "X_current_season = pd.get_dummies(df_current_season[features_list])\n",
    "y_current_season = pd.get_dummies(df_current_season)['INFO_FTR_A'].astype('bool_')"
   ]
  },
  {
   "cell_type": "markdown",
   "metadata": {},
   "source": [
    "## Preprocessing Data"
   ]
  },
  {
   "cell_type": "code",
   "execution_count": 249,
   "metadata": {
    "collapsed": true
   },
   "outputs": [],
   "source": [
    "# Standardize features\n",
    "from sklearn.preprocessing import StandardScaler\n",
    "sc_X = StandardScaler().fit(X)\n",
    "X = sc_X.transform(X)\n",
    "X_current_season = sc_X.transform(X_current_season)"
   ]
  },
  {
   "cell_type": "code",
   "execution_count": 250,
   "metadata": {
    "collapsed": true
   },
   "outputs": [],
   "source": [
    "# Impute of missing values (NaN) with the mean\n",
    "from sklearn.preprocessing import Imputer\n",
    "imp = Imputer(missing_values='NaN', strategy='mean', axis=0)\n",
    "imp = imp.fit(X)\n",
    "X = imp.transform(X)\n",
    "X_current_season = imp.transform(X_current_season)"
   ]
  },
  {
   "cell_type": "code",
   "execution_count": 251,
   "metadata": {
    "collapsed": true
   },
   "outputs": [],
   "source": [
    "# Split the dataset into the Training set and Test set\n",
    "from sklearn.model_selection import train_test_split\n",
    "X_train, X_test, y_train, y_test = train_test_split(X, y, test_size=0.3, random_state = 0)"
   ]
  },
  {
   "cell_type": "code",
   "execution_count": 252,
   "metadata": {
    "collapsed": true
   },
   "outputs": [],
   "source": [
    "# Import Naive Bayes Classifier\n",
    "from sklearn.naive_bayes import GaussianNB\n",
    "from sklearn.model_selection import cross_val_score\n",
    "classifier = GaussianNB()"
   ]
  },
  {
   "cell_type": "markdown",
   "metadata": {},
   "source": [
    "## Tuning Hyper-parameters"
   ]
  },
  {
   "cell_type": "code",
   "execution_count": 253,
   "metadata": {},
   "outputs": [
    {
     "data": {
      "text/plain": [
       "0.42880321970853108"
      ]
     },
     "execution_count": 253,
     "metadata": {},
     "output_type": "execute_result"
    }
   ],
   "source": [
    "# Applying Grid Search to find the best hyper-parameters for our Model\n",
    "from sklearn.model_selection import GridSearchCV\n",
    "from sklearn.metrics.classification import log_loss\n",
    "from sklearn.metrics import make_scorer\n",
    "\n",
    "parameters = [{}]\n",
    "grid_search = GridSearchCV(estimator=classifier,\n",
    "                          param_grid=parameters,\n",
    "                          scoring='f1',\n",
    "                          cv=8,\n",
    "                          n_jobs=-1)\n",
    "grid_search.fit(X_train, y_train)\n",
    "best_score = grid_search.best_score_\n",
    "best_score"
   ]
  },
  {
   "cell_type": "code",
   "execution_count": 254,
   "metadata": {},
   "outputs": [
    {
     "data": {
      "text/plain": [
       "{}"
      ]
     },
     "execution_count": 254,
     "metadata": {},
     "output_type": "execute_result"
    }
   ],
   "source": [
    "# Extract best hyper-parameter calculated with the GridSearchCV\n",
    "best_params = grid_search.best_params_\n",
    "best_params"
   ]
  },
  {
   "cell_type": "markdown",
   "metadata": {},
   "source": [
    "## Evaluating Model"
   ]
  },
  {
   "cell_type": "code",
   "execution_count": 255,
   "metadata": {},
   "outputs": [
    {
     "data": {
      "text/plain": [
       "GaussianNB(priors=None)"
      ]
     },
     "execution_count": 255,
     "metadata": {},
     "output_type": "execute_result"
    }
   ],
   "source": [
    "# Train a new classifier using the best parameters found by the grid search\n",
    "clf = GaussianNB()\n",
    "clf.fit(X_train, y_train)"
   ]
  },
  {
   "cell_type": "code",
   "execution_count": 256,
   "metadata": {
    "collapsed": true
   },
   "outputs": [],
   "source": [
    "# Predict target values\n",
    "y_pred = clf.predict(X_test)"
   ]
  },
  {
   "cell_type": "code",
   "execution_count": 257,
   "metadata": {
    "collapsed": true
   },
   "outputs": [],
   "source": [
    "# Predict probabilities\n",
    "y_probs = clf.predict_proba(X_test)"
   ]
  },
  {
   "cell_type": "code",
   "execution_count": 258,
   "metadata": {},
   "outputs": [
    {
     "data": {
      "text/plain": [
       "(0.38028169014084506, 0.44505494505494503, 0.41012658227848103, None)"
      ]
     },
     "execution_count": 258,
     "metadata": {},
     "output_type": "execute_result"
    }
   ],
   "source": [
    "# Compute precision, recall, F-measure and support\n",
    "from sklearn.metrics import precision_recall_fscore_support\n",
    "precision_recall_fscore_support(y_test, y_pred, average='binary')"
   ]
  },
  {
   "cell_type": "code",
   "execution_count": 259,
   "metadata": {},
   "outputs": [
    {
     "data": {
      "text/html": [
       "<div>\n",
       "<style>\n",
       "    .dataframe thead tr:only-child th {\n",
       "        text-align: right;\n",
       "    }\n",
       "\n",
       "    .dataframe thead th {\n",
       "        text-align: left;\n",
       "    }\n",
       "\n",
       "    .dataframe tbody tr th {\n",
       "        vertical-align: top;\n",
       "    }\n",
       "</style>\n",
       "<table border=\"1\" class=\"dataframe\">\n",
       "  <thead>\n",
       "    <tr style=\"text-align: right;\">\n",
       "      <th>Predicted</th>\n",
       "      <th>False</th>\n",
       "      <th>True</th>\n",
       "      <th>All</th>\n",
       "    </tr>\n",
       "    <tr>\n",
       "      <th>Actual</th>\n",
       "      <th></th>\n",
       "      <th></th>\n",
       "      <th></th>\n",
       "    </tr>\n",
       "  </thead>\n",
       "  <tbody>\n",
       "    <tr>\n",
       "      <th>False</th>\n",
       "      <td>147</td>\n",
       "      <td>132</td>\n",
       "      <td>279</td>\n",
       "    </tr>\n",
       "    <tr>\n",
       "      <th>True</th>\n",
       "      <td>101</td>\n",
       "      <td>81</td>\n",
       "      <td>182</td>\n",
       "    </tr>\n",
       "    <tr>\n",
       "      <th>All</th>\n",
       "      <td>248</td>\n",
       "      <td>213</td>\n",
       "      <td>461</td>\n",
       "    </tr>\n",
       "  </tbody>\n",
       "</table>\n",
       "</div>"
      ],
      "text/plain": [
       "Predicted  False  True  All\n",
       "Actual                     \n",
       "False        147   132  279\n",
       "True         101    81  182\n",
       "All          248   213  461"
      ]
     },
     "execution_count": 259,
     "metadata": {},
     "output_type": "execute_result"
    }
   ],
   "source": [
    "# Compute the confusion Matrix\n",
    "df_confusion = pd.crosstab(y_test, y_pred, rownames=['Actual'], colnames=['Predicted'], margins=True)\n",
    "df_confusion"
   ]
  },
  {
   "cell_type": "code",
   "execution_count": 260,
   "metadata": {},
   "outputs": [
    {
     "data": {
      "image/png": "[encoded data removed]",
      "text/plain": [
       "<matplotlib.figure.Figure at 0x10f407ed0>"
      ]
     },
     "metadata": {},
     "output_type": "display_data"
    }
   ],
   "source": [
    "# Plot a ROC curve\n",
    "from sklearn.metrics import roc_curve, auc\n",
    "false_positive_rate, true_positive_rate, thresholds = roc_curve(y_test.ravel(), y_probs[:, 1].ravel())\n",
    "roc_auc = auc(false_positive_rate, true_positive_rate)\n",
    "plt.title('ROC')\n",
    "plt.plot(false_positive_rate, true_positive_rate, 'b',\n",
    "label='AUC = %0.2f'% roc_auc)\n",
    "plt.legend(loc='lower right')\n",
    "plt.plot([0,1],[0,1],'r--')\n",
    "plt.xlim([-0.1,1.2])\n",
    "plt.ylim([-0.1,1.2])\n",
    "plt.ylabel('True Positive Rate')\n",
    "plt.xlabel('False Positive Rate')\n",
    "plt.show()"
   ]
  },
  {
   "cell_type": "code",
   "execution_count": 261,
   "metadata": {
    "scrolled": false
   },
   "outputs": [
    {
     "data": {
      "image/png": "[encoded data removed]",
      "text/plain": [
       "<matplotlib.figure.Figure at 0x10f407dd0>"
      ]
     },
     "metadata": {},
     "output_type": "display_data"
    }
   ],
   "source": [
    "# Plot a leqrning curve\n",
    "from sklearn.datasets import load_digits\n",
    "from sklearn.model_selection import learning_curve\n",
    "from sklearn.model_selection import ShuffleSplit\n",
    "\n",
    "\n",
    "def plot_learning_curve(estimator, title, X, y, ylim=None, cv=None,\n",
    "                        n_jobs=1, train_sizes=np.linspace(.1, 1.0, 5)):\n",
    "    plt.figure()\n",
    "    plt.title(title)\n",
    "    if ylim is not None:\n",
    "        plt.ylim(*ylim)\n",
    "    plt.xlabel(\"Training examples\")\n",
    "    plt.ylabel(\"Score\")\n",
    "    train_sizes, train_scores, test_scores = learning_curve(\n",
    "        estimator, X, y, cv=cv, n_jobs=n_jobs, train_sizes=train_sizes, scoring='f1')\n",
    "    train_scores_mean = np.mean(train_scores, axis=1)\n",
    "    train_scores_std = np.std(train_scores, axis=1)\n",
    "    test_scores_mean = np.mean(test_scores, axis=1)\n",
    "    test_scores_std = np.std(test_scores, axis=1)\n",
    "    plt.grid()\n",
    "\n",
    "    plt.fill_between(train_sizes, train_scores_mean - train_scores_std,\n",
    "                     train_scores_mean + train_scores_std, alpha=0.1,\n",
    "                     color=\"r\")\n",
    "    plt.fill_between(train_sizes, test_scores_mean - test_scores_std,\n",
    "                     test_scores_mean + test_scores_std, alpha=0.1, color=\"g\")\n",
    "    plt.plot(train_sizes, train_scores_mean, 'o-', color=\"r\",\n",
    "             label=\"Training score\")\n",
    "    plt.plot(train_sizes, test_scores_mean, 'o-', color=\"g\",\n",
    "             label=\"Cross-validation score\")\n",
    "\n",
    "    plt.legend(loc=\"best\")\n",
    "    return plt\n",
    "\n",
    "plot_learning_curve(clf, 'Learning Curve', X, y, cv=8, n_jobs=-1).show()\n",
    "plt.show()"
   ]
  },
  {
   "cell_type": "markdown",
   "metadata": {},
   "source": [
    "# ALL DATASET TEST"
   ]
  },
  {
   "cell_type": "code",
   "execution_count": 262,
   "metadata": {
    "collapsed": true
   },
   "outputs": [],
   "source": [
    "# Apply on all the dataset\n",
    "X_pred = clf.predict(X)\n",
    "df['pred'] = X_pred\n",
    "df_bet_home = df.drop(df[df.pred == 0].index)"
   ]
  },
  {
   "cell_type": "code",
   "execution_count": 263,
   "metadata": {},
   "outputs": [
    {
     "data": {
      "text/plain": [
       "(693, 104)"
      ]
     },
     "execution_count": 263,
     "metadata": {},
     "output_type": "execute_result"
    }
   ],
   "source": [
    "# How many Home victory bet I did on Home Victory on all dataset\n",
    "df_bet_home.shape"
   ]
  },
  {
   "cell_type": "code",
   "execution_count": 264,
   "metadata": {},
   "outputs": [
    {
     "data": {
      "text/plain": [
       "None"
      ]
     },
     "metadata": {},
     "output_type": "display_data"
    },
    {
     "data": {
      "text/plain": [
       "H    45.021645\n",
       "A    28.571429\n",
       "D    26.406926\n",
       "Name: INFO_FTR, dtype: float64"
      ]
     },
     "metadata": {},
     "output_type": "display_data"
    }
   ],
   "source": [
    "# What will be the real result of what I bet Home victory on all dataset\n",
    "display(plt.show(), 100. * df_bet_home.INFO_FTR.value_counts() / len(df_bet_home.INFO_FTR))"
   ]
  },
  {
   "cell_type": "code",
   "execution_count": 265,
   "metadata": {},
   "outputs": [
    {
     "data": {
      "text/plain": [
       "(0.45021645021645024, 0.52261306532663321, 0.48372093023255813, None)"
      ]
     },
     "execution_count": 265,
     "metadata": {},
     "output_type": "execute_result"
    }
   ],
   "source": [
    "# Score for all dataset\n",
    "precision_recall_fscore_support(y, X_pred, average='binary') "
   ]
  },
  {
   "cell_type": "code",
   "execution_count": 266,
   "metadata": {},
   "outputs": [
    {
     "data": {
      "text/html": [
       "<div>\n",
       "<style>\n",
       "    .dataframe thead tr:only-child th {\n",
       "        text-align: right;\n",
       "    }\n",
       "\n",
       "    .dataframe thead th {\n",
       "        text-align: left;\n",
       "    }\n",
       "\n",
       "    .dataframe tbody tr th {\n",
       "        vertical-align: top;\n",
       "    }\n",
       "</style>\n",
       "<table border=\"1\" class=\"dataframe\">\n",
       "  <thead>\n",
       "    <tr style=\"text-align: right;\">\n",
       "      <th>Predicted</th>\n",
       "      <th>False</th>\n",
       "      <th>True</th>\n",
       "      <th>All</th>\n",
       "    </tr>\n",
       "    <tr>\n",
       "      <th>Actual</th>\n",
       "      <th></th>\n",
       "      <th></th>\n",
       "      <th></th>\n",
       "    </tr>\n",
       "  </thead>\n",
       "  <tbody>\n",
       "    <tr>\n",
       "      <th>False</th>\n",
       "      <td>557</td>\n",
       "      <td>381</td>\n",
       "      <td>938</td>\n",
       "    </tr>\n",
       "    <tr>\n",
       "      <th>True</th>\n",
       "      <td>285</td>\n",
       "      <td>312</td>\n",
       "      <td>597</td>\n",
       "    </tr>\n",
       "    <tr>\n",
       "      <th>All</th>\n",
       "      <td>842</td>\n",
       "      <td>693</td>\n",
       "      <td>1535</td>\n",
       "    </tr>\n",
       "  </tbody>\n",
       "</table>\n",
       "</div>"
      ],
      "text/plain": [
       "Predicted  False  True   All\n",
       "Actual                      \n",
       "False        557   381   938\n",
       "True         285   312   597\n",
       "All          842   693  1535"
      ]
     },
     "execution_count": 266,
     "metadata": {},
     "output_type": "execute_result"
    }
   ],
   "source": [
    "# Making the confusion Matrix\n",
    "df_confusion = pd.crosstab(y, X_pred, rownames=['Actual'], colnames=['Predicted'], margins=True)\n",
    "df_confusion"
   ]
  },
  {
   "cell_type": "code",
   "execution_count": 267,
   "metadata": {},
   "outputs": [
    {
     "data": {
      "text/plain": [
       "0.03092352092352091"
      ]
     },
     "execution_count": 267,
     "metadata": {},
     "output_type": "execute_result"
    }
   ],
   "source": [
    "df_bet_home.INFO_WIN.mean()"
   ]
  },
  {
   "cell_type": "markdown",
   "metadata": {},
   "source": [
    "# SEASON 2016/2017 TEST"
   ]
  },
  {
   "cell_type": "code",
   "execution_count": 268,
   "metadata": {
    "collapsed": true
   },
   "outputs": [],
   "source": [
    "# Apply on current season that is not use for train and test set\n",
    "X_pred_current_season = clf.predict(X_current_season)\n",
    "df_current_season['pred'] = X_pred_current_season\n",
    "df_bet_home_current_season = df_current_season.drop(df_current_season[df_current_season.pred == 0].index)"
   ]
  },
  {
   "cell_type": "code",
   "execution_count": 269,
   "metadata": {},
   "outputs": [
    {
     "data": {
      "text/plain": [
       "(681, 104)"
      ]
     },
     "execution_count": 269,
     "metadata": {},
     "output_type": "execute_result"
    }
   ],
   "source": [
    "# How many Home victory bet I did on Home Victory\n",
    "df_bet_home_current_season.shape"
   ]
  },
  {
   "cell_type": "code",
   "execution_count": 270,
   "metadata": {},
   "outputs": [
    {
     "data": {
      "text/plain": [
       "(1417,)"
      ]
     },
     "execution_count": 270,
     "metadata": {},
     "output_type": "execute_result"
    }
   ],
   "source": [
    "X_pred_current_season.shape"
   ]
  },
  {
   "cell_type": "code",
   "execution_count": 271,
   "metadata": {},
   "outputs": [
    {
     "data": {
      "text/plain": [
       "None"
      ]
     },
     "metadata": {},
     "output_type": "display_data"
    },
    {
     "data": {
      "text/plain": [
       "H    43.906021\n",
       "A    28.193833\n",
       "D    27.900147\n",
       "Name: INFO_FTR, dtype: float64"
      ]
     },
     "metadata": {},
     "output_type": "display_data"
    }
   ],
   "source": [
    "# What will be the real result of what I bet Home victory\n",
    "display(plt.show(), 100. * df_bet_home_current_season.INFO_FTR.value_counts() / len(df_bet_home_current_season.INFO_FTR))"
   ]
  },
  {
   "cell_type": "code",
   "execution_count": 272,
   "metadata": {},
   "outputs": [
    {
     "data": {
      "text/plain": [
       "(0.43906020558002939, 0.50421585160202365, 0.46938775510204084, None)"
      ]
     },
     "execution_count": 272,
     "metadata": {},
     "output_type": "execute_result"
    }
   ],
   "source": [
    "# Score for this current season\n",
    "precision_recall_fscore_support(y_current_season, X_pred_current_season, average='binary') "
   ]
  },
  {
   "cell_type": "code",
   "execution_count": 273,
   "metadata": {},
   "outputs": [
    {
     "data": {
      "text/html": [
       "<div>\n",
       "<style>\n",
       "    .dataframe thead tr:only-child th {\n",
       "        text-align: right;\n",
       "    }\n",
       "\n",
       "    .dataframe thead th {\n",
       "        text-align: left;\n",
       "    }\n",
       "\n",
       "    .dataframe tbody tr th {\n",
       "        vertical-align: top;\n",
       "    }\n",
       "</style>\n",
       "<table border=\"1\" class=\"dataframe\">\n",
       "  <thead>\n",
       "    <tr style=\"text-align: right;\">\n",
       "      <th>Predicted</th>\n",
       "      <th>False</th>\n",
       "      <th>True</th>\n",
       "      <th>All</th>\n",
       "    </tr>\n",
       "    <tr>\n",
       "      <th>Actual</th>\n",
       "      <th></th>\n",
       "      <th></th>\n",
       "      <th></th>\n",
       "    </tr>\n",
       "  </thead>\n",
       "  <tbody>\n",
       "    <tr>\n",
       "      <th>False</th>\n",
       "      <td>442</td>\n",
       "      <td>382</td>\n",
       "      <td>824</td>\n",
       "    </tr>\n",
       "    <tr>\n",
       "      <th>True</th>\n",
       "      <td>294</td>\n",
       "      <td>299</td>\n",
       "      <td>593</td>\n",
       "    </tr>\n",
       "    <tr>\n",
       "      <th>All</th>\n",
       "      <td>736</td>\n",
       "      <td>681</td>\n",
       "      <td>1417</td>\n",
       "    </tr>\n",
       "  </tbody>\n",
       "</table>\n",
       "</div>"
      ],
      "text/plain": [
       "Predicted  False  True   All\n",
       "Actual                      \n",
       "False        442   382   824\n",
       "True         294   299   593\n",
       "All          736   681  1417"
      ]
     },
     "execution_count": 273,
     "metadata": {},
     "output_type": "execute_result"
    }
   ],
   "source": [
    "# Making the confusion Matrix\n",
    "df_confusion = pd.crosstab(y_current_season, X_pred_current_season, rownames=['Actual'], colnames=['Predicted'], margins=True)\n",
    "df_confusion"
   ]
  },
  {
   "cell_type": "code",
   "execution_count": 274,
   "metadata": {},
   "outputs": [
    {
     "data": {
      "text/plain": [
       "0.01367107195301027"
      ]
     },
     "execution_count": 274,
     "metadata": {},
     "output_type": "execute_result"
    }
   ],
   "source": [
    "df_bet_home_current_season.INFO_WIN.mean()"
   ]
  },
  {
   "cell_type": "code",
   "execution_count": null,
   "metadata": {
    "collapsed": true
   },
   "outputs": [],
   "source": []
  }
 ],
 "metadata": {
  "kernelspec": {
   "display_name": "Python 2",
   "language": "python",
   "name": "python2"
  },
  "language_info": {
   "codemirror_mode": {
    "name": "ipython",
    "version": 2
   },
   "file_extension": ".py",
   "mimetype": "text/x-python",
   "name": "python",
   "nbconvert_exporter": "python",
   "pygments_lexer": "ipython2",
   "version": "2.7.13"
  }
 },
 "nbformat": 4,
 "nbformat_minor": 2
}
